{
 "cells": [
  {
   "cell_type": "markdown",
   "metadata": {
    "id": "-VFbjcb3Awb7"
   },
   "source": [
    "# Исследование объявлений о продаже квартир\n",
    "\n",
    "В вашем распоряжении данные сервиса Яндекс Недвижимость — архив объявлений о продаже квартир в Санкт-Петербурге и соседних населённых пунктах за несколько лет. Вам нужно научиться определять рыночную стоимость объектов недвижимости. Для этого проведите исследовательский анализ данных и установите параметры, влияющие на цену объектов. Это позволит построить автоматизированную систему: она отследит аномалии и мошенническую деятельность.\n",
    "\n",
    "По каждой квартире на продажу доступны два вида данных. Первые вписаны пользователем, вторые — получены автоматически на основе картографических данных. Например, расстояние до центра, аэропорта и других объектов — эти данные автоматически получены из геосервисов. Количество парков и водоёмов также заполняется без участия пользователя."
   ]
  },
  {
   "cell_type": "markdown",
   "metadata": {},
   "source": [
    "**Цель исследования**\n",
    "\n",
    "Цель данного исследования состоит в том, чтобы установить какие параметры влияют на цену квартир. В качестве входных данных нами будет использован архив объявлений о продаже квартир в Санкт-Петербурге и соседних населённых пунктах за несколько лет.\n",
    "\n",
    "**Описание данных**\n",
    "\n",
    "Данные представлены следующими категориями:\n",
    "\n",
    "* airports_nearest — расстояние до ближайшего аэропорта в метрах (м)\n",
    "* balcony — число балконов\n",
    "* ceiling_height — высота потолков (м)\n",
    "* cityCenters_nearest — расстояние до центра города (м)\n",
    "* days_exposition — сколько дней было размещено объявление (от публикации до снятия)\n",
    "* first_day_exposition — дата публикации\n",
    "* floor — этаж\n",
    "* floors_total — всего этажей в доме\n",
    "* is_apartment — апартаменты (булев тип)\n",
    "* kitchen_area — площадь кухни в квадратных метрах (м²)\n",
    "* last_price — цена на момент снятия с публикации\n",
    "* living_area — жилая площадь в квадратных метрах (м²)\n",
    "* locality_name — название населённого пункта\n",
    "* open_plan — свободная планировка (булев тип)\n",
    "* parks_around3000 — число парков в радиусе 3 км\n",
    "* parks_nearest — расстояние до ближайшего парка (м)\n",
    "* ponds_around3000 — число водоёмов в радиусе 3 км\n",
    "* ponds_nearest — расстояние до ближайшего водоёма (м)\n",
    "* rooms — число комнат\n",
    "* studio — квартира-студия (булев тип)\n",
    "* total_area — общая площадь квартиры в квадратных метрах (м²)\n",
    "* total_images — число фотографий квартиры в объявленииchildren — количество детей в семье\n",
    "\n",
    "**План исследования**\n",
    "\n",
    "1. Предобработка данных.\n",
    "\n",
    "На данном этапе мы проверим нашу таблицу на наличие пропусков, дубликатов и аномальных значений, скорректируем их и при необходимости добавим в таблицу новые столбцы.\n",
    "\n",
    "2. Исследование данных.\n",
    "\n",
    "На данном этапе мы изучим такие факторы, как:\n",
    "\n",
    "* общая площадь;\n",
    "* жилая площадь;\n",
    "* площадь кухни;\n",
    "* цена объекта;\n",
    "* количество комнат;\n",
    "* высота потолков;\n",
    "* тип этажа квартиры («первый», «последний», «другой»);\n",
    "* общее количество этажей в доме;\n",
    "* расстояние до центра города в метрах;\n",
    "* расстояние до ближайшего парка. \n",
    "\n",
    "Мы ответим на такие вопросы как:\n",
    "\n",
    "* \"Какие продажи можно считать быстрыми, а какие — необычно долгими?\"; \n",
    "* \"Какие факторы больше всего влияют на общую (полную) стоимость объекта?\"; \n",
    "* \"В каких населённых пунктах самая высокой и низкая стоимость квадратного метра?\"; \n",
    "* \"Как стоимость объектов зависит от расстояния до центра города?\".\n",
    "\n",
    "3. Выводы.\n",
    "\n",
    "На данном этапе мы опишем полученные результаты и зафиксируем итоговый вывод проведённого исследования."
   ]
  },
  {
   "cell_type": "markdown",
   "metadata": {
    "id": "aeFLH07FAwb9"
   },
   "source": [
    "### Откройте файл с данными и изучите общую информацию"
   ]
  },
  {
   "cell_type": "code",
   "execution_count": 1,
   "metadata": {
    "id": "7MZxY65pAwb9"
   },
   "outputs": [
    {
     "data": {
      "text/html": [
       "<div>\n",
       "<style scoped>\n",
       "    .dataframe tbody tr th:only-of-type {\n",
       "        vertical-align: middle;\n",
       "    }\n",
       "\n",
       "    .dataframe tbody tr th {\n",
       "        vertical-align: top;\n",
       "    }\n",
       "\n",
       "    .dataframe thead th {\n",
       "        text-align: right;\n",
       "    }\n",
       "</style>\n",
       "<table border=\"1\" class=\"dataframe\">\n",
       "  <thead>\n",
       "    <tr style=\"text-align: right;\">\n",
       "      <th></th>\n",
       "      <th>total_images</th>\n",
       "      <th>last_price</th>\n",
       "      <th>total_area</th>\n",
       "      <th>first_day_exposition</th>\n",
       "      <th>rooms</th>\n",
       "      <th>ceiling_height</th>\n",
       "      <th>floors_total</th>\n",
       "      <th>living_area</th>\n",
       "      <th>floor</th>\n",
       "      <th>is_apartment</th>\n",
       "      <th>...</th>\n",
       "      <th>kitchen_area</th>\n",
       "      <th>balcony</th>\n",
       "      <th>locality_name</th>\n",
       "      <th>airports_nearest</th>\n",
       "      <th>cityCenters_nearest</th>\n",
       "      <th>parks_around3000</th>\n",
       "      <th>parks_nearest</th>\n",
       "      <th>ponds_around3000</th>\n",
       "      <th>ponds_nearest</th>\n",
       "      <th>days_exposition</th>\n",
       "    </tr>\n",
       "  </thead>\n",
       "  <tbody>\n",
       "    <tr>\n",
       "      <th>0</th>\n",
       "      <td>20</td>\n",
       "      <td>13000000.0</td>\n",
       "      <td>108.0</td>\n",
       "      <td>2019-03-07T00:00:00</td>\n",
       "      <td>3</td>\n",
       "      <td>2.70</td>\n",
       "      <td>16.0</td>\n",
       "      <td>51.0</td>\n",
       "      <td>8</td>\n",
       "      <td>NaN</td>\n",
       "      <td>...</td>\n",
       "      <td>25.0</td>\n",
       "      <td>NaN</td>\n",
       "      <td>Санкт-Петербург</td>\n",
       "      <td>18863.0</td>\n",
       "      <td>16028.0</td>\n",
       "      <td>1.0</td>\n",
       "      <td>482.0</td>\n",
       "      <td>2.0</td>\n",
       "      <td>755.0</td>\n",
       "      <td>NaN</td>\n",
       "    </tr>\n",
       "    <tr>\n",
       "      <th>1</th>\n",
       "      <td>7</td>\n",
       "      <td>3350000.0</td>\n",
       "      <td>40.4</td>\n",
       "      <td>2018-12-04T00:00:00</td>\n",
       "      <td>1</td>\n",
       "      <td>NaN</td>\n",
       "      <td>11.0</td>\n",
       "      <td>18.6</td>\n",
       "      <td>1</td>\n",
       "      <td>NaN</td>\n",
       "      <td>...</td>\n",
       "      <td>11.0</td>\n",
       "      <td>2.0</td>\n",
       "      <td>посёлок Шушары</td>\n",
       "      <td>12817.0</td>\n",
       "      <td>18603.0</td>\n",
       "      <td>0.0</td>\n",
       "      <td>NaN</td>\n",
       "      <td>0.0</td>\n",
       "      <td>NaN</td>\n",
       "      <td>81.0</td>\n",
       "    </tr>\n",
       "    <tr>\n",
       "      <th>2</th>\n",
       "      <td>10</td>\n",
       "      <td>5196000.0</td>\n",
       "      <td>56.0</td>\n",
       "      <td>2015-08-20T00:00:00</td>\n",
       "      <td>2</td>\n",
       "      <td>NaN</td>\n",
       "      <td>5.0</td>\n",
       "      <td>34.3</td>\n",
       "      <td>4</td>\n",
       "      <td>NaN</td>\n",
       "      <td>...</td>\n",
       "      <td>8.3</td>\n",
       "      <td>0.0</td>\n",
       "      <td>Санкт-Петербург</td>\n",
       "      <td>21741.0</td>\n",
       "      <td>13933.0</td>\n",
       "      <td>1.0</td>\n",
       "      <td>90.0</td>\n",
       "      <td>2.0</td>\n",
       "      <td>574.0</td>\n",
       "      <td>558.0</td>\n",
       "    </tr>\n",
       "    <tr>\n",
       "      <th>3</th>\n",
       "      <td>0</td>\n",
       "      <td>64900000.0</td>\n",
       "      <td>159.0</td>\n",
       "      <td>2015-07-24T00:00:00</td>\n",
       "      <td>3</td>\n",
       "      <td>NaN</td>\n",
       "      <td>14.0</td>\n",
       "      <td>NaN</td>\n",
       "      <td>9</td>\n",
       "      <td>NaN</td>\n",
       "      <td>...</td>\n",
       "      <td>NaN</td>\n",
       "      <td>0.0</td>\n",
       "      <td>Санкт-Петербург</td>\n",
       "      <td>28098.0</td>\n",
       "      <td>6800.0</td>\n",
       "      <td>2.0</td>\n",
       "      <td>84.0</td>\n",
       "      <td>3.0</td>\n",
       "      <td>234.0</td>\n",
       "      <td>424.0</td>\n",
       "    </tr>\n",
       "    <tr>\n",
       "      <th>4</th>\n",
       "      <td>2</td>\n",
       "      <td>10000000.0</td>\n",
       "      <td>100.0</td>\n",
       "      <td>2018-06-19T00:00:00</td>\n",
       "      <td>2</td>\n",
       "      <td>3.03</td>\n",
       "      <td>14.0</td>\n",
       "      <td>32.0</td>\n",
       "      <td>13</td>\n",
       "      <td>NaN</td>\n",
       "      <td>...</td>\n",
       "      <td>41.0</td>\n",
       "      <td>NaN</td>\n",
       "      <td>Санкт-Петербург</td>\n",
       "      <td>31856.0</td>\n",
       "      <td>8098.0</td>\n",
       "      <td>2.0</td>\n",
       "      <td>112.0</td>\n",
       "      <td>1.0</td>\n",
       "      <td>48.0</td>\n",
       "      <td>121.0</td>\n",
       "    </tr>\n",
       "  </tbody>\n",
       "</table>\n",
       "<p>5 rows × 22 columns</p>\n",
       "</div>"
      ],
      "text/plain": [
       "   total_images  last_price  total_area first_day_exposition  rooms  \\\n",
       "0            20  13000000.0       108.0  2019-03-07T00:00:00      3   \n",
       "1             7   3350000.0        40.4  2018-12-04T00:00:00      1   \n",
       "2            10   5196000.0        56.0  2015-08-20T00:00:00      2   \n",
       "3             0  64900000.0       159.0  2015-07-24T00:00:00      3   \n",
       "4             2  10000000.0       100.0  2018-06-19T00:00:00      2   \n",
       "\n",
       "   ceiling_height  floors_total  living_area  floor is_apartment  ...  \\\n",
       "0            2.70          16.0         51.0      8          NaN  ...   \n",
       "1             NaN          11.0         18.6      1          NaN  ...   \n",
       "2             NaN           5.0         34.3      4          NaN  ...   \n",
       "3             NaN          14.0          NaN      9          NaN  ...   \n",
       "4            3.03          14.0         32.0     13          NaN  ...   \n",
       "\n",
       "   kitchen_area  balcony    locality_name  airports_nearest  \\\n",
       "0          25.0      NaN  Санкт-Петербург           18863.0   \n",
       "1          11.0      2.0   посёлок Шушары           12817.0   \n",
       "2           8.3      0.0  Санкт-Петербург           21741.0   \n",
       "3           NaN      0.0  Санкт-Петербург           28098.0   \n",
       "4          41.0      NaN  Санкт-Петербург           31856.0   \n",
       "\n",
       "  cityCenters_nearest  parks_around3000  parks_nearest  ponds_around3000  \\\n",
       "0             16028.0               1.0          482.0               2.0   \n",
       "1             18603.0               0.0            NaN               0.0   \n",
       "2             13933.0               1.0           90.0               2.0   \n",
       "3              6800.0               2.0           84.0               3.0   \n",
       "4              8098.0               2.0          112.0               1.0   \n",
       "\n",
       "   ponds_nearest  days_exposition  \n",
       "0          755.0              NaN  \n",
       "1            NaN             81.0  \n",
       "2          574.0            558.0  \n",
       "3          234.0            424.0  \n",
       "4           48.0            121.0  \n",
       "\n",
       "[5 rows x 22 columns]"
      ]
     },
     "execution_count": 1,
     "metadata": {},
     "output_type": "execute_result"
    }
   ],
   "source": [
    "import pandas as pd\n",
    "import matplotlib.pyplot as plt \n",
    "\n",
    "data = pd.read_csv('/datasets/real_estate_data.csv', sep='\\t')\n",
    "data.head()"
   ]
  },
  {
   "cell_type": "code",
   "execution_count": 2,
   "metadata": {
    "scrolled": false
   },
   "outputs": [
    {
     "name": "stdout",
     "output_type": "stream",
     "text": [
      "<class 'pandas.core.frame.DataFrame'>\n",
      "RangeIndex: 23699 entries, 0 to 23698\n",
      "Data columns (total 22 columns):\n",
      " #   Column                Non-Null Count  Dtype  \n",
      "---  ------                --------------  -----  \n",
      " 0   total_images          23699 non-null  int64  \n",
      " 1   last_price            23699 non-null  float64\n",
      " 2   total_area            23699 non-null  float64\n",
      " 3   first_day_exposition  23699 non-null  object \n",
      " 4   rooms                 23699 non-null  int64  \n",
      " 5   ceiling_height        14504 non-null  float64\n",
      " 6   floors_total          23613 non-null  float64\n",
      " 7   living_area           21796 non-null  float64\n",
      " 8   floor                 23699 non-null  int64  \n",
      " 9   is_apartment          2775 non-null   object \n",
      " 10  studio                23699 non-null  bool   \n",
      " 11  open_plan             23699 non-null  bool   \n",
      " 12  kitchen_area          21421 non-null  float64\n",
      " 13  balcony               12180 non-null  float64\n",
      " 14  locality_name         23650 non-null  object \n",
      " 15  airports_nearest      18157 non-null  float64\n",
      " 16  cityCenters_nearest   18180 non-null  float64\n",
      " 17  parks_around3000      18181 non-null  float64\n",
      " 18  parks_nearest         8079 non-null   float64\n",
      " 19  ponds_around3000      18181 non-null  float64\n",
      " 20  ponds_nearest         9110 non-null   float64\n",
      " 21  days_exposition       20518 non-null  float64\n",
      "dtypes: bool(2), float64(14), int64(3), object(3)\n",
      "memory usage: 3.7+ MB\n"
     ]
    }
   ],
   "source": [
    "data.info()"
   ]
  },
  {
   "cell_type": "code",
   "execution_count": 3,
   "metadata": {},
   "outputs": [
    {
     "data": {
      "text/plain": [
       "array([[<AxesSubplot:title={'center':'total_images'}>,\n",
       "        <AxesSubplot:title={'center':'last_price'}>,\n",
       "        <AxesSubplot:title={'center':'total_area'}>,\n",
       "        <AxesSubplot:title={'center':'rooms'}>],\n",
       "       [<AxesSubplot:title={'center':'ceiling_height'}>,\n",
       "        <AxesSubplot:title={'center':'floors_total'}>,\n",
       "        <AxesSubplot:title={'center':'living_area'}>,\n",
       "        <AxesSubplot:title={'center':'floor'}>],\n",
       "       [<AxesSubplot:title={'center':'kitchen_area'}>,\n",
       "        <AxesSubplot:title={'center':'balcony'}>,\n",
       "        <AxesSubplot:title={'center':'airports_nearest'}>,\n",
       "        <AxesSubplot:title={'center':'cityCenters_nearest'}>],\n",
       "       [<AxesSubplot:title={'center':'parks_around3000'}>,\n",
       "        <AxesSubplot:title={'center':'parks_nearest'}>,\n",
       "        <AxesSubplot:title={'center':'ponds_around3000'}>,\n",
       "        <AxesSubplot:title={'center':'ponds_nearest'}>],\n",
       "       [<AxesSubplot:title={'center':'days_exposition'}>, <AxesSubplot:>,\n",
       "        <AxesSubplot:>, <AxesSubplot:>]], dtype=object)"
      ]
     },
     "execution_count": 3,
     "metadata": {},
     "output_type": "execute_result"
    },
    {
     "data": {
      "image/png": "[encoded data removed]",
      "text/plain": [
       "<Figure size 1080x1440 with 20 Axes>"
      ]
     },
     "metadata": {
      "needs_background": "light"
     },
     "output_type": "display_data"
    }
   ],
   "source": [
    "data.hist(figsize=(15, 20))"
   ]
  },
  {
   "cell_type": "markdown",
   "metadata": {
    "id": "-O5NtivEAwb9"
   },
   "source": [
    "### Выполните предобработку данных"
   ]
  },
  {
   "cell_type": "code",
   "execution_count": 4,
   "metadata": {
    "id": "7v3vAeTuAwb-",
    "scrolled": false
   },
   "outputs": [
    {
     "data": {
      "text/plain": [
       "total_images                0\n",
       "last_price                  0\n",
       "total_area                  0\n",
       "first_day_exposition        0\n",
       "rooms                       0\n",
       "ceiling_height           9195\n",
       "floors_total               86\n",
       "living_area              1903\n",
       "floor                       0\n",
       "is_apartment            20924\n",
       "studio                      0\n",
       "open_plan                   0\n",
       "kitchen_area             2278\n",
       "balcony                 11519\n",
       "locality_name              49\n",
       "airports_nearest         5542\n",
       "cityCenters_nearest      5519\n",
       "parks_around3000         5518\n",
       "parks_nearest           15620\n",
       "ponds_around3000         5518\n",
       "ponds_nearest           14589\n",
       "days_exposition          3181\n",
       "dtype: int64"
      ]
     },
     "execution_count": 4,
     "metadata": {},
     "output_type": "execute_result"
    }
   ],
   "source": [
    "data.isna().sum()"
   ]
  },
  {
   "cell_type": "code",
   "execution_count": 5,
   "metadata": {
    "id": "7v3vAeTuAwb-",
    "scrolled": false
   },
   "outputs": [],
   "source": [
    "data['locality_name'] = data['locality_name'].fillna('')"
   ]
  },
  {
   "cell_type": "markdown",
   "metadata": {},
   "source": [
    "**Пропуски в столбце 'locality_name' могли возникнуть либо по какой-либо технической неполадке, либо из-за человеческого фактора - возможно их просто забыли заполнить. Заполним пропуски пустыми строками.** "
   ]
  },
  {
   "cell_type": "code",
   "execution_count": 6,
   "metadata": {
    "id": "7v3vAeTuAwb-",
    "scrolled": false
   },
   "outputs": [],
   "source": [
    "data['balcony'] = data['balcony'].fillna(0)"
   ]
  },
  {
   "cell_type": "markdown",
   "metadata": {},
   "source": [
    "**Пропуски в столбце 'balcony' вероятно связаны с тем, что владельцы квартир без балконов просто пропустили эту графу. Заполним пропуски нулями.** "
   ]
  },
  {
   "cell_type": "code",
   "execution_count": 7,
   "metadata": {
    "id": "7v3vAeTuAwb-",
    "scrolled": false
   },
   "outputs": [],
   "source": [
    "data['is_apartment'] = data['is_apartment'].fillna(False)"
   ]
  },
  {
   "cell_type": "markdown",
   "metadata": {},
   "source": [
    "**В столбце 'is_apartment' указывается является ли квартира апартаментами - нежилым пoмeщeнием, имеющим ycлoвия для проживания. Можно предположить, что заполняющие форму для объявления люди либо не были знакомы с данным термином, либо не посчитали нужным его указывать. Будем исходить из того, что большинство продавцов являются владельцами обычных квартир, и заполним пропуски значением False.** "
   ]
  },
  {
   "cell_type": "code",
   "execution_count": 8,
   "metadata": {
    "id": "7v3vAeTuAwb-",
    "scrolled": false
   },
   "outputs": [],
   "source": [
    "data['floors_total'] = data['floors_total'].where(~data['floors_total'].isna(), data['floor'])"
   ]
  },
  {
   "cell_type": "markdown",
   "metadata": {},
   "source": [
    "**Пропуски в столбце 'floors_total' вероятно связаны с тем, что в объявлениях о продаже забыли указать общее число этажей в здании, заполним пропуски значениями из столбца 'floor' - если квартира расположена на 4 этаже, в здании как минимум 4 этажа.** "
   ]
  },
  {
   "cell_type": "markdown",
   "metadata": {},
   "source": [
    "**Столбцы 'ceiling_height', 'living_area' и 'kitchen_area' заполняются вручную, соответственно можно предположить, что владельцы квартир, разместившие объявления, либо не обладали необходимыми данными, либо не захотели их указывать. Возможно, в определенных случаях отсутствие данных в столбцах 'living_area' и 'kitchen_area' могло быть связано с особой планировкой продаваемых квартир. \n",
    "Столбцы 'airports_nearest', 'cityCenters_nearest', 'parks_around3000', 'parks_nearest', 'ponds_around3000', 'ponds_nearest' заполняются автоматически на основе картографических данных. Рассмотрим в каких населенных пунктах чаще всего встречаются пропуски в столбцах 'airports_nearest', 'cityCenters_nearest', 'parks_around3000', 'ponds_around3000'.** "
   ]
  },
  {
   "cell_type": "code",
   "execution_count": 9,
   "metadata": {
    "id": "7v3vAeTuAwb-",
    "scrolled": false
   },
   "outputs": [
    {
     "data": {
      "text/plain": [
       "посёлок Мурино             522\n",
       "Всеволожск                 398\n",
       "Гатчина                    307\n",
       "деревня Кудрово            299\n",
       "Выборг                     237\n",
       "Кудрово                    173\n",
       "деревня Новое Девяткино    144\n",
       "Сертолово                  142\n",
       "Кириши                     125\n",
       "Сланцы                     112\n",
       "Name: locality_name, dtype: int64"
      ]
     },
     "execution_count": 9,
     "metadata": {},
     "output_type": "execute_result"
    }
   ],
   "source": [
    "data.loc[data['cityCenters_nearest'].isna(), 'locality_name'].value_counts().head(10)"
   ]
  },
  {
   "cell_type": "code",
   "execution_count": 10,
   "metadata": {
    "id": "7v3vAeTuAwb-",
    "scrolled": false
   },
   "outputs": [
    {
     "data": {
      "text/plain": [
       "посёлок Мурино             522\n",
       "Всеволожск                 398\n",
       "Гатчина                    307\n",
       "деревня Кудрово            299\n",
       "Выборг                     237\n",
       "Кудрово                    173\n",
       "деревня Новое Девяткино    144\n",
       "Сертолово                  142\n",
       "Кириши                     125\n",
       "Сланцы                     112\n",
       "Name: locality_name, dtype: int64"
      ]
     },
     "execution_count": 10,
     "metadata": {},
     "output_type": "execute_result"
    }
   ],
   "source": [
    "data.loc[data['airports_nearest'].isna(), 'locality_name'].value_counts().head(10)"
   ]
  },
  {
   "cell_type": "code",
   "execution_count": 11,
   "metadata": {
    "id": "7v3vAeTuAwb-",
    "scrolled": false
   },
   "outputs": [
    {
     "data": {
      "text/plain": [
       "посёлок Мурино             522\n",
       "Всеволожск                 398\n",
       "Гатчина                    307\n",
       "деревня Кудрово            299\n",
       "Выборг                     237\n",
       "Кудрово                    173\n",
       "деревня Новое Девяткино    144\n",
       "Сертолово                  142\n",
       "Кириши                     125\n",
       "Сланцы                     112\n",
       "Name: locality_name, dtype: int64"
      ]
     },
     "execution_count": 11,
     "metadata": {},
     "output_type": "execute_result"
    }
   ],
   "source": [
    "data.loc[data['parks_around3000'].isna(), 'locality_name'].value_counts().head(10)"
   ]
  },
  {
   "cell_type": "code",
   "execution_count": 12,
   "metadata": {
    "id": "7v3vAeTuAwb-",
    "scrolled": false
   },
   "outputs": [
    {
     "data": {
      "text/plain": [
       "посёлок Мурино             522\n",
       "Всеволожск                 398\n",
       "Гатчина                    307\n",
       "деревня Кудрово            299\n",
       "Выборг                     237\n",
       "Кудрово                    173\n",
       "деревня Новое Девяткино    144\n",
       "Сертолово                  142\n",
       "Кириши                     125\n",
       "Сланцы                     112\n",
       "Name: locality_name, dtype: int64"
      ]
     },
     "execution_count": 12,
     "metadata": {},
     "output_type": "execute_result"
    }
   ],
   "source": [
    "data.loc[data['ponds_around3000'].isna(), 'locality_name'].value_counts().head(10)"
   ]
  },
  {
   "cell_type": "markdown",
   "metadata": {},
   "source": [
    "**Пропуски в столбцах 'airports_nearest', 'cityCenters_nearest', 'parks_around3000', 'ponds_around3000' чаще всего встречаются в строках, относящихся к квартирам, расположенным в области, а не в самом Санкт-Петербурге. Таким образом пропуски можно объяснить несовершенством картографических данных, на основе которых заполнялась таблица. Ожидаемо данные по такому крупному городу как Санкт-Петербург куда полнее. \n",
    "Пропуски в столбцах 'parks_nearest' и 'ponds_nearest' также можно объяснить особенностями картографических данных - вероятно данные по квартирам, находящимся на слишком большом удалении от парков и водоемов соответственно, не были должным образом подсчитаны и не попали в таблицу.** "
   ]
  },
  {
   "cell_type": "code",
   "execution_count": 13,
   "metadata": {
    "id": "7v3vAeTuAwb-",
    "scrolled": false
   },
   "outputs": [
    {
     "data": {
      "text/plain": [
       "1.0"
      ]
     },
     "execution_count": 13,
     "metadata": {},
     "output_type": "execute_result"
    }
   ],
   "source": [
    "data['days_exposition'].min()"
   ]
  },
  {
   "cell_type": "markdown",
   "metadata": {},
   "source": [
    "**Минимальное значение в столбце 'days_exposition' - 1, возможно часть пропусков возникла из-за того, что часть объявлений была снята менее чем за день, возможно при выгрузке данных возникла иная техническая проблема. Учитывая то, что в столбце с датой публикации пропусков нет, вероятно проблема как-то связана с датой снятия объявления.** "
   ]
  },
  {
   "cell_type": "markdown",
   "metadata": {},
   "source": [
    "**Теперь рассмотрим какие в таблице имеются типы данных и нуждаются ли они в корректировке.** "
   ]
  },
  {
   "cell_type": "code",
   "execution_count": 14,
   "metadata": {
    "scrolled": false
   },
   "outputs": [
    {
     "name": "stdout",
     "output_type": "stream",
     "text": [
      "<class 'pandas.core.frame.DataFrame'>\n",
      "RangeIndex: 23699 entries, 0 to 23698\n",
      "Data columns (total 22 columns):\n",
      " #   Column                Non-Null Count  Dtype  \n",
      "---  ------                --------------  -----  \n",
      " 0   total_images          23699 non-null  int64  \n",
      " 1   last_price            23699 non-null  float64\n",
      " 2   total_area            23699 non-null  float64\n",
      " 3   first_day_exposition  23699 non-null  object \n",
      " 4   rooms                 23699 non-null  int64  \n",
      " 5   ceiling_height        14504 non-null  float64\n",
      " 6   floors_total          23699 non-null  float64\n",
      " 7   living_area           21796 non-null  float64\n",
      " 8   floor                 23699 non-null  int64  \n",
      " 9   is_apartment          23699 non-null  bool   \n",
      " 10  studio                23699 non-null  bool   \n",
      " 11  open_plan             23699 non-null  bool   \n",
      " 12  kitchen_area          21421 non-null  float64\n",
      " 13  balcony               23699 non-null  float64\n",
      " 14  locality_name         23699 non-null  object \n",
      " 15  airports_nearest      18157 non-null  float64\n",
      " 16  cityCenters_nearest   18180 non-null  float64\n",
      " 17  parks_around3000      18181 non-null  float64\n",
      " 18  parks_nearest         8079 non-null   float64\n",
      " 19  ponds_around3000      18181 non-null  float64\n",
      " 20  ponds_nearest         9110 non-null   float64\n",
      " 21  days_exposition       20518 non-null  float64\n",
      "dtypes: bool(3), float64(14), int64(3), object(2)\n",
      "memory usage: 3.5+ MB\n"
     ]
    }
   ],
   "source": [
    "data.info()"
   ]
  },
  {
   "cell_type": "markdown",
   "metadata": {},
   "source": [
    "**Количество балконов и этажей это целые числа, поменяем тип данных в этих столбцах на int.** "
   ]
  },
  {
   "cell_type": "code",
   "execution_count": 15,
   "metadata": {},
   "outputs": [],
   "source": [
    "data['floors_total'] = data['floors_total'].astype(int)"
   ]
  },
  {
   "cell_type": "code",
   "execution_count": 16,
   "metadata": {},
   "outputs": [],
   "source": [
    "data['balcony'] = data['balcony'].astype(int)"
   ]
  },
  {
   "cell_type": "markdown",
   "metadata": {},
   "source": [
    "**В столбце 'first_day_exposition' указаны даты размещения объявлений, изменим тип данных в столбце на datetime.** "
   ]
  },
  {
   "cell_type": "code",
   "execution_count": 17,
   "metadata": {},
   "outputs": [],
   "source": [
    "data['first_day_exposition'] = pd.to_datetime(data['first_day_exposition'], format='%Y-%m-%dT%H:%M:%S')"
   ]
  },
  {
   "cell_type": "markdown",
   "metadata": {},
   "source": [
    "**Проверим внесенные изменения.** "
   ]
  },
  {
   "cell_type": "code",
   "execution_count": 18,
   "metadata": {
    "scrolled": false
   },
   "outputs": [
    {
     "name": "stdout",
     "output_type": "stream",
     "text": [
      "<class 'pandas.core.frame.DataFrame'>\n",
      "RangeIndex: 23699 entries, 0 to 23698\n",
      "Data columns (total 22 columns):\n",
      " #   Column                Non-Null Count  Dtype         \n",
      "---  ------                --------------  -----         \n",
      " 0   total_images          23699 non-null  int64         \n",
      " 1   last_price            23699 non-null  float64       \n",
      " 2   total_area            23699 non-null  float64       \n",
      " 3   first_day_exposition  23699 non-null  datetime64[ns]\n",
      " 4   rooms                 23699 non-null  int64         \n",
      " 5   ceiling_height        14504 non-null  float64       \n",
      " 6   floors_total          23699 non-null  int64         \n",
      " 7   living_area           21796 non-null  float64       \n",
      " 8   floor                 23699 non-null  int64         \n",
      " 9   is_apartment          23699 non-null  bool          \n",
      " 10  studio                23699 non-null  bool          \n",
      " 11  open_plan             23699 non-null  bool          \n",
      " 12  kitchen_area          21421 non-null  float64       \n",
      " 13  balcony               23699 non-null  int64         \n",
      " 14  locality_name         23699 non-null  object        \n",
      " 15  airports_nearest      18157 non-null  float64       \n",
      " 16  cityCenters_nearest   18180 non-null  float64       \n",
      " 17  parks_around3000      18181 non-null  float64       \n",
      " 18  parks_nearest         8079 non-null   float64       \n",
      " 19  ponds_around3000      18181 non-null  float64       \n",
      " 20  ponds_nearest         9110 non-null   float64       \n",
      " 21  days_exposition       20518 non-null  float64       \n",
      "dtypes: bool(3), datetime64[ns](1), float64(12), int64(5), object(1)\n",
      "memory usage: 3.5+ MB\n"
     ]
    }
   ],
   "source": [
    "data.info()"
   ]
  },
  {
   "cell_type": "markdown",
   "metadata": {},
   "source": [
    "**Приступим к устранению неявных дубликатов в столбце 'locality_name'. Сперва изучим уникальные значения в этом столбце.** "
   ]
  },
  {
   "cell_type": "code",
   "execution_count": 19,
   "metadata": {
    "id": "7v3vAeTuAwb-",
    "scrolled": false
   },
   "outputs": [
    {
     "data": {
      "text/plain": [
       "array(['Санкт-Петербург', 'посёлок Шушары', 'городской посёлок Янино-1',\n",
       "       'посёлок Парголово', 'посёлок Мурино', 'Ломоносов', 'Сертолово',\n",
       "       'Петергоф', 'Пушкин', 'деревня Кудрово', 'Коммунар', 'Колпино',\n",
       "       'поселок городского типа Красный Бор', 'Гатчина', 'поселок Мурино',\n",
       "       'деревня Фёдоровское', 'Выборг', 'Кронштадт', 'Кировск',\n",
       "       'деревня Новое Девяткино', 'посёлок Металлострой',\n",
       "       'посёлок городского типа Лебяжье',\n",
       "       'посёлок городского типа Сиверский', 'поселок Молодцово',\n",
       "       'поселок городского типа Кузьмоловский',\n",
       "       'садовое товарищество Новая Ропша', 'Павловск',\n",
       "       'деревня Пикколово', 'Всеволожск', 'Волхов', 'Кингисепп',\n",
       "       'Приозерск', 'Сестрорецк', 'деревня Куттузи', 'посёлок Аннино',\n",
       "       'поселок городского типа Ефимовский', 'посёлок Плодовое',\n",
       "       'деревня Заклинье', 'поселок Торковичи', 'поселок Первомайское',\n",
       "       'Красное Село', 'посёлок Понтонный', 'Сясьстрой', 'деревня Старая',\n",
       "       'деревня Лесколово', 'посёлок Новый Свет', 'Сланцы',\n",
       "       'село Путилово', 'Ивангород', 'Мурино', 'Шлиссельбург',\n",
       "       'Никольское', 'Зеленогорск', 'Сосновый Бор', 'поселок Новый Свет',\n",
       "       'деревня Оржицы', 'деревня Кальтино', 'Кудрово',\n",
       "       'поселок Романовка', 'посёлок Бугры', 'поселок Бугры',\n",
       "       'поселок городского типа Рощино', 'Кириши', 'Луга', 'Волосово',\n",
       "       'Отрадное', 'село Павлово', 'поселок Оредеж', 'село Копорье',\n",
       "       'посёлок городского типа Красный Бор', 'посёлок Молодёжное',\n",
       "       'Тихвин', 'посёлок Победа', 'деревня Нурма',\n",
       "       'поселок городского типа Синявино', 'Тосно',\n",
       "       'посёлок городского типа Кузьмоловский', 'посёлок Стрельна',\n",
       "       'Бокситогорск', 'посёлок Александровская', 'деревня Лопухинка',\n",
       "       'Пикалёво', 'поселок Терволово',\n",
       "       'поселок городского типа Советский', 'Подпорожье',\n",
       "       'посёлок Петровское', 'посёлок городского типа Токсово',\n",
       "       'поселок Сельцо', 'посёлок городского типа Вырица',\n",
       "       'деревня Кипень', 'деревня Келози', 'деревня Вартемяги',\n",
       "       'посёлок Тельмана', 'поселок Севастьяново',\n",
       "       'городской поселок Большая Ижора', '', 'городской посёлок Павлово',\n",
       "       'деревня Агалатово', 'посёлок Новогорелово',\n",
       "       'городской посёлок Лесогорский', 'деревня Лаголово',\n",
       "       'поселок Цвелодубово', 'поселок городского типа Рахья',\n",
       "       'поселок городского типа Вырица', 'деревня Белогорка',\n",
       "       'поселок Заводской', 'городской посёлок Новоселье',\n",
       "       'деревня Большие Колпаны', 'деревня Горбунки', 'деревня Батово',\n",
       "       'деревня Заневка', 'деревня Иссад', 'Приморск',\n",
       "       'городской посёлок Фёдоровское', 'деревня Мистолово',\n",
       "       'Новая Ладога', 'поселок Зимитицы', 'поселок Барышево',\n",
       "       'деревня Разметелево', 'поселок городского типа имени Свердлова',\n",
       "       'деревня Пеники', 'поселок Рябово', 'деревня Пудомяги',\n",
       "       'поселок станции Корнево', 'деревня Низино', 'деревня Бегуницы',\n",
       "       'посёлок Поляны', 'городской посёлок Мга', 'поселок Елизаветино',\n",
       "       'посёлок городского типа Кузнечное', 'деревня Колтуши',\n",
       "       'поселок Запорожское', 'посёлок городского типа Рощино',\n",
       "       'деревня Гостилицы', 'деревня Малое Карлино',\n",
       "       'посёлок Мичуринское', 'посёлок городского типа имени Морозова',\n",
       "       'посёлок Песочный', 'посёлок Сосново', 'деревня Аро',\n",
       "       'поселок Ильичёво', 'посёлок городского типа Тайцы',\n",
       "       'деревня Малое Верево', 'деревня Извара', 'поселок станции Вещево',\n",
       "       'село Паша', 'деревня Калитино',\n",
       "       'посёлок городского типа Ульяновка', 'деревня Чудской Бор',\n",
       "       'поселок городского типа Дубровка', 'деревня Мины',\n",
       "       'поселок Войсковицы', 'посёлок городского типа имени Свердлова',\n",
       "       'деревня Коркино', 'посёлок Ропша',\n",
       "       'поселок городского типа Приладожский', 'посёлок Щеглово',\n",
       "       'посёлок Гаврилово', 'Лодейное Поле', 'деревня Рабитицы',\n",
       "       'поселок городского типа Никольский', 'деревня Кузьмолово',\n",
       "       'деревня Малые Колпаны', 'поселок Тельмана',\n",
       "       'посёлок Петро-Славянка', 'городской посёлок Назия',\n",
       "       'посёлок Репино', 'посёлок Ильичёво', 'поселок Углово',\n",
       "       'поселок Старая Малукса', 'садовое товарищество Рахья',\n",
       "       'поселок Аннино', 'поселок Победа', 'деревня Меньково',\n",
       "       'деревня Старые Бегуницы', 'посёлок Сапёрный', 'поселок Семрино',\n",
       "       'поселок Гаврилово', 'поселок Глажево', 'поселок Кобринское',\n",
       "       'деревня Гарболово', 'деревня Юкки',\n",
       "       'поселок станции Приветнинское', 'деревня Мануйлово',\n",
       "       'деревня Пчева', 'поселок Поляны', 'поселок Цвылёво',\n",
       "       'поселок Мельниково', 'посёлок Пудость', 'посёлок Усть-Луга',\n",
       "       'Светогорск', 'Любань', 'поселок Селезнёво',\n",
       "       'поселок городского типа Рябово', 'Каменногорск', 'деревня Кривко',\n",
       "       'поселок Глебычево', 'деревня Парицы', 'поселок Жилпосёлок',\n",
       "       'посёлок городского типа Мга', 'городской поселок Янино-1',\n",
       "       'посёлок Войскорово', 'село Никольское', 'посёлок Терволово',\n",
       "       'поселок Стеклянный', 'посёлок городского типа Важины',\n",
       "       'посёлок Мыза-Ивановка', 'село Русско-Высоцкое',\n",
       "       'поселок городского типа Лебяжье',\n",
       "       'поселок городского типа Форносово', 'село Старая Ладога',\n",
       "       'поселок Житково', 'городской посёлок Виллози', 'деревня Лампово',\n",
       "       'деревня Шпаньково', 'деревня Лаврики', 'посёлок Сумино',\n",
       "       'посёлок Возрождение', 'деревня Старосиверская',\n",
       "       'посёлок Кикерино', 'поселок Возрождение',\n",
       "       'деревня Старое Хинколово', 'посёлок Пригородный',\n",
       "       'посёлок Торфяное', 'городской посёлок Будогощь',\n",
       "       'поселок Суходолье', 'поселок Красная Долина', 'деревня Хапо-Ое',\n",
       "       'поселок городского типа Дружная Горка', 'поселок Лисий Нос',\n",
       "       'деревня Яльгелево', 'посёлок Стеклянный', 'село Рождествено',\n",
       "       'деревня Старополье', 'посёлок Левашово', 'деревня Сяськелево',\n",
       "       'деревня Камышовка',\n",
       "       'садоводческое некоммерческое товарищество Лесная Поляна',\n",
       "       'деревня Хязельки', 'поселок Жилгородок',\n",
       "       'посёлок городского типа Павлово', 'деревня Ялгино',\n",
       "       'поселок Новый Учхоз', 'городской посёлок Рощино',\n",
       "       'поселок Гончарово', 'поселок Почап', 'посёлок Сапёрное',\n",
       "       'посёлок Платформа 69-й километр', 'поселок Каложицы',\n",
       "       'деревня Фалилеево', 'деревня Пельгора',\n",
       "       'поселок городского типа Лесогорский', 'деревня Торошковичи',\n",
       "       'посёлок Белоостров', 'посёлок Алексеевка', 'поселок Серебрянский',\n",
       "       'поселок Лукаши', 'поселок Петровское', 'деревня Щеглово',\n",
       "       'поселок Мичуринское', 'деревня Тарасово', 'поселок Кингисеппский',\n",
       "       'посёлок при железнодорожной станции Вещево', 'поселок Ушаки',\n",
       "       'деревня Котлы', 'деревня Сижно', 'деревня Торосово',\n",
       "       'посёлок Форт Красная Горка', 'поселок городского типа Токсово',\n",
       "       'деревня Новолисино', 'посёлок станции Громово', 'деревня Глинка',\n",
       "       'посёлок Мельниково', 'поселок городского типа Назия',\n",
       "       'деревня Старая Пустошь', 'поселок Коммунары', 'поселок Починок',\n",
       "       'посёлок городского типа Вознесенье', 'деревня Разбегаево',\n",
       "       'посёлок городского типа Рябово', 'поселок Гладкое',\n",
       "       'посёлок при железнодорожной станции Приветнинское',\n",
       "       'поселок Тёсово-4', 'посёлок Жилгородок', 'деревня Бор',\n",
       "       'посёлок Коробицыно', 'деревня Большая Вруда', 'деревня Курковицы',\n",
       "       'посёлок Лисий Нос', 'городской посёлок Советский',\n",
       "       'посёлок Кобралово', 'деревня Суоранда', 'поселок Кобралово',\n",
       "       'поселок городского типа Кондратьево',\n",
       "       'коттеджный поселок Счастье', 'поселок Любань', 'деревня Реброво',\n",
       "       'деревня Зимитицы', 'деревня Тойворово', 'поселок Семиозерье',\n",
       "       'поселок Лесное', 'поселок Совхозный', 'поселок Усть-Луга',\n",
       "       'посёлок Ленинское', 'посёлок Суйда',\n",
       "       'посёлок городского типа Форносово', 'деревня Нижние Осельки',\n",
       "       'посёлок станции Свирь', 'поселок Перово', 'Высоцк',\n",
       "       'поселок Гарболово', 'село Шум', 'поселок Котельский',\n",
       "       'поселок станции Лужайка', 'деревня Большая Пустомержа',\n",
       "       'поселок Красносельское', 'деревня Вахнова Кара', 'деревня Пижма',\n",
       "       'коттеджный поселок Кивеннапа Север', 'поселок Коробицыно',\n",
       "       'поселок Ромашки', 'посёлок Перово', 'деревня Каськово',\n",
       "       'деревня Куровицы', 'посёлок Плоское', 'поселок Сумино',\n",
       "       'поселок городского типа Большая Ижора', 'поселок Кирпичное',\n",
       "       'деревня Ям-Тесово', 'деревня Раздолье', 'деревня Терпилицы',\n",
       "       'посёлок Шугозеро', 'деревня Ваганово', 'поселок Пушное',\n",
       "       'садовое товарищество Садко', 'посёлок Усть-Ижора',\n",
       "       'деревня Выскатка', 'городской посёлок Свирьстрой',\n",
       "       'поселок Громово', 'деревня Кисельня', 'посёлок Старая Малукса',\n",
       "       'деревня Трубников Бор', 'поселок Калитино',\n",
       "       'посёлок Высокоключевой', 'садовое товарищество Приладожский',\n",
       "       'посёлок Пансионат Зелёный Бор', 'деревня Ненимяки',\n",
       "       'поселок Пансионат Зелёный Бор', 'деревня Снегирёвка',\n",
       "       'деревня Рапполово', 'деревня Пустынка', 'поселок Рабитицы',\n",
       "       'деревня Большой Сабск', 'деревня Русско', 'деревня Лупполово',\n",
       "       'деревня Большое Рейзино', 'деревня Малая Романовка',\n",
       "       'поселок Дружноселье', 'поселок Пчевжа', 'поселок Володарское',\n",
       "       'деревня Нижняя', 'коттеджный посёлок Лесное', 'деревня Тихковицы',\n",
       "       'деревня Борисова Грива', 'посёлок Дзержинского'], dtype=object)"
      ]
     },
     "execution_count": 19,
     "metadata": {},
     "output_type": "execute_result"
    }
   ],
   "source": [
    "data['locality_name'].unique()"
   ]
  },
  {
   "cell_type": "markdown",
   "metadata": {},
   "source": [
    "**Создадим новый столбец 'fixed_locality_name' и добавим в него данные из столбца 'locality_name', очищенные от дубликатов.** "
   ]
  },
  {
   "cell_type": "code",
   "execution_count": 20,
   "metadata": {
    "id": "7v3vAeTuAwb-",
    "scrolled": false
   },
   "outputs": [],
   "source": [
    "# Удалим обозначения типа населенного пункта и оставим только названия\n",
    "data['fixed_locality_name'] = (\n",
    "    data['locality_name']\n",
    "    .str.replace('ё', 'е')\n",
    "    .replace(['поселок городского типа ', 'городской поселок ', 'поселок при железнодорожной станции ', \n",
    "              'поселок станции ', 'коттеджный поселок ', 'поселок ', 'деревня ', 'село ', 'садовое товарищество ', \n",
    "              'садоводческое некоммерческое товарищество '], '', regex=True)\n",
    ")              "
   ]
  },
  {
   "cell_type": "code",
   "execution_count": 21,
   "metadata": {
    "id": "7v3vAeTuAwb-",
    "scrolled": false
   },
   "outputs": [
    {
     "data": {
      "text/plain": [
       "array(['Санкт-Петербург', 'Шушары', 'Янино-1', 'Парголово', 'Мурино',\n",
       "       'Ломоносов', 'Сертолово', 'Петергоф', 'Пушкин', 'Кудрово',\n",
       "       'Коммунар', 'Колпино', 'Красный Бор', 'Гатчина', 'Федоровское',\n",
       "       'Выборг', 'Кронштадт', 'Кировск', 'Новое Девяткино',\n",
       "       'Металлострой', 'Лебяжье', 'Сиверский', 'Молодцово',\n",
       "       'Кузьмоловский', 'Новая Ропша', 'Павловск', 'Пикколово',\n",
       "       'Всеволожск', 'Волхов', 'Кингисепп', 'Приозерск', 'Сестрорецк',\n",
       "       'Куттузи', 'Аннино', 'Ефимовский', 'Плодовое', 'Заклинье',\n",
       "       'Торковичи', 'Первомайское', 'Красное Село', 'Понтонный',\n",
       "       'Сясьстрой', 'Старая', 'Лесколово', 'Новый Свет', 'Сланцы',\n",
       "       'Путилово', 'Ивангород', 'Шлиссельбург', 'Никольское',\n",
       "       'Зеленогорск', 'Сосновый Бор', 'Оржицы', 'Кальтино', 'Романовка',\n",
       "       'Бугры', 'Рощино', 'Кириши', 'Луга', 'Волосово', 'Отрадное',\n",
       "       'Павлово', 'Оредеж', 'Копорье', 'Молодежное', 'Тихвин', 'Победа',\n",
       "       'Нурма', 'Синявино', 'Тосно', 'Стрельна', 'Бокситогорск',\n",
       "       'Александровская', 'Лопухинка', 'Пикалево', 'Терволово',\n",
       "       'Советский', 'Подпорожье', 'Петровское', 'Токсово', 'Сельцо',\n",
       "       'Вырица', 'Кипень', 'Келози', 'Вартемяги', 'Тельмана',\n",
       "       'Севастьяново', 'Большая Ижора', '', 'Агалатово', 'Новогорелово',\n",
       "       'Лесогорский', 'Лаголово', 'Цвелодубово', 'Рахья', 'Белогорка',\n",
       "       'Заводской', 'Новоселье', 'Большие Колпаны', 'Горбунки', 'Батово',\n",
       "       'Заневка', 'Иссад', 'Приморск', 'Мистолово', 'Новая Ладога',\n",
       "       'Зимитицы', 'Барышево', 'Разметелево', 'имени Свердлова', 'Пеники',\n",
       "       'Рябово', 'Пудомяги', 'Корнево', 'Низино', 'Бегуницы', 'Поляны',\n",
       "       'Мга', 'Елизаветино', 'Кузнечное', 'Колтуши', 'Запорожское',\n",
       "       'Гостилицы', 'Малое Карлино', 'Мичуринское', 'имени Морозова',\n",
       "       'Песочный', 'Сосново', 'Аро', 'Ильичево', 'Тайцы', 'Малое Верево',\n",
       "       'Извара', 'Вещево', 'Паша', 'Калитино', 'Ульяновка', 'Чудской Бор',\n",
       "       'Дубровка', 'Мины', 'Войсковицы', 'Коркино', 'Ропша',\n",
       "       'Приладожский', 'Щеглово', 'Гаврилово', 'Лодейное Поле',\n",
       "       'Рабитицы', 'Никольский', 'Кузьмолово', 'Малые Колпаны',\n",
       "       'Петро-Славянка', 'Назия', 'Репино', 'Углово', 'Старая Малукса',\n",
       "       'Меньково', 'Старые Бегуницы', 'Саперный', 'Семрино', 'Глажево',\n",
       "       'Кобринское', 'Гарболово', 'Юкки', 'Приветнинское', 'Мануйлово',\n",
       "       'Пчева', 'Цвылево', 'Мельниково', 'Пудость', 'Усть-Луга',\n",
       "       'Светогорск', 'Любань', 'Селезнево', 'Каменногорск', 'Кривко',\n",
       "       'Глебычево', 'Парицы', 'Жилпоселок', 'Войскорово', 'Стеклянный',\n",
       "       'Важины', 'Мыза-Ивановка', 'Русско-Высоцкое', 'Форносово',\n",
       "       'Старая Ладога', 'Житково', 'Виллози', 'Лампово', 'Шпаньково',\n",
       "       'Лаврики', 'Сумино', 'Возрождение', 'Старосиверская', 'Кикерино',\n",
       "       'Старое Хинколово', 'Пригородный', 'Торфяное', 'Будогощь',\n",
       "       'Суходолье', 'Красная Долина', 'Хапо-Ое', 'Дружная Горка',\n",
       "       'Лисий Нос', 'Яльгелево', 'Рождествено', 'Старополье', 'Левашово',\n",
       "       'Сяськелево', 'Камышовка', 'Лесная Поляна', 'Хязельки',\n",
       "       'Жилгородок', 'Ялгино', 'Новый Учхоз', 'Гончарово', 'Почап',\n",
       "       'Саперное', 'Платформа 69-й километр', 'Каложицы', 'Фалилеево',\n",
       "       'Пельгора', 'Торошковичи', 'Белоостров', 'Алексеевка',\n",
       "       'Серебрянский', 'Лукаши', 'Тарасово', 'Кингисеппский', 'Ушаки',\n",
       "       'Котлы', 'Сижно', 'Торосово', 'Форт Красная Горка', 'Новолисино',\n",
       "       'Громово', 'Глинка', 'Старая Пустошь', 'Коммунары', 'Починок',\n",
       "       'Вознесенье', 'Разбегаево', 'Гладкое', 'Тесово-4', 'Бор',\n",
       "       'Коробицыно', 'Большая Вруда', 'Курковицы', 'Кобралово',\n",
       "       'Суоранда', 'Кондратьево', 'Счастье', 'Реброво', 'Тойворово',\n",
       "       'Семиозерье', 'Лесное', 'Совхозный', 'Ленинское', 'Суйда',\n",
       "       'Нижние Осельки', 'Свирь', 'Перово', 'Высоцк', 'Шум', 'Котельский',\n",
       "       'Лужайка', 'Большая Пустомержа', 'Красносельское', 'Вахнова Кара',\n",
       "       'Пижма', 'Кивеннапа Север', 'Ромашки', 'Каськово', 'Куровицы',\n",
       "       'Плоское', 'Кирпичное', 'Ям-Тесово', 'Раздолье', 'Терпилицы',\n",
       "       'Шугозеро', 'Ваганово', 'Пушное', 'Садко', 'Усть-Ижора',\n",
       "       'Выскатка', 'Свирьстрой', 'Кисельня', 'Трубников Бор',\n",
       "       'Высокоключевой', 'Пансионат Зеленый Бор', 'Ненимяки',\n",
       "       'Снегиревка', 'Рапполово', 'Пустынка', 'Большой Сабск', 'Русско',\n",
       "       'Лупполово', 'Большое Рейзино', 'Малая Романовка', 'Дружноселье',\n",
       "       'Пчевжа', 'Володарское', 'Нижняя', 'Тихковицы', 'Борисова Грива',\n",
       "       'Дзержинского'], dtype=object)"
      ]
     },
     "execution_count": 21,
     "metadata": {},
     "output_type": "execute_result"
    }
   ],
   "source": [
    "data['fixed_locality_name'].unique()"
   ]
  },
  {
   "cell_type": "markdown",
   "metadata": {
    "id": "QCcvyY6YAwb-"
   },
   "source": [
    "### Добавьте в таблицу новые столбцы"
   ]
  },
  {
   "cell_type": "markdown",
   "metadata": {},
   "source": [
    "**Добавим в таблицу новые столбцы со следующими параметрами:**\n",
    "\n",
    "цена одного квадратного метра ('sq_meter_price');\n",
    "день недели публикации объявления (weekday_exp);\n",
    "\n",
    "месяц публикации объявления ('month_exp');\n",
    "\n",
    "год публикации объявления ('year_exp');\n",
    "\n",
    "тип этажа квартиры - первый, последний, другой ('floor_type');\n",
    "\n",
    "расстояние до центра города в километрах ('cityCenters_nearest_km'). "
   ]
  },
  {
   "cell_type": "code",
   "execution_count": 22,
   "metadata": {
    "id": "Z8eJek3IAwb-"
   },
   "outputs": [],
   "source": [
    "# Цену квадратного метра округлим до 2-х знаков после запятой\n",
    "data['sq_meter_price'] = round(data['last_price'] / data['total_area'], 2)"
   ]
  },
  {
   "cell_type": "code",
   "execution_count": 23,
   "metadata": {
    "id": "Z8eJek3IAwb-"
   },
   "outputs": [],
   "source": [
    "data['weekday_exp'] = data['first_day_exposition'].dt.weekday"
   ]
  },
  {
   "cell_type": "code",
   "execution_count": 24,
   "metadata": {
    "id": "Z8eJek3IAwb-"
   },
   "outputs": [],
   "source": [
    "data['month_exp'] = data['first_day_exposition'].dt.month"
   ]
  },
  {
   "cell_type": "code",
   "execution_count": 25,
   "metadata": {
    "id": "Z8eJek3IAwb-"
   },
   "outputs": [],
   "source": [
    "data['year_exp'] = data['first_day_exposition'].dt.year"
   ]
  },
  {
   "cell_type": "code",
   "execution_count": 26,
   "metadata": {
    "id": "Z8eJek3IAwb-"
   },
   "outputs": [],
   "source": [
    "# Создадим функцию сортирующую этажи по типу (первый, последний, другой)\n",
    "def floor_type(x, y):\n",
    "    if x == 1:\n",
    "        return 'первый'\n",
    "    elif  x== y:\n",
    "        return 'последний'\n",
    "    else:\n",
    "        return 'другой'\n",
    "data['floor_type'] = data.apply(lambda row: floor_type(row['floor'], row['floors_total']), axis=1)"
   ]
  },
  {
   "cell_type": "code",
   "execution_count": 27,
   "metadata": {
    "id": "Z8eJek3IAwb-"
   },
   "outputs": [],
   "source": [
    "# Округлим расстояние до центра города в километрах до целого\n",
    "data['cityCenters_nearest_km'] = round(data['cityCenters_nearest'] / 1000, 0)"
   ]
  },
  {
   "cell_type": "markdown",
   "metadata": {
    "id": "pPyxrKWTAwb-"
   },
   "source": [
    "### Проведите исследовательский анализ данных"
   ]
  },
  {
   "cell_type": "markdown",
   "metadata": {
    "id": "pPyxrKWTAwb-"
   },
   "source": [
    "#### Изучим параметры"
   ]
  },
  {
   "cell_type": "code",
   "execution_count": 28,
   "metadata": {
    "id": "V2f0D3kLAwb-"
   },
   "outputs": [
    {
     "data": {
      "text/plain": [
       "(0.0, 120.0)"
      ]
     },
     "execution_count": 28,
     "metadata": {},
     "output_type": "execute_result"
    },
    {
     "data": {
      "image/png": "[encoded data removed]",
      "text/plain": [
       "<Figure size 504x504 with 1 Axes>"
      ]
     },
     "metadata": {
      "needs_background": "light"
     },
     "output_type": "display_data"
    }
   ],
   "source": [
    "data.boxplot('total_area', figsize=(7, 7))\n",
    "plt.ylim(0, 120)"
   ]
  },
  {
   "cell_type": "code",
   "execution_count": 29,
   "metadata": {
    "id": "V2f0D3kLAwb-",
    "scrolled": false
   },
   "outputs": [
    {
     "data": {
      "text/plain": [
       "4650000.0"
      ]
     },
     "execution_count": 29,
     "metadata": {},
     "output_type": "execute_result"
    }
   ],
   "source": [
    "data['last_price'].median()"
   ]
  },
  {
   "cell_type": "code",
   "execution_count": 30,
   "metadata": {
    "id": "V2f0D3kLAwb-",
    "scrolled": false
   },
   "outputs": [
    {
     "data": {
      "text/plain": [
       "155     96000000.0\n",
       "464     66571000.0\n",
       "492     95000000.0\n",
       "509     90000000.0\n",
       "521     25717300.0\n",
       "581     65000000.0\n",
       "660     49950000.0\n",
       "681     24900000.0\n",
       "793    135000000.0\n",
       "813     16500000.0\n",
       "Name: last_price, dtype: float64"
      ]
     },
     "execution_count": 30,
     "metadata": {},
     "output_type": "execute_result"
    }
   ],
   "source": [
    "data[data['total_area'] > 200]['last_price'].head(10)"
   ]
  },
  {
   "cell_type": "markdown",
   "metadata": {},
   "source": [
    "**Цена на квартиры с большой площадью заметно выше медианной, из чего мы можем сделать вывод, что это не искаженные значения, а реальные квартиры с большой площадью. Удалим выбивающиеся значения и построим гистограмму.** "
   ]
  },
  {
   "cell_type": "code",
   "execution_count": 98,
   "metadata": {
    "id": "V2f0D3kLAwb-",
    "scrolled": false
   },
   "outputs": [
    {
     "data": {
      "text/plain": [
       "Text(0.5, 0, 'Общая площадь объекта, м кв')"
      ]
     },
     "execution_count": 98,
     "metadata": {},
     "output_type": "execute_result"
    },
    {
     "data": {
      "image/png": "[encoded data removed]",
      "text/plain": [
       "<Figure size 432x288 with 1 Axes>"
      ]
     },
     "metadata": {
      "needs_background": "light"
     },
     "output_type": "display_data"
    }
   ],
   "source": [
    "data[data['total_area'] < 120]['total_area'].hist(bins=60)\n",
    "plt.title('Гистограмма общей площади объектов')\n",
    "plt.xlabel('Общая площадь объекта, м кв')"
   ]
  },
  {
   "cell_type": "code",
   "execution_count": 32,
   "metadata": {
    "id": "V2f0D3kLAwb-"
   },
   "outputs": [
    {
     "data": {
      "text/plain": [
       "(0.0, 80.0)"
      ]
     },
     "execution_count": 32,
     "metadata": {},
     "output_type": "execute_result"
    },
    {
     "data": {
      "image/png": "[encoded data removed]",
      "text/plain": [
       "<Figure size 504x504 with 1 Axes>"
      ]
     },
     "metadata": {
      "needs_background": "light"
     },
     "output_type": "display_data"
    }
   ],
   "source": [
    "data.boxplot('living_area', figsize=(7, 7))\n",
    "plt.ylim(0, 80)"
   ]
  },
  {
   "cell_type": "code",
   "execution_count": 97,
   "metadata": {
    "id": "V2f0D3kLAwb-",
    "scrolled": false
   },
   "outputs": [
    {
     "data": {
      "text/plain": [
       "Text(0.5, 0, 'Жилая площадь объекта, м кв')"
      ]
     },
     "execution_count": 97,
     "metadata": {},
     "output_type": "execute_result"
    },
    {
     "data": {
      "image/png": "[encoded data removed]",
      "text/plain": [
       "<Figure size 432x288 with 1 Axes>"
      ]
     },
     "metadata": {
      "needs_background": "light"
     },
     "output_type": "display_data"
    }
   ],
   "source": [
    "data[data['living_area'] < 80]['living_area'].hist(bins=40)\n",
    "plt.title('Гистограмма жилой площади объектов')\n",
    "plt.xlabel('Жилая площадь объекта, м кв')"
   ]
  },
  {
   "cell_type": "code",
   "execution_count": 34,
   "metadata": {
    "id": "V2f0D3kLAwb-"
   },
   "outputs": [
    {
     "data": {
      "text/plain": [
       "(0.0, 20.0)"
      ]
     },
     "execution_count": 34,
     "metadata": {},
     "output_type": "execute_result"
    },
    {
     "data": {
      "image/png": "[encoded data removed]",
      "text/plain": [
       "<Figure size 504x504 with 1 Axes>"
      ]
     },
     "metadata": {
      "needs_background": "light"
     },
     "output_type": "display_data"
    }
   ],
   "source": [
    "data.boxplot('kitchen_area', figsize=(7, 7))\n",
    "plt.ylim(0, 20)"
   ]
  },
  {
   "cell_type": "code",
   "execution_count": 84,
   "metadata": {
    "id": "V2f0D3kLAwb-",
    "scrolled": false
   },
   "outputs": [
    {
     "data": {
      "text/plain": [
       "Text(0.5, 0, 'Площадь кухни, м кв')"
      ]
     },
     "execution_count": 84,
     "metadata": {},
     "output_type": "execute_result"
    },
    {
     "data": {
      "image/png": "[encoded data removed]",
      "text/plain": [
       "<Figure size 432x288 with 1 Axes>"
      ]
     },
     "metadata": {
      "needs_background": "light"
     },
     "output_type": "display_data"
    }
   ],
   "source": [
    "data[data['kitchen_area'] < 20]['kitchen_area'].hist(bins=40)\n",
    "plt.title('Гистограмма площади кухни')\n",
    "plt.xlabel('Площадь кухни, м кв')"
   ]
  },
  {
   "cell_type": "code",
   "execution_count": 36,
   "metadata": {
    "id": "V2f0D3kLAwb-"
   },
   "outputs": [
    {
     "data": {
      "text/plain": [
       "(-1000000.0, 15000000.0)"
      ]
     },
     "execution_count": 36,
     "metadata": {},
     "output_type": "execute_result"
    },
    {
     "data": {
      "image/png": "[encoded data removed]",
      "text/plain": [
       "<Figure size 504x504 with 1 Axes>"
      ]
     },
     "metadata": {
      "needs_background": "light"
     },
     "output_type": "display_data"
    }
   ],
   "source": [
    "data.boxplot('last_price', figsize=(7,7))\n",
    "plt.ylim(-1e6, 1.5e7)"
   ]
  },
  {
   "cell_type": "code",
   "execution_count": 37,
   "metadata": {
    "id": "V2f0D3kLAwb-"
   },
   "outputs": [
    {
     "data": {
      "text/html": [
       "<div>\n",
       "<style scoped>\n",
       "    .dataframe tbody tr th:only-of-type {\n",
       "        vertical-align: middle;\n",
       "    }\n",
       "\n",
       "    .dataframe tbody tr th {\n",
       "        vertical-align: top;\n",
       "    }\n",
       "\n",
       "    .dataframe thead th {\n",
       "        text-align: right;\n",
       "    }\n",
       "</style>\n",
       "<table border=\"1\" class=\"dataframe\">\n",
       "  <thead>\n",
       "    <tr style=\"text-align: right;\">\n",
       "      <th></th>\n",
       "      <th>total_images</th>\n",
       "      <th>last_price</th>\n",
       "      <th>total_area</th>\n",
       "      <th>first_day_exposition</th>\n",
       "      <th>rooms</th>\n",
       "      <th>ceiling_height</th>\n",
       "      <th>floors_total</th>\n",
       "      <th>living_area</th>\n",
       "      <th>floor</th>\n",
       "      <th>is_apartment</th>\n",
       "      <th>...</th>\n",
       "      <th>ponds_around3000</th>\n",
       "      <th>ponds_nearest</th>\n",
       "      <th>days_exposition</th>\n",
       "      <th>fixed_locality_name</th>\n",
       "      <th>sq_meter_price</th>\n",
       "      <th>weekday_exp</th>\n",
       "      <th>month_exp</th>\n",
       "      <th>year_exp</th>\n",
       "      <th>floor_type</th>\n",
       "      <th>cityCenters_nearest_km</th>\n",
       "    </tr>\n",
       "  </thead>\n",
       "  <tbody>\n",
       "    <tr>\n",
       "      <th>8793</th>\n",
       "      <td>7</td>\n",
       "      <td>12190.0</td>\n",
       "      <td>109.0</td>\n",
       "      <td>2019-03-20</td>\n",
       "      <td>2</td>\n",
       "      <td>2.75</td>\n",
       "      <td>25</td>\n",
       "      <td>32.0</td>\n",
       "      <td>25</td>\n",
       "      <td>False</td>\n",
       "      <td>...</td>\n",
       "      <td>0.0</td>\n",
       "      <td>NaN</td>\n",
       "      <td>8.0</td>\n",
       "      <td>Санкт-Петербург</td>\n",
       "      <td>111.83</td>\n",
       "      <td>2</td>\n",
       "      <td>3</td>\n",
       "      <td>2019</td>\n",
       "      <td>последний</td>\n",
       "      <td>9.0</td>\n",
       "    </tr>\n",
       "  </tbody>\n",
       "</table>\n",
       "<p>1 rows × 29 columns</p>\n",
       "</div>"
      ],
      "text/plain": [
       "      total_images  last_price  total_area first_day_exposition  rooms  \\\n",
       "8793             7     12190.0       109.0           2019-03-20      2   \n",
       "\n",
       "      ceiling_height  floors_total  living_area  floor  is_apartment  ...  \\\n",
       "8793            2.75            25         32.0     25         False  ...   \n",
       "\n",
       "      ponds_around3000  ponds_nearest  days_exposition  fixed_locality_name  \\\n",
       "8793               0.0            NaN              8.0      Санкт-Петербург   \n",
       "\n",
       "     sq_meter_price  weekday_exp  month_exp  year_exp  floor_type  \\\n",
       "8793         111.83            2          3      2019   последний   \n",
       "\n",
       "      cityCenters_nearest_km  \n",
       "8793                     9.0  \n",
       "\n",
       "[1 rows x 29 columns]"
      ]
     },
     "execution_count": 37,
     "metadata": {},
     "output_type": "execute_result"
    }
   ],
   "source": [
    "# Проверим квартиры со слишком низкой ценой\n",
    "data[data['last_price'] < 400000]"
   ]
  },
  {
   "cell_type": "code",
   "execution_count": 89,
   "metadata": {
    "id": "V2f0D3kLAwb-"
   },
   "outputs": [
    {
     "data": {
      "text/plain": [
       "Text(0.5, 0, 'Цена объекта, 10e7 руб.')"
      ]
     },
     "execution_count": 89,
     "metadata": {},
     "output_type": "execute_result"
    },
    {
     "data": {
      "image/png": "[encoded data removed]",
      "text/plain": [
       "<Figure size 432x288 with 1 Axes>"
      ]
     },
     "metadata": {
      "needs_background": "light"
     },
     "output_type": "display_data"
    }
   ],
   "source": [
    "data.loc[(data['last_price'] > 4e5) & (data['last_price'] < 1.2e7), ['last_price']].hist(bins=60)\n",
    "plt.title('Гистограмма цены объекта')\n",
    "plt.xlabel('Цена объекта, 10e7 руб.')"
   ]
  },
  {
   "cell_type": "code",
   "execution_count": 39,
   "metadata": {
    "id": "V2f0D3kLAwb-"
   },
   "outputs": [
    {
     "data": {
      "text/plain": [
       "(-1.0, 10.0)"
      ]
     },
     "execution_count": 39,
     "metadata": {},
     "output_type": "execute_result"
    },
    {
     "data": {
      "image/png": "[encoded data removed]",
      "text/plain": [
       "<Figure size 432x288 with 1 Axes>"
      ]
     },
     "metadata": {
      "needs_background": "light"
     },
     "output_type": "display_data"
    }
   ],
   "source": [
    "data.boxplot('rooms')\n",
    "plt.ylim(-1, 10)"
   ]
  },
  {
   "cell_type": "code",
   "execution_count": 40,
   "metadata": {
    "id": "V2f0D3kLAwb-",
    "scrolled": false
   },
   "outputs": [
    {
     "data": {
      "text/html": [
       "<div>\n",
       "<style scoped>\n",
       "    .dataframe tbody tr th:only-of-type {\n",
       "        vertical-align: middle;\n",
       "    }\n",
       "\n",
       "    .dataframe tbody tr th {\n",
       "        vertical-align: top;\n",
       "    }\n",
       "\n",
       "    .dataframe thead th {\n",
       "        text-align: right;\n",
       "    }\n",
       "</style>\n",
       "<table border=\"1\" class=\"dataframe\">\n",
       "  <thead>\n",
       "    <tr style=\"text-align: right;\">\n",
       "      <th></th>\n",
       "      <th>total_images</th>\n",
       "      <th>last_price</th>\n",
       "      <th>total_area</th>\n",
       "      <th>first_day_exposition</th>\n",
       "      <th>rooms</th>\n",
       "      <th>ceiling_height</th>\n",
       "      <th>floors_total</th>\n",
       "      <th>living_area</th>\n",
       "      <th>floor</th>\n",
       "      <th>is_apartment</th>\n",
       "      <th>...</th>\n",
       "      <th>ponds_around3000</th>\n",
       "      <th>ponds_nearest</th>\n",
       "      <th>days_exposition</th>\n",
       "      <th>fixed_locality_name</th>\n",
       "      <th>sq_meter_price</th>\n",
       "      <th>weekday_exp</th>\n",
       "      <th>month_exp</th>\n",
       "      <th>year_exp</th>\n",
       "      <th>floor_type</th>\n",
       "      <th>cityCenters_nearest_km</th>\n",
       "    </tr>\n",
       "  </thead>\n",
       "  <tbody>\n",
       "  </tbody>\n",
       "</table>\n",
       "<p>0 rows × 29 columns</p>\n",
       "</div>"
      ],
      "text/plain": [
       "Empty DataFrame\n",
       "Columns: [total_images, last_price, total_area, first_day_exposition, rooms, ceiling_height, floors_total, living_area, floor, is_apartment, studio, open_plan, kitchen_area, balcony, locality_name, airports_nearest, cityCenters_nearest, parks_around3000, parks_nearest, ponds_around3000, ponds_nearest, days_exposition, fixed_locality_name, sq_meter_price, weekday_exp, month_exp, year_exp, floor_type, cityCenters_nearest_km]\n",
       "Index: []\n",
       "\n",
       "[0 rows x 29 columns]"
      ]
     },
     "execution_count": 40,
     "metadata": {},
     "output_type": "execute_result"
    }
   ],
   "source": [
    "# Проверим, что квартиры со значением 'о' в графе 'число комнат' это студии и квартиры с открытой планировкой\n",
    "data.loc[(data['rooms'] == 0) & (data['studio'] == False) & (data['open_plan'] == False)]"
   ]
  },
  {
   "cell_type": "code",
   "execution_count": 90,
   "metadata": {
    "id": "V2f0D3kLAwb-",
    "scrolled": false
   },
   "outputs": [
    {
     "data": {
      "text/plain": [
       "Text(0.5, 0, 'Количество комнат, ед.')"
      ]
     },
     "execution_count": 90,
     "metadata": {},
     "output_type": "execute_result"
    },
    {
     "data": {
      "image/png": "[encoded data removed]",
      "text/plain": [
       "<Figure size 432x288 with 1 Axes>"
      ]
     },
     "metadata": {
      "needs_background": "light"
     },
     "output_type": "display_data"
    }
   ],
   "source": [
    "data.loc[data['rooms'] < 7, ['rooms']].hist(bins=18)\n",
    "plt.title('Гистограмма количества комнат')\n",
    "plt.xlabel('Количество комнат, ед.')"
   ]
  },
  {
   "cell_type": "code",
   "execution_count": 42,
   "metadata": {
    "id": "V2f0D3kLAwb-"
   },
   "outputs": [
    {
     "data": {
      "text/plain": [
       "(2.0, 3.5)"
      ]
     },
     "execution_count": 42,
     "metadata": {},
     "output_type": "execute_result"
    },
    {
     "data": {
      "image/png": "[encoded data removed]",
      "text/plain": [
       "<Figure size 504x504 with 1 Axes>"
      ]
     },
     "metadata": {
      "needs_background": "light"
     },
     "output_type": "display_data"
    }
   ],
   "source": [
    "data.boxplot('ceiling_height', figsize=(7, 7))\n",
    "plt.ylim(2, 3.5)"
   ]
  },
  {
   "cell_type": "code",
   "execution_count": 91,
   "metadata": {
    "id": "V2f0D3kLAwb-",
    "scrolled": true
   },
   "outputs": [
    {
     "data": {
      "text/plain": [
       "Text(0.5, 0, 'Высота потолков, м')"
      ]
     },
     "execution_count": 91,
     "metadata": {},
     "output_type": "execute_result"
    },
    {
     "data": {
      "image/png": "[encoded data removed]",
      "text/plain": [
       "<Figure size 432x288 with 1 Axes>"
      ]
     },
     "metadata": {
      "needs_background": "light"
     },
     "output_type": "display_data"
    }
   ],
   "source": [
    "# Потолки высотой в 10, 20 и более метров явно являются аномалией, вызванной ошибкой при заполнени объявления.\n",
    "# Уменьшим аномальные значения в 10 раз.\n",
    "data['ceiling_height'].where(data['ceiling_height'] < 10, data['ceiling_height'] / 10).loc[\n",
    "    (data['ceiling_height'] > 2.3) & (data['ceiling_height'] < 3.2)].hist(bins=30)\n",
    "plt.title('Гистограмма высоты потолков')\n",
    "plt.xlabel('Высота потолков, м')"
   ]
  },
  {
   "cell_type": "code",
   "execution_count": 93,
   "metadata": {
    "id": "V2f0D3kLAwb-",
    "scrolled": false
   },
   "outputs": [
    {
     "data": {
      "text/plain": [
       "Text(0.5, 0, 'Тип этажа')"
      ]
     },
     "execution_count": 93,
     "metadata": {},
     "output_type": "execute_result"
    },
    {
     "data": {
      "image/png": "[encoded data removed]",
      "text/plain": [
       "<Figure size 432x288 with 1 Axes>"
      ]
     },
     "metadata": {
      "needs_background": "light"
     },
     "output_type": "display_data"
    }
   ],
   "source": [
    "data['floor_type'].hist(bins=15)\n",
    "plt.title('Гистограмма типов этажей')\n",
    "plt.xlabel('Тип этажа')"
   ]
  },
  {
   "cell_type": "code",
   "execution_count": 45,
   "metadata": {
    "id": "V2f0D3kLAwb-"
   },
   "outputs": [
    {
     "data": {
      "text/plain": [
       "(0.0, 40.0)"
      ]
     },
     "execution_count": 45,
     "metadata": {},
     "output_type": "execute_result"
    },
    {
     "data": {
      "image/png": "[encoded data removed]",
      "text/plain": [
       "<Figure size 432x288 with 1 Axes>"
      ]
     },
     "metadata": {
      "needs_background": "light"
     },
     "output_type": "display_data"
    }
   ],
   "source": [
    "data.boxplot('floors_total')\n",
    "plt.ylim(0, 40)"
   ]
  },
  {
   "cell_type": "code",
   "execution_count": 94,
   "metadata": {
    "id": "V2f0D3kLAwb-",
    "scrolled": false
   },
   "outputs": [
    {
     "data": {
      "text/plain": [
       "Text(0.5, 0, 'Количество этажей в доме, ед.')"
      ]
     },
     "execution_count": 94,
     "metadata": {},
     "output_type": "execute_result"
    },
    {
     "data": {
      "image/png": "[encoded data removed]",
      "text/plain": [
       "<Figure size 432x288 with 1 Axes>"
      ]
     },
     "metadata": {
      "needs_background": "light"
     },
     "output_type": "display_data"
    }
   ],
   "source": [
    "data.loc[data['floors_total'] < 30, ['floors_total']].hist(bins=30)\n",
    "plt.title('Гистограмма общего количества этажей в доме')\n",
    "plt.xlabel('Количество этажей в доме, ед.')"
   ]
  },
  {
   "cell_type": "markdown",
   "metadata": {},
   "source": [
    "<div class=\"alert alert-success\">\n",
    "<b>Комментарий ревьюера ✔️:</b>\n",
    "\n",
    "Здесь все хорошо с гистограммой </div>"
   ]
  },
  {
   "cell_type": "code",
   "execution_count": 47,
   "metadata": {
    "id": "V2f0D3kLAwb-"
   },
   "outputs": [
    {
     "data": {
      "text/plain": [
       "(-1000.0, 30000.0)"
      ]
     },
     "execution_count": 47,
     "metadata": {},
     "output_type": "execute_result"
    },
    {
     "data": {
      "image/png": "[encoded data removed]",
      "text/plain": [
       "<Figure size 504x504 with 1 Axes>"
      ]
     },
     "metadata": {
      "needs_background": "light"
     },
     "output_type": "display_data"
    }
   ],
   "source": [
    "data.boxplot('cityCenters_nearest', figsize=(7,7))\n",
    "plt.ylim(-1000, 30000)"
   ]
  },
  {
   "cell_type": "code",
   "execution_count": 99,
   "metadata": {
    "id": "V2f0D3kLAwb-",
    "scrolled": false
   },
   "outputs": [
    {
     "data": {
      "text/plain": [
       "Text(0.5, 0, 'Расстояние до центра города, м')"
      ]
     },
     "execution_count": 99,
     "metadata": {},
     "output_type": "execute_result"
    },
    {
     "data": {
      "image/png": "[encoded data removed]",
      "text/plain": [
       "<Figure size 432x288 with 1 Axes>"
      ]
     },
     "metadata": {
      "needs_background": "light"
     },
     "output_type": "display_data"
    }
   ],
   "source": [
    "data.loc[data['cityCenters_nearest'] < 25000, ['cityCenters_nearest']].hist(bins=50)\n",
    "plt.title('Гистограмма расстояния до центра города в метрах')\n",
    "plt.xlabel('Расстояние до центра города, м')"
   ]
  },
  {
   "cell_type": "code",
   "execution_count": 49,
   "metadata": {
    "id": "V2f0D3kLAwb-"
   },
   "outputs": [
    {
     "data": {
      "text/plain": [
       "(-100.0, 1500.0)"
      ]
     },
     "execution_count": 49,
     "metadata": {},
     "output_type": "execute_result"
    },
    {
     "data": {
      "image/png": "[encoded data removed]",
      "text/plain": [
       "<Figure size 504x504 with 1 Axes>"
      ]
     },
     "metadata": {
      "needs_background": "light"
     },
     "output_type": "display_data"
    }
   ],
   "source": [
    "data.boxplot('parks_nearest', figsize=(7,7))\n",
    "plt.ylim(-100, 1500)"
   ]
  },
  {
   "cell_type": "code",
   "execution_count": 100,
   "metadata": {
    "id": "V2f0D3kLAwb-",
    "scrolled": false
   },
   "outputs": [
    {
     "data": {
      "text/plain": [
       "Text(0.5, 0, 'Расстояние до ближайшего парка, м')"
      ]
     },
     "execution_count": 100,
     "metadata": {},
     "output_type": "execute_result"
    },
    {
     "data": {
      "image/png": "[encoded data removed]",
      "text/plain": [
       "<Figure size 432x288 with 1 Axes>"
      ]
     },
     "metadata": {
      "needs_background": "light"
     },
     "output_type": "display_data"
    }
   ],
   "source": [
    "data.loc[data['parks_nearest'] < 1000, ['parks_nearest']].hist(bins=20)\n",
    "plt.title('Гистограмма расстояния до ближайшего парка')\n",
    "plt.xlabel('Расстояние до ближайшего парка, м')"
   ]
  },
  {
   "cell_type": "markdown",
   "metadata": {},
   "source": [
    "**Общая площадь**\n",
    "\n",
    "Общая площадь большинства квартир находится в пределах 20-120 квадратных метров. Чаще всего встречаются квартиры с площадью в 30-80 квадратных метров.\n",
    "\n",
    "**Жилая площадь**\n",
    "\n",
    "Жилая площадь большинства квартир находится в пределах 10-80 квадратных метров. Чаще всего встречаются квартиры с жилой площадью  в 10-50 квадратных метров.\n",
    "\n",
    "**Площадь кухни**\n",
    "\n",
    "Площадь кухни большинства квартир находится в пределах 3-20 квадратных метров. Чаще всего встречаются квартиры с площадью кухни в 5-15 квадратных метров.\n",
    "\n",
    "**Цена объекта**\n",
    "\n",
    "Цена большинства квартир находится в пределах от 0,5 до 12 миллионов рублей. Чаще всего встречаются квартиры с ценой от 2 до 6 миллионов рублей.\n",
    "\n",
    "**Количество комнат**\n",
    "\n",
    "Большинства квартир имеет от 1 до 4 комнат. Квартиры с 5, 6 и более комнатами являются редкостью.\n",
    "\n",
    "**Высота потолков**\n",
    "\n",
    "В основном высота потолков в квартирах находится в пределах от 2,5 до 3 метров. Потолки высотой 2,5-2,7 м встречаются чаще всего.  \n",
    "\n",
    "**Тип этажа квартиры**\n",
    "\n",
    "Большинство продаваемых квартир находится не на первом, ни на последнем этаже.\n",
    "\n",
    "**Общее количество этажей в доме**\n",
    "\n",
    "Дома в которых больше 25 этажей встречаются крайне редко. Чаще всего встречаются 5-ти и 9-ти этажные дома.  \n",
    "\n",
    "**Расстояние до центра города в метрах**\n",
    "\n",
    "Большинство домов, квартиры в которых выставлены на продажу, находятся на расстоянии от 3-х до 18-ти км от центра города. Квартиры в центре и на большем удалении встречаются редко.\n",
    "\n",
    "**Расстояние до ближайшего парка**\n",
    "\n",
    "Большинство домов, квартиры в которых выставлены на продажу, находятся либо в непосредственной близости от парка, либо на удалении до 700 метров.  \n",
    " \n"
   ]
  },
  {
   "cell_type": "markdown",
   "metadata": {
    "id": "h7VpzkIDAwb-"
   },
   "source": [
    "#### Изучим, как быстро продавались квартиры"
   ]
  },
  {
   "cell_type": "code",
   "execution_count": 114,
   "metadata": {
    "id": "V2f0D3kLAwb-"
   },
   "outputs": [
    {
     "data": {
      "text/plain": [
       "Text(0.5, 0, 'Количество дней, прошедших с момента публикации объявления')"
      ]
     },
     "execution_count": 114,
     "metadata": {},
     "output_type": "execute_result"
    },
    {
     "data": {
      "image/png": "[encoded data removed]",
      "text/plain": [
       "<Figure size 432x288 with 1 Axes>"
      ]
     },
     "metadata": {
      "needs_background": "light"
     },
     "output_type": "display_data"
    }
   ],
   "source": [
    "data['days_exposition'].hist(bins=20)\n",
    "plt.xlabel('Количество дней, прошедших с момента публикации объявления')"
   ]
  },
  {
   "cell_type": "code",
   "execution_count": 52,
   "metadata": {
    "id": "V2f0D3kLAwb-"
   },
   "outputs": [
    {
     "data": {
      "text/plain": [
       "180.88863436982163"
      ]
     },
     "execution_count": 52,
     "metadata": {},
     "output_type": "execute_result"
    }
   ],
   "source": [
    "data['days_exposition'].mean()"
   ]
  },
  {
   "cell_type": "code",
   "execution_count": 53,
   "metadata": {
    "id": "V2f0D3kLAwb-"
   },
   "outputs": [
    {
     "data": {
      "text/plain": [
       "95.0"
      ]
     },
     "execution_count": 53,
     "metadata": {},
     "output_type": "execute_result"
    }
   ],
   "source": [
    "data['days_exposition'].median()"
   ]
  },
  {
   "cell_type": "code",
   "execution_count": 54,
   "metadata": {
    "id": "V2f0D3kLAwb-"
   },
   "outputs": [
    {
     "data": {
      "text/plain": [
       "count    20518.000000\n",
       "mean       180.888634\n",
       "std        219.727988\n",
       "min          1.000000\n",
       "25%         45.000000\n",
       "50%         95.000000\n",
       "75%        232.000000\n",
       "max       1580.000000\n",
       "Name: days_exposition, dtype: float64"
      ]
     },
     "execution_count": 54,
     "metadata": {},
     "output_type": "execute_result"
    }
   ],
   "source": [
    "data['days_exposition'].describe()"
   ]
  },
  {
   "cell_type": "code",
   "execution_count": 55,
   "metadata": {
    "id": "V2f0D3kLAwb-"
   },
   "outputs": [
    {
     "data": {
      "text/plain": [
       "(-10.0, 600.0)"
      ]
     },
     "execution_count": 55,
     "metadata": {},
     "output_type": "execute_result"
    },
    {
     "data": {
      "image/png": "[encoded data removed]",
      "text/plain": [
       "<Figure size 504x504 with 1 Axes>"
      ]
     },
     "metadata": {
      "needs_background": "light"
     },
     "output_type": "display_data"
    }
   ],
   "source": [
    "data.boxplot('days_exposition', figsize=(7,7))\n",
    "plt.ylim(-10, 600)"
   ]
  },
  {
   "cell_type": "markdown",
   "metadata": {},
   "source": [
    "**Время продажи квартир**\n",
    "\n",
    "Среднее значение времени продажи квартир - 180 дней, медианное - 95 дней. В основном квартиры продаются примерно за три с половиной месяца - в пределах 100 дней. Быстрыми можно считать продажи квартир за полтора месяца - 45 дней и меньше. Долгими - за семь с половиной месяцев - 232 дня и больше. "
   ]
  },
  {
   "cell_type": "markdown",
   "metadata": {
    "id": "h7VpzkIDAwb-"
   },
   "source": [
    "#### Определим факторы, которые больше всего влияют на общую стоимость объекта"
   ]
  },
  {
   "cell_type": "code",
   "execution_count": 115,
   "metadata": {
    "id": "V2f0D3kLAwb-",
    "scrolled": false
   },
   "outputs": [
    {
     "data": {
      "text/plain": [
       "Text(0, 0.5, 'Цена')"
      ]
     },
     "execution_count": 115,
     "metadata": {},
     "output_type": "execute_result"
    },
    {
     "data": {
      "image/png": "[encoded data removed]",
      "text/plain": [
       "<Figure size 864x360 with 1 Axes>"
      ]
     },
     "metadata": {
      "needs_background": "light"
     },
     "output_type": "display_data"
    }
   ],
   "source": [
    "data.loc[(data['last_price'] > 4e5) & (data['last_price'] < 1.2e7) & (data['total_area'] < 120)].pivot_table(\n",
    "    index='total_area', values='last_price').plot(style='o', grid=True, figsize=(12, 5), alpha=0.5)\n",
    "plt.xlabel('Общая площадь')\n",
    "plt.ylabel('Цена')"
   ]
  },
  {
   "cell_type": "code",
   "execution_count": 104,
   "metadata": {},
   "outputs": [
    {
     "data": {
      "text/plain": [
       "0.6999468044438131"
      ]
     },
     "execution_count": 104,
     "metadata": {},
     "output_type": "execute_result"
    }
   ],
   "source": [
    "data[(data['last_price'] > 4e5) & (data['last_price'] < 1.2e7)]['last_price'].corr(data[data['total_area'] < 120]['total_area'])"
   ]
  },
  {
   "cell_type": "code",
   "execution_count": 116,
   "metadata": {
    "id": "V2f0D3kLAwb-"
   },
   "outputs": [
    {
     "data": {
      "text/plain": [
       "Text(0, 0.5, 'Цена')"
      ]
     },
     "execution_count": 116,
     "metadata": {},
     "output_type": "execute_result"
    },
    {
     "data": {
      "image/png": "[encoded data removed]",
      "text/plain": [
       "<Figure size 864x360 with 1 Axes>"
      ]
     },
     "metadata": {
      "needs_background": "light"
     },
     "output_type": "display_data"
    }
   ],
   "source": [
    "data.loc[(data['last_price'] > 4e5) & (data['last_price'] < 1.2e7) & (data['kitchen_area'] < 20)].pivot_table(\n",
    "    index='kitchen_area', values='last_price').plot(style='o', grid=True, figsize=(12, 5), alpha=0.5)\n",
    "plt.xlabel('Площадь кухни')\n",
    "plt.ylabel('Цена')"
   ]
  },
  {
   "cell_type": "code",
   "execution_count": 106,
   "metadata": {},
   "outputs": [
    {
     "data": {
      "text/plain": [
       "0.48852767215030724"
      ]
     },
     "execution_count": 106,
     "metadata": {},
     "output_type": "execute_result"
    }
   ],
   "source": [
    "data[(data['last_price'] > 4e5) & (data['last_price'] < 1.2e7)]['last_price'].corr(\n",
    "    data[data['kitchen_area'] < 20]['kitchen_area'])"
   ]
  },
  {
   "cell_type": "code",
   "execution_count": 117,
   "metadata": {
    "id": "V2f0D3kLAwb-"
   },
   "outputs": [
    {
     "data": {
      "text/plain": [
       "Text(0, 0.5, 'Цена')"
      ]
     },
     "execution_count": 117,
     "metadata": {},
     "output_type": "execute_result"
    },
    {
     "data": {
      "image/png": "[encoded data removed]",
      "text/plain": [
       "<Figure size 864x360 with 1 Axes>"
      ]
     },
     "metadata": {
      "needs_background": "light"
     },
     "output_type": "display_data"
    }
   ],
   "source": [
    "data.loc[(data['last_price'] > 4e5) & (data['last_price'] < 1.2e7) & (data['living_area'] < 80)].pivot_table(\n",
    "    index='living_area', values='last_price').plot(style='o', grid=True, figsize=(12, 5), alpha=0.5)\n",
    "plt.xlabel('Жилая площадь')\n",
    "plt.ylabel('Цена')"
   ]
  },
  {
   "cell_type": "code",
   "execution_count": 107,
   "metadata": {},
   "outputs": [
    {
     "data": {
      "text/plain": [
       "0.5759368216439965"
      ]
     },
     "execution_count": 107,
     "metadata": {},
     "output_type": "execute_result"
    }
   ],
   "source": [
    "data[(data['last_price'] > 4e5) & (data['last_price'] < 1.2e7)]['last_price'].corr(\n",
    "    data[data['living_area'] < 80]['living_area'])"
   ]
  },
  {
   "cell_type": "code",
   "execution_count": 118,
   "metadata": {
    "id": "V2f0D3kLAwb-"
   },
   "outputs": [
    {
     "data": {
      "text/plain": [
       "Text(0, 0.5, 'Цена')"
      ]
     },
     "execution_count": 118,
     "metadata": {},
     "output_type": "execute_result"
    },
    {
     "data": {
      "image/png": "[encoded data removed]",
      "text/plain": [
       "<Figure size 864x360 with 1 Axes>"
      ]
     },
     "metadata": {
      "needs_background": "light"
     },
     "output_type": "display_data"
    }
   ],
   "source": [
    "data.loc[(data['last_price'] > 4e5) & (data['last_price'] < 1.2e7) & (data['rooms'] < 7)].pivot_table(\n",
    "    index='rooms', values='last_price').plot(style='o-', grid=True, figsize=(12, 5))\n",
    "plt.xlabel('Количество комнат')\n",
    "plt.ylabel('Цена')"
   ]
  },
  {
   "cell_type": "code",
   "execution_count": 109,
   "metadata": {},
   "outputs": [
    {
     "data": {
      "text/plain": [
       "0.4554258206704704"
      ]
     },
     "execution_count": 109,
     "metadata": {},
     "output_type": "execute_result"
    }
   ],
   "source": [
    "data[(data['last_price'] > 4e5) & (data['last_price'] < 1.2e7)]['last_price'].corr(\n",
    "    data[data['rooms'] < 7]['rooms'])"
   ]
  },
  {
   "cell_type": "code",
   "execution_count": 119,
   "metadata": {
    "id": "V2f0D3kLAwb-"
   },
   "outputs": [
    {
     "data": {
      "text/plain": [
       "Text(0, 0.5, 'Цена')"
      ]
     },
     "execution_count": 119,
     "metadata": {},
     "output_type": "execute_result"
    },
    {
     "data": {
      "image/png": "[encoded data removed]",
      "text/plain": [
       "<Figure size 864x360 with 1 Axes>"
      ]
     },
     "metadata": {
      "needs_background": "light"
     },
     "output_type": "display_data"
    }
   ],
   "source": [
    "data.loc[(data['last_price'] > 4e5) & (data['last_price'] < 1.2e7)].pivot_table(\n",
    "    index='floor_type', values='last_price').plot(style='o-', grid=True, figsize=(12, 5))\n",
    "plt.xlabel('Тип этажа')\n",
    "plt.ylabel('Цена')"
   ]
  },
  {
   "cell_type": "code",
   "execution_count": 120,
   "metadata": {
    "id": "V2f0D3kLAwb-"
   },
   "outputs": [
    {
     "data": {
      "text/plain": [
       "Text(0, 0.5, 'Цена')"
      ]
     },
     "execution_count": 120,
     "metadata": {},
     "output_type": "execute_result"
    },
    {
     "data": {
      "image/png": "[encoded data removed]",
      "text/plain": [
       "<Figure size 864x360 with 1 Axes>"
      ]
     },
     "metadata": {
      "needs_background": "light"
     },
     "output_type": "display_data"
    }
   ],
   "source": [
    "data.loc[(data['last_price'] > 4e5) & (data['last_price'] < 1.2e7)].pivot_table(\n",
    "    index='weekday_exp', values='last_price', aggfunc='median').plot(style='o-', grid=True, figsize=(12, 5))\n",
    "plt.xlabel('День недели (0 - понедельник, 6 - воскресенье)')\n",
    "plt.ylabel('Цена')"
   ]
  },
  {
   "cell_type": "code",
   "execution_count": 121,
   "metadata": {
    "id": "V2f0D3kLAwb-"
   },
   "outputs": [
    {
     "data": {
      "text/plain": [
       "Text(0, 0.5, 'Цена')"
      ]
     },
     "execution_count": 121,
     "metadata": {},
     "output_type": "execute_result"
    },
    {
     "data": {
      "image/png": "[encoded data removed]",
      "text/plain": [
       "<Figure size 864x360 with 1 Axes>"
      ]
     },
     "metadata": {
      "needs_background": "light"
     },
     "output_type": "display_data"
    }
   ],
   "source": [
    "data.loc[(data['last_price'] > 4e5) & (data['last_price'] < 1.2e7)].pivot_table(\n",
    "    index='month_exp', values='last_price', aggfunc='median').plot(style='o-', grid=True, figsize=(12, 5), alpha=0.5)\n",
    "plt.xlabel('Месяц')\n",
    "plt.ylabel('Цена')"
   ]
  },
  {
   "cell_type": "code",
   "execution_count": 122,
   "metadata": {
    "id": "V2f0D3kLAwb-"
   },
   "outputs": [
    {
     "data": {
      "text/plain": [
       "Text(0, 0.5, 'Цена')"
      ]
     },
     "execution_count": 122,
     "metadata": {},
     "output_type": "execute_result"
    },
    {
     "data": {
      "image/png": "[encoded data removed]",
      "text/plain": [
       "<Figure size 864x360 with 1 Axes>"
      ]
     },
     "metadata": {
      "needs_background": "light"
     },
     "output_type": "display_data"
    }
   ],
   "source": [
    "data.loc[(data['last_price'] > 4e5) & (data['last_price'] < 1.2e7)].pivot_table(\n",
    "    index='year_exp', values='last_price').plot(style='o-', grid=True, figsize=(12, 5), alpha=0.5)\n",
    "plt.xlabel('Год')\n",
    "plt.ylabel('Цена')"
   ]
  },
  {
   "cell_type": "markdown",
   "metadata": {},
   "source": [
    "**Факторы, влияющие на стоимость объекта.**\n",
    "\n",
    "* Между общая площадью и ценой объекта есть заметная корреляция - чем больше площадь, тем выше цена. \n",
    "* Жилая площадь также имеет заметную корреляцию со стоимостью объекта, однако ее влияние слабее, чем общей площади. \n",
    "* Влияние площади кухни на стоимость квартиры выражено слабо - присутствует умеренная корреляция. \n",
    "* Квартиры с большим числом комнат как правило имеют большую стоимость - присутствует умеренная корреляция. \n",
    "* Квартиры на первом этаже имеют меньшую цену, чем квартиры на последнем. Наибольшую цену имеют квартиры, расположенные не на первом, ни на последнем этаже.\n",
    "* Наибольшую цену имеют квартиры, объявления о продаже которых были опубликованы во вторник, наименьшую - квартиры, выставленные на продажу в пятницу. Однако в целом колебания цен не настолько высоки, чтобы можно было говорить о существовании какой-либо зависимости. \n",
    "* Распределение по месяцам опубликования объявлений следующее: самые высокие цены в апреле, самые низкие - в июне. \n",
    "* Распределение по годам: с 2014 по 2018 наблюдался спад цен на жилье, в 2019 наблюдался рост цен.   "
   ]
  },
  {
   "cell_type": "markdown",
   "metadata": {
    "id": "h7VpzkIDAwb-"
   },
   "source": [
    "#### Определим в каких населённых пунктах самая высокой и низкая стоимость квадратного метра."
   ]
  },
  {
   "cell_type": "code",
   "execution_count": 64,
   "metadata": {
    "id": "V2f0D3kLAwb-"
   },
   "outputs": [
    {
     "data": {
      "text/html": [
       "<div>\n",
       "<style scoped>\n",
       "    .dataframe tbody tr th:only-of-type {\n",
       "        vertical-align: middle;\n",
       "    }\n",
       "\n",
       "    .dataframe tbody tr th {\n",
       "        vertical-align: top;\n",
       "    }\n",
       "\n",
       "    .dataframe thead th {\n",
       "        text-align: right;\n",
       "    }\n",
       "</style>\n",
       "<table border=\"1\" class=\"dataframe\">\n",
       "  <thead>\n",
       "    <tr style=\"text-align: right;\">\n",
       "      <th></th>\n",
       "      <th>count</th>\n",
       "      <th>mean</th>\n",
       "    </tr>\n",
       "    <tr>\n",
       "      <th>fixed_locality_name</th>\n",
       "      <th></th>\n",
       "      <th></th>\n",
       "    </tr>\n",
       "  </thead>\n",
       "  <tbody>\n",
       "    <tr>\n",
       "      <th>Санкт-Петербург</th>\n",
       "      <td>15721</td>\n",
       "      <td>114849.008793</td>\n",
       "    </tr>\n",
       "    <tr>\n",
       "      <th>Мурино</th>\n",
       "      <td>590</td>\n",
       "      <td>86087.512017</td>\n",
       "    </tr>\n",
       "    <tr>\n",
       "      <th>Кудрово</th>\n",
       "      <td>472</td>\n",
       "      <td>95324.930508</td>\n",
       "    </tr>\n",
       "    <tr>\n",
       "      <th>Шушары</th>\n",
       "      <td>440</td>\n",
       "      <td>78677.364318</td>\n",
       "    </tr>\n",
       "    <tr>\n",
       "      <th>Всеволожск</th>\n",
       "      <td>398</td>\n",
       "      <td>68654.473970</td>\n",
       "    </tr>\n",
       "    <tr>\n",
       "      <th>Пушкин</th>\n",
       "      <td>369</td>\n",
       "      <td>103125.819377</td>\n",
       "    </tr>\n",
       "    <tr>\n",
       "      <th>Колпино</th>\n",
       "      <td>338</td>\n",
       "      <td>75424.579112</td>\n",
       "    </tr>\n",
       "    <tr>\n",
       "      <th>Парголово</th>\n",
       "      <td>327</td>\n",
       "      <td>90175.913089</td>\n",
       "    </tr>\n",
       "    <tr>\n",
       "      <th>Гатчина</th>\n",
       "      <td>307</td>\n",
       "      <td>68746.146515</td>\n",
       "    </tr>\n",
       "    <tr>\n",
       "      <th>Выборг</th>\n",
       "      <td>237</td>\n",
       "      <td>58141.909325</td>\n",
       "    </tr>\n",
       "  </tbody>\n",
       "</table>\n",
       "</div>"
      ],
      "text/plain": [
       "                     count           mean\n",
       "fixed_locality_name                      \n",
       "Санкт-Петербург      15721  114849.008793\n",
       "Мурино                 590   86087.512017\n",
       "Кудрово                472   95324.930508\n",
       "Шушары                 440   78677.364318\n",
       "Всеволожск             398   68654.473970\n",
       "Пушкин                 369  103125.819377\n",
       "Колпино                338   75424.579112\n",
       "Парголово              327   90175.913089\n",
       "Гатчина                307   68746.146515\n",
       "Выборг                 237   58141.909325"
      ]
     },
     "execution_count": 64,
     "metadata": {},
     "output_type": "execute_result"
    }
   ],
   "source": [
    "data.pivot_table(index='fixed_locality_name', values='sq_meter_price',\n",
    "                 aggfunc=('mean', 'count')).sort_values(by='count', ascending=False).head(10)"
   ]
  },
  {
   "cell_type": "markdown",
   "metadata": {},
   "source": [
    "**Среди 10 населённых пунктах с наибольшим числом объявлений самая высокая стоимость квадратного метра в Санкт-Петербурге, самая низкая - в Выборге.**"
   ]
  },
  {
   "cell_type": "markdown",
   "metadata": {
    "id": "h7VpzkIDAwb-"
   },
   "source": [
    "#### Определим, как стоимость объектов зависит от расстояния до центра города."
   ]
  },
  {
   "cell_type": "code",
   "execution_count": 123,
   "metadata": {
    "id": "V2f0D3kLAwb-",
    "scrolled": false
   },
   "outputs": [
    {
     "data": {
      "text/plain": [
       "Text(0, 0.5, 'Цена')"
      ]
     },
     "execution_count": 123,
     "metadata": {},
     "output_type": "execute_result"
    },
    {
     "data": {
      "image/png": "[encoded data removed]",
      "text/plain": [
       "<Figure size 864x360 with 1 Axes>"
      ]
     },
     "metadata": {
      "needs_background": "light"
     },
     "output_type": "display_data"
    }
   ],
   "source": [
    "data[data['fixed_locality_name'] == 'Санкт-Петербург'].pivot_table(\n",
    "    index='cityCenters_nearest_km', values='last_price').plot(grid=True, figsize=(12, 5))\n",
    "plt.xlabel('Расстояние до центра города, км')\n",
    "plt.ylabel('Цена')"
   ]
  },
  {
   "cell_type": "markdown",
   "metadata": {},
   "source": [
    "**Ожидаемо цена квартир значительно выше в центре города, на расстоянии от центра города в 10 км и более цена меняется незначительно.**"
   ]
  },
  {
   "cell_type": "markdown",
   "metadata": {
    "id": "h7VpzkIDAwb-"
   },
   "source": [
    "### Напишите общий вывод"
   ]
  },
  {
   "cell_type": "markdown",
   "metadata": {},
   "source": [
    "**Площадь**\n",
    "\n",
    "Один из основных факторов, влияющих на цену квартиры - общая площадь объекта. В определенной мере на стоимость влияет жилая площадь квартиры, площадь кухни влияет на цену слабо.  \n",
    "\n",
    "**Расположение**\n",
    "\n",
    "* Расположенные в центре квартиры заметно дороже, на расстояни 9-10 км от центра и дальше стоимость жилья мало зависит от расстояния. \n",
    "* По области самые дорогие квартиры в Санкт-Петербурге, самые дешевые - в Выборге.\n",
    "* Наиболее дешевые квартиры на первом этаже. Последний этаж дороже первого, но дешевле остальных.\n",
    "\n",
    "**Число комнат в квартире**\n",
    "\n",
    "Квартиры с большим числом комнат как правило имеют большую стоимость. \n",
    "\n",
    "**Время публикации объявления**\n",
    "\n",
    "* Наибольшую цену имеют квартиры, объявления о продаже которых были опубликованы во вторник, наименьшую - квартиры, выставленные на продажу в пятницу. \n",
    "* Распределение по месяцам опубликования объявлений следующее: самые высокие цены в апреле, самые низкие - в июне. \n",
    "* Распределение по годам: с 2014 по 2018 наблюдался спад цен на жилье, в 2019 наблюдался рост цен. \n",
    "\n",
    "**Итого, основные факторы, влияющие на цену объекта, это общая площадь и расположение - выше всего цены в центре Санкт-Петербурга, а квартиры на первом этаже дешевле всего.**"
   ]
  },
  {
   "cell_type": "code",
   "execution_count": null,
   "metadata": {},
   "outputs": [],
   "source": []
  }
 ],
 "metadata": {
  "ExecuteTimeLog": [
   {
    "duration": 550,
    "start_time": "2024-02-12T16:01:54.847Z"
   },
   {
    "duration": 81,
    "start_time": "2024-02-12T16:02:44.390Z"
   },
   {
    "duration": 92,
    "start_time": "2024-02-12T16:03:01.681Z"
   },
   {
    "duration": 127,
    "start_time": "2024-02-12T16:03:17.817Z"
   },
   {
    "duration": 106,
    "start_time": "2024-02-12T16:03:38.514Z"
   },
   {
    "duration": 15,
    "start_time": "2024-02-12T16:05:28.081Z"
   },
   {
    "duration": 2296,
    "start_time": "2024-02-12T16:10:00.282Z"
   },
   {
    "duration": 10,
    "start_time": "2024-02-12T16:25:50.708Z"
   },
   {
    "duration": 5,
    "start_time": "2024-02-12T16:47:35.359Z"
   },
   {
    "duration": 9,
    "start_time": "2024-02-12T16:47:54.156Z"
   },
   {
    "duration": 66,
    "start_time": "2024-02-12T16:50:26.831Z"
   },
   {
    "duration": 6,
    "start_time": "2024-02-12T16:50:46.936Z"
   },
   {
    "duration": 7,
    "start_time": "2024-02-12T17:03:47.114Z"
   },
   {
    "duration": 6,
    "start_time": "2024-02-12T17:05:00.313Z"
   },
   {
    "duration": 5,
    "start_time": "2024-02-12T17:05:46.866Z"
   },
   {
    "duration": 5,
    "start_time": "2024-02-12T18:05:15.286Z"
   },
   {
    "duration": 35,
    "start_time": "2024-02-12T18:06:10.378Z"
   },
   {
    "duration": 35,
    "start_time": "2024-02-12T18:08:19.696Z"
   },
   {
    "duration": 13,
    "start_time": "2024-02-12T18:12:04.082Z"
   },
   {
    "duration": 20,
    "start_time": "2024-02-12T18:15:34.952Z"
   },
   {
    "duration": 14,
    "start_time": "2024-02-12T18:16:07.091Z"
   },
   {
    "duration": 10,
    "start_time": "2024-02-12T18:16:31.285Z"
   },
   {
    "duration": 115,
    "start_time": "2024-02-12T18:16:41.635Z"
   },
   {
    "duration": 12,
    "start_time": "2024-02-12T18:16:52.619Z"
   },
   {
    "duration": 5,
    "start_time": "2024-02-12T18:47:16.479Z"
   },
   {
    "duration": 22,
    "start_time": "2024-02-12T18:48:01.311Z"
   },
   {
    "duration": 12,
    "start_time": "2024-02-12T18:48:26.711Z"
   },
   {
    "duration": 9,
    "start_time": "2024-02-12T18:49:14.582Z"
   },
   {
    "duration": 10,
    "start_time": "2024-02-12T18:49:49.495Z"
   },
   {
    "duration": 117,
    "start_time": "2024-02-12T18:50:01.832Z"
   },
   {
    "duration": 9,
    "start_time": "2024-02-12T18:50:08.000Z"
   },
   {
    "duration": 4,
    "start_time": "2024-02-12T18:50:14.975Z"
   },
   {
    "duration": 8,
    "start_time": "2024-02-12T18:50:17.495Z"
   },
   {
    "duration": 8,
    "start_time": "2024-02-12T18:56:22.728Z"
   },
   {
    "duration": 45,
    "start_time": "2024-02-12T18:56:36.040Z"
   },
   {
    "duration": 5,
    "start_time": "2024-02-12T18:56:56.400Z"
   },
   {
    "duration": 136,
    "start_time": "2024-02-12T19:02:09.895Z"
   },
   {
    "duration": 6,
    "start_time": "2024-02-12T19:02:24.318Z"
   },
   {
    "duration": 9,
    "start_time": "2024-02-12T19:02:56.520Z"
   },
   {
    "duration": 5,
    "start_time": "2024-02-12T19:03:11.942Z"
   },
   {
    "duration": 5,
    "start_time": "2024-02-12T19:03:16.718Z"
   },
   {
    "duration": 51,
    "start_time": "2024-02-13T15:04:26.827Z"
   },
   {
    "duration": 812,
    "start_time": "2024-02-13T15:04:39.033Z"
   },
   {
    "duration": 38,
    "start_time": "2024-02-13T15:04:48.095Z"
   },
   {
    "duration": 38,
    "start_time": "2024-02-13T15:05:35.763Z"
   },
   {
    "duration": 7,
    "start_time": "2024-02-13T15:22:03.209Z"
   },
   {
    "duration": 6,
    "start_time": "2024-02-13T15:22:21.281Z"
   },
   {
    "duration": 12,
    "start_time": "2024-02-13T15:26:19.449Z"
   },
   {
    "duration": 19,
    "start_time": "2024-02-13T15:26:26.378Z"
   },
   {
    "duration": 61,
    "start_time": "2024-02-13T15:27:24.842Z"
   },
   {
    "duration": 77,
    "start_time": "2024-02-13T15:55:03.993Z"
   },
   {
    "duration": 124,
    "start_time": "2024-02-13T15:55:35.415Z"
   },
   {
    "duration": 686,
    "start_time": "2024-02-13T16:06:58.643Z"
   },
   {
    "duration": 128,
    "start_time": "2024-02-13T16:52:15.116Z"
   },
   {
    "duration": 7,
    "start_time": "2024-02-13T16:53:03.076Z"
   },
   {
    "duration": 10,
    "start_time": "2024-02-13T16:53:12.701Z"
   },
   {
    "duration": 5,
    "start_time": "2024-02-13T16:53:41.060Z"
   },
   {
    "duration": 9,
    "start_time": "2024-02-13T16:53:46.388Z"
   },
   {
    "duration": 4,
    "start_time": "2024-02-13T17:05:37.446Z"
   },
   {
    "duration": 14,
    "start_time": "2024-02-13T17:05:45.239Z"
   },
   {
    "duration": 39,
    "start_time": "2024-02-13T17:13:14.349Z"
   },
   {
    "duration": 1270,
    "start_time": "2024-02-13T17:31:03.541Z"
   },
   {
    "duration": 38,
    "start_time": "2024-02-13T17:31:31.707Z"
   },
   {
    "duration": 6,
    "start_time": "2024-02-13T17:32:20.641Z"
   },
   {
    "duration": 7,
    "start_time": "2024-02-13T17:32:39.129Z"
   },
   {
    "duration": 8,
    "start_time": "2024-02-13T17:33:13.561Z"
   },
   {
    "duration": 12,
    "start_time": "2024-02-13T17:43:14.756Z"
   },
   {
    "duration": 47,
    "start_time": "2024-02-13T17:45:13.972Z"
   },
   {
    "duration": 10,
    "start_time": "2024-02-13T17:45:33.141Z"
   },
   {
    "duration": 6,
    "start_time": "2024-02-13T17:45:51.109Z"
   },
   {
    "duration": 9,
    "start_time": "2024-02-13T17:45:59.285Z"
   },
   {
    "duration": 909,
    "start_time": "2024-02-13T17:47:03.917Z"
   },
   {
    "duration": 79,
    "start_time": "2024-02-13T17:47:25.949Z"
   },
   {
    "duration": 8,
    "start_time": "2024-02-13T17:47:33.629Z"
   },
   {
    "duration": 7,
    "start_time": "2024-02-13T17:48:30.966Z"
   },
   {
    "duration": 5,
    "start_time": "2024-02-13T18:05:41.935Z"
   },
   {
    "duration": 9,
    "start_time": "2024-02-13T18:05:58.822Z"
   },
   {
    "duration": 124,
    "start_time": "2024-02-13T18:06:58.315Z"
   },
   {
    "duration": 6,
    "start_time": "2024-02-13T18:07:25.759Z"
   },
   {
    "duration": 7,
    "start_time": "2024-02-13T18:07:49.654Z"
   },
   {
    "duration": 124,
    "start_time": "2024-02-13T18:08:09.687Z"
   },
   {
    "duration": 6,
    "start_time": "2024-02-13T18:08:39.263Z"
   },
   {
    "duration": 41,
    "start_time": "2024-02-13T18:09:13.423Z"
   },
   {
    "duration": 24,
    "start_time": "2024-02-13T18:13:58.704Z"
   },
   {
    "duration": 22,
    "start_time": "2024-02-13T18:14:44.168Z"
   },
   {
    "duration": 5,
    "start_time": "2024-02-13T18:14:53.776Z"
   },
   {
    "duration": 26,
    "start_time": "2024-02-13T18:15:00.648Z"
   },
   {
    "duration": 22,
    "start_time": "2024-02-13T18:15:12.664Z"
   },
   {
    "duration": 124,
    "start_time": "2024-02-13T18:40:52.294Z"
   },
   {
    "duration": 10,
    "start_time": "2024-02-13T18:41:00.417Z"
   },
   {
    "duration": 7,
    "start_time": "2024-02-13T18:45:36.291Z"
   },
   {
    "duration": 7,
    "start_time": "2024-02-13T18:47:45.147Z"
   },
   {
    "duration": 7,
    "start_time": "2024-02-13T18:47:56.699Z"
   },
   {
    "duration": 6,
    "start_time": "2024-02-13T18:48:23.731Z"
   },
   {
    "duration": 6,
    "start_time": "2024-02-13T18:48:41.774Z"
   },
   {
    "duration": 5,
    "start_time": "2024-02-13T18:49:29.324Z"
   },
   {
    "duration": 5,
    "start_time": "2024-02-13T18:50:05.196Z"
   },
   {
    "duration": 9,
    "start_time": "2024-02-13T18:51:05.164Z"
   },
   {
    "duration": 11,
    "start_time": "2024-02-13T18:51:14.212Z"
   },
   {
    "duration": 7,
    "start_time": "2024-02-13T18:58:11.310Z"
   },
   {
    "duration": 3,
    "start_time": "2024-02-13T19:20:12.842Z"
   },
   {
    "duration": 10,
    "start_time": "2024-02-13T19:20:16.970Z"
   },
   {
    "duration": 15,
    "start_time": "2024-02-13T19:20:30.226Z"
   },
   {
    "duration": 5,
    "start_time": "2024-02-13T19:21:23.626Z"
   },
   {
    "duration": 7,
    "start_time": "2024-02-13T19:47:31.439Z"
   },
   {
    "duration": 7,
    "start_time": "2024-02-13T19:49:33.791Z"
   },
   {
    "duration": 7,
    "start_time": "2024-02-13T19:50:04.706Z"
   },
   {
    "duration": 8,
    "start_time": "2024-02-13T19:50:44.615Z"
   },
   {
    "duration": 8,
    "start_time": "2024-02-13T19:54:59.680Z"
   },
   {
    "duration": 9,
    "start_time": "2024-02-13T20:12:13.085Z"
   },
   {
    "duration": 20,
    "start_time": "2024-02-13T20:15:18.034Z"
   },
   {
    "duration": 28,
    "start_time": "2024-02-13T20:16:38.463Z"
   },
   {
    "duration": 30,
    "start_time": "2024-02-13T20:16:45.432Z"
   },
   {
    "duration": 5,
    "start_time": "2024-02-13T20:17:24.006Z"
   },
   {
    "duration": 5,
    "start_time": "2024-02-13T20:18:44.990Z"
   },
   {
    "duration": 139,
    "start_time": "2024-02-13T20:19:37.021Z"
   },
   {
    "duration": 5,
    "start_time": "2024-02-13T20:19:44.575Z"
   },
   {
    "duration": 6,
    "start_time": "2024-02-13T20:19:46.775Z"
   },
   {
    "duration": 768,
    "start_time": "2024-02-14T15:48:19.737Z"
   },
   {
    "duration": 18,
    "start_time": "2024-02-14T15:48:23.650Z"
   },
   {
    "duration": 2772,
    "start_time": "2024-02-14T15:48:25.498Z"
   },
   {
    "duration": 11,
    "start_time": "2024-02-14T15:48:33.394Z"
   },
   {
    "duration": 5,
    "start_time": "2024-02-14T15:48:37.851Z"
   },
   {
    "duration": 5,
    "start_time": "2024-02-14T15:48:40.082Z"
   },
   {
    "duration": 7,
    "start_time": "2024-02-14T15:48:42.562Z"
   },
   {
    "duration": 7,
    "start_time": "2024-02-14T15:48:44.898Z"
   },
   {
    "duration": 8,
    "start_time": "2024-02-14T15:48:48.066Z"
   },
   {
    "duration": 8,
    "start_time": "2024-02-14T15:48:50.506Z"
   },
   {
    "duration": 7,
    "start_time": "2024-02-14T15:48:52.498Z"
   },
   {
    "duration": 9,
    "start_time": "2024-02-14T15:48:53.603Z"
   },
   {
    "duration": 5,
    "start_time": "2024-02-14T15:48:57.162Z"
   },
   {
    "duration": 16,
    "start_time": "2024-02-14T15:49:01.794Z"
   },
   {
    "duration": 5,
    "start_time": "2024-02-14T15:50:30.547Z"
   },
   {
    "duration": 5,
    "start_time": "2024-02-14T15:51:03.715Z"
   },
   {
    "duration": 692,
    "start_time": "2024-02-14T15:58:01.044Z"
   },
   {
    "duration": 9,
    "start_time": "2024-02-14T16:00:38.849Z"
   },
   {
    "duration": 14,
    "start_time": "2024-02-14T16:12:09.602Z"
   },
   {
    "duration": 10,
    "start_time": "2024-02-14T16:16:28.693Z"
   },
   {
    "duration": 185,
    "start_time": "2024-02-14T16:28:57.249Z"
   },
   {
    "duration": 7,
    "start_time": "2024-02-14T16:29:03.943Z"
   },
   {
    "duration": 128,
    "start_time": "2024-02-14T16:31:53.863Z"
   },
   {
    "duration": 7,
    "start_time": "2024-02-14T16:32:08.265Z"
   },
   {
    "duration": 191,
    "start_time": "2024-02-14T16:32:13.362Z"
   },
   {
    "duration": 8,
    "start_time": "2024-02-14T16:32:17.801Z"
   },
   {
    "duration": 128,
    "start_time": "2024-02-14T16:34:24.754Z"
   },
   {
    "duration": 7,
    "start_time": "2024-02-14T16:34:35.634Z"
   },
   {
    "duration": 7,
    "start_time": "2024-02-14T16:35:10.059Z"
   },
   {
    "duration": 218,
    "start_time": "2024-02-14T16:35:14.925Z"
   },
   {
    "duration": 11,
    "start_time": "2024-02-14T16:35:17.443Z"
   },
   {
    "duration": 7,
    "start_time": "2024-02-14T16:35:22.514Z"
   },
   {
    "duration": 121,
    "start_time": "2024-02-14T16:36:45.387Z"
   },
   {
    "duration": 6,
    "start_time": "2024-02-14T16:36:53.523Z"
   },
   {
    "duration": 255,
    "start_time": "2024-02-14T16:38:38.796Z"
   },
   {
    "duration": 7,
    "start_time": "2024-02-14T16:39:07.149Z"
   },
   {
    "duration": 272,
    "start_time": "2024-02-14T16:41:22.238Z"
   },
   {
    "duration": 7,
    "start_time": "2024-02-14T16:41:24.990Z"
   },
   {
    "duration": 135,
    "start_time": "2024-02-14T16:43:42.724Z"
   },
   {
    "duration": 7,
    "start_time": "2024-02-14T16:43:46.637Z"
   },
   {
    "duration": 131,
    "start_time": "2024-02-14T16:44:56.768Z"
   },
   {
    "duration": 8,
    "start_time": "2024-02-14T16:45:02.274Z"
   },
   {
    "duration": 17,
    "start_time": "2024-02-14T16:47:15.185Z"
   },
   {
    "duration": 141,
    "start_time": "2024-02-14T16:57:48.431Z"
   },
   {
    "duration": 4,
    "start_time": "2024-02-14T17:24:47.790Z"
   },
   {
    "duration": 5,
    "start_time": "2024-02-14T17:24:49.333Z"
   },
   {
    "duration": 3,
    "start_time": "2024-02-14T17:27:33.430Z"
   },
   {
    "duration": 6,
    "start_time": "2024-02-14T17:27:35.606Z"
   },
   {
    "duration": 13,
    "start_time": "2024-02-14T17:38:46.929Z"
   },
   {
    "duration": 120,
    "start_time": "2024-02-14T17:39:14.118Z"
   },
   {
    "duration": 8,
    "start_time": "2024-02-14T17:39:24.137Z"
   },
   {
    "duration": 6,
    "start_time": "2024-02-14T17:39:35.274Z"
   },
   {
    "duration": 4,
    "start_time": "2024-02-14T17:39:38.681Z"
   },
   {
    "duration": 9,
    "start_time": "2024-02-14T17:47:51.779Z"
   },
   {
    "duration": 6,
    "start_time": "2024-02-14T17:53:16.754Z"
   },
   {
    "duration": 6,
    "start_time": "2024-02-14T17:53:34.842Z"
   },
   {
    "duration": 7,
    "start_time": "2024-02-14T17:56:35.746Z"
   },
   {
    "duration": 5,
    "start_time": "2024-02-14T17:56:52.162Z"
   },
   {
    "duration": 6,
    "start_time": "2024-02-14T17:57:51.171Z"
   },
   {
    "duration": 5,
    "start_time": "2024-02-14T17:58:07.474Z"
   },
   {
    "duration": 31,
    "start_time": "2024-02-14T18:09:21.707Z"
   },
   {
    "duration": 1189,
    "start_time": "2024-02-14T19:11:38.410Z"
   },
   {
    "duration": 310,
    "start_time": "2024-02-14T19:18:58.971Z"
   },
   {
    "duration": 5,
    "start_time": "2024-02-14T19:19:26.308Z"
   },
   {
    "duration": 6,
    "start_time": "2024-02-14T19:20:07.131Z"
   },
   {
    "duration": 100,
    "start_time": "2024-02-14T19:25:50.973Z"
   },
   {
    "duration": 120,
    "start_time": "2024-02-14T19:25:58.509Z"
   },
   {
    "duration": 199,
    "start_time": "2024-02-14T19:29:07.581Z"
   },
   {
    "duration": 249,
    "start_time": "2024-02-14T19:29:45.237Z"
   },
   {
    "duration": 135,
    "start_time": "2024-02-14T19:29:55.869Z"
   },
   {
    "duration": 15,
    "start_time": "2024-02-14T19:33:26.093Z"
   },
   {
    "duration": 112,
    "start_time": "2024-02-14T19:33:55.269Z"
   },
   {
    "duration": 135,
    "start_time": "2024-02-14T19:35:47.428Z"
   },
   {
    "duration": 122,
    "start_time": "2024-02-14T19:36:29.045Z"
   },
   {
    "duration": 124,
    "start_time": "2024-02-14T19:45:47.989Z"
   },
   {
    "duration": 6,
    "start_time": "2024-02-14T19:46:10.589Z"
   },
   {
    "duration": 7,
    "start_time": "2024-02-14T19:47:37.853Z"
   },
   {
    "duration": 13,
    "start_time": "2024-02-14T19:49:04.173Z"
   },
   {
    "duration": 14,
    "start_time": "2024-02-14T19:49:46.637Z"
   },
   {
    "duration": 124,
    "start_time": "2024-02-14T19:50:55.262Z"
   },
   {
    "duration": 139,
    "start_time": "2024-02-14T19:52:22.790Z"
   },
   {
    "duration": 803,
    "start_time": "2024-02-15T15:41:14.335Z"
   },
   {
    "duration": 590,
    "start_time": "2024-02-15T15:42:39.257Z"
   },
   {
    "duration": 119,
    "start_time": "2024-02-15T15:45:15.213Z"
   },
   {
    "duration": 139,
    "start_time": "2024-02-15T15:46:01.055Z"
   },
   {
    "duration": 129,
    "start_time": "2024-02-15T15:46:23.631Z"
   },
   {
    "duration": 98,
    "start_time": "2024-02-15T15:48:59.002Z"
   },
   {
    "duration": 189,
    "start_time": "2024-02-15T15:49:04.161Z"
   },
   {
    "duration": 127,
    "start_time": "2024-02-15T15:49:40.034Z"
   },
   {
    "duration": 236,
    "start_time": "2024-02-15T15:50:01.234Z"
   },
   {
    "duration": 236,
    "start_time": "2024-02-15T15:50:12.210Z"
   },
   {
    "duration": 146,
    "start_time": "2024-02-15T15:50:20.531Z"
   },
   {
    "duration": 157,
    "start_time": "2024-02-15T15:50:54.178Z"
   },
   {
    "duration": 155,
    "start_time": "2024-02-15T15:54:35.917Z"
   },
   {
    "duration": 121,
    "start_time": "2024-02-15T15:54:49.637Z"
   },
   {
    "duration": 136,
    "start_time": "2024-02-15T15:55:18.686Z"
   },
   {
    "duration": 126,
    "start_time": "2024-02-15T15:55:43.791Z"
   },
   {
    "duration": 12,
    "start_time": "2024-02-15T15:58:37.517Z"
   },
   {
    "duration": 11,
    "start_time": "2024-02-15T16:10:17.437Z"
   },
   {
    "duration": 132,
    "start_time": "2024-02-15T16:12:36.372Z"
   },
   {
    "duration": 221,
    "start_time": "2024-02-15T16:12:45.180Z"
   },
   {
    "duration": 180,
    "start_time": "2024-02-15T16:12:57.740Z"
   },
   {
    "duration": 128,
    "start_time": "2024-02-15T16:13:05.636Z"
   },
   {
    "duration": 9,
    "start_time": "2024-02-15T16:14:42.611Z"
   },
   {
    "duration": 5,
    "start_time": "2024-02-15T16:15:31.763Z"
   },
   {
    "duration": 137,
    "start_time": "2024-02-15T16:18:11.500Z"
   },
   {
    "duration": 6,
    "start_time": "2024-02-15T16:30:44.454Z"
   },
   {
    "duration": 160,
    "start_time": "2024-02-15T16:31:22.373Z"
   },
   {
    "duration": 176,
    "start_time": "2024-02-15T16:40:45.025Z"
   },
   {
    "duration": 171,
    "start_time": "2024-02-15T16:41:39.977Z"
   },
   {
    "duration": 156,
    "start_time": "2024-02-15T16:41:48.929Z"
   },
   {
    "duration": 191,
    "start_time": "2024-02-15T16:41:57.746Z"
   },
   {
    "duration": 269,
    "start_time": "2024-02-15T16:42:14.209Z"
   },
   {
    "duration": 217,
    "start_time": "2024-02-15T16:42:35.304Z"
   },
   {
    "duration": 157,
    "start_time": "2024-02-15T16:45:46.957Z"
   },
   {
    "duration": 139,
    "start_time": "2024-02-15T16:46:02.628Z"
   },
   {
    "duration": 159,
    "start_time": "2024-02-15T16:46:46.148Z"
   },
   {
    "duration": 156,
    "start_time": "2024-02-15T16:47:05.052Z"
   },
   {
    "duration": 127,
    "start_time": "2024-02-15T16:49:05.794Z"
   },
   {
    "duration": 128,
    "start_time": "2024-02-15T16:49:22.090Z"
   },
   {
    "duration": 126,
    "start_time": "2024-02-15T16:52:48.048Z"
   },
   {
    "duration": 125,
    "start_time": "2024-02-15T16:53:45.711Z"
   },
   {
    "duration": 166,
    "start_time": "2024-02-15T16:54:13.856Z"
   },
   {
    "duration": 15,
    "start_time": "2024-02-15T16:56:03.152Z"
   },
   {
    "duration": 164,
    "start_time": "2024-02-15T16:57:15.720Z"
   },
   {
    "duration": 192,
    "start_time": "2024-02-15T16:57:52.486Z"
   },
   {
    "duration": 12,
    "start_time": "2024-02-15T17:00:01.423Z"
   },
   {
    "duration": 9,
    "start_time": "2024-02-15T17:00:12.830Z"
   },
   {
    "duration": 11,
    "start_time": "2024-02-15T17:00:44.414Z"
   },
   {
    "duration": 11,
    "start_time": "2024-02-15T17:01:31.960Z"
   },
   {
    "duration": 11,
    "start_time": "2024-02-15T17:02:39.616Z"
   },
   {
    "duration": 11,
    "start_time": "2024-02-15T17:02:51.135Z"
   },
   {
    "duration": 17,
    "start_time": "2024-02-15T17:03:17.078Z"
   },
   {
    "duration": 13,
    "start_time": "2024-02-15T17:03:44.663Z"
   },
   {
    "duration": 14,
    "start_time": "2024-02-15T17:04:47.926Z"
   },
   {
    "duration": 243,
    "start_time": "2024-02-15T17:10:12.310Z"
   },
   {
    "duration": 5,
    "start_time": "2024-02-15T17:10:14.063Z"
   },
   {
    "duration": 137,
    "start_time": "2024-02-15T17:10:21.382Z"
   },
   {
    "duration": 223,
    "start_time": "2024-02-15T17:10:28.575Z"
   },
   {
    "duration": 120,
    "start_time": "2024-02-15T17:10:44.079Z"
   },
   {
    "duration": 119,
    "start_time": "2024-02-15T17:10:49.599Z"
   },
   {
    "duration": 123,
    "start_time": "2024-02-15T17:10:59.727Z"
   },
   {
    "duration": 83,
    "start_time": "2024-02-15T17:14:47.740Z"
   },
   {
    "duration": 12,
    "start_time": "2024-02-15T17:15:27.504Z"
   },
   {
    "duration": 13,
    "start_time": "2024-02-15T17:15:57.959Z"
   },
   {
    "duration": 12,
    "start_time": "2024-02-15T17:17:58.975Z"
   },
   {
    "duration": 1193,
    "start_time": "2024-02-15T17:19:14.137Z"
   },
   {
    "duration": 12,
    "start_time": "2024-02-15T17:19:26.912Z"
   },
   {
    "duration": 21,
    "start_time": "2024-02-15T17:19:51.449Z"
   },
   {
    "duration": 10,
    "start_time": "2024-02-15T17:20:06.449Z"
   },
   {
    "duration": 11,
    "start_time": "2024-02-15T17:21:17.265Z"
   },
   {
    "duration": 10,
    "start_time": "2024-02-15T17:22:56.849Z"
   },
   {
    "duration": 170,
    "start_time": "2024-02-15T17:29:17.068Z"
   },
   {
    "duration": 201,
    "start_time": "2024-02-15T17:29:55.781Z"
   },
   {
    "duration": 115,
    "start_time": "2024-02-15T17:30:59.869Z"
   },
   {
    "duration": 116,
    "start_time": "2024-02-15T17:31:14.796Z"
   },
   {
    "duration": 1608,
    "start_time": "2024-02-15T17:32:08.228Z"
   },
   {
    "duration": 168,
    "start_time": "2024-02-15T17:32:53.029Z"
   },
   {
    "duration": 160,
    "start_time": "2024-02-15T17:32:59.518Z"
   },
   {
    "duration": 145,
    "start_time": "2024-02-15T17:33:23.382Z"
   },
   {
    "duration": 10,
    "start_time": "2024-02-15T17:38:44.271Z"
   },
   {
    "duration": 12,
    "start_time": "2024-02-15T17:39:19.797Z"
   },
   {
    "duration": 13,
    "start_time": "2024-02-15T17:39:59.416Z"
   },
   {
    "duration": 15,
    "start_time": "2024-02-15T17:40:34.078Z"
   },
   {
    "duration": 164,
    "start_time": "2024-02-15T17:41:51.711Z"
   },
   {
    "duration": 147,
    "start_time": "2024-02-15T17:42:05.479Z"
   },
   {
    "duration": 13,
    "start_time": "2024-02-15T17:42:58.728Z"
   },
   {
    "duration": 14,
    "start_time": "2024-02-15T17:43:40.072Z"
   },
   {
    "duration": 11,
    "start_time": "2024-02-15T17:44:32.945Z"
   },
   {
    "duration": 45,
    "start_time": "2024-02-15T17:48:54.833Z"
   },
   {
    "duration": 22,
    "start_time": "2024-02-15T17:51:00.475Z"
   },
   {
    "duration": 77,
    "start_time": "2024-02-15T17:51:17.298Z"
   },
   {
    "duration": 16,
    "start_time": "2024-02-15T17:52:07.398Z"
   },
   {
    "duration": 154,
    "start_time": "2024-02-15T17:53:28.893Z"
   },
   {
    "duration": 278,
    "start_time": "2024-02-15T17:53:34.293Z"
   },
   {
    "duration": 8,
    "start_time": "2024-02-15T17:54:42.711Z"
   },
   {
    "duration": 9,
    "start_time": "2024-02-15T17:54:53.751Z"
   },
   {
    "duration": 10,
    "start_time": "2024-02-15T17:55:48.103Z"
   },
   {
    "duration": 11,
    "start_time": "2024-02-15T17:56:09.592Z"
   },
   {
    "duration": 155,
    "start_time": "2024-02-15T17:56:51.833Z"
   },
   {
    "duration": 174,
    "start_time": "2024-02-15T17:57:14.369Z"
   },
   {
    "duration": 151,
    "start_time": "2024-02-15T17:57:35.280Z"
   },
   {
    "duration": 154,
    "start_time": "2024-02-15T17:57:41.793Z"
   },
   {
    "duration": 165,
    "start_time": "2024-02-15T17:58:01.527Z"
   },
   {
    "duration": 166,
    "start_time": "2024-02-15T17:58:19.009Z"
   },
   {
    "duration": 163,
    "start_time": "2024-02-15T17:58:24.986Z"
   },
   {
    "duration": 9,
    "start_time": "2024-02-15T18:02:34.610Z"
   },
   {
    "duration": 13,
    "start_time": "2024-02-15T18:02:45.677Z"
   },
   {
    "duration": 35,
    "start_time": "2024-02-15T18:04:14.083Z"
   },
   {
    "duration": 34,
    "start_time": "2024-02-15T18:05:05.607Z"
   },
   {
    "duration": 18,
    "start_time": "2024-02-15T18:05:44.199Z"
   },
   {
    "duration": 8,
    "start_time": "2024-02-15T18:05:48.624Z"
   },
   {
    "duration": 9,
    "start_time": "2024-02-15T18:06:25.263Z"
   },
   {
    "duration": 10,
    "start_time": "2024-02-15T18:07:08.592Z"
   },
   {
    "duration": 29,
    "start_time": "2024-02-15T18:07:28.559Z"
   },
   {
    "duration": 33,
    "start_time": "2024-02-15T18:08:08.640Z"
   },
   {
    "duration": 192,
    "start_time": "2024-02-15T18:11:26.313Z"
   },
   {
    "duration": 224,
    "start_time": "2024-02-15T18:11:42.218Z"
   },
   {
    "duration": 35,
    "start_time": "2024-02-15T18:14:28.596Z"
   },
   {
    "duration": 5,
    "start_time": "2024-02-15T18:19:30.389Z"
   },
   {
    "duration": 8,
    "start_time": "2024-02-15T18:19:40.861Z"
   },
   {
    "duration": 147,
    "start_time": "2024-02-15T18:19:51.709Z"
   },
   {
    "duration": 7,
    "start_time": "2024-02-15T18:20:18.549Z"
   },
   {
    "duration": 8,
    "start_time": "2024-02-15T18:23:48.143Z"
   },
   {
    "duration": 185,
    "start_time": "2024-02-15T18:24:19.295Z"
   },
   {
    "duration": 9,
    "start_time": "2024-02-15T18:24:22.974Z"
   },
   {
    "duration": 187,
    "start_time": "2024-02-15T18:24:59.727Z"
   },
   {
    "duration": 11,
    "start_time": "2024-02-15T18:25:03.136Z"
   },
   {
    "duration": 203,
    "start_time": "2024-02-15T18:25:47.640Z"
   },
   {
    "duration": 9,
    "start_time": "2024-02-15T18:25:51.215Z"
   },
   {
    "duration": 7,
    "start_time": "2024-02-15T18:26:13.142Z"
   },
   {
    "duration": 224,
    "start_time": "2024-02-15T18:27:16.126Z"
   },
   {
    "duration": 8,
    "start_time": "2024-02-15T18:27:19.494Z"
   },
   {
    "duration": 255,
    "start_time": "2024-02-15T18:29:51.270Z"
   },
   {
    "duration": 249,
    "start_time": "2024-02-15T18:30:57.543Z"
   },
   {
    "duration": 9,
    "start_time": "2024-02-15T18:32:48.699Z"
   },
   {
    "duration": 9,
    "start_time": "2024-02-15T18:33:08.262Z"
   },
   {
    "duration": 10,
    "start_time": "2024-02-15T18:33:16.519Z"
   },
   {
    "duration": 12,
    "start_time": "2024-02-15T18:34:46.190Z"
   },
   {
    "duration": 255,
    "start_time": "2024-02-15T18:35:32.310Z"
   },
   {
    "duration": 11,
    "start_time": "2024-02-15T18:35:42.389Z"
   },
   {
    "duration": 10,
    "start_time": "2024-02-15T18:35:51.997Z"
   },
   {
    "duration": 9,
    "start_time": "2024-02-15T18:46:01.295Z"
   },
   {
    "duration": 9,
    "start_time": "2024-02-15T18:46:09.863Z"
   },
   {
    "duration": 10,
    "start_time": "2024-02-15T18:46:17.574Z"
   },
   {
    "duration": 7,
    "start_time": "2024-02-15T18:47:59.959Z"
   },
   {
    "duration": 408,
    "start_time": "2024-02-15T18:48:04.319Z"
   },
   {
    "duration": 7,
    "start_time": "2024-02-15T18:48:14.111Z"
   },
   {
    "duration": 241,
    "start_time": "2024-02-15T18:48:15.640Z"
   },
   {
    "duration": 6,
    "start_time": "2024-02-15T18:48:21.671Z"
   },
   {
    "duration": 237,
    "start_time": "2024-02-15T18:48:23.871Z"
   },
   {
    "duration": 6,
    "start_time": "2024-02-15T18:48:49.200Z"
   },
   {
    "duration": 247,
    "start_time": "2024-02-15T18:48:52.080Z"
   },
   {
    "duration": 172,
    "start_time": "2024-02-15T18:49:01.321Z"
   },
   {
    "duration": 129,
    "start_time": "2024-02-15T18:55:08.434Z"
   },
   {
    "duration": 112,
    "start_time": "2024-02-15T18:55:21.121Z"
   },
   {
    "duration": 117,
    "start_time": "2024-02-15T18:55:28.969Z"
   },
   {
    "duration": 260,
    "start_time": "2024-02-15T19:03:56.783Z"
   },
   {
    "duration": 228,
    "start_time": "2024-02-15T19:04:40.471Z"
   },
   {
    "duration": 229,
    "start_time": "2024-02-15T19:04:51.134Z"
   },
   {
    "duration": 208,
    "start_time": "2024-02-15T19:05:21.429Z"
   },
   {
    "duration": 49,
    "start_time": "2024-02-15T19:10:24.573Z"
   },
   {
    "duration": 203,
    "start_time": "2024-02-15T19:10:31.268Z"
   },
   {
    "duration": 215,
    "start_time": "2024-02-15T19:12:04.028Z"
   },
   {
    "duration": 200,
    "start_time": "2024-02-15T19:12:13.587Z"
   },
   {
    "duration": 127,
    "start_time": "2024-02-15T19:16:17.419Z"
   },
   {
    "duration": 8,
    "start_time": "2024-02-15T19:18:07.665Z"
   },
   {
    "duration": 219,
    "start_time": "2024-02-15T19:18:10.243Z"
   },
   {
    "duration": 225,
    "start_time": "2024-02-15T19:18:26.027Z"
   },
   {
    "duration": 233,
    "start_time": "2024-02-15T19:18:34.716Z"
   },
   {
    "duration": 7,
    "start_time": "2024-02-15T19:19:12.211Z"
   },
   {
    "duration": 410,
    "start_time": "2024-02-15T19:19:17.020Z"
   },
   {
    "duration": 220,
    "start_time": "2024-02-15T19:20:33.355Z"
   },
   {
    "duration": 211,
    "start_time": "2024-02-15T19:20:42.276Z"
   },
   {
    "duration": 207,
    "start_time": "2024-02-15T19:20:49.803Z"
   },
   {
    "duration": 210,
    "start_time": "2024-02-15T19:21:03.379Z"
   },
   {
    "duration": 245,
    "start_time": "2024-02-15T19:21:48.963Z"
   },
   {
    "duration": 230,
    "start_time": "2024-02-15T19:21:56.212Z"
   },
   {
    "duration": 232,
    "start_time": "2024-02-15T19:22:09.892Z"
   },
   {
    "duration": 237,
    "start_time": "2024-02-15T19:22:22.643Z"
   },
   {
    "duration": 12,
    "start_time": "2024-02-15T19:27:19.628Z"
   },
   {
    "duration": 64,
    "start_time": "2024-02-15T19:27:21.629Z"
   },
   {
    "duration": 155,
    "start_time": "2024-02-15T19:27:27.812Z"
   },
   {
    "duration": 137,
    "start_time": "2024-02-15T19:27:38.668Z"
   },
   {
    "duration": 138,
    "start_time": "2024-02-15T19:28:22.892Z"
   },
   {
    "duration": 164,
    "start_time": "2024-02-15T19:28:44.372Z"
   },
   {
    "duration": 250,
    "start_time": "2024-02-15T19:29:01.556Z"
   },
   {
    "duration": 138,
    "start_time": "2024-02-15T19:29:11.581Z"
   },
   {
    "duration": 151,
    "start_time": "2024-02-15T19:29:22.781Z"
   },
   {
    "duration": 188,
    "start_time": "2024-02-15T19:29:27.213Z"
   },
   {
    "duration": 145,
    "start_time": "2024-02-15T19:29:33.132Z"
   },
   {
    "duration": 146,
    "start_time": "2024-02-15T19:33:09.661Z"
   },
   {
    "duration": 172,
    "start_time": "2024-02-15T19:33:19.645Z"
   },
   {
    "duration": 158,
    "start_time": "2024-02-15T19:33:57.909Z"
   },
   {
    "duration": 185,
    "start_time": "2024-02-15T19:34:08.166Z"
   },
   {
    "duration": 149,
    "start_time": "2024-02-15T19:34:15.917Z"
   },
   {
    "duration": 114,
    "start_time": "2024-02-15T19:37:23.346Z"
   },
   {
    "duration": 124,
    "start_time": "2024-02-15T19:37:46.625Z"
   },
   {
    "duration": 129,
    "start_time": "2024-02-15T19:37:55.682Z"
   },
   {
    "duration": 117,
    "start_time": "2024-02-15T19:38:07.074Z"
   },
   {
    "duration": 121,
    "start_time": "2024-02-15T19:40:45.708Z"
   },
   {
    "duration": 39,
    "start_time": "2024-02-15T19:43:42.062Z"
   },
   {
    "duration": 76,
    "start_time": "2024-02-15T19:45:34.517Z"
   },
   {
    "duration": 9,
    "start_time": "2024-02-15T19:46:09.632Z"
   },
   {
    "duration": 38,
    "start_time": "2024-02-15T19:46:52.464Z"
   },
   {
    "duration": 41,
    "start_time": "2024-02-15T19:47:18.912Z"
   },
   {
    "duration": 40,
    "start_time": "2024-02-15T19:47:52.458Z"
   },
   {
    "duration": 114,
    "start_time": "2024-02-15T19:48:24.626Z"
   },
   {
    "duration": 330,
    "start_time": "2024-02-15T19:48:35.705Z"
   },
   {
    "duration": 43,
    "start_time": "2024-02-15T19:51:50.552Z"
   },
   {
    "duration": 42,
    "start_time": "2024-02-15T19:52:06.412Z"
   },
   {
    "duration": 39,
    "start_time": "2024-02-15T19:52:41.092Z"
   },
   {
    "duration": 9,
    "start_time": "2024-02-15T19:59:13.669Z"
   },
   {
    "duration": 9,
    "start_time": "2024-02-15T19:59:46.062Z"
   },
   {
    "duration": 82,
    "start_time": "2024-02-15T20:00:33.990Z"
   },
   {
    "duration": 40,
    "start_time": "2024-02-15T20:01:29.279Z"
   },
   {
    "duration": 645,
    "start_time": "2024-02-15T20:03:28.685Z"
   },
   {
    "duration": 600,
    "start_time": "2024-02-15T20:03:45.967Z"
   },
   {
    "duration": 885,
    "start_time": "2024-02-15T20:05:02.255Z"
   },
   {
    "duration": 620,
    "start_time": "2024-02-15T20:05:40.600Z"
   },
   {
    "duration": 567,
    "start_time": "2024-02-15T20:05:52.945Z"
   },
   {
    "duration": 8,
    "start_time": "2024-02-15T20:06:23.160Z"
   },
   {
    "duration": 8,
    "start_time": "2024-02-15T20:06:39.712Z"
   },
   {
    "duration": 8,
    "start_time": "2024-02-15T20:07:32.408Z"
   },
   {
    "duration": 6,
    "start_time": "2024-02-15T20:08:23.577Z"
   },
   {
    "duration": 6,
    "start_time": "2024-02-15T20:08:51.305Z"
   },
   {
    "duration": 6,
    "start_time": "2024-02-15T20:09:03.025Z"
   },
   {
    "duration": 5,
    "start_time": "2024-02-15T20:09:09.856Z"
   },
   {
    "duration": 6,
    "start_time": "2024-02-15T20:12:07.329Z"
   },
   {
    "duration": 7,
    "start_time": "2024-02-15T20:12:32.369Z"
   },
   {
    "duration": 7,
    "start_time": "2024-02-15T20:13:03.157Z"
   },
   {
    "duration": 6,
    "start_time": "2024-02-15T20:13:09.929Z"
   },
   {
    "duration": 43,
    "start_time": "2024-02-15T20:13:33.122Z"
   },
   {
    "duration": 7,
    "start_time": "2024-02-15T20:13:36.345Z"
   },
   {
    "duration": 7,
    "start_time": "2024-02-15T20:14:31.073Z"
   },
   {
    "duration": 184,
    "start_time": "2024-02-15T20:24:44.019Z"
   },
   {
    "duration": 42,
    "start_time": "2024-02-15T20:24:54.657Z"
   },
   {
    "duration": 183,
    "start_time": "2024-02-15T20:25:03.868Z"
   },
   {
    "duration": 177,
    "start_time": "2024-02-15T20:26:20.476Z"
   },
   {
    "duration": 40,
    "start_time": "2024-02-15T20:26:24.708Z"
   },
   {
    "duration": 185,
    "start_time": "2024-02-15T20:26:40.364Z"
   },
   {
    "duration": 15,
    "start_time": "2024-02-15T20:31:39.606Z"
   },
   {
    "duration": 43,
    "start_time": "2024-02-15T20:31:45.525Z"
   },
   {
    "duration": 43,
    "start_time": "2024-02-15T20:31:48.925Z"
   },
   {
    "duration": 68,
    "start_time": "2024-02-15T20:35:33.510Z"
   },
   {
    "duration": 8,
    "start_time": "2024-02-15T20:40:45.288Z"
   },
   {
    "duration": 9,
    "start_time": "2024-02-15T20:41:12.567Z"
   },
   {
    "duration": 6,
    "start_time": "2024-02-15T20:45:56.335Z"
   },
   {
    "duration": 5,
    "start_time": "2024-02-15T20:46:18.615Z"
   },
   {
    "duration": 43,
    "start_time": "2024-02-15T20:48:19.309Z"
   },
   {
    "duration": 6,
    "start_time": "2024-02-15T20:48:22.118Z"
   },
   {
    "duration": 9,
    "start_time": "2024-02-15T20:48:35.806Z"
   },
   {
    "duration": 43,
    "start_time": "2024-02-15T20:50:11.871Z"
   },
   {
    "duration": 5,
    "start_time": "2024-02-15T20:50:15.918Z"
   },
   {
    "duration": 8,
    "start_time": "2024-02-15T20:50:18.287Z"
   },
   {
    "duration": 151,
    "start_time": "2024-02-15T20:51:51.359Z"
   },
   {
    "duration": 9,
    "start_time": "2024-02-15T20:52:09.614Z"
   },
   {
    "duration": 138,
    "start_time": "2024-02-15T20:52:38.639Z"
   },
   {
    "duration": 145,
    "start_time": "2024-02-15T20:56:14.671Z"
   },
   {
    "duration": 155,
    "start_time": "2024-02-15T20:56:41.191Z"
   },
   {
    "duration": 157,
    "start_time": "2024-02-15T20:57:23.913Z"
   },
   {
    "duration": 155,
    "start_time": "2024-02-15T20:57:46.799Z"
   },
   {
    "duration": 136,
    "start_time": "2024-02-15T20:58:07.960Z"
   },
   {
    "duration": 152,
    "start_time": "2024-02-15T21:02:04.232Z"
   },
   {
    "duration": 141,
    "start_time": "2024-02-15T21:03:08.745Z"
   },
   {
    "duration": 120,
    "start_time": "2024-02-15T21:05:54.209Z"
   },
   {
    "duration": 119,
    "start_time": "2024-02-15T21:06:11.481Z"
   },
   {
    "duration": 153,
    "start_time": "2024-02-15T21:07:51.993Z"
   },
   {
    "duration": 196,
    "start_time": "2024-02-15T21:08:11.033Z"
   },
   {
    "duration": 5,
    "start_time": "2024-02-15T21:12:22.971Z"
   },
   {
    "duration": 108,
    "start_time": "2024-02-15T21:12:36.482Z"
   },
   {
    "duration": 47,
    "start_time": "2024-02-15T21:13:16.904Z"
   },
   {
    "duration": 6,
    "start_time": "2024-02-15T21:13:22.410Z"
   },
   {
    "duration": 7,
    "start_time": "2024-02-15T21:13:28.298Z"
   },
   {
    "duration": 127,
    "start_time": "2024-02-15T21:13:34.395Z"
   },
   {
    "duration": 2482,
    "start_time": "2024-02-15T21:14:40.107Z"
   },
   {
    "duration": 190,
    "start_time": "2024-02-15T21:15:08.435Z"
   },
   {
    "duration": 140,
    "start_time": "2024-02-15T21:15:22.427Z"
   },
   {
    "duration": 129,
    "start_time": "2024-02-15T21:15:37.531Z"
   },
   {
    "duration": 128,
    "start_time": "2024-02-15T21:15:47.458Z"
   },
   {
    "duration": 9,
    "start_time": "2024-02-15T21:16:39.842Z"
   },
   {
    "duration": 10,
    "start_time": "2024-02-15T21:17:41.866Z"
   },
   {
    "duration": 9,
    "start_time": "2024-02-15T21:17:58.786Z"
   },
   {
    "duration": 128,
    "start_time": "2024-02-15T21:18:47.138Z"
   },
   {
    "duration": 159,
    "start_time": "2024-02-15T21:19:41.435Z"
   },
   {
    "duration": 139,
    "start_time": "2024-02-15T21:20:48.954Z"
   },
   {
    "duration": 149,
    "start_time": "2024-02-15T21:21:09.482Z"
   },
   {
    "duration": 1148,
    "start_time": "2024-02-16T11:27:14.458Z"
   },
   {
    "duration": 38,
    "start_time": "2024-02-16T11:32:42.117Z"
   },
   {
    "duration": 68,
    "start_time": "2024-02-16T11:32:52.081Z"
   },
   {
    "duration": 6,
    "start_time": "2024-02-16T11:33:52.682Z"
   },
   {
    "duration": 20,
    "start_time": "2024-02-16T11:36:07.170Z"
   },
   {
    "duration": 14,
    "start_time": "2024-02-16T11:36:25.418Z"
   },
   {
    "duration": 6,
    "start_time": "2024-02-16T11:36:49.202Z"
   },
   {
    "duration": 9,
    "start_time": "2024-02-16T11:39:57.384Z"
   },
   {
    "duration": 5,
    "start_time": "2024-02-16T11:40:19.003Z"
   },
   {
    "duration": 10,
    "start_time": "2024-02-16T11:40:39.770Z"
   },
   {
    "duration": 7,
    "start_time": "2024-02-16T11:41:08.667Z"
   },
   {
    "duration": 10,
    "start_time": "2024-02-16T11:41:35.523Z"
   },
   {
    "duration": 13,
    "start_time": "2024-02-16T11:43:01.877Z"
   },
   {
    "duration": 115,
    "start_time": "2024-02-16T11:43:31.136Z"
   },
   {
    "duration": 8,
    "start_time": "2024-02-16T11:44:03.851Z"
   },
   {
    "duration": 7,
    "start_time": "2024-02-16T11:46:08.340Z"
   },
   {
    "duration": 11,
    "start_time": "2024-02-16T11:46:16.596Z"
   },
   {
    "duration": 155,
    "start_time": "2024-02-16T11:46:17.835Z"
   },
   {
    "duration": 178,
    "start_time": "2024-02-16T11:46:53.099Z"
   },
   {
    "duration": 140,
    "start_time": "2024-02-16T11:47:07.988Z"
   },
   {
    "duration": 190,
    "start_time": "2024-02-16T11:47:28.764Z"
   },
   {
    "duration": 196,
    "start_time": "2024-02-16T11:48:12.428Z"
   },
   {
    "duration": 142,
    "start_time": "2024-02-16T11:48:47.684Z"
   },
   {
    "duration": 115,
    "start_time": "2024-02-16T11:49:32.141Z"
   },
   {
    "duration": 140,
    "start_time": "2024-02-16T11:49:50.596Z"
   },
   {
    "duration": 157,
    "start_time": "2024-02-16T11:49:54.228Z"
   },
   {
    "duration": 148,
    "start_time": "2024-02-16T11:50:21.196Z"
   },
   {
    "duration": 101,
    "start_time": "2024-02-16T12:11:36.398Z"
   },
   {
    "duration": 112,
    "start_time": "2024-02-16T12:11:54.006Z"
   },
   {
    "duration": 110,
    "start_time": "2024-02-16T12:12:07.813Z"
   },
   {
    "duration": 135,
    "start_time": "2024-02-16T12:13:35.005Z"
   },
   {
    "duration": 145,
    "start_time": "2024-02-16T12:13:48.526Z"
   },
   {
    "duration": 220,
    "start_time": "2024-02-16T12:14:19.693Z"
   },
   {
    "duration": 141,
    "start_time": "2024-02-16T12:14:34.134Z"
   },
   {
    "duration": 132,
    "start_time": "2024-02-16T12:14:53.614Z"
   },
   {
    "duration": 176,
    "start_time": "2024-02-16T12:15:11.045Z"
   },
   {
    "duration": 135,
    "start_time": "2024-02-16T12:15:30.422Z"
   },
   {
    "duration": 135,
    "start_time": "2024-02-16T12:23:15.951Z"
   },
   {
    "duration": 134,
    "start_time": "2024-02-16T12:23:21.686Z"
   },
   {
    "duration": 142,
    "start_time": "2024-02-16T12:23:28.502Z"
   },
   {
    "duration": 133,
    "start_time": "2024-02-16T12:23:59.790Z"
   },
   {
    "duration": 132,
    "start_time": "2024-02-16T12:24:04.415Z"
   },
   {
    "duration": 137,
    "start_time": "2024-02-16T12:24:10.951Z"
   },
   {
    "duration": 211,
    "start_time": "2024-02-16T12:24:16.135Z"
   },
   {
    "duration": 136,
    "start_time": "2024-02-16T12:24:24.055Z"
   },
   {
    "duration": 125,
    "start_time": "2024-02-16T12:24:36.472Z"
   },
   {
    "duration": 123,
    "start_time": "2024-02-16T12:24:43.311Z"
   },
   {
    "duration": 122,
    "start_time": "2024-02-16T12:25:03.816Z"
   },
   {
    "duration": 115,
    "start_time": "2024-02-16T12:25:14.503Z"
   },
   {
    "duration": 116,
    "start_time": "2024-02-16T12:25:19.984Z"
   },
   {
    "duration": 116,
    "start_time": "2024-02-16T12:25:40.288Z"
   },
   {
    "duration": 137,
    "start_time": "2024-02-16T12:25:43.336Z"
   },
   {
    "duration": 114,
    "start_time": "2024-02-16T12:26:06.976Z"
   },
   {
    "duration": 121,
    "start_time": "2024-02-16T12:26:18.400Z"
   },
   {
    "duration": 138,
    "start_time": "2024-02-16T12:26:24.177Z"
   },
   {
    "duration": 137,
    "start_time": "2024-02-16T12:26:28.864Z"
   },
   {
    "duration": 117,
    "start_time": "2024-02-16T12:26:55.496Z"
   },
   {
    "duration": 184,
    "start_time": "2024-02-16T12:27:02.778Z"
   },
   {
    "duration": 1254,
    "start_time": "2024-02-16T12:28:44.841Z"
   },
   {
    "duration": 219,
    "start_time": "2024-02-16T12:29:03.026Z"
   },
   {
    "duration": 5,
    "start_time": "2024-02-16T12:29:06.009Z"
   },
   {
    "duration": 198,
    "start_time": "2024-02-16T12:29:20.305Z"
   },
   {
    "duration": 102,
    "start_time": "2024-02-16T12:29:32.401Z"
   },
   {
    "duration": 110,
    "start_time": "2024-02-16T12:29:37.225Z"
   },
   {
    "duration": 145,
    "start_time": "2024-02-16T12:30:03.881Z"
   },
   {
    "duration": 134,
    "start_time": "2024-02-16T12:30:14.673Z"
   },
   {
    "duration": 149,
    "start_time": "2024-02-16T12:30:24.146Z"
   },
   {
    "duration": 121,
    "start_time": "2024-02-16T12:30:29.098Z"
   },
   {
    "duration": 128,
    "start_time": "2024-02-16T12:30:35.225Z"
   },
   {
    "duration": 129,
    "start_time": "2024-02-16T12:31:05.386Z"
   },
   {
    "duration": 124,
    "start_time": "2024-02-16T12:31:22.610Z"
   },
   {
    "duration": 117,
    "start_time": "2024-02-16T12:31:26.553Z"
   },
   {
    "duration": 136,
    "start_time": "2024-02-16T12:32:04.538Z"
   },
   {
    "duration": 141,
    "start_time": "2024-02-16T12:32:48.874Z"
   },
   {
    "duration": 117,
    "start_time": "2024-02-16T12:32:53.625Z"
   },
   {
    "duration": 131,
    "start_time": "2024-02-16T12:33:23.402Z"
   },
   {
    "duration": 136,
    "start_time": "2024-02-16T12:33:45.866Z"
   },
   {
    "duration": 142,
    "start_time": "2024-02-16T12:34:09.355Z"
   },
   {
    "duration": 223,
    "start_time": "2024-02-16T12:34:26.307Z"
   },
   {
    "duration": 135,
    "start_time": "2024-02-16T12:34:34.634Z"
   },
   {
    "duration": 140,
    "start_time": "2024-02-16T12:34:40.954Z"
   },
   {
    "duration": 126,
    "start_time": "2024-02-16T12:34:45.522Z"
   },
   {
    "duration": 122,
    "start_time": "2024-02-16T12:35:07.611Z"
   },
   {
    "duration": 134,
    "start_time": "2024-02-16T12:35:18.147Z"
   },
   {
    "duration": 152,
    "start_time": "2024-02-16T12:36:07.619Z"
   },
   {
    "duration": 139,
    "start_time": "2024-02-16T12:36:14.780Z"
   },
   {
    "duration": 130,
    "start_time": "2024-02-16T12:36:18.619Z"
   },
   {
    "duration": 63,
    "start_time": "2024-02-16T12:36:52.933Z"
   },
   {
    "duration": 31,
    "start_time": "2024-02-16T12:38:50.705Z"
   },
   {
    "duration": 255,
    "start_time": "2024-02-16T12:40:03.764Z"
   },
   {
    "duration": 130,
    "start_time": "2024-02-16T12:40:09.956Z"
   },
   {
    "duration": 138,
    "start_time": "2024-02-16T12:41:05.412Z"
   },
   {
    "duration": 127,
    "start_time": "2024-02-16T12:41:09.548Z"
   },
   {
    "duration": 138,
    "start_time": "2024-02-16T12:41:13.276Z"
   },
   {
    "duration": 123,
    "start_time": "2024-02-16T12:41:19.204Z"
   },
   {
    "duration": 148,
    "start_time": "2024-02-16T12:42:06.612Z"
   },
   {
    "duration": 123,
    "start_time": "2024-02-16T12:42:12.668Z"
   },
   {
    "duration": 261,
    "start_time": "2024-02-16T12:42:19.619Z"
   },
   {
    "duration": 143,
    "start_time": "2024-02-16T12:42:23.246Z"
   },
   {
    "duration": 157,
    "start_time": "2024-02-16T12:42:27.021Z"
   },
   {
    "duration": 170,
    "start_time": "2024-02-16T12:42:36.269Z"
   },
   {
    "duration": 136,
    "start_time": "2024-02-16T12:42:52.317Z"
   },
   {
    "duration": 141,
    "start_time": "2024-02-16T12:43:44.793Z"
   },
   {
    "duration": 157,
    "start_time": "2024-02-16T12:43:48.376Z"
   },
   {
    "duration": 135,
    "start_time": "2024-02-16T12:43:52.141Z"
   },
   {
    "duration": 159,
    "start_time": "2024-02-16T12:44:09.709Z"
   },
   {
    "duration": 103,
    "start_time": "2024-02-16T12:45:33.022Z"
   },
   {
    "duration": 148,
    "start_time": "2024-02-16T12:45:42.245Z"
   },
   {
    "duration": 125,
    "start_time": "2024-02-16T12:46:11.229Z"
   },
   {
    "duration": 106,
    "start_time": "2024-02-16T12:46:21.950Z"
   },
   {
    "duration": 104,
    "start_time": "2024-02-16T12:47:47.022Z"
   },
   {
    "duration": 124,
    "start_time": "2024-02-16T12:47:53.654Z"
   },
   {
    "duration": 133,
    "start_time": "2024-02-16T12:48:00.646Z"
   },
   {
    "duration": 102,
    "start_time": "2024-02-16T12:48:07.174Z"
   },
   {
    "duration": 104,
    "start_time": "2024-02-16T12:48:16.806Z"
   },
   {
    "duration": 141,
    "start_time": "2024-02-16T12:48:49.517Z"
   },
   {
    "duration": 124,
    "start_time": "2024-02-16T12:49:08.606Z"
   },
   {
    "duration": 133,
    "start_time": "2024-02-16T12:50:38.014Z"
   },
   {
    "duration": 171,
    "start_time": "2024-02-16T12:50:49.774Z"
   },
   {
    "duration": 8,
    "start_time": "2024-02-16T12:51:32.374Z"
   },
   {
    "duration": 112,
    "start_time": "2024-02-16T12:52:06.983Z"
   },
   {
    "duration": 138,
    "start_time": "2024-02-16T12:52:20.854Z"
   },
   {
    "duration": 116,
    "start_time": "2024-02-16T12:52:31.559Z"
   },
   {
    "duration": 137,
    "start_time": "2024-02-16T12:52:50.806Z"
   },
   {
    "duration": 123,
    "start_time": "2024-02-16T12:52:56.616Z"
   },
   {
    "duration": 124,
    "start_time": "2024-02-16T12:53:02.967Z"
   },
   {
    "duration": 292,
    "start_time": "2024-02-16T12:53:08.742Z"
   },
   {
    "duration": 168,
    "start_time": "2024-02-16T12:53:13.119Z"
   },
   {
    "duration": 104,
    "start_time": "2024-02-16T12:54:04.535Z"
   },
   {
    "duration": 108,
    "start_time": "2024-02-16T12:54:15.534Z"
   },
   {
    "duration": 120,
    "start_time": "2024-02-16T12:54:31.159Z"
   },
   {
    "duration": 131,
    "start_time": "2024-02-16T12:54:49.719Z"
   },
   {
    "duration": 109,
    "start_time": "2024-02-16T12:55:53.936Z"
   },
   {
    "duration": 99,
    "start_time": "2024-02-16T12:56:00.416Z"
   },
   {
    "duration": 112,
    "start_time": "2024-02-16T12:56:38.752Z"
   },
   {
    "duration": 132,
    "start_time": "2024-02-16T12:56:51.175Z"
   },
   {
    "duration": 120,
    "start_time": "2024-02-16T12:57:00.265Z"
   },
   {
    "duration": 143,
    "start_time": "2024-02-16T12:57:09.160Z"
   },
   {
    "duration": 174,
    "start_time": "2024-02-16T12:57:14.096Z"
   },
   {
    "duration": 179,
    "start_time": "2024-02-16T12:57:17.712Z"
   },
   {
    "duration": 151,
    "start_time": "2024-02-16T12:57:21.167Z"
   },
   {
    "duration": 146,
    "start_time": "2024-02-16T12:57:24.953Z"
   },
   {
    "duration": 153,
    "start_time": "2024-02-16T12:57:48.200Z"
   },
   {
    "duration": 364,
    "start_time": "2024-02-16T12:57:55.496Z"
   },
   {
    "duration": 124,
    "start_time": "2024-02-16T12:58:04.776Z"
   },
   {
    "duration": 136,
    "start_time": "2024-02-16T12:58:19.280Z"
   },
   {
    "duration": 145,
    "start_time": "2024-02-16T12:58:23.432Z"
   },
   {
    "duration": 133,
    "start_time": "2024-02-16T12:58:28.512Z"
   },
   {
    "duration": 315,
    "start_time": "2024-02-16T12:58:42.088Z"
   },
   {
    "duration": 127,
    "start_time": "2024-02-16T12:58:56.400Z"
   },
   {
    "duration": 151,
    "start_time": "2024-02-16T12:59:01.632Z"
   },
   {
    "duration": 134,
    "start_time": "2024-02-16T12:59:05.454Z"
   },
   {
    "duration": 138,
    "start_time": "2024-02-16T12:59:20.585Z"
   },
   {
    "duration": 166,
    "start_time": "2024-02-16T12:59:52.240Z"
   },
   {
    "duration": 144,
    "start_time": "2024-02-16T13:00:23.433Z"
   },
   {
    "duration": 147,
    "start_time": "2024-02-16T13:00:28.760Z"
   },
   {
    "duration": 128,
    "start_time": "2024-02-16T13:00:33.112Z"
   },
   {
    "duration": 278,
    "start_time": "2024-02-16T13:00:41.392Z"
   },
   {
    "duration": 151,
    "start_time": "2024-02-16T13:00:45.273Z"
   },
   {
    "duration": 129,
    "start_time": "2024-02-16T13:00:54.856Z"
   },
   {
    "duration": 137,
    "start_time": "2024-02-16T13:01:43.129Z"
   },
   {
    "duration": 166,
    "start_time": "2024-02-16T13:01:54.769Z"
   },
   {
    "duration": 129,
    "start_time": "2024-02-16T13:02:30.001Z"
   },
   {
    "duration": 123,
    "start_time": "2024-02-16T13:05:18.329Z"
   },
   {
    "duration": 110,
    "start_time": "2024-02-16T13:05:27.833Z"
   },
   {
    "duration": 117,
    "start_time": "2024-02-16T13:05:39.890Z"
   },
   {
    "duration": 136,
    "start_time": "2024-02-16T13:05:57.737Z"
   },
   {
    "duration": 8,
    "start_time": "2024-02-16T13:07:39.507Z"
   },
   {
    "duration": 5,
    "start_time": "2024-02-16T13:08:15.298Z"
   },
   {
    "duration": 22,
    "start_time": "2024-02-16T13:09:14.690Z"
   },
   {
    "duration": 42,
    "start_time": "2024-02-16T13:09:33.304Z"
   },
   {
    "duration": 32,
    "start_time": "2024-02-16T13:11:12.259Z"
   },
   {
    "duration": 6,
    "start_time": "2024-02-16T13:13:54.732Z"
   },
   {
    "duration": 113,
    "start_time": "2024-02-16T13:13:57.988Z"
   },
   {
    "duration": 115,
    "start_time": "2024-02-16T13:14:12.189Z"
   },
   {
    "duration": 152,
    "start_time": "2024-02-16T13:14:15.724Z"
   },
   {
    "duration": 137,
    "start_time": "2024-02-16T13:14:18.429Z"
   },
   {
    "duration": 121,
    "start_time": "2024-02-16T13:14:28.668Z"
   },
   {
    "duration": 46,
    "start_time": "2024-02-16T13:19:43.581Z"
   },
   {
    "duration": 12,
    "start_time": "2024-02-16T13:20:13.341Z"
   },
   {
    "duration": 142,
    "start_time": "2024-02-16T13:20:40.926Z"
   },
   {
    "duration": 141,
    "start_time": "2024-02-16T13:20:51.325Z"
   },
   {
    "duration": 154,
    "start_time": "2024-02-16T13:20:56.286Z"
   },
   {
    "duration": 123,
    "start_time": "2024-02-16T13:21:01.221Z"
   },
   {
    "duration": 145,
    "start_time": "2024-02-16T13:21:04.885Z"
   },
   {
    "duration": 142,
    "start_time": "2024-02-16T13:21:10.045Z"
   },
   {
    "duration": 140,
    "start_time": "2024-02-16T13:21:16.125Z"
   },
   {
    "duration": 162,
    "start_time": "2024-02-16T13:21:22.022Z"
   },
   {
    "duration": 137,
    "start_time": "2024-02-16T13:21:34.638Z"
   },
   {
    "duration": 187,
    "start_time": "2024-02-16T13:25:14.447Z"
   },
   {
    "duration": 4,
    "start_time": "2024-02-16T13:25:32.374Z"
   },
   {
    "duration": 12,
    "start_time": "2024-02-16T13:25:35.430Z"
   },
   {
    "duration": 9,
    "start_time": "2024-02-16T13:26:11.126Z"
   },
   {
    "duration": 17,
    "start_time": "2024-02-16T13:26:13.062Z"
   },
   {
    "duration": 4,
    "start_time": "2024-02-16T13:27:04.575Z"
   },
   {
    "duration": 4,
    "start_time": "2024-02-16T13:27:12.079Z"
   },
   {
    "duration": 11,
    "start_time": "2024-02-16T13:27:16.135Z"
   },
   {
    "duration": 4,
    "start_time": "2024-02-16T13:27:27.990Z"
   },
   {
    "duration": 4,
    "start_time": "2024-02-16T13:27:30.879Z"
   },
   {
    "duration": 5,
    "start_time": "2024-02-16T13:27:39.656Z"
   },
   {
    "duration": 227,
    "start_time": "2024-02-16T13:27:46.047Z"
   },
   {
    "duration": 4,
    "start_time": "2024-02-16T13:28:08.518Z"
   },
   {
    "duration": 6,
    "start_time": "2024-02-16T13:28:11.478Z"
   },
   {
    "duration": 5,
    "start_time": "2024-02-16T13:28:14.199Z"
   },
   {
    "duration": 5,
    "start_time": "2024-02-16T13:28:16.239Z"
   },
   {
    "duration": 4,
    "start_time": "2024-02-16T13:28:20.278Z"
   },
   {
    "duration": 22,
    "start_time": "2024-02-16T13:29:42.943Z"
   },
   {
    "duration": 7,
    "start_time": "2024-02-16T13:32:13.712Z"
   },
   {
    "duration": 21,
    "start_time": "2024-02-16T13:32:23.319Z"
   },
   {
    "duration": 21,
    "start_time": "2024-02-16T13:38:35.552Z"
   },
   {
    "duration": 23,
    "start_time": "2024-02-16T13:39:01.024Z"
   },
   {
    "duration": 19,
    "start_time": "2024-02-16T13:39:22.880Z"
   },
   {
    "duration": 20,
    "start_time": "2024-02-16T13:39:28.704Z"
   },
   {
    "duration": 88,
    "start_time": "2024-02-16T13:39:45.048Z"
   },
   {
    "duration": 79,
    "start_time": "2024-02-16T13:39:50.008Z"
   },
   {
    "duration": 87,
    "start_time": "2024-02-16T13:40:11.911Z"
   },
   {
    "duration": 76,
    "start_time": "2024-02-16T13:40:21.824Z"
   },
   {
    "duration": 74,
    "start_time": "2024-02-16T13:40:38.328Z"
   },
   {
    "duration": 106,
    "start_time": "2024-02-16T13:40:46.656Z"
   },
   {
    "duration": 22,
    "start_time": "2024-02-16T13:40:54.903Z"
   },
   {
    "duration": 19,
    "start_time": "2024-02-16T13:41:44.984Z"
   },
   {
    "duration": 19,
    "start_time": "2024-02-16T13:42:01.601Z"
   },
   {
    "duration": 19,
    "start_time": "2024-02-16T13:44:49.096Z"
   },
   {
    "duration": 22,
    "start_time": "2024-02-16T13:49:37.377Z"
   },
   {
    "duration": 20,
    "start_time": "2024-02-16T13:49:55.490Z"
   },
   {
    "duration": 19,
    "start_time": "2024-02-16T14:01:11.308Z"
   },
   {
    "duration": 17,
    "start_time": "2024-02-16T14:01:28.698Z"
   },
   {
    "duration": 19,
    "start_time": "2024-02-16T14:01:54.883Z"
   },
   {
    "duration": 159,
    "start_time": "2024-02-16T15:42:02.842Z"
   },
   {
    "duration": 148,
    "start_time": "2024-02-16T15:52:05.545Z"
   },
   {
    "duration": 140,
    "start_time": "2024-02-16T15:52:50.538Z"
   },
   {
    "duration": 114,
    "start_time": "2024-02-16T15:52:59.825Z"
   },
   {
    "duration": 110,
    "start_time": "2024-02-16T15:53:18.650Z"
   },
   {
    "duration": 115,
    "start_time": "2024-02-16T15:53:31.769Z"
   },
   {
    "duration": 106,
    "start_time": "2024-02-16T15:53:41.282Z"
   },
   {
    "duration": 4,
    "start_time": "2024-02-16T15:55:02.746Z"
   },
   {
    "duration": 5,
    "start_time": "2024-02-16T15:55:14.457Z"
   },
   {
    "duration": 12,
    "start_time": "2024-02-16T15:56:07.442Z"
   },
   {
    "duration": 24,
    "start_time": "2024-02-16T16:06:52.114Z"
   },
   {
    "duration": 4,
    "start_time": "2024-02-16T16:10:39.938Z"
   },
   {
    "duration": 5,
    "start_time": "2024-02-16T16:12:12.611Z"
   },
   {
    "duration": 3,
    "start_time": "2024-02-16T16:12:25.915Z"
   },
   {
    "duration": 16,
    "start_time": "2024-02-16T16:13:01.283Z"
   },
   {
    "duration": 26,
    "start_time": "2024-02-16T16:14:01.547Z"
   },
   {
    "duration": 158,
    "start_time": "2024-02-16T16:32:18.536Z"
   },
   {
    "duration": 9,
    "start_time": "2024-02-16T16:36:02.598Z"
   },
   {
    "duration": 151,
    "start_time": "2024-02-16T16:36:12.270Z"
   },
   {
    "duration": 205,
    "start_time": "2024-02-16T16:36:33.030Z"
   },
   {
    "duration": 181,
    "start_time": "2024-02-16T16:37:21.782Z"
   },
   {
    "duration": 224,
    "start_time": "2024-02-16T16:37:46.325Z"
   },
   {
    "duration": 201,
    "start_time": "2024-02-16T16:38:02.406Z"
   },
   {
    "duration": 205,
    "start_time": "2024-02-16T16:38:07.416Z"
   },
   {
    "duration": 1142,
    "start_time": "2024-02-16T16:39:24.479Z"
   },
   {
    "duration": 202,
    "start_time": "2024-02-16T16:39:44.731Z"
   },
   {
    "duration": 205,
    "start_time": "2024-02-16T16:40:15.295Z"
   },
   {
    "duration": 199,
    "start_time": "2024-02-16T16:40:47.582Z"
   },
   {
    "duration": 211,
    "start_time": "2024-02-16T16:40:54.990Z"
   },
   {
    "duration": 202,
    "start_time": "2024-02-16T16:41:00.614Z"
   },
   {
    "duration": 266,
    "start_time": "2024-02-16T16:42:52.263Z"
   },
   {
    "duration": 243,
    "start_time": "2024-02-16T16:43:07.030Z"
   },
   {
    "duration": 251,
    "start_time": "2024-02-16T16:43:21.427Z"
   },
   {
    "duration": 243,
    "start_time": "2024-02-16T16:44:18.415Z"
   },
   {
    "duration": 19,
    "start_time": "2024-02-16T16:44:58.630Z"
   },
   {
    "duration": 161,
    "start_time": "2024-02-16T16:46:09.583Z"
   },
   {
    "duration": 149,
    "start_time": "2024-02-16T16:47:05.047Z"
   },
   {
    "duration": 155,
    "start_time": "2024-02-16T16:47:45.863Z"
   },
   {
    "duration": 152,
    "start_time": "2024-02-16T16:47:50.975Z"
   },
   {
    "duration": 158,
    "start_time": "2024-02-16T16:47:56.519Z"
   },
   {
    "duration": 156,
    "start_time": "2024-02-16T16:48:10.599Z"
   },
   {
    "duration": 158,
    "start_time": "2024-02-16T16:48:16.239Z"
   },
   {
    "duration": 158,
    "start_time": "2024-02-16T16:57:15.072Z"
   },
   {
    "duration": 176,
    "start_time": "2024-02-16T16:58:29.112Z"
   },
   {
    "duration": 153,
    "start_time": "2024-02-16T17:01:30.166Z"
   },
   {
    "duration": 158,
    "start_time": "2024-02-16T17:02:34.752Z"
   },
   {
    "duration": 152,
    "start_time": "2024-02-16T17:04:50.312Z"
   },
   {
    "duration": 148,
    "start_time": "2024-02-16T17:05:06.255Z"
   },
   {
    "duration": 15,
    "start_time": "2024-02-16T17:07:15.256Z"
   },
   {
    "duration": 26,
    "start_time": "2024-02-16T17:08:05.305Z"
   },
   {
    "duration": 3,
    "start_time": "2024-02-16T17:08:45.064Z"
   },
   {
    "duration": 63,
    "start_time": "2024-02-16T17:08:50.256Z"
   },
   {
    "duration": 210,
    "start_time": "2024-02-16T17:13:23.689Z"
   },
   {
    "duration": 201,
    "start_time": "2024-02-16T17:13:40.093Z"
   },
   {
    "duration": 188,
    "start_time": "2024-02-16T17:14:12.657Z"
   },
   {
    "duration": 210,
    "start_time": "2024-02-16T17:14:26.488Z"
   },
   {
    "duration": 233,
    "start_time": "2024-02-16T17:14:33.728Z"
   },
   {
    "duration": 502,
    "start_time": "2024-02-16T17:17:21.041Z"
   },
   {
    "duration": 196,
    "start_time": "2024-02-16T17:17:30.545Z"
   },
   {
    "duration": 202,
    "start_time": "2024-02-16T17:17:36.560Z"
   },
   {
    "duration": 237,
    "start_time": "2024-02-16T17:19:11.537Z"
   },
   {
    "duration": 158,
    "start_time": "2024-02-16T17:20:12.970Z"
   },
   {
    "duration": 179,
    "start_time": "2024-02-16T17:23:00.114Z"
   },
   {
    "duration": 191,
    "start_time": "2024-02-16T17:24:22.362Z"
   },
   {
    "duration": 148,
    "start_time": "2024-02-16T17:29:58.682Z"
   },
   {
    "duration": 147,
    "start_time": "2024-02-16T17:31:09.250Z"
   },
   {
    "duration": 172,
    "start_time": "2024-02-16T17:33:14.274Z"
   },
   {
    "duration": 180,
    "start_time": "2024-02-16T17:34:26.434Z"
   },
   {
    "duration": 198,
    "start_time": "2024-02-16T17:34:42.346Z"
   },
   {
    "duration": 174,
    "start_time": "2024-02-16T17:34:53.883Z"
   },
   {
    "duration": 145,
    "start_time": "2024-02-16T17:36:35.851Z"
   },
   {
    "duration": 152,
    "start_time": "2024-02-16T17:36:56.604Z"
   },
   {
    "duration": 147,
    "start_time": "2024-02-16T17:37:20.820Z"
   },
   {
    "duration": 146,
    "start_time": "2024-02-16T17:39:31.860Z"
   },
   {
    "duration": 148,
    "start_time": "2024-02-16T17:39:56.236Z"
   },
   {
    "duration": 174,
    "start_time": "2024-02-16T17:40:44.684Z"
   },
   {
    "duration": 143,
    "start_time": "2024-02-16T17:41:00.516Z"
   },
   {
    "duration": 48,
    "start_time": "2024-02-17T07:35:30.101Z"
   },
   {
    "duration": 969,
    "start_time": "2024-02-17T07:35:43.425Z"
   },
   {
    "duration": 201,
    "start_time": "2024-02-17T07:35:52.561Z"
   },
   {
    "duration": 8,
    "start_time": "2024-02-17T07:35:55.435Z"
   },
   {
    "duration": 34,
    "start_time": "2024-02-17T08:10:48.504Z"
   },
   {
    "duration": 43,
    "start_time": "2024-02-17T08:10:52.804Z"
   },
   {
    "duration": 28,
    "start_time": "2024-02-17T08:18:58.271Z"
   },
   {
    "duration": 1667,
    "start_time": "2024-02-17T08:29:48.793Z"
   },
   {
    "duration": 1253,
    "start_time": "2024-02-17T08:30:34.720Z"
   },
   {
    "duration": 6,
    "start_time": "2024-02-17T08:30:57.913Z"
   },
   {
    "duration": 182,
    "start_time": "2024-02-17T09:07:57.058Z"
   },
   {
    "duration": 155,
    "start_time": "2024-02-17T09:08:05.230Z"
   },
   {
    "duration": 133,
    "start_time": "2024-02-17T09:08:12.138Z"
   },
   {
    "duration": 149,
    "start_time": "2024-02-17T09:08:17.346Z"
   },
   {
    "duration": 195,
    "start_time": "2024-02-17T09:08:26.810Z"
   },
   {
    "duration": 155,
    "start_time": "2024-02-17T09:08:35.578Z"
   },
   {
    "duration": 146,
    "start_time": "2024-02-17T09:08:42.994Z"
   },
   {
    "duration": 141,
    "start_time": "2024-02-17T09:08:50.242Z"
   },
   {
    "duration": 144,
    "start_time": "2024-02-17T09:08:57.842Z"
   },
   {
    "duration": 150,
    "start_time": "2024-02-17T09:10:27.691Z"
   },
   {
    "duration": 120,
    "start_time": "2024-02-17T09:10:54.682Z"
   },
   {
    "duration": 123,
    "start_time": "2024-02-17T09:11:16.018Z"
   },
   {
    "duration": 130,
    "start_time": "2024-02-17T09:12:57.750Z"
   },
   {
    "duration": 141,
    "start_time": "2024-02-17T09:13:24.931Z"
   },
   {
    "duration": 137,
    "start_time": "2024-02-17T09:13:32.075Z"
   },
   {
    "duration": 214,
    "start_time": "2024-02-17T09:13:40.004Z"
   },
   {
    "duration": 142,
    "start_time": "2024-02-17T09:14:26.483Z"
   },
   {
    "duration": 132,
    "start_time": "2024-02-17T09:16:53.885Z"
   },
   {
    "duration": 143,
    "start_time": "2024-02-17T09:17:08.196Z"
   },
   {
    "duration": 150,
    "start_time": "2024-02-17T09:17:19.892Z"
   },
   {
    "duration": 157,
    "start_time": "2024-02-17T09:17:23.692Z"
   },
   {
    "duration": 150,
    "start_time": "2024-02-17T09:18:00.284Z"
   },
   {
    "duration": 140,
    "start_time": "2024-02-17T09:18:03.998Z"
   },
   {
    "duration": 7,
    "start_time": "2024-02-17T09:19:47.824Z"
   },
   {
    "duration": 5,
    "start_time": "2024-02-17T09:19:51.579Z"
   },
   {
    "duration": 121,
    "start_time": "2024-02-17T09:20:17.876Z"
   },
   {
    "duration": 279,
    "start_time": "2024-02-17T09:20:35.179Z"
   },
   {
    "duration": 219,
    "start_time": "2024-02-17T09:20:42.636Z"
   },
   {
    "duration": 149,
    "start_time": "2024-02-17T09:20:50.579Z"
   },
   {
    "duration": 138,
    "start_time": "2024-02-17T09:21:06.523Z"
   },
   {
    "duration": 137,
    "start_time": "2024-02-17T09:21:12.805Z"
   },
   {
    "duration": 121,
    "start_time": "2024-02-17T09:21:23.020Z"
   },
   {
    "duration": 117,
    "start_time": "2024-02-17T09:34:24.885Z"
   },
   {
    "duration": 134,
    "start_time": "2024-02-17T09:35:04.581Z"
   },
   {
    "duration": 115,
    "start_time": "2024-02-17T09:39:20.077Z"
   },
   {
    "duration": 117,
    "start_time": "2024-02-17T09:41:16.261Z"
   },
   {
    "duration": 147,
    "start_time": "2024-02-17T09:45:29.134Z"
   },
   {
    "duration": 149,
    "start_time": "2024-02-17T09:45:53.823Z"
   },
   {
    "duration": 163,
    "start_time": "2024-02-17T09:46:00.046Z"
   },
   {
    "duration": 206,
    "start_time": "2024-02-17T09:46:05.166Z"
   },
   {
    "duration": 115,
    "start_time": "2024-02-17T09:46:15.103Z"
   },
   {
    "duration": 119,
    "start_time": "2024-02-17T09:47:29.703Z"
   },
   {
    "duration": 8,
    "start_time": "2024-02-17T09:49:14.224Z"
   },
   {
    "duration": 132,
    "start_time": "2024-02-17T09:49:52.735Z"
   },
   {
    "duration": 136,
    "start_time": "2024-02-17T09:49:58.487Z"
   },
   {
    "duration": 136,
    "start_time": "2024-02-17T09:52:16.975Z"
   },
   {
    "duration": 136,
    "start_time": "2024-02-17T09:52:25.576Z"
   },
   {
    "duration": 135,
    "start_time": "2024-02-17T09:52:29.872Z"
   },
   {
    "duration": 125,
    "start_time": "2024-02-17T09:52:33.088Z"
   },
   {
    "duration": 25,
    "start_time": "2024-02-17T10:00:38.588Z"
   },
   {
    "duration": 24,
    "start_time": "2024-02-17T10:00:57.560Z"
   },
   {
    "duration": 24,
    "start_time": "2024-02-17T10:01:07.851Z"
   },
   {
    "duration": 98,
    "start_time": "2024-02-17T10:01:16.194Z"
   },
   {
    "duration": 24,
    "start_time": "2024-02-17T10:01:53.211Z"
   },
   {
    "duration": 109,
    "start_time": "2024-02-17T10:02:44.707Z"
   },
   {
    "duration": 98,
    "start_time": "2024-02-17T10:03:41.234Z"
   },
   {
    "duration": 24,
    "start_time": "2024-02-17T10:04:00.674Z"
   },
   {
    "duration": 21,
    "start_time": "2024-02-17T10:04:16.770Z"
   },
   {
    "duration": 21,
    "start_time": "2024-02-17T10:04:20.889Z"
   },
   {
    "duration": 22,
    "start_time": "2024-02-17T10:05:36.842Z"
   },
   {
    "duration": 10,
    "start_time": "2024-02-17T10:06:11.169Z"
   },
   {
    "duration": 121,
    "start_time": "2024-02-17T10:06:26.002Z"
   },
   {
    "duration": 155,
    "start_time": "2024-02-17T10:07:09.290Z"
   },
   {
    "duration": 139,
    "start_time": "2024-02-17T10:07:14.905Z"
   },
   {
    "duration": 112,
    "start_time": "2024-02-17T10:07:23.410Z"
   },
   {
    "duration": 107,
    "start_time": "2024-02-17T10:07:29.041Z"
   },
   {
    "duration": 111,
    "start_time": "2024-02-17T10:07:34.761Z"
   },
   {
    "duration": 104,
    "start_time": "2024-02-17T10:07:42.882Z"
   },
   {
    "duration": 12,
    "start_time": "2024-02-17T10:09:35.562Z"
   },
   {
    "duration": 25,
    "start_time": "2024-02-17T10:10:12.404Z"
   },
   {
    "duration": 116,
    "start_time": "2024-02-17T10:11:28.425Z"
   },
   {
    "duration": 210,
    "start_time": "2024-02-17T10:12:20.905Z"
   },
   {
    "duration": 106,
    "start_time": "2024-02-17T10:13:26.297Z"
   },
   {
    "duration": 117,
    "start_time": "2024-02-17T10:14:32.129Z"
   },
   {
    "duration": 113,
    "start_time": "2024-02-17T10:14:45.881Z"
   },
   {
    "duration": 124,
    "start_time": "2024-02-17T10:14:55.513Z"
   },
   {
    "duration": 117,
    "start_time": "2024-02-17T10:16:01.170Z"
   },
   {
    "duration": 110,
    "start_time": "2024-02-17T10:16:08.569Z"
   },
   {
    "duration": 102,
    "start_time": "2024-02-17T10:16:29.585Z"
   },
   {
    "duration": 119,
    "start_time": "2024-02-17T10:16:42.497Z"
   },
   {
    "duration": 113,
    "start_time": "2024-02-17T10:17:27.906Z"
   },
   {
    "duration": 139,
    "start_time": "2024-02-17T10:18:09.945Z"
   },
   {
    "duration": 251,
    "start_time": "2024-02-17T10:18:20.362Z"
   },
   {
    "duration": 217,
    "start_time": "2024-02-17T10:18:46.922Z"
   },
   {
    "duration": 132,
    "start_time": "2024-02-17T10:19:37.369Z"
   },
   {
    "duration": 123,
    "start_time": "2024-02-17T10:20:53.577Z"
   },
   {
    "duration": 117,
    "start_time": "2024-02-17T10:21:05.906Z"
   },
   {
    "duration": 112,
    "start_time": "2024-02-17T10:21:12.113Z"
   },
   {
    "duration": 123,
    "start_time": "2024-02-17T10:21:15.369Z"
   },
   {
    "duration": 9,
    "start_time": "2024-02-17T10:22:29.434Z"
   },
   {
    "duration": 285,
    "start_time": "2024-02-17T10:29:45.238Z"
   },
   {
    "duration": 137,
    "start_time": "2024-02-17T10:29:53.118Z"
   },
   {
    "duration": 134,
    "start_time": "2024-02-17T10:30:30.558Z"
   },
   {
    "duration": 137,
    "start_time": "2024-02-17T10:30:48.319Z"
   },
   {
    "duration": 147,
    "start_time": "2024-02-17T10:30:53.911Z"
   },
   {
    "duration": 151,
    "start_time": "2024-02-17T10:31:02.087Z"
   },
   {
    "duration": 158,
    "start_time": "2024-02-17T10:31:07.783Z"
   },
   {
    "duration": 141,
    "start_time": "2024-02-17T10:31:13.959Z"
   },
   {
    "duration": 143,
    "start_time": "2024-02-17T10:31:17.704Z"
   },
   {
    "duration": 153,
    "start_time": "2024-02-17T10:31:30.697Z"
   },
   {
    "duration": 162,
    "start_time": "2024-02-17T10:31:45.097Z"
   },
   {
    "duration": 152,
    "start_time": "2024-02-17T10:31:49.984Z"
   },
   {
    "duration": 133,
    "start_time": "2024-02-17T10:33:36.322Z"
   },
   {
    "duration": 32,
    "start_time": "2024-02-17T10:34:35.184Z"
   },
   {
    "duration": 269,
    "start_time": "2024-02-17T10:35:12.363Z"
   },
   {
    "duration": 143,
    "start_time": "2024-02-17T10:35:19.072Z"
   },
   {
    "duration": 309,
    "start_time": "2024-02-17T10:37:13.588Z"
   },
   {
    "duration": 161,
    "start_time": "2024-02-17T10:37:23.797Z"
   },
   {
    "duration": 429,
    "start_time": "2024-02-17T10:42:56.040Z"
   },
   {
    "duration": 129,
    "start_time": "2024-02-17T10:43:19.448Z"
   },
   {
    "duration": 257,
    "start_time": "2024-02-17T10:46:30.209Z"
   },
   {
    "duration": 104,
    "start_time": "2024-02-17T10:48:46.107Z"
   },
   {
    "duration": 104,
    "start_time": "2024-02-17T10:48:58.354Z"
   },
   {
    "duration": 114,
    "start_time": "2024-02-17T10:49:04.602Z"
   },
   {
    "duration": 115,
    "start_time": "2024-02-17T10:49:09.914Z"
   },
   {
    "duration": 98,
    "start_time": "2024-02-17T10:49:19.650Z"
   },
   {
    "duration": 124,
    "start_time": "2024-02-17T10:52:17.771Z"
   },
   {
    "duration": 118,
    "start_time": "2024-02-17T10:56:34.333Z"
   },
   {
    "duration": 298,
    "start_time": "2024-02-17T11:04:40.093Z"
   },
   {
    "duration": 159,
    "start_time": "2024-02-17T11:04:53.101Z"
   },
   {
    "duration": 3,
    "start_time": "2024-02-17T11:08:27.981Z"
   },
   {
    "duration": 124,
    "start_time": "2024-02-17T11:10:34.933Z"
   },
   {
    "duration": 135,
    "start_time": "2024-02-17T11:19:30.078Z"
   },
   {
    "duration": 195,
    "start_time": "2024-02-17T11:19:39.790Z"
   },
   {
    "duration": 204,
    "start_time": "2024-02-17T11:20:03.399Z"
   },
   {
    "duration": 184,
    "start_time": "2024-02-17T11:20:38.662Z"
   },
   {
    "duration": 234,
    "start_time": "2024-02-17T11:22:49.054Z"
   },
   {
    "duration": 135,
    "start_time": "2024-02-17T11:24:51.054Z"
   },
   {
    "duration": 145,
    "start_time": "2024-02-17T11:25:49.366Z"
   },
   {
    "duration": 162,
    "start_time": "2024-02-17T11:26:46.767Z"
   },
   {
    "duration": 369,
    "start_time": "2024-02-17T11:27:44.691Z"
   },
   {
    "duration": 147,
    "start_time": "2024-02-17T11:34:35.696Z"
   },
   {
    "duration": 143,
    "start_time": "2024-02-17T11:34:54.919Z"
   },
   {
    "duration": 352,
    "start_time": "2024-02-17T11:35:25.807Z"
   },
   {
    "duration": 153,
    "start_time": "2024-02-17T11:35:35.399Z"
   },
   {
    "duration": 12,
    "start_time": "2024-02-17T11:49:48.877Z"
   },
   {
    "duration": 177,
    "start_time": "2024-02-17T11:49:56.373Z"
   },
   {
    "duration": 16,
    "start_time": "2024-02-17T11:50:42.333Z"
   },
   {
    "duration": 10,
    "start_time": "2024-02-17T11:53:04.181Z"
   },
   {
    "duration": 156,
    "start_time": "2024-02-17T11:54:05.157Z"
   },
   {
    "duration": 17,
    "start_time": "2024-02-17T11:56:05.612Z"
   },
   {
    "duration": 20,
    "start_time": "2024-02-17T11:59:53.333Z"
   },
   {
    "duration": 9,
    "start_time": "2024-02-17T12:02:05.893Z"
   },
   {
    "duration": 18,
    "start_time": "2024-02-17T12:02:24.581Z"
   },
   {
    "duration": 174,
    "start_time": "2024-02-17T12:03:43.317Z"
   },
   {
    "duration": 17,
    "start_time": "2024-02-17T12:04:32.910Z"
   },
   {
    "duration": 19,
    "start_time": "2024-02-17T12:06:11.823Z"
   },
   {
    "duration": 18,
    "start_time": "2024-02-17T12:08:56.630Z"
   },
   {
    "duration": 21,
    "start_time": "2024-02-17T12:10:41.112Z"
   },
   {
    "duration": 19,
    "start_time": "2024-02-17T12:10:59.343Z"
   },
   {
    "duration": 160,
    "start_time": "2024-02-17T12:12:40.466Z"
   },
   {
    "duration": 16,
    "start_time": "2024-02-17T12:13:19.498Z"
   },
   {
    "duration": 160,
    "start_time": "2024-02-17T12:14:58.716Z"
   },
   {
    "duration": 179,
    "start_time": "2024-02-17T12:15:08.804Z"
   },
   {
    "duration": 759,
    "start_time": "2024-02-17T12:19:31.107Z"
   },
   {
    "duration": 14,
    "start_time": "2024-02-17T12:19:31.868Z"
   },
   {
    "duration": 1827,
    "start_time": "2024-02-17T12:19:31.883Z"
   },
   {
    "duration": 9,
    "start_time": "2024-02-17T12:19:33.712Z"
   },
   {
    "duration": 12,
    "start_time": "2024-02-17T12:19:33.722Z"
   },
   {
    "duration": 15,
    "start_time": "2024-02-17T12:19:33.736Z"
   },
   {
    "duration": 7,
    "start_time": "2024-02-17T12:19:33.753Z"
   },
   {
    "duration": 10,
    "start_time": "2024-02-17T12:19:33.761Z"
   },
   {
    "duration": 7,
    "start_time": "2024-02-17T12:19:33.773Z"
   },
   {
    "duration": 12,
    "start_time": "2024-02-17T12:19:33.781Z"
   },
   {
    "duration": 9,
    "start_time": "2024-02-17T12:19:33.794Z"
   },
   {
    "duration": 8,
    "start_time": "2024-02-17T12:19:33.804Z"
   },
   {
    "duration": 10,
    "start_time": "2024-02-17T12:19:33.813Z"
   },
   {
    "duration": 23,
    "start_time": "2024-02-17T12:19:33.825Z"
   },
   {
    "duration": 4,
    "start_time": "2024-02-17T12:19:33.849Z"
   },
   {
    "duration": 6,
    "start_time": "2024-02-17T12:19:33.855Z"
   },
   {
    "duration": 7,
    "start_time": "2024-02-17T12:19:33.863Z"
   },
   {
    "duration": 31,
    "start_time": "2024-02-17T12:19:33.871Z"
   },
   {
    "duration": 7,
    "start_time": "2024-02-17T12:19:33.904Z"
   },
   {
    "duration": 218,
    "start_time": "2024-02-17T12:19:33.912Z"
   },
   {
    "duration": 8,
    "start_time": "2024-02-17T12:19:34.131Z"
   },
   {
    "duration": 4,
    "start_time": "2024-02-17T12:19:34.141Z"
   },
   {
    "duration": 13,
    "start_time": "2024-02-17T12:19:34.147Z"
   },
   {
    "duration": 6,
    "start_time": "2024-02-17T12:19:34.162Z"
   },
   {
    "duration": 26,
    "start_time": "2024-02-17T12:19:34.169Z"
   },
   {
    "duration": 280,
    "start_time": "2024-02-17T12:19:34.197Z"
   },
   {
    "duration": 4,
    "start_time": "2024-02-17T12:19:34.478Z"
   },
   {
    "duration": 121,
    "start_time": "2024-02-17T12:19:34.483Z"
   },
   {
    "duration": 5,
    "start_time": "2024-02-17T12:19:34.605Z"
   },
   {
    "duration": 21,
    "start_time": "2024-02-17T12:19:34.611Z"
   },
   {
    "duration": 127,
    "start_time": "2024-02-17T12:19:34.633Z"
   },
   {
    "duration": 123,
    "start_time": "2024-02-17T12:19:34.761Z"
   },
   {
    "duration": 219,
    "start_time": "2024-02-17T12:19:34.886Z"
   },
   {
    "duration": 133,
    "start_time": "2024-02-17T12:19:35.106Z"
   },
   {
    "duration": 138,
    "start_time": "2024-02-17T12:19:35.240Z"
   },
   {
    "duration": 137,
    "start_time": "2024-02-17T12:19:35.379Z"
   },
   {
    "duration": 22,
    "start_time": "2024-02-17T12:19:35.518Z"
   },
   {
    "duration": 163,
    "start_time": "2024-02-17T12:19:35.542Z"
   },
   {
    "duration": 111,
    "start_time": "2024-02-17T12:19:35.707Z"
   },
   {
    "duration": 16,
    "start_time": "2024-02-17T12:19:35.820Z"
   },
   {
    "duration": 147,
    "start_time": "2024-02-17T12:19:35.841Z"
   },
   {
    "duration": 124,
    "start_time": "2024-02-17T12:19:35.994Z"
   },
   {
    "duration": 121,
    "start_time": "2024-02-17T12:19:36.119Z"
   },
   {
    "duration": 111,
    "start_time": "2024-02-17T12:19:36.241Z"
   },
   {
    "duration": 117,
    "start_time": "2024-02-17T12:19:36.354Z"
   },
   {
    "duration": 187,
    "start_time": "2024-02-17T12:19:36.473Z"
   },
   {
    "duration": 123,
    "start_time": "2024-02-17T12:19:36.662Z"
   },
   {
    "duration": 252,
    "start_time": "2024-02-17T12:19:36.787Z"
   },
   {
    "duration": 120,
    "start_time": "2024-02-17T12:19:37.041Z"
   },
   {
    "duration": 138,
    "start_time": "2024-02-17T12:19:37.162Z"
   },
   {
    "duration": 148,
    "start_time": "2024-02-17T12:19:37.301Z"
   },
   {
    "duration": 4,
    "start_time": "2024-02-17T12:19:37.451Z"
   },
   {
    "duration": 11,
    "start_time": "2024-02-17T12:19:37.456Z"
   },
   {
    "duration": 8,
    "start_time": "2024-02-17T12:19:37.469Z"
   },
   {
    "duration": 115,
    "start_time": "2024-02-17T12:19:37.493Z"
   },
   {
    "duration": 185,
    "start_time": "2024-02-17T12:19:37.609Z"
   },
   {
    "duration": 174,
    "start_time": "2024-02-17T12:19:37.796Z"
   },
   {
    "duration": 186,
    "start_time": "2024-02-17T12:19:37.972Z"
   },
   {
    "duration": 167,
    "start_time": "2024-02-17T12:19:38.160Z"
   },
   {
    "duration": 171,
    "start_time": "2024-02-17T12:19:38.329Z"
   },
   {
    "duration": 150,
    "start_time": "2024-02-17T12:19:38.501Z"
   },
   {
    "duration": 163,
    "start_time": "2024-02-17T12:19:38.653Z"
   },
   {
    "duration": 196,
    "start_time": "2024-02-17T12:19:38.817Z"
   },
   {
    "duration": 165,
    "start_time": "2024-02-17T12:19:39.015Z"
   },
   {
    "duration": 24,
    "start_time": "2024-02-17T12:19:39.181Z"
   },
   {
    "duration": 245,
    "start_time": "2024-02-17T12:19:39.207Z"
   },
   {
    "duration": 127,
    "start_time": "2024-02-17T12:23:36.067Z"
   },
   {
    "duration": 120,
    "start_time": "2024-02-17T12:24:30.345Z"
   },
   {
    "duration": 151,
    "start_time": "2024-02-17T12:26:13.514Z"
   },
   {
    "duration": 20,
    "start_time": "2024-02-17T13:26:20.299Z"
   },
   {
    "duration": 19,
    "start_time": "2024-02-17T13:27:29.372Z"
   },
   {
    "duration": 779,
    "start_time": "2024-02-17T13:49:23.618Z"
   },
   {
    "duration": 13,
    "start_time": "2024-02-17T13:49:24.399Z"
   },
   {
    "duration": 1945,
    "start_time": "2024-02-17T13:49:24.413Z"
   },
   {
    "duration": 9,
    "start_time": "2024-02-17T13:49:26.360Z"
   },
   {
    "duration": 28,
    "start_time": "2024-02-17T13:49:26.371Z"
   },
   {
    "duration": 19,
    "start_time": "2024-02-17T13:49:26.400Z"
   },
   {
    "duration": 36,
    "start_time": "2024-02-17T13:49:26.420Z"
   },
   {
    "duration": 15,
    "start_time": "2024-02-17T13:49:26.458Z"
   },
   {
    "duration": 14,
    "start_time": "2024-02-17T13:49:26.474Z"
   },
   {
    "duration": 33,
    "start_time": "2024-02-17T13:49:26.489Z"
   },
   {
    "duration": 15,
    "start_time": "2024-02-17T13:49:26.524Z"
   },
   {
    "duration": 25,
    "start_time": "2024-02-17T13:49:26.541Z"
   },
   {
    "duration": 23,
    "start_time": "2024-02-17T13:49:26.568Z"
   },
   {
    "duration": 18,
    "start_time": "2024-02-17T13:49:26.594Z"
   },
   {
    "duration": 6,
    "start_time": "2024-02-17T13:49:26.613Z"
   },
   {
    "duration": 29,
    "start_time": "2024-02-17T13:49:26.620Z"
   },
   {
    "duration": 31,
    "start_time": "2024-02-17T13:49:26.651Z"
   },
   {
    "duration": 26,
    "start_time": "2024-02-17T13:49:26.684Z"
   },
   {
    "duration": 7,
    "start_time": "2024-02-17T13:49:26.711Z"
   },
   {
    "duration": 205,
    "start_time": "2024-02-17T13:49:26.720Z"
   },
   {
    "duration": 6,
    "start_time": "2024-02-17T13:49:26.927Z"
   },
   {
    "duration": 8,
    "start_time": "2024-02-17T13:49:26.934Z"
   },
   {
    "duration": 13,
    "start_time": "2024-02-17T13:49:26.944Z"
   },
   {
    "duration": 12,
    "start_time": "2024-02-17T13:49:26.959Z"
   },
   {
    "duration": 24,
    "start_time": "2024-02-17T13:49:26.972Z"
   },
   {
    "duration": 273,
    "start_time": "2024-02-17T13:49:26.998Z"
   },
   {
    "duration": 3,
    "start_time": "2024-02-17T13:49:27.273Z"
   },
   {
    "duration": 144,
    "start_time": "2024-02-17T13:49:27.278Z"
   },
   {
    "duration": 9,
    "start_time": "2024-02-17T13:49:27.424Z"
   },
   {
    "duration": 22,
    "start_time": "2024-02-17T13:49:27.434Z"
   },
   {
    "duration": 127,
    "start_time": "2024-02-17T13:49:27.458Z"
   },
   {
    "duration": 131,
    "start_time": "2024-02-17T13:49:27.586Z"
   },
   {
    "duration": 205,
    "start_time": "2024-02-17T13:49:27.718Z"
   },
   {
    "duration": 128,
    "start_time": "2024-02-17T13:49:27.925Z"
   },
   {
    "duration": 130,
    "start_time": "2024-02-17T13:49:28.054Z"
   },
   {
    "duration": 131,
    "start_time": "2024-02-17T13:49:28.185Z"
   },
   {
    "duration": 23,
    "start_time": "2024-02-17T13:49:28.317Z"
   },
   {
    "duration": 179,
    "start_time": "2024-02-17T13:49:28.341Z"
   },
   {
    "duration": 110,
    "start_time": "2024-02-17T13:49:28.522Z"
   },
   {
    "duration": 17,
    "start_time": "2024-02-17T13:49:28.633Z"
   },
   {
    "duration": 183,
    "start_time": "2024-02-17T13:49:28.656Z"
   },
   {
    "duration": 116,
    "start_time": "2024-02-17T13:49:28.840Z"
   },
   {
    "duration": 138,
    "start_time": "2024-02-17T13:49:28.957Z"
   },
   {
    "duration": 113,
    "start_time": "2024-02-17T13:49:29.097Z"
   },
   {
    "duration": 120,
    "start_time": "2024-02-17T13:49:29.211Z"
   },
   {
    "duration": 177,
    "start_time": "2024-02-17T13:49:29.333Z"
   },
   {
    "duration": 122,
    "start_time": "2024-02-17T13:49:29.512Z"
   },
   {
    "duration": 256,
    "start_time": "2024-02-17T13:49:29.635Z"
   },
   {
    "duration": 121,
    "start_time": "2024-02-17T13:49:29.892Z"
   },
   {
    "duration": 155,
    "start_time": "2024-02-17T13:49:30.015Z"
   },
   {
    "duration": 146,
    "start_time": "2024-02-17T13:49:30.171Z"
   },
   {
    "duration": 4,
    "start_time": "2024-02-17T13:49:30.319Z"
   },
   {
    "duration": 36,
    "start_time": "2024-02-17T13:49:30.324Z"
   },
   {
    "duration": 31,
    "start_time": "2024-02-17T13:49:30.361Z"
   },
   {
    "duration": 143,
    "start_time": "2024-02-17T13:49:30.393Z"
   },
   {
    "duration": 173,
    "start_time": "2024-02-17T13:49:30.537Z"
   },
   {
    "duration": 182,
    "start_time": "2024-02-17T13:49:30.712Z"
   },
   {
    "duration": 198,
    "start_time": "2024-02-17T13:49:30.896Z"
   },
   {
    "duration": 164,
    "start_time": "2024-02-17T13:49:31.096Z"
   },
   {
    "duration": 154,
    "start_time": "2024-02-17T13:49:31.262Z"
   },
   {
    "duration": 177,
    "start_time": "2024-02-17T13:49:31.417Z"
   },
   {
    "duration": 167,
    "start_time": "2024-02-17T13:49:31.595Z"
   },
   {
    "duration": 157,
    "start_time": "2024-02-17T13:49:31.764Z"
   },
   {
    "duration": 20,
    "start_time": "2024-02-17T13:49:31.922Z"
   },
   {
    "duration": 167,
    "start_time": "2024-02-17T13:49:31.943Z"
   },
   {
    "duration": 1176,
    "start_time": "2024-02-17T15:25:16.593Z"
   },
   {
    "duration": 15,
    "start_time": "2024-02-17T15:25:17.771Z"
   },
   {
    "duration": 2052,
    "start_time": "2024-02-17T15:25:17.788Z"
   },
   {
    "duration": 13,
    "start_time": "2024-02-17T15:25:19.843Z"
   },
   {
    "duration": 5,
    "start_time": "2024-02-17T15:25:19.857Z"
   },
   {
    "duration": 5,
    "start_time": "2024-02-17T15:25:19.864Z"
   },
   {
    "duration": 7,
    "start_time": "2024-02-17T15:25:19.870Z"
   },
   {
    "duration": 6,
    "start_time": "2024-02-17T15:25:19.879Z"
   },
   {
    "duration": 24,
    "start_time": "2024-02-17T15:25:19.887Z"
   },
   {
    "duration": 10,
    "start_time": "2024-02-17T15:25:19.913Z"
   },
   {
    "duration": 7,
    "start_time": "2024-02-17T15:25:19.924Z"
   },
   {
    "duration": 7,
    "start_time": "2024-02-17T15:25:19.933Z"
   },
   {
    "duration": 4,
    "start_time": "2024-02-17T15:25:19.941Z"
   },
   {
    "duration": 36,
    "start_time": "2024-02-17T15:25:19.947Z"
   },
   {
    "duration": 4,
    "start_time": "2024-02-17T15:25:19.985Z"
   },
   {
    "duration": 5,
    "start_time": "2024-02-17T15:25:19.991Z"
   },
   {
    "duration": 9,
    "start_time": "2024-02-17T15:25:19.998Z"
   },
   {
    "duration": 14,
    "start_time": "2024-02-17T15:25:20.008Z"
   },
   {
    "duration": 7,
    "start_time": "2024-02-17T15:25:20.023Z"
   },
   {
    "duration": 242,
    "start_time": "2024-02-17T15:25:20.032Z"
   },
   {
    "duration": 9,
    "start_time": "2024-02-17T15:25:20.275Z"
   },
   {
    "duration": 4,
    "start_time": "2024-02-17T15:25:20.286Z"
   },
   {
    "duration": 9,
    "start_time": "2024-02-17T15:25:20.291Z"
   },
   {
    "duration": 8,
    "start_time": "2024-02-17T15:25:20.302Z"
   },
   {
    "duration": 11,
    "start_time": "2024-02-17T15:25:20.311Z"
   },
   {
    "duration": 311,
    "start_time": "2024-02-17T15:25:20.324Z"
   },
   {
    "duration": 3,
    "start_time": "2024-02-17T15:25:20.637Z"
   },
   {
    "duration": 140,
    "start_time": "2024-02-17T15:25:20.644Z"
   },
   {
    "duration": 5,
    "start_time": "2024-02-17T15:25:20.785Z"
   },
   {
    "duration": 25,
    "start_time": "2024-02-17T15:25:20.791Z"
   },
   {
    "duration": 128,
    "start_time": "2024-02-17T15:25:20.817Z"
   },
   {
    "duration": 141,
    "start_time": "2024-02-17T15:25:20.947Z"
   },
   {
    "duration": 228,
    "start_time": "2024-02-17T15:25:21.090Z"
   },
   {
    "duration": 135,
    "start_time": "2024-02-17T15:25:21.319Z"
   },
   {
    "duration": 145,
    "start_time": "2024-02-17T15:25:21.455Z"
   },
   {
    "duration": 138,
    "start_time": "2024-02-17T15:25:21.602Z"
   },
   {
    "duration": 25,
    "start_time": "2024-02-17T15:25:21.741Z"
   },
   {
    "duration": 184,
    "start_time": "2024-02-17T15:25:21.768Z"
   },
   {
    "duration": 119,
    "start_time": "2024-02-17T15:25:21.953Z"
   },
   {
    "duration": 21,
    "start_time": "2024-02-17T15:25:22.073Z"
   },
   {
    "duration": 154,
    "start_time": "2024-02-17T15:25:22.096Z"
   },
   {
    "duration": 135,
    "start_time": "2024-02-17T15:25:22.252Z"
   },
   {
    "duration": 162,
    "start_time": "2024-02-17T15:25:22.389Z"
   },
   {
    "duration": 50,
    "start_time": "2024-02-17T15:25:22.553Z"
   },
   {
    "duration": 137,
    "start_time": "2024-02-17T15:25:22.605Z"
   },
   {
    "duration": 127,
    "start_time": "2024-02-17T15:25:22.744Z"
   },
   {
    "duration": 171,
    "start_time": "2024-02-17T15:25:22.881Z"
   },
   {
    "duration": 144,
    "start_time": "2024-02-17T15:25:23.053Z"
   },
   {
    "duration": 266,
    "start_time": "2024-02-17T15:25:23.199Z"
   },
   {
    "duration": 134,
    "start_time": "2024-02-17T15:25:23.467Z"
   },
   {
    "duration": 160,
    "start_time": "2024-02-17T15:25:23.602Z"
   },
   {
    "duration": 169,
    "start_time": "2024-02-17T15:25:23.764Z"
   },
   {
    "duration": 4,
    "start_time": "2024-02-17T15:25:23.935Z"
   },
   {
    "duration": 6,
    "start_time": "2024-02-17T15:25:23.941Z"
   },
   {
    "duration": 10,
    "start_time": "2024-02-17T15:25:23.948Z"
   },
   {
    "duration": 142,
    "start_time": "2024-02-17T15:25:23.959Z"
   },
   {
    "duration": 184,
    "start_time": "2024-02-17T15:25:24.103Z"
   },
   {
    "duration": 193,
    "start_time": "2024-02-17T15:25:24.288Z"
   },
   {
    "duration": 208,
    "start_time": "2024-02-17T15:25:24.483Z"
   },
   {
    "duration": 174,
    "start_time": "2024-02-17T15:25:24.693Z"
   },
   {
    "duration": 172,
    "start_time": "2024-02-17T15:25:24.868Z"
   },
   {
    "duration": 192,
    "start_time": "2024-02-17T15:25:25.042Z"
   },
   {
    "duration": 179,
    "start_time": "2024-02-17T15:25:25.235Z"
   },
   {
    "duration": 174,
    "start_time": "2024-02-17T15:25:25.415Z"
   },
   {
    "duration": 22,
    "start_time": "2024-02-17T15:25:25.591Z"
   },
   {
    "duration": 182,
    "start_time": "2024-02-17T15:25:25.614Z"
   },
   {
    "duration": 49,
    "start_time": "2024-02-17T15:49:33.869Z"
   },
   {
    "duration": 1201,
    "start_time": "2024-02-17T15:50:14.502Z"
   },
   {
    "duration": 16,
    "start_time": "2024-02-17T15:50:15.705Z"
   },
   {
    "duration": 1963,
    "start_time": "2024-02-17T15:50:15.722Z"
   },
   {
    "duration": 10,
    "start_time": "2024-02-17T15:50:17.687Z"
   },
   {
    "duration": 5,
    "start_time": "2024-02-17T15:50:17.699Z"
   },
   {
    "duration": 5,
    "start_time": "2024-02-17T15:50:17.706Z"
   },
   {
    "duration": 6,
    "start_time": "2024-02-17T15:50:17.713Z"
   },
   {
    "duration": 19,
    "start_time": "2024-02-17T15:50:17.721Z"
   },
   {
    "duration": 9,
    "start_time": "2024-02-17T15:50:17.742Z"
   },
   {
    "duration": 11,
    "start_time": "2024-02-17T15:50:17.754Z"
   },
   {
    "duration": 9,
    "start_time": "2024-02-17T15:50:17.766Z"
   },
   {
    "duration": 10,
    "start_time": "2024-02-17T15:50:17.777Z"
   },
   {
    "duration": 45,
    "start_time": "2024-02-17T15:50:17.788Z"
   },
   {
    "duration": 21,
    "start_time": "2024-02-17T15:50:17.838Z"
   },
   {
    "duration": 5,
    "start_time": "2024-02-17T15:50:17.861Z"
   },
   {
    "duration": 5,
    "start_time": "2024-02-17T15:50:17.868Z"
   },
   {
    "duration": 8,
    "start_time": "2024-02-17T15:50:17.875Z"
   },
   {
    "duration": 58,
    "start_time": "2024-02-17T15:50:17.885Z"
   },
   {
    "duration": 8,
    "start_time": "2024-02-17T15:50:17.945Z"
   },
   {
    "duration": 228,
    "start_time": "2024-02-17T15:50:17.955Z"
   },
   {
    "duration": 7,
    "start_time": "2024-02-17T15:50:18.185Z"
   },
   {
    "duration": 6,
    "start_time": "2024-02-17T15:50:18.194Z"
   },
   {
    "duration": 11,
    "start_time": "2024-02-17T15:50:18.201Z"
   },
   {
    "duration": 6,
    "start_time": "2024-02-17T15:50:18.233Z"
   },
   {
    "duration": 5,
    "start_time": "2024-02-17T15:50:18.240Z"
   },
   {
    "duration": 299,
    "start_time": "2024-02-17T15:50:18.247Z"
   },
   {
    "duration": 5,
    "start_time": "2024-02-17T15:50:18.548Z"
   },
   {
    "duration": 144,
    "start_time": "2024-02-17T15:50:18.555Z"
   },
   {
    "duration": 6,
    "start_time": "2024-02-17T15:50:18.701Z"
   },
   {
    "duration": 25,
    "start_time": "2024-02-17T15:50:18.709Z"
   },
   {
    "duration": 142,
    "start_time": "2024-02-17T15:50:18.736Z"
   },
   {
    "duration": 234,
    "start_time": "2024-02-17T15:50:18.880Z"
   },
   {
    "duration": 186,
    "start_time": "2024-02-17T15:50:19.117Z"
   },
   {
    "duration": 156,
    "start_time": "2024-02-17T15:50:19.306Z"
   },
   {
    "duration": 150,
    "start_time": "2024-02-17T15:50:19.464Z"
   },
   {
    "duration": 153,
    "start_time": "2024-02-17T15:50:19.616Z"
   },
   {
    "duration": 30,
    "start_time": "2024-02-17T15:50:19.770Z"
   },
   {
    "duration": 176,
    "start_time": "2024-02-17T15:50:19.802Z"
   },
   {
    "duration": 123,
    "start_time": "2024-02-17T15:50:19.980Z"
   },
   {
    "duration": 16,
    "start_time": "2024-02-17T15:50:20.105Z"
   },
   {
    "duration": 157,
    "start_time": "2024-02-17T15:50:20.134Z"
   },
   {
    "duration": 149,
    "start_time": "2024-02-17T15:50:20.293Z"
   },
   {
    "duration": 135,
    "start_time": "2024-02-17T15:50:20.443Z"
   },
   {
    "duration": 164,
    "start_time": "2024-02-17T15:50:20.580Z"
   },
   {
    "duration": 128,
    "start_time": "2024-02-17T15:50:20.746Z"
   },
   {
    "duration": 162,
    "start_time": "2024-02-17T15:50:20.877Z"
   },
   {
    "duration": 222,
    "start_time": "2024-02-17T15:50:21.041Z"
   },
   {
    "duration": 185,
    "start_time": "2024-02-17T15:50:21.265Z"
   },
   {
    "duration": 135,
    "start_time": "2024-02-17T15:50:21.452Z"
   },
   {
    "duration": 169,
    "start_time": "2024-02-17T15:50:21.589Z"
   },
   {
    "duration": 171,
    "start_time": "2024-02-17T15:50:21.760Z"
   },
   {
    "duration": 8,
    "start_time": "2024-02-17T15:50:21.934Z"
   },
   {
    "duration": 10,
    "start_time": "2024-02-17T15:50:21.943Z"
   },
   {
    "duration": 11,
    "start_time": "2024-02-17T15:50:21.955Z"
   },
   {
    "duration": 159,
    "start_time": "2024-02-17T15:50:21.968Z"
   },
   {
    "duration": 209,
    "start_time": "2024-02-17T15:50:22.133Z"
   },
   {
    "duration": 189,
    "start_time": "2024-02-17T15:50:22.345Z"
   },
   {
    "duration": 193,
    "start_time": "2024-02-17T15:50:22.536Z"
   },
   {
    "duration": 196,
    "start_time": "2024-02-17T15:50:22.736Z"
   },
   {
    "duration": 167,
    "start_time": "2024-02-17T15:50:22.934Z"
   },
   {
    "duration": 185,
    "start_time": "2024-02-17T15:50:23.103Z"
   },
   {
    "duration": 186,
    "start_time": "2024-02-17T15:50:23.289Z"
   },
   {
    "duration": 176,
    "start_time": "2024-02-17T15:50:23.477Z"
   },
   {
    "duration": 21,
    "start_time": "2024-02-17T15:50:23.655Z"
   },
   {
    "duration": 288,
    "start_time": "2024-02-17T15:50:23.677Z"
   },
   {
    "duration": 131,
    "start_time": "2024-02-17T15:51:57.751Z"
   },
   {
    "duration": 161,
    "start_time": "2024-02-17T15:52:14.891Z"
   },
   {
    "duration": 171,
    "start_time": "2024-02-17T15:53:05.643Z"
   },
   {
    "duration": 170,
    "start_time": "2024-02-17T15:53:48.132Z"
   },
   {
    "duration": 168,
    "start_time": "2024-02-17T15:54:47.548Z"
   },
   {
    "duration": 183,
    "start_time": "2024-02-17T15:55:16.964Z"
   },
   {
    "duration": 172,
    "start_time": "2024-02-17T15:55:28.405Z"
   },
   {
    "duration": 159,
    "start_time": "2024-02-17T15:55:48.189Z"
   },
   {
    "duration": 214,
    "start_time": "2024-02-17T15:56:12.125Z"
   },
   {
    "duration": 138,
    "start_time": "2024-02-17T15:56:30.308Z"
   },
   {
    "duration": 177,
    "start_time": "2024-02-17T15:56:50.453Z"
   },
   {
    "duration": 293,
    "start_time": "2024-02-17T15:57:13.389Z"
   },
   {
    "duration": 198,
    "start_time": "2024-02-17T15:57:43.245Z"
   },
   {
    "duration": 179,
    "start_time": "2024-02-17T16:01:44.591Z"
   },
   {
    "duration": 202,
    "start_time": "2024-02-17T16:02:52.432Z"
   },
   {
    "duration": 197,
    "start_time": "2024-02-17T16:03:15.448Z"
   },
   {
    "duration": 165,
    "start_time": "2024-02-17T16:03:55.439Z"
   },
   {
    "duration": 203,
    "start_time": "2024-02-17T16:04:46.104Z"
   },
   {
    "duration": 184,
    "start_time": "2024-02-17T16:05:25.592Z"
   },
   {
    "duration": 169,
    "start_time": "2024-02-17T16:05:35.248Z"
   },
   {
    "duration": 194,
    "start_time": "2024-02-17T16:05:45.978Z"
   },
   {
    "duration": 381,
    "start_time": "2024-02-17T16:08:19.497Z"
   },
   {
    "duration": 221,
    "start_time": "2024-02-17T16:09:24.273Z"
   },
   {
    "duration": 201,
    "start_time": "2024-02-17T16:09:46.274Z"
   },
   {
    "duration": 189,
    "start_time": "2024-02-17T16:11:08.218Z"
   },
   {
    "duration": 209,
    "start_time": "2024-02-17T16:12:22.602Z"
   },
   {
    "duration": 138,
    "start_time": "2024-02-17T16:13:09.658Z"
   },
   {
    "duration": 129,
    "start_time": "2024-02-17T16:13:16.386Z"
   },
   {
    "duration": 165,
    "start_time": "2024-02-17T16:14:46.954Z"
   },
   {
    "duration": 230,
    "start_time": "2024-02-17T16:15:32.667Z"
   },
   {
    "duration": 255,
    "start_time": "2024-02-17T16:15:42.004Z"
   },
   {
    "duration": 165,
    "start_time": "2024-02-17T16:16:16.778Z"
   },
   {
    "duration": 184,
    "start_time": "2024-02-17T16:17:10.387Z"
   },
   {
    "duration": 174,
    "start_time": "2024-02-17T16:18:31.484Z"
   },
   {
    "duration": 317,
    "start_time": "2024-02-17T16:19:21.940Z"
   },
   {
    "duration": 10985,
    "start_time": "2024-02-17T16:31:46.768Z"
   },
   {
    "duration": 7,
    "start_time": "2024-02-17T16:35:57.773Z"
   },
   {
    "duration": 12,
    "start_time": "2024-02-17T16:36:59.392Z"
   },
   {
    "duration": 15,
    "start_time": "2024-02-17T16:38:06.896Z"
   },
   {
    "duration": 14,
    "start_time": "2024-02-17T16:39:49.833Z"
   },
   {
    "duration": 12,
    "start_time": "2024-02-17T16:39:59.945Z"
   },
   {
    "duration": 17,
    "start_time": "2024-02-17T16:40:43.938Z"
   },
   {
    "duration": 4,
    "start_time": "2024-02-17T16:41:33.172Z"
   },
   {
    "duration": 14,
    "start_time": "2024-02-17T16:42:15.786Z"
   },
   {
    "duration": 415,
    "start_time": "2024-02-17T16:43:18.858Z"
   },
   {
    "duration": 11,
    "start_time": "2024-02-17T16:45:26.627Z"
   },
   {
    "duration": 12,
    "start_time": "2024-02-17T16:46:01.035Z"
   },
   {
    "duration": 13,
    "start_time": "2024-02-17T16:46:56.483Z"
   },
   {
    "duration": 155,
    "start_time": "2024-02-17T16:49:59.508Z"
   },
   {
    "duration": 163,
    "start_time": "2024-02-17T16:51:21.268Z"
   },
   {
    "duration": 184,
    "start_time": "2024-02-17T16:51:45.392Z"
   },
   {
    "duration": 173,
    "start_time": "2024-02-17T16:52:10.012Z"
   },
   {
    "duration": 184,
    "start_time": "2024-02-17T16:52:37.429Z"
   },
   {
    "duration": 143,
    "start_time": "2024-02-17T16:52:55.092Z"
   },
   {
    "duration": 190,
    "start_time": "2024-02-17T16:53:45.877Z"
   },
   {
    "duration": 620,
    "start_time": "2024-02-17T16:54:07.229Z"
   },
   {
    "duration": 153,
    "start_time": "2024-02-17T16:54:28.678Z"
   },
   {
    "duration": 173,
    "start_time": "2024-02-17T17:03:37.443Z"
   }
  ],
  "colab": {
   "provenance": []
  },
  "kernelspec": {
   "display_name": "Python 3 (ipykernel)",
   "language": "python",
   "name": "python3"
  },
  "language_info": {
   "codemirror_mode": {
    "name": "ipython",
    "version": 3
   },
   "file_extension": ".py",
   "mimetype": "text/x-python",
   "name": "python",
   "nbconvert_exporter": "python",
   "pygments_lexer": "ipython3",
   "version": "3.11.5"
  },
  "toc": {
   "base_numbering": 1,
   "nav_menu": {
    "height": "204px",
    "width": "459px"
   },
   "number_sections": true,
   "sideBar": true,
   "skip_h1_title": true,
   "title_cell": "Table of Contents",
   "title_sidebar": "Contents",
   "toc_cell": false,
   "toc_position": {},
   "toc_section_display": true,
   "toc_window_display": false
  }
 },
 "nbformat": 4,
 "nbformat_minor": 1
}
