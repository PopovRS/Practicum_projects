{
 "cells": [
  {
   "cell_type": "markdown",
   "metadata": {},
   "source": [
    "# Исследование поведения пользователей мобильного приложения"
   ]
  },
  {
   "cell_type": "markdown",
   "metadata": {},
   "source": [
    "**Цель исследования**\n",
    "\n",
    "Цель данного проекта состоит в том, чтобы разобраться, как ведут себя пользователи нашего мобильного приложения. Мы изучим воронку продаж и исследуем результаты A/A/B-эксперимента, цель которого оценить влияние нового шрифта в приложении. \n",
    "\n",
    "\n",
    "**Описание данных**\n",
    "\n",
    "Данные представлены логом logs_exp.csv.\n",
    "\n",
    "Структура logs_exp.csv:\n",
    "* EventName — название события;\n",
    "* DeviceIDHash — уникальный идентификатор пользователя;\n",
    "* EventTimestamp — время события;\n",
    "* ExpId — номер эксперимента: 246 и 247 — контрольные группы, а 248 — экспериментальная.\n",
    "\n",
    "\n",
    "**План исследования**\n",
    "\n",
    "1. Загрузка данных.\n",
    "\n",
    "Загрузим данные, изучим общую информацию о них. \n",
    "\n",
    "2. Предобработка данных.\n",
    "\n",
    "Проведем предобработку данных. \n",
    "\n",
    "3. Изучение и проверка данных.\n",
    "\n",
    "Определим количество пользователей и событий в логе, проверим полноту данных. \n",
    "\n",
    "4. Изучение воронки событий.\n",
    "\n",
    "Выстроим воронку событий, определим на каком этапе теряется больше всего пользователей.\n",
    "\n",
    "5. Изучение результатов эксперимента.\n",
    "\n",
    "Проверим, находят ли статистические критерии разницу между выборками. Подведем итоги эксперимента.\n",
    "\n",
    "6. Выводы\n",
    "\n",
    "Подведем итоги исследования."
   ]
  },
  {
   "cell_type": "markdown",
   "metadata": {},
   "source": [
    "### Загрузим данные и изучим общую информацию о них "
   ]
  },
  {
   "cell_type": "code",
   "execution_count": 1,
   "metadata": {},
   "outputs": [],
   "source": [
    "import pandas as pd\n",
    "pd.options.mode.chained_assignment = None\n",
    "from datetime import datetime as dt\n",
    "import matplotlib.pyplot as plt\n",
    "from scipy import stats as st\n",
    "import numpy as np\n",
    "import math as mth"
   ]
  },
  {
   "cell_type": "code",
   "execution_count": 2,
   "metadata": {},
   "outputs": [],
   "source": [
    "data = pd.read_csv('/datasets/logs_exp.csv', sep='\\t')"
   ]
  },
  {
   "cell_type": "code",
   "execution_count": 3,
   "metadata": {},
   "outputs": [
    {
     "data": {
      "text/html": [
       "<div>\n",
       "<style scoped>\n",
       "    .dataframe tbody tr th:only-of-type {\n",
       "        vertical-align: middle;\n",
       "    }\n",
       "\n",
       "    .dataframe tbody tr th {\n",
       "        vertical-align: top;\n",
       "    }\n",
       "\n",
       "    .dataframe thead th {\n",
       "        text-align: right;\n",
       "    }\n",
       "</style>\n",
       "<table border=\"1\" class=\"dataframe\">\n",
       "  <thead>\n",
       "    <tr style=\"text-align: right;\">\n",
       "      <th></th>\n",
       "      <th>EventName</th>\n",
       "      <th>DeviceIDHash</th>\n",
       "      <th>EventTimestamp</th>\n",
       "      <th>ExpId</th>\n",
       "    </tr>\n",
       "  </thead>\n",
       "  <tbody>\n",
       "    <tr>\n",
       "      <th>0</th>\n",
       "      <td>MainScreenAppear</td>\n",
       "      <td>4575588528974610257</td>\n",
       "      <td>1564029816</td>\n",
       "      <td>246</td>\n",
       "    </tr>\n",
       "    <tr>\n",
       "      <th>1</th>\n",
       "      <td>MainScreenAppear</td>\n",
       "      <td>7416695313311560658</td>\n",
       "      <td>1564053102</td>\n",
       "      <td>246</td>\n",
       "    </tr>\n",
       "    <tr>\n",
       "      <th>2</th>\n",
       "      <td>PaymentScreenSuccessful</td>\n",
       "      <td>3518123091307005509</td>\n",
       "      <td>1564054127</td>\n",
       "      <td>248</td>\n",
       "    </tr>\n",
       "    <tr>\n",
       "      <th>3</th>\n",
       "      <td>CartScreenAppear</td>\n",
       "      <td>3518123091307005509</td>\n",
       "      <td>1564054127</td>\n",
       "      <td>248</td>\n",
       "    </tr>\n",
       "    <tr>\n",
       "      <th>4</th>\n",
       "      <td>PaymentScreenSuccessful</td>\n",
       "      <td>6217807653094995999</td>\n",
       "      <td>1564055322</td>\n",
       "      <td>248</td>\n",
       "    </tr>\n",
       "  </tbody>\n",
       "</table>\n",
       "</div>"
      ],
      "text/plain": [
       "                 EventName         DeviceIDHash  EventTimestamp  ExpId\n",
       "0         MainScreenAppear  4575588528974610257      1564029816    246\n",
       "1         MainScreenAppear  7416695313311560658      1564053102    246\n",
       "2  PaymentScreenSuccessful  3518123091307005509      1564054127    248\n",
       "3         CartScreenAppear  3518123091307005509      1564054127    248\n",
       "4  PaymentScreenSuccessful  6217807653094995999      1564055322    248"
      ]
     },
     "execution_count": 3,
     "metadata": {},
     "output_type": "execute_result"
    }
   ],
   "source": [
    "data.head()"
   ]
  },
  {
   "cell_type": "code",
   "execution_count": 4,
   "metadata": {},
   "outputs": [
    {
     "name": "stdout",
     "output_type": "stream",
     "text": [
      "<class 'pandas.core.frame.DataFrame'>\n",
      "RangeIndex: 244126 entries, 0 to 244125\n",
      "Data columns (total 4 columns):\n",
      " #   Column          Non-Null Count   Dtype \n",
      "---  ------          --------------   ----- \n",
      " 0   EventName       244126 non-null  object\n",
      " 1   DeviceIDHash    244126 non-null  int64 \n",
      " 2   EventTimestamp  244126 non-null  int64 \n",
      " 3   ExpId           244126 non-null  int64 \n",
      "dtypes: int64(3), object(1)\n",
      "memory usage: 7.5+ MB\n"
     ]
    }
   ],
   "source": [
    "data.info()"
   ]
  },
  {
   "cell_type": "markdown",
   "metadata": {},
   "source": [
    "Пропуски в данных отсутствуют, формат данных корректен. Требуется скорректировать наименования столбцов и проверить данные на наличие дубликатов."
   ]
  },
  {
   "cell_type": "markdown",
   "metadata": {},
   "source": [
    "### Проведем предобработку данных.  "
   ]
  },
  {
   "cell_type": "markdown",
   "metadata": {},
   "source": [
    "#### Скорректируем наименования столбцов."
   ]
  },
  {
   "cell_type": "code",
   "execution_count": 5,
   "metadata": {},
   "outputs": [],
   "source": [
    "data.columns = ['event', 'device_id', 'timestamp', 'group']"
   ]
  },
  {
   "cell_type": "markdown",
   "metadata": {},
   "source": [
    "#### Проверим данные на наличие дубликатов."
   ]
  },
  {
   "cell_type": "code",
   "execution_count": 6,
   "metadata": {},
   "outputs": [
    {
     "name": "stdout",
     "output_type": "stream",
     "text": [
      "Число полных дубликатов: 413\n"
     ]
    }
   ],
   "source": [
    "print('Число полных дубликатов:', data.duplicated().sum())"
   ]
  },
  {
   "cell_type": "markdown",
   "metadata": {},
   "source": [
    "Удалим дубликаты."
   ]
  },
  {
   "cell_type": "code",
   "execution_count": 7,
   "metadata": {},
   "outputs": [],
   "source": [
    "data = data.drop_duplicates()"
   ]
  },
  {
   "cell_type": "code",
   "execution_count": 8,
   "metadata": {},
   "outputs": [
    {
     "name": "stdout",
     "output_type": "stream",
     "text": [
      "Число полных дубликатов: 0\n"
     ]
    }
   ],
   "source": [
    "print('Число полных дубликатов:', data.duplicated().sum())"
   ]
  },
  {
   "cell_type": "markdown",
   "metadata": {},
   "source": [
    "Проверим данные на наличие неявных дубликатов."
   ]
  },
  {
   "cell_type": "code",
   "execution_count": 9,
   "metadata": {},
   "outputs": [
    {
     "data": {
      "text/plain": [
       "array(['MainScreenAppear', 'PaymentScreenSuccessful', 'CartScreenAppear',\n",
       "       'OffersScreenAppear', 'Tutorial'], dtype=object)"
      ]
     },
     "execution_count": 9,
     "metadata": {},
     "output_type": "execute_result"
    }
   ],
   "source": [
    "data['event'].unique()"
   ]
  },
  {
   "cell_type": "markdown",
   "metadata": {},
   "source": [
    "Неявных дубликатов не обнаружено."
   ]
  },
  {
   "cell_type": "markdown",
   "metadata": {},
   "source": [
    "#### Добавим столбец даты и времени и столбец дат."
   ]
  },
  {
   "cell_type": "code",
   "execution_count": 10,
   "metadata": {},
   "outputs": [],
   "source": [
    "data['date_time'] = pd.to_datetime(data['timestamp'], unit='s')"
   ]
  },
  {
   "cell_type": "code",
   "execution_count": 11,
   "metadata": {},
   "outputs": [],
   "source": [
    "data['date'] = data['date_time'].dt.floor('d')"
   ]
  },
  {
   "cell_type": "markdown",
   "metadata": {},
   "source": [
    "#### Проверим нет ли пользователей, попавших в несколько групп."
   ]
  },
  {
   "cell_type": "code",
   "execution_count": 12,
   "metadata": {},
   "outputs": [
    {
     "name": "stdout",
     "output_type": "stream",
     "text": [
      "Число совпадений пользователей в группах А1 и А2: 0\n"
     ]
    }
   ],
   "source": [
    "group_a1 = data[data['group'] == 246]\n",
    "group_a2 = data[data['group'] == 247]\n",
    "group_b = data[data['group'] == 248]\n",
    "wrong_users = group_a1[group_a1['device_id'].isin(group_a2['device_id'])]['device_id'].unique()\n",
    "print(f'Число совпадений пользователей в группах А1 и А2: {wrong_users.size}')"
   ]
  },
  {
   "cell_type": "code",
   "execution_count": 13,
   "metadata": {},
   "outputs": [
    {
     "name": "stdout",
     "output_type": "stream",
     "text": [
      "Число совпадений пользователей в группах А1 и В: 0\n"
     ]
    }
   ],
   "source": [
    "wrong_users = group_a1[group_a1['device_id'].isin(group_b['device_id'])]['device_id'].unique()\n",
    "print(f'Число совпадений пользователей в группах А1 и В: {wrong_users.size}')"
   ]
  },
  {
   "cell_type": "code",
   "execution_count": 14,
   "metadata": {},
   "outputs": [
    {
     "name": "stdout",
     "output_type": "stream",
     "text": [
      "Число совпадений пользователей в группах А2 и В: 0\n"
     ]
    }
   ],
   "source": [
    "wrong_users = group_a2[group_a2['device_id'].isin(group_b['device_id'])]['device_id'].unique()\n",
    "print(f'Число совпадений пользователей в группах А2 и В: {wrong_users.size}')"
   ]
  },
  {
   "cell_type": "markdown",
   "metadata": {},
   "source": [
    "Совпадений в группах не обнаружено."
   ]
  },
  {
   "cell_type": "markdown",
   "metadata": {},
   "source": [
    "Дубликаты удалены, названия столбцов скорректированы, добавлены новые столбцы. Предобработка завершена."
   ]
  },
  {
   "cell_type": "markdown",
   "metadata": {},
   "source": [
    "### Изучим и проверим данные.  "
   ]
  },
  {
   "cell_type": "markdown",
   "metadata": {},
   "source": [
    "#### Посчитаем сколько всего событий в логе."
   ]
  },
  {
   "cell_type": "code",
   "execution_count": 15,
   "metadata": {},
   "outputs": [
    {
     "name": "stdout",
     "output_type": "stream",
     "text": [
      "Событий всего: 243713\n"
     ]
    }
   ],
   "source": [
    "print('Событий всего:', data['event'].count())"
   ]
  },
  {
   "cell_type": "markdown",
   "metadata": {},
   "source": [
    "#### Посчитаем сколько всего пользователей в логе."
   ]
  },
  {
   "cell_type": "code",
   "execution_count": 16,
   "metadata": {},
   "outputs": [
    {
     "name": "stdout",
     "output_type": "stream",
     "text": [
      "Пользователей всего: 7551\n"
     ]
    }
   ],
   "source": [
    "print('Пользователей всего:',data['device_id'].nunique())"
   ]
  },
  {
   "cell_type": "markdown",
   "metadata": {},
   "source": [
    "#### Посчитаем сколько в среднем событий приходится на пользователя."
   ]
  },
  {
   "cell_type": "code",
   "execution_count": 17,
   "metadata": {},
   "outputs": [
    {
     "name": "stdout",
     "output_type": "stream",
     "text": [
      "В среднем событий на пользователя: 32.3\n"
     ]
    }
   ],
   "source": [
    "print('В среднем событий на пользователя:', round(data['event'].count()/data['device_id'].nunique(), 1))"
   ]
  },
  {
   "cell_type": "markdown",
   "metadata": {},
   "source": [
    "Оценим влияние выбросов"
   ]
  },
  {
   "cell_type": "code",
   "execution_count": 18,
   "metadata": {},
   "outputs": [
    {
     "data": {
      "image/png": "[encoded data removed]",
      "text/plain": [
       "<Figure size 864x432 with 1 Axes>"
      ]
     },
     "metadata": {
      "needs_background": "light"
     },
     "output_type": "display_data"
    }
   ],
   "source": [
    "events_by_users = data.groupby('device_id', as_index=False).agg({'event': 'count'})\n",
    "\n",
    "# серия из чисел от 0 до количества наблюдений в events_by_users\n",
    "x_values = pd.Series(range(0, len(events_by_users)))\n",
    "\n",
    "plt.figure(figsize=(12,6))\n",
    "plt.scatter(x_values, events_by_users['event'], alpha=0.5) \n",
    "plt.title('График количества событий по пользователям')\n",
    "plt.show()"
   ]
  },
  {
   "cell_type": "code",
   "execution_count": 19,
   "metadata": {},
   "outputs": [
    {
     "name": "stdout",
     "output_type": "stream",
     "text": [
      "95-й перцентиль: 89.0, 99-й перцентиль: 200.5\n"
     ]
    }
   ],
   "source": [
    "percentile = np.percentile(events_by_users['event'], [95, 99])\n",
    "print(f'95-й перцентиль: {percentile[0]}, 99-й перцентиль: {percentile[1]}')"
   ]
  },
  {
   "cell_type": "markdown",
   "metadata": {},
   "source": [
    "95% пользователей совершают не более 89 событий, пересчитаем с учетом этого среднее число событий на пользователя."
   ]
  },
  {
   "cell_type": "code",
   "execution_count": 20,
   "metadata": {},
   "outputs": [
    {
     "name": "stdout",
     "output_type": "stream",
     "text": [
      "В среднем событий на пользователя: 24.1\n"
     ]
    }
   ],
   "source": [
    "print('В среднем событий на пользователя:', round(events_by_users.query('event <= 89')['event'].mean(), 1))"
   ]
  },
  {
   "cell_type": "markdown",
   "metadata": {},
   "source": [
    "#### Определим данными за какой период мы располагаем."
   ]
  },
  {
   "cell_type": "markdown",
   "metadata": {},
   "source": [
    "Найдем максимальную и минимальную дату."
   ]
  },
  {
   "cell_type": "code",
   "execution_count": 21,
   "metadata": {},
   "outputs": [
    {
     "name": "stdout",
     "output_type": "stream",
     "text": [
      "Минимальная дата 2019-07-25 00:00:00\n",
      "Максимальная дата 2019-08-07 00:00:00\n"
     ]
    }
   ],
   "source": [
    "print('Минимальная дата', data['date'].min())\n",
    "print('Максимальная дата', data['date'].max())"
   ]
  },
  {
   "cell_type": "markdown",
   "metadata": {},
   "source": [
    "Рассмотрим как события распределены по дням."
   ]
  },
  {
   "cell_type": "code",
   "execution_count": 22,
   "metadata": {},
   "outputs": [
    {
     "data": {
      "image/png": "[encoded data removed]",
      "text/plain": [
       "<Figure size 1008x432 with 1 Axes>"
      ]
     },
     "metadata": {
      "needs_background": "light"
     },
     "output_type": "display_data"
    }
   ],
   "source": [
    "plt.figure(figsize=(14,6))\n",
    "data['date'].hist(bins = 28)\n",
    "plt.xticks(rotation= 45)\n",
    "plt.ylabel('Число событий')\n",
    "plt.xlabel('Дата')\n",
    "plt.title('Число событий по дням')\n",
    "plt.show()"
   ]
  },
  {
   "cell_type": "markdown",
   "metadata": {},
   "source": [
    "Число событий значительно растет после 1 августа. Можно утверждать, что мы имеем полные данные только за период с 1 по 7 августа. Отбросим данные за предыдущие даты, чтобы они не вносили искажений."
   ]
  },
  {
   "cell_type": "code",
   "execution_count": 23,
   "metadata": {},
   "outputs": [],
   "source": [
    "data_filt = data.query('date > \"2019-07-31\"')"
   ]
  },
  {
   "cell_type": "markdown",
   "metadata": {},
   "source": [
    "#### Проверим сколько событий и пользователей мы потеряли."
   ]
  },
  {
   "cell_type": "code",
   "execution_count": 24,
   "metadata": {},
   "outputs": [
    {
     "name": "stdout",
     "output_type": "stream",
     "text": [
      "Пользователей потеряно: 17 (0.2%)\n"
     ]
    }
   ],
   "source": [
    "print('Пользователей потеряно: {} ({}%)'.format(\n",
    "    data['device_id'].nunique() - data_filt['device_id'].nunique(),\n",
    "    round((data['device_id'].nunique() - data_filt['device_id'].nunique()) / data['device_id'].nunique() * 100, 1)))"
   ]
  },
  {
   "cell_type": "code",
   "execution_count": 25,
   "metadata": {},
   "outputs": [
    {
     "name": "stdout",
     "output_type": "stream",
     "text": [
      "Событий потеряно: 2826 (1.2%)\n"
     ]
    }
   ],
   "source": [
    "print('Событий потеряно: {} ({}%)'.format(\n",
    "    data['event'].count() - data_filt['event'].count(),\n",
    "    round((data['event'].count() - data_filt['event'].count()) / data['event'].count() * 100, 1)))"
   ]
  },
  {
   "cell_type": "markdown",
   "metadata": {},
   "source": [
    "#### Проверим, что у нас есть пользователи из всех трёх экспериментальных групп."
   ]
  },
  {
   "cell_type": "code",
   "execution_count": 26,
   "metadata": {},
   "outputs": [
    {
     "data": {
      "text/html": [
       "<div>\n",
       "<style scoped>\n",
       "    .dataframe tbody tr th:only-of-type {\n",
       "        vertical-align: middle;\n",
       "    }\n",
       "\n",
       "    .dataframe tbody tr th {\n",
       "        vertical-align: top;\n",
       "    }\n",
       "\n",
       "    .dataframe thead th {\n",
       "        text-align: right;\n",
       "    }\n",
       "</style>\n",
       "<table border=\"1\" class=\"dataframe\">\n",
       "  <thead>\n",
       "    <tr style=\"text-align: right;\">\n",
       "      <th></th>\n",
       "      <th>device_id</th>\n",
       "    </tr>\n",
       "    <tr>\n",
       "      <th>group</th>\n",
       "      <th></th>\n",
       "    </tr>\n",
       "  </thead>\n",
       "  <tbody>\n",
       "    <tr>\n",
       "      <th>246</th>\n",
       "      <td>2484</td>\n",
       "    </tr>\n",
       "    <tr>\n",
       "      <th>247</th>\n",
       "      <td>2513</td>\n",
       "    </tr>\n",
       "    <tr>\n",
       "      <th>248</th>\n",
       "      <td>2537</td>\n",
       "    </tr>\n",
       "  </tbody>\n",
       "</table>\n",
       "</div>"
      ],
      "text/plain": [
       "       device_id\n",
       "group           \n",
       "246         2484\n",
       "247         2513\n",
       "248         2537"
      ]
     },
     "execution_count": 26,
     "metadata": {},
     "output_type": "execute_result"
    }
   ],
   "source": [
    "data_groups = data_filt.groupby('group').agg({'device_id': 'nunique'})\n",
    "data_groups"
   ]
  },
  {
   "cell_type": "markdown",
   "metadata": {},
   "source": [
    "### Изучим воронку событий.  "
   ]
  },
  {
   "cell_type": "markdown",
   "metadata": {},
   "source": [
    "#### Посмотрим, какие события есть в логах и как часто они встречаются."
   ]
  },
  {
   "cell_type": "code",
   "execution_count": 27,
   "metadata": {},
   "outputs": [
    {
     "data": {
      "text/plain": [
       "MainScreenAppear           117328\n",
       "OffersScreenAppear          46333\n",
       "CartScreenAppear            42303\n",
       "PaymentScreenSuccessful     33918\n",
       "Tutorial                     1005\n",
       "Name: event, dtype: int64"
      ]
     },
     "execution_count": 27,
     "metadata": {},
     "output_type": "execute_result"
    }
   ],
   "source": [
    "data_filt['event'].value_counts()"
   ]
  },
  {
   "cell_type": "code",
   "execution_count": 28,
   "metadata": {},
   "outputs": [
    {
     "data": {
      "image/png": "[encoded data removed]",
      "text/plain": [
       "<Figure size 720x432 with 1 Axes>"
      ]
     },
     "metadata": {
      "needs_background": "light"
     },
     "output_type": "display_data"
    }
   ],
   "source": [
    "(data_filt['event'].value_counts(ascending = True)\n",
    " .plot(kind='barh', figsize=(10, 6), title='Число событий по типу', grid=False))\n",
    "plt.xlabel('Количество событий')\n",
    "plt.ylabel('Название события')\n",
    "plt.show()"
   ]
  },
  {
   "cell_type": "markdown",
   "metadata": {},
   "source": [
    "Чаще всего встречается событие MainScreenAppear, реже всего - Tutorial."
   ]
  },
  {
   "cell_type": "markdown",
   "metadata": {},
   "source": [
    "#### Посчитаем, сколько пользователей совершали каждое из этих событий и найдем долю пользователей, которые хоть раз совершали событие."
   ]
  },
  {
   "cell_type": "code",
   "execution_count": 29,
   "metadata": {},
   "outputs": [
    {
     "data": {
      "text/html": [
       "<div>\n",
       "<style scoped>\n",
       "    .dataframe tbody tr th:only-of-type {\n",
       "        vertical-align: middle;\n",
       "    }\n",
       "\n",
       "    .dataframe tbody tr th {\n",
       "        vertical-align: top;\n",
       "    }\n",
       "\n",
       "    .dataframe thead th {\n",
       "        text-align: right;\n",
       "    }\n",
       "</style>\n",
       "<table border=\"1\" class=\"dataframe\">\n",
       "  <thead>\n",
       "    <tr style=\"text-align: right;\">\n",
       "      <th></th>\n",
       "      <th>event</th>\n",
       "      <th>user_count</th>\n",
       "      <th>user_portion</th>\n",
       "    </tr>\n",
       "  </thead>\n",
       "  <tbody>\n",
       "    <tr>\n",
       "      <th>1</th>\n",
       "      <td>MainScreenAppear</td>\n",
       "      <td>7419</td>\n",
       "      <td>98.5</td>\n",
       "    </tr>\n",
       "    <tr>\n",
       "      <th>2</th>\n",
       "      <td>OffersScreenAppear</td>\n",
       "      <td>4593</td>\n",
       "      <td>61.0</td>\n",
       "    </tr>\n",
       "    <tr>\n",
       "      <th>0</th>\n",
       "      <td>CartScreenAppear</td>\n",
       "      <td>3734</td>\n",
       "      <td>49.6</td>\n",
       "    </tr>\n",
       "    <tr>\n",
       "      <th>3</th>\n",
       "      <td>PaymentScreenSuccessful</td>\n",
       "      <td>3539</td>\n",
       "      <td>47.0</td>\n",
       "    </tr>\n",
       "    <tr>\n",
       "      <th>4</th>\n",
       "      <td>Tutorial</td>\n",
       "      <td>840</td>\n",
       "      <td>11.1</td>\n",
       "    </tr>\n",
       "  </tbody>\n",
       "</table>\n",
       "</div>"
      ],
      "text/plain": [
       "                     event  user_count  user_portion\n",
       "1         MainScreenAppear        7419          98.5\n",
       "2       OffersScreenAppear        4593          61.0\n",
       "0         CartScreenAppear        3734          49.6\n",
       "3  PaymentScreenSuccessful        3539          47.0\n",
       "4                 Tutorial         840          11.1"
      ]
     },
     "execution_count": 29,
     "metadata": {},
     "output_type": "execute_result"
    }
   ],
   "source": [
    "event_grouped = (\n",
    "    data_filt.groupby('event', as_index=False)\n",
    "    .agg({'device_id': 'nunique'})\n",
    "    .sort_values('device_id', ascending=False))\n",
    "event_grouped.columns = ['event', 'user_count']\n",
    "event_grouped['user_portion']  = round(event_grouped['user_count'] / data_filt['device_id'].nunique() * 100, 1)\n",
    "event_grouped"
   ]
  },
  {
   "cell_type": "code",
   "execution_count": 30,
   "metadata": {},
   "outputs": [
    {
     "data": {
      "image/png": "[encoded data removed]",
      "text/plain": [
       "<Figure size 720x432 with 1 Axes>"
      ]
     },
     "metadata": {
      "needs_background": "light"
     },
     "output_type": "display_data"
    }
   ],
   "source": [
    "(data_filt.groupby('event')\n",
    " .agg({'device_id': 'nunique'})\n",
    " .sort_values('device_id', ascending=True)\n",
    " .plot(kind='barh', figsize=(10, 6), title='Число пользователей, совершивших событие хотя бы 1 раз', grid=False, legend=False))\n",
    "plt.xlabel('Количество пользователей')\n",
    "plt.ylabel('Название события')\n",
    "plt.show()"
   ]
  },
  {
   "cell_type": "markdown",
   "metadata": {},
   "source": [
    "#### Определим в каком порядке происходят события."
   ]
  },
  {
   "cell_type": "markdown",
   "metadata": {},
   "source": [
    "Можно предположить, что воронка событий выглядит следующим образом: MainScreenAppear -> OffersScreenAppear -> CartScreenAppear -> PaymentScreenSuccessful. Событие Tutorial\t- обучение, не обязательно для совершения покупки, соответственно при расчете воронки его учитывать не будем."
   ]
  },
  {
   "cell_type": "code",
   "execution_count": 31,
   "metadata": {},
   "outputs": [
    {
     "data": {
      "text/html": [
       "<div>\n",
       "<style scoped>\n",
       "    .dataframe tbody tr th:only-of-type {\n",
       "        vertical-align: middle;\n",
       "    }\n",
       "\n",
       "    .dataframe tbody tr th {\n",
       "        vertical-align: top;\n",
       "    }\n",
       "\n",
       "    .dataframe thead th {\n",
       "        text-align: right;\n",
       "    }\n",
       "</style>\n",
       "<table border=\"1\" class=\"dataframe\">\n",
       "  <thead>\n",
       "    <tr style=\"text-align: right;\">\n",
       "      <th></th>\n",
       "      <th>event</th>\n",
       "      <th>user_count</th>\n",
       "      <th>user_portion</th>\n",
       "    </tr>\n",
       "  </thead>\n",
       "  <tbody>\n",
       "    <tr>\n",
       "      <th>1</th>\n",
       "      <td>MainScreenAppear</td>\n",
       "      <td>7419</td>\n",
       "      <td>98.5</td>\n",
       "    </tr>\n",
       "    <tr>\n",
       "      <th>2</th>\n",
       "      <td>OffersScreenAppear</td>\n",
       "      <td>4593</td>\n",
       "      <td>61.0</td>\n",
       "    </tr>\n",
       "    <tr>\n",
       "      <th>0</th>\n",
       "      <td>CartScreenAppear</td>\n",
       "      <td>3734</td>\n",
       "      <td>49.6</td>\n",
       "    </tr>\n",
       "    <tr>\n",
       "      <th>3</th>\n",
       "      <td>PaymentScreenSuccessful</td>\n",
       "      <td>3539</td>\n",
       "      <td>47.0</td>\n",
       "    </tr>\n",
       "  </tbody>\n",
       "</table>\n",
       "</div>"
      ],
      "text/plain": [
       "                     event  user_count  user_portion\n",
       "1         MainScreenAppear        7419          98.5\n",
       "2       OffersScreenAppear        4593          61.0\n",
       "0         CartScreenAppear        3734          49.6\n",
       "3  PaymentScreenSuccessful        3539          47.0"
      ]
     },
     "execution_count": 31,
     "metadata": {},
     "output_type": "execute_result"
    }
   ],
   "source": [
    "event_grouped = event_grouped[event_grouped['event'] != 'Tutorial']\n",
    "event_grouped"
   ]
  },
  {
   "cell_type": "markdown",
   "metadata": {},
   "source": [
    "#### По воронке событий посчитаем, какая доля пользователей проходит на следующий шаг воронки."
   ]
  },
  {
   "cell_type": "code",
   "execution_count": 32,
   "metadata": {},
   "outputs": [
    {
     "data": {
      "text/html": [
       "<div>\n",
       "<style scoped>\n",
       "    .dataframe tbody tr th:only-of-type {\n",
       "        vertical-align: middle;\n",
       "    }\n",
       "\n",
       "    .dataframe tbody tr th {\n",
       "        vertical-align: top;\n",
       "    }\n",
       "\n",
       "    .dataframe thead th {\n",
       "        text-align: right;\n",
       "    }\n",
       "</style>\n",
       "<table border=\"1\" class=\"dataframe\">\n",
       "  <thead>\n",
       "    <tr style=\"text-align: right;\">\n",
       "      <th></th>\n",
       "      <th>event</th>\n",
       "      <th>user_count</th>\n",
       "      <th>user_portion</th>\n",
       "      <th>conversion</th>\n",
       "      <th>user_loses</th>\n",
       "    </tr>\n",
       "  </thead>\n",
       "  <tbody>\n",
       "    <tr>\n",
       "      <th>1</th>\n",
       "      <td>MainScreenAppear</td>\n",
       "      <td>7419</td>\n",
       "      <td>98.5</td>\n",
       "      <td>100.0</td>\n",
       "      <td>0</td>\n",
       "    </tr>\n",
       "    <tr>\n",
       "      <th>2</th>\n",
       "      <td>OffersScreenAppear</td>\n",
       "      <td>4593</td>\n",
       "      <td>61.0</td>\n",
       "      <td>61.9</td>\n",
       "      <td>2826</td>\n",
       "    </tr>\n",
       "    <tr>\n",
       "      <th>0</th>\n",
       "      <td>CartScreenAppear</td>\n",
       "      <td>3734</td>\n",
       "      <td>49.6</td>\n",
       "      <td>81.3</td>\n",
       "      <td>859</td>\n",
       "    </tr>\n",
       "    <tr>\n",
       "      <th>3</th>\n",
       "      <td>PaymentScreenSuccessful</td>\n",
       "      <td>3539</td>\n",
       "      <td>47.0</td>\n",
       "      <td>94.8</td>\n",
       "      <td>195</td>\n",
       "    </tr>\n",
       "  </tbody>\n",
       "</table>\n",
       "</div>"
      ],
      "text/plain": [
       "                     event  user_count  user_portion  conversion  user_loses\n",
       "1         MainScreenAppear        7419          98.5       100.0           0\n",
       "2       OffersScreenAppear        4593          61.0        61.9        2826\n",
       "0         CartScreenAppear        3734          49.6        81.3         859\n",
       "3  PaymentScreenSuccessful        3539          47.0        94.8         195"
      ]
     },
     "execution_count": 32,
     "metadata": {},
     "output_type": "execute_result"
    }
   ],
   "source": [
    "event_grouped['conversion'] = round(\n",
    "    event_grouped['user_count'] / event_grouped['user_count'].shift(1, fill_value=7419) * 100, 1)\n",
    "event_grouped['user_loses'] = event_grouped['user_count'].shift(1, fill_value=7419) - event_grouped['user_count']\n",
    "event_grouped"
   ]
  },
  {
   "cell_type": "markdown",
   "metadata": {},
   "source": [
    "Больше всего пользователей теряется при переходе от события MainScreenAppear к событию OffersScreenAppear - только 61.9% пользователей перешли от MainScreenAppear к OffersScreenAppear. На других этапах потери меньше: 81.3% пользователей перешли от OffersScreenAppear к CartScreenAppear и 94.8% пользователей перешли от CartScreenAppear к PaymentScreenSuccessful. "
   ]
  },
  {
   "cell_type": "markdown",
   "metadata": {},
   "source": [
    "#### Посчитаем какая доля пользователей доходит от первого события до оплаты."
   ]
  },
  {
   "cell_type": "code",
   "execution_count": 33,
   "metadata": {},
   "outputs": [
    {
     "name": "stdout",
     "output_type": "stream",
     "text": [
      "Доля пользователей, дошедших от первого события до оплаты: 47.7%\n"
     ]
    }
   ],
   "source": [
    "print('Доля пользователей, дошедших от первого события до оплаты: {}%'.format(\n",
    "    round(event_grouped['user_count'][3] / event_grouped['user_count'][1] * 100, 1)))"
   ]
  },
  {
   "cell_type": "markdown",
   "metadata": {},
   "source": [
    "### Изучим результаты эксперимента."
   ]
  },
  {
   "cell_type": "markdown",
   "metadata": {},
   "source": [
    "#### Посмотрим количество пользователей в каждой экспериментальной группе"
   ]
  },
  {
   "cell_type": "code",
   "execution_count": 34,
   "metadata": {},
   "outputs": [
    {
     "data": {
      "text/html": [
       "<div>\n",
       "<style scoped>\n",
       "    .dataframe tbody tr th:only-of-type {\n",
       "        vertical-align: middle;\n",
       "    }\n",
       "\n",
       "    .dataframe tbody tr th {\n",
       "        vertical-align: top;\n",
       "    }\n",
       "\n",
       "    .dataframe thead th {\n",
       "        text-align: right;\n",
       "    }\n",
       "</style>\n",
       "<table border=\"1\" class=\"dataframe\">\n",
       "  <thead>\n",
       "    <tr style=\"text-align: right;\">\n",
       "      <th></th>\n",
       "      <th>device_id</th>\n",
       "    </tr>\n",
       "    <tr>\n",
       "      <th>group</th>\n",
       "      <th></th>\n",
       "    </tr>\n",
       "  </thead>\n",
       "  <tbody>\n",
       "    <tr>\n",
       "      <th>246</th>\n",
       "      <td>2484</td>\n",
       "    </tr>\n",
       "    <tr>\n",
       "      <th>247</th>\n",
       "      <td>2513</td>\n",
       "    </tr>\n",
       "    <tr>\n",
       "      <th>248</th>\n",
       "      <td>2537</td>\n",
       "    </tr>\n",
       "  </tbody>\n",
       "</table>\n",
       "</div>"
      ],
      "text/plain": [
       "       device_id\n",
       "group           \n",
       "246         2484\n",
       "247         2513\n",
       "248         2537"
      ]
     },
     "execution_count": 34,
     "metadata": {},
     "output_type": "execute_result"
    }
   ],
   "source": [
    "data_groups"
   ]
  },
  {
   "cell_type": "markdown",
   "metadata": {},
   "source": [
    "#### Проверим, находят ли статистические критерии разницу между выборками 246 и 247 - контрольными группами для А/А-эксперимента, чтобы проверить корректность всех механизмов и расчётов. "
   ]
  },
  {
   "cell_type": "markdown",
   "metadata": {},
   "source": [
    "Посчитаем число пользователей, совершивших каждое событие в каждой из контрольных групп."
   ]
  },
  {
   "cell_type": "code",
   "execution_count": 35,
   "metadata": {},
   "outputs": [
    {
     "data": {
      "text/html": [
       "<div>\n",
       "<style scoped>\n",
       "    .dataframe tbody tr th:only-of-type {\n",
       "        vertical-align: middle;\n",
       "    }\n",
       "\n",
       "    .dataframe tbody tr th {\n",
       "        vertical-align: top;\n",
       "    }\n",
       "\n",
       "    .dataframe thead th {\n",
       "        text-align: right;\n",
       "    }\n",
       "</style>\n",
       "<table border=\"1\" class=\"dataframe\">\n",
       "  <thead>\n",
       "    <tr style=\"text-align: right;\">\n",
       "      <th>event</th>\n",
       "      <th>CartScreenAppear</th>\n",
       "      <th>MainScreenAppear</th>\n",
       "      <th>OffersScreenAppear</th>\n",
       "      <th>PaymentScreenSuccessful</th>\n",
       "      <th>total</th>\n",
       "    </tr>\n",
       "    <tr>\n",
       "      <th>group</th>\n",
       "      <th></th>\n",
       "      <th></th>\n",
       "      <th></th>\n",
       "      <th></th>\n",
       "      <th></th>\n",
       "    </tr>\n",
       "  </thead>\n",
       "  <tbody>\n",
       "    <tr>\n",
       "      <th>246</th>\n",
       "      <td>1266</td>\n",
       "      <td>2450</td>\n",
       "      <td>1542</td>\n",
       "      <td>1200</td>\n",
       "      <td>2484</td>\n",
       "    </tr>\n",
       "    <tr>\n",
       "      <th>247</th>\n",
       "      <td>1238</td>\n",
       "      <td>2476</td>\n",
       "      <td>1520</td>\n",
       "      <td>1158</td>\n",
       "      <td>2513</td>\n",
       "    </tr>\n",
       "    <tr>\n",
       "      <th>248</th>\n",
       "      <td>1230</td>\n",
       "      <td>2493</td>\n",
       "      <td>1531</td>\n",
       "      <td>1181</td>\n",
       "      <td>2537</td>\n",
       "    </tr>\n",
       "  </tbody>\n",
       "</table>\n",
       "</div>"
      ],
      "text/plain": [
       "event  CartScreenAppear  MainScreenAppear  OffersScreenAppear  \\\n",
       "group                                                           \n",
       "246                1266              2450                1542   \n",
       "247                1238              2476                1520   \n",
       "248                1230              2493                1531   \n",
       "\n",
       "event  PaymentScreenSuccessful  total  \n",
       "group                                  \n",
       "246                       1200   2484  \n",
       "247                       1158   2513  \n",
       "248                       1181   2537  "
      ]
     },
     "execution_count": 35,
     "metadata": {},
     "output_type": "execute_result"
    }
   ],
   "source": [
    "data_pivot = data_filt.pivot_table(index='group',columns = 'event', values='device_id',aggfunc='nunique')\n",
    "data_pivot['total'] = data_groups['device_id']\n",
    "data_pivot = data_pivot.drop('Tutorial', axis=1)\n",
    "data_pivot"
   ]
  },
  {
   "cell_type": "markdown",
   "metadata": {},
   "source": [
    "Добавим объединённую контрольную группу 249, состоящую из групп 246 и 247."
   ]
  },
  {
   "cell_type": "code",
   "execution_count": 36,
   "metadata": {},
   "outputs": [
    {
     "data": {
      "text/html": [
       "<div>\n",
       "<style scoped>\n",
       "    .dataframe tbody tr th:only-of-type {\n",
       "        vertical-align: middle;\n",
       "    }\n",
       "\n",
       "    .dataframe tbody tr th {\n",
       "        vertical-align: top;\n",
       "    }\n",
       "\n",
       "    .dataframe thead th {\n",
       "        text-align: right;\n",
       "    }\n",
       "</style>\n",
       "<table border=\"1\" class=\"dataframe\">\n",
       "  <thead>\n",
       "    <tr style=\"text-align: right;\">\n",
       "      <th>event</th>\n",
       "      <th>CartScreenAppear</th>\n",
       "      <th>MainScreenAppear</th>\n",
       "      <th>OffersScreenAppear</th>\n",
       "      <th>PaymentScreenSuccessful</th>\n",
       "      <th>total</th>\n",
       "    </tr>\n",
       "    <tr>\n",
       "      <th>group</th>\n",
       "      <th></th>\n",
       "      <th></th>\n",
       "      <th></th>\n",
       "      <th></th>\n",
       "      <th></th>\n",
       "    </tr>\n",
       "  </thead>\n",
       "  <tbody>\n",
       "    <tr>\n",
       "      <th>246</th>\n",
       "      <td>1266</td>\n",
       "      <td>2450</td>\n",
       "      <td>1542</td>\n",
       "      <td>1200</td>\n",
       "      <td>2484</td>\n",
       "    </tr>\n",
       "    <tr>\n",
       "      <th>247</th>\n",
       "      <td>1238</td>\n",
       "      <td>2476</td>\n",
       "      <td>1520</td>\n",
       "      <td>1158</td>\n",
       "      <td>2513</td>\n",
       "    </tr>\n",
       "    <tr>\n",
       "      <th>248</th>\n",
       "      <td>1230</td>\n",
       "      <td>2493</td>\n",
       "      <td>1531</td>\n",
       "      <td>1181</td>\n",
       "      <td>2537</td>\n",
       "    </tr>\n",
       "    <tr>\n",
       "      <th>249</th>\n",
       "      <td>2504</td>\n",
       "      <td>4926</td>\n",
       "      <td>3062</td>\n",
       "      <td>2358</td>\n",
       "      <td>4997</td>\n",
       "    </tr>\n",
       "  </tbody>\n",
       "</table>\n",
       "</div>"
      ],
      "text/plain": [
       "event  CartScreenAppear  MainScreenAppear  OffersScreenAppear  \\\n",
       "group                                                           \n",
       "246                1266              2450                1542   \n",
       "247                1238              2476                1520   \n",
       "248                1230              2493                1531   \n",
       "249                2504              4926                3062   \n",
       "\n",
       "event  PaymentScreenSuccessful  total  \n",
       "group                                  \n",
       "246                       1200   2484  \n",
       "247                       1158   2513  \n",
       "248                       1181   2537  \n",
       "249                       2358   4997  "
      ]
     },
     "execution_count": 36,
     "metadata": {},
     "output_type": "execute_result"
    }
   ],
   "source": [
    "data_pivot.loc[249] = data_pivot.loc[246] + data_pivot.loc[247]\n",
    "data_pivot"
   ]
  },
  {
   "cell_type": "markdown",
   "metadata": {},
   "source": [
    "Посчитаем число пользователей, совершивших наиболее популярное событие (MainScreenAppear) в контрольных группах 246 и 247."
   ]
  },
  {
   "cell_type": "code",
   "execution_count": 37,
   "metadata": {},
   "outputs": [
    {
     "data": {
      "text/plain": [
       "group\n",
       "246    2450\n",
       "247    2476\n",
       "Name: MainScreenAppear, dtype: int64"
      ]
     },
     "execution_count": 37,
     "metadata": {},
     "output_type": "execute_result"
    }
   ],
   "source": [
    "data_pivot.loc[[246, 247]]['MainScreenAppear']"
   ]
  },
  {
   "cell_type": "markdown",
   "metadata": {},
   "source": [
    "Посчитаем долю пользователей, совершивших это событие."
   ]
  },
  {
   "cell_type": "code",
   "execution_count": 38,
   "metadata": {},
   "outputs": [
    {
     "data": {
      "text/plain": [
       "group\n",
       "246    98.6\n",
       "247    98.5\n",
       "dtype: float64"
      ]
     },
     "execution_count": 38,
     "metadata": {},
     "output_type": "execute_result"
    }
   ],
   "source": [
    "round(data_pivot.loc[[246, 247]]['MainScreenAppear'] / data_pivot.loc[[246, 247]]['total'] * 100, 1)"
   ]
  },
  {
   "cell_type": "markdown",
   "metadata": {},
   "source": [
    "Проверим, будет ли отличие между группами статистически достоверным."
   ]
  },
  {
   "cell_type": "markdown",
   "metadata": {},
   "source": [
    "Напишем функцию для проверки гипотез."
   ]
  },
  {
   "cell_type": "code",
   "execution_count": 39,
   "metadata": {},
   "outputs": [],
   "source": [
    "def test(success_1, success_2, trials_1, trials_2, alpha):  \n",
    "        \n",
    "    p1 = success_1/trials_1\n",
    "\n",
    "    # пропорция успехов во второй группе:\n",
    "    p2 = success_2/trials_2\n",
    "\n",
    "    # пропорция успехов в комбинированном датасете:\n",
    "    p_combined = (success_1 + success_2) / (trials_1 + trials_2)\n",
    "\n",
    "    # разница пропорций в датасетах\n",
    "    difference = p1 - p2 \n",
    "\n",
    "    # считаем статистику в ст.отклонениях стандартного нормального распределения\n",
    "    z_value = difference / mth.sqrt(p_combined * (1 - p_combined) * (1/trials_1 + 1/trials_2))\n",
    "\n",
    "    # задаем стандартное нормальное распределение (среднее 0, ст.отклонение 1)\n",
    "    distr = st.norm(0, 1) \n",
    "\n",
    "    # посчитаем, как далеко статистика уехала от нуля, так как распределение статистики нормальное, вызовем метод cdf() \n",
    "    p_value = (1 - distr.cdf(abs(z_value))) * 2\n",
    "\n",
    "    print('p-значение: ', p_value)\n",
    "\n",
    "    if p_value < alpha: \n",
    "        print('Отвергаем нулевую гипотезу: между долями уникальных посетителей, побывавших на данном этапе воронки, есть значимая разница')\n",
    "    else:\n",
    "        print(\n",
    "            'Не получилось отвергнуть нулевую гипотезу, нет оснований считать, что между долями уникальных посетителей, побывавших на данном этапе воронки, есть значимая разница'\n",
    "        )"
   ]
  },
  {
   "cell_type": "markdown",
   "metadata": {},
   "source": [
    "Так как нам требуется решить задачу сравнения пропорций двух генеральных совокупностей по выборкам из них, мы будем использовать двухпропорционный Z-тест."
   ]
  },
  {
   "cell_type": "markdown",
   "metadata": {},
   "source": [
    "H0: доли уникальных посетителей, побывавших на данном этапе воронки, равны. \n",
    "\n",
    "H1: между долями уникальных посетителей, побывавших на данном этапе воронки, есть значимая разница.\n",
    "\n",
    "Примем уровень значимости за 0.05."
   ]
  },
  {
   "cell_type": "code",
   "execution_count": 40,
   "metadata": {},
   "outputs": [
    {
     "name": "stdout",
     "output_type": "stream",
     "text": [
      "p-значение:  0.7570597232046099\n",
      "Не получилось отвергнуть нулевую гипотезу, нет оснований считать, что между долями уникальных посетителей, побывавших на данном этапе воронки, есть значимая разница\n"
     ]
    }
   ],
   "source": [
    "test(data_pivot.loc[246][1], data_pivot.loc[247][1], data_pivot.loc[246][4], data_pivot.loc[247][4], 0.05)"
   ]
  },
  {
   "cell_type": "markdown",
   "metadata": {},
   "source": [
    "Напишем функцию для проверки гипотез по всем событиям."
   ]
  },
  {
   "cell_type": "code",
   "execution_count": 41,
   "metadata": {},
   "outputs": [],
   "source": [
    "def events_test(group_1, group_2, alpha):  \n",
    "    print(f'Результат проверки гипотез для события MainScreenAppear в группах {group_1} и {group_2}')\n",
    "    test(data_pivot.loc[group_1][1], data_pivot.loc[group_2][1], data_pivot.loc[group_1][4], data_pivot.loc[group_2][4], alpha)\n",
    "    print()\n",
    "    \n",
    "    print(f'Результат проверки гипотез для события OffersScreenAppear в группах {group_1} и {group_2}')\n",
    "    test(data_pivot.loc[group_1][2], data_pivot.loc[group_2][2], data_pivot.loc[group_1][4], data_pivot.loc[group_2][4], alpha)\n",
    "    print()\n",
    "        \n",
    "    print(f'Результат проверки гипотез для события CartScreenAppear в группах {group_1} и {group_2}')\n",
    "    test(data_pivot.loc[group_1][0], data_pivot.loc[group_2][0], data_pivot.loc[group_1][4], data_pivot.loc[group_2][4], alpha)\n",
    "    print()\n",
    "    \n",
    "    print(f'Результат проверки гипотез для события PaymentScreenSuccessful в группах {group_1} и {group_2}')\n",
    "    test(data_pivot.loc[group_1][3], data_pivot.loc[group_2][3], data_pivot.loc[group_1][4], data_pivot.loc[group_2][4], alpha)"
   ]
  },
  {
   "cell_type": "code",
   "execution_count": 42,
   "metadata": {},
   "outputs": [
    {
     "name": "stdout",
     "output_type": "stream",
     "text": [
      "Результат проверки гипотез для события MainScreenAppear в группах 246 и 247\n",
      "p-значение:  0.7570597232046099\n",
      "Не получилось отвергнуть нулевую гипотезу, нет оснований считать, что между долями уникальных посетителей, побывавших на данном этапе воронки, есть значимая разница\n",
      "\n",
      "Результат проверки гипотез для события OffersScreenAppear в группах 246 и 247\n",
      "p-значение:  0.2480954578522181\n",
      "Не получилось отвергнуть нулевую гипотезу, нет оснований считать, что между долями уникальных посетителей, побывавших на данном этапе воронки, есть значимая разница\n",
      "\n",
      "Результат проверки гипотез для события CartScreenAppear в группах 246 и 247\n",
      "p-значение:  0.22883372237997213\n",
      "Не получилось отвергнуть нулевую гипотезу, нет оснований считать, что между долями уникальных посетителей, побывавших на данном этапе воронки, есть значимая разница\n",
      "\n",
      "Результат проверки гипотез для события PaymentScreenSuccessful в группах 246 и 247\n",
      "p-значение:  0.11456679313141849\n",
      "Не получилось отвергнуть нулевую гипотезу, нет оснований считать, что между долями уникальных посетителей, побывавших на данном этапе воронки, есть значимая разница\n"
     ]
    }
   ],
   "source": [
    "events_test(246, 247, 0.05)"
   ]
  },
  {
   "cell_type": "markdown",
   "metadata": {},
   "source": [
    "Не удалось отвергнуть нулевую гипотезу ни по одному из событий - нет оснований считать доли в контрольных группах разными. Можем утверждать, разбиение на группы работает корректно."
   ]
  },
  {
   "cell_type": "markdown",
   "metadata": {},
   "source": [
    "#### Аналогично поступим с группой с изменённым шрифтом. Сравним результаты с каждой из контрольных групп в отдельности по каждому событию. Также сравним результаты с объединённой контрольной группой."
   ]
  },
  {
   "cell_type": "code",
   "execution_count": 43,
   "metadata": {},
   "outputs": [
    {
     "name": "stdout",
     "output_type": "stream",
     "text": [
      "Результат проверки гипотез для события MainScreenAppear в группах 246 и 248\n",
      "p-значение:  0.2949721933554552\n",
      "Не получилось отвергнуть нулевую гипотезу, нет оснований считать, что между долями уникальных посетителей, побывавших на данном этапе воронки, есть значимая разница\n",
      "\n",
      "Результат проверки гипотез для события OffersScreenAppear в группах 246 и 248\n",
      "p-значение:  0.20836205402738917\n",
      "Не получилось отвергнуть нулевую гипотезу, нет оснований считать, что между долями уникальных посетителей, побывавших на данном этапе воронки, есть значимая разница\n",
      "\n",
      "Результат проверки гипотез для события CartScreenAppear в группах 246 и 248\n",
      "p-значение:  0.07842923237520116\n",
      "Не получилось отвергнуть нулевую гипотезу, нет оснований считать, что между долями уникальных посетителей, побывавших на данном этапе воронки, есть значимая разница\n",
      "\n",
      "Результат проверки гипотез для события PaymentScreenSuccessful в группах 246 и 248\n",
      "p-значение:  0.2122553275697796\n",
      "Не получилось отвергнуть нулевую гипотезу, нет оснований считать, что между долями уникальных посетителей, побывавших на данном этапе воронки, есть значимая разница\n"
     ]
    }
   ],
   "source": [
    "events_test(246, 248, 0.05)"
   ]
  },
  {
   "cell_type": "code",
   "execution_count": 44,
   "metadata": {},
   "outputs": [
    {
     "name": "stdout",
     "output_type": "stream",
     "text": [
      "Результат проверки гипотез для события MainScreenAppear в группах 247 и 248\n",
      "p-значение:  0.4587053616621515\n",
      "Не получилось отвергнуть нулевую гипотезу, нет оснований считать, что между долями уникальных посетителей, побывавших на данном этапе воронки, есть значимая разница\n",
      "\n",
      "Результат проверки гипотез для события OffersScreenAppear в группах 247 и 248\n",
      "p-значение:  0.9197817830592261\n",
      "Не получилось отвергнуть нулевую гипотезу, нет оснований считать, что между долями уникальных посетителей, побывавших на данном этапе воронки, есть значимая разница\n",
      "\n",
      "Результат проверки гипотез для события CartScreenAppear в группах 247 и 248\n",
      "p-значение:  0.5786197879539783\n",
      "Не получилось отвергнуть нулевую гипотезу, нет оснований считать, что между долями уникальных посетителей, побывавших на данном этапе воронки, есть значимая разница\n",
      "\n",
      "Результат проверки гипотез для события PaymentScreenSuccessful в группах 247 и 248\n",
      "p-значение:  0.7373415053803964\n",
      "Не получилось отвергнуть нулевую гипотезу, нет оснований считать, что между долями уникальных посетителей, побывавших на данном этапе воронки, есть значимая разница\n"
     ]
    }
   ],
   "source": [
    "events_test(247, 248, 0.05)"
   ]
  },
  {
   "cell_type": "code",
   "execution_count": 45,
   "metadata": {},
   "outputs": [
    {
     "name": "stdout",
     "output_type": "stream",
     "text": [
      "Результат проверки гипотез для события MainScreenAppear в группах 249 и 248\n",
      "p-значение:  0.29424526837179577\n",
      "Не получилось отвергнуть нулевую гипотезу, нет оснований считать, что между долями уникальных посетителей, побывавших на данном этапе воронки, есть значимая разница\n",
      "\n",
      "Результат проверки гипотез для события OffersScreenAppear в группах 249 и 248\n",
      "p-значение:  0.43425549655188256\n",
      "Не получилось отвергнуть нулевую гипотезу, нет оснований считать, что между долями уникальных посетителей, побывавших на данном этапе воронки, есть значимая разница\n",
      "\n",
      "Результат проверки гипотез для события CartScreenAppear в группах 249 и 248\n",
      "p-значение:  0.18175875284404386\n",
      "Не получилось отвергнуть нулевую гипотезу, нет оснований считать, что между долями уникальных посетителей, побывавших на данном этапе воронки, есть значимая разница\n",
      "\n",
      "Результат проверки гипотез для события PaymentScreenSuccessful в группах 249 и 248\n",
      "p-значение:  0.6004294282308704\n",
      "Не получилось отвергнуть нулевую гипотезу, нет оснований считать, что между долями уникальных посетителей, побывавших на данном этапе воронки, есть значимая разница\n"
     ]
    }
   ],
   "source": [
    "events_test(249, 248, 0.05)"
   ]
  },
  {
   "cell_type": "markdown",
   "metadata": {},
   "source": [
    "**Ни в одном из тестов не удалось отвергнуть нулевую гипотезу. Можно утверждать, что изменение шрифта не привело ухудшению продажах. Тест можно считать оконченным.**"
   ]
  },
  {
   "cell_type": "markdown",
   "metadata": {},
   "source": [
    "#### Проведем коррекцию уровня значимости методом Холма."
   ]
  },
  {
   "cell_type": "markdown",
   "metadata": {},
   "source": [
    "Для каждой пары выборок мы проводили 4 теста - для 4-х событий. Проведем коррекцию уровня значимости методом Холма."
   ]
  },
  {
   "cell_type": "code",
   "execution_count": 46,
   "metadata": {},
   "outputs": [],
   "source": [
    "# Модифицируем тест\n",
    "def test_mod(success_1, success_2, trials_1, trials_2, alpha):  \n",
    "        \n",
    "    p1 = success_1/trials_1\n",
    "\n",
    "    # пропорция успехов во второй группе:\n",
    "    p2 = success_2/trials_2\n",
    "\n",
    "    # пропорция успехов в комбинированном датасете:\n",
    "    p_combined = (success_1 + success_2) / (trials_1 + trials_2)\n",
    "\n",
    "    # разница пропорций в датасетах\n",
    "    difference = p1 - p2 \n",
    "\n",
    "    # считаем статистику в ст.отклонениях стандартного нормального распределения\n",
    "    z_value = difference / mth.sqrt(p_combined * (1 - p_combined) * (1/trials_1 + 1/trials_2))\n",
    "\n",
    "    # задаем стандартное нормальное распределение (среднее 0, ст.отклонение 1)\n",
    "    distr = st.norm(0, 1) \n",
    "\n",
    "    # посчитаем, как далеко статистика уехала от нуля, так как распределение статистики нормальное, вызовем метод cdf() \n",
    "    p_value = (1 - distr.cdf(abs(z_value))) * 2\n",
    "\n",
    "    return p_value"
   ]
  },
  {
   "cell_type": "markdown",
   "metadata": {},
   "source": [
    "Напишем функцию для вывода таблицы со значениями теста до и после применения метода Холма."
   ]
  },
  {
   "cell_type": "code",
   "execution_count": 47,
   "metadata": {},
   "outputs": [],
   "source": [
    "def test_corr(g1, g2):\n",
    "    datas = pd.DataFrame(columns=['p_value', 'alpha'])\n",
    "    m = 4\n",
    "    alpha = 0.05\n",
    "    result = []\n",
    "    for i in range(m): \n",
    "        result += [test_mod(data_pivot.loc[g1][i], data_pivot.loc[g2][i], data_pivot.loc[g1][4], data_pivot.loc[g2][4], alpha)]\n",
    "    datas['p_value'] = pd.Series(result) \n",
    "    datas['alpha'] = 0.05\n",
    "    datas['test_result'] = datas['p_value'] < datas['alpha']\n",
    "    result_corr = []\n",
    "    for i in range(m):  \n",
    "        result_corr += [alpha / (m - i)]\n",
    "    datas['alpha_holm'] = pd.Series(result_corr) \n",
    "    datas['test_result_corr'] = datas['p_value'] < datas['alpha_holm']\n",
    "\n",
    "    return datas"
   ]
  },
  {
   "cell_type": "markdown",
   "metadata": {},
   "source": [
    "Проводим тестирование для групп 246 и 247"
   ]
  },
  {
   "cell_type": "code",
   "execution_count": 48,
   "metadata": {},
   "outputs": [
    {
     "data": {
      "text/html": [
       "<div>\n",
       "<style scoped>\n",
       "    .dataframe tbody tr th:only-of-type {\n",
       "        vertical-align: middle;\n",
       "    }\n",
       "\n",
       "    .dataframe tbody tr th {\n",
       "        vertical-align: top;\n",
       "    }\n",
       "\n",
       "    .dataframe thead th {\n",
       "        text-align: right;\n",
       "    }\n",
       "</style>\n",
       "<table border=\"1\" class=\"dataframe\">\n",
       "  <thead>\n",
       "    <tr style=\"text-align: right;\">\n",
       "      <th></th>\n",
       "      <th>p_value</th>\n",
       "      <th>alpha</th>\n",
       "      <th>test_result</th>\n",
       "      <th>alpha_holm</th>\n",
       "      <th>test_result_corr</th>\n",
       "    </tr>\n",
       "  </thead>\n",
       "  <tbody>\n",
       "    <tr>\n",
       "      <th>0</th>\n",
       "      <td>0.228834</td>\n",
       "      <td>0.05</td>\n",
       "      <td>False</td>\n",
       "      <td>0.012500</td>\n",
       "      <td>False</td>\n",
       "    </tr>\n",
       "    <tr>\n",
       "      <th>1</th>\n",
       "      <td>0.757060</td>\n",
       "      <td>0.05</td>\n",
       "      <td>False</td>\n",
       "      <td>0.016667</td>\n",
       "      <td>False</td>\n",
       "    </tr>\n",
       "    <tr>\n",
       "      <th>2</th>\n",
       "      <td>0.248095</td>\n",
       "      <td>0.05</td>\n",
       "      <td>False</td>\n",
       "      <td>0.025000</td>\n",
       "      <td>False</td>\n",
       "    </tr>\n",
       "    <tr>\n",
       "      <th>3</th>\n",
       "      <td>0.114567</td>\n",
       "      <td>0.05</td>\n",
       "      <td>False</td>\n",
       "      <td>0.050000</td>\n",
       "      <td>False</td>\n",
       "    </tr>\n",
       "  </tbody>\n",
       "</table>\n",
       "</div>"
      ],
      "text/plain": [
       "    p_value  alpha  test_result  alpha_holm  test_result_corr\n",
       "0  0.228834   0.05        False    0.012500             False\n",
       "1  0.757060   0.05        False    0.016667             False\n",
       "2  0.248095   0.05        False    0.025000             False\n",
       "3  0.114567   0.05        False    0.050000             False"
      ]
     },
     "execution_count": 48,
     "metadata": {},
     "output_type": "execute_result"
    }
   ],
   "source": [
    "test_corr(246, 247)"
   ]
  },
  {
   "cell_type": "markdown",
   "metadata": {},
   "source": [
    "Проводим тестирование для групп 246 и 248"
   ]
  },
  {
   "cell_type": "code",
   "execution_count": 49,
   "metadata": {},
   "outputs": [
    {
     "data": {
      "text/html": [
       "<div>\n",
       "<style scoped>\n",
       "    .dataframe tbody tr th:only-of-type {\n",
       "        vertical-align: middle;\n",
       "    }\n",
       "\n",
       "    .dataframe tbody tr th {\n",
       "        vertical-align: top;\n",
       "    }\n",
       "\n",
       "    .dataframe thead th {\n",
       "        text-align: right;\n",
       "    }\n",
       "</style>\n",
       "<table border=\"1\" class=\"dataframe\">\n",
       "  <thead>\n",
       "    <tr style=\"text-align: right;\">\n",
       "      <th></th>\n",
       "      <th>p_value</th>\n",
       "      <th>alpha</th>\n",
       "      <th>test_result</th>\n",
       "      <th>alpha_holm</th>\n",
       "      <th>test_result_corr</th>\n",
       "    </tr>\n",
       "  </thead>\n",
       "  <tbody>\n",
       "    <tr>\n",
       "      <th>0</th>\n",
       "      <td>0.078429</td>\n",
       "      <td>0.05</td>\n",
       "      <td>False</td>\n",
       "      <td>0.012500</td>\n",
       "      <td>False</td>\n",
       "    </tr>\n",
       "    <tr>\n",
       "      <th>1</th>\n",
       "      <td>0.294972</td>\n",
       "      <td>0.05</td>\n",
       "      <td>False</td>\n",
       "      <td>0.016667</td>\n",
       "      <td>False</td>\n",
       "    </tr>\n",
       "    <tr>\n",
       "      <th>2</th>\n",
       "      <td>0.208362</td>\n",
       "      <td>0.05</td>\n",
       "      <td>False</td>\n",
       "      <td>0.025000</td>\n",
       "      <td>False</td>\n",
       "    </tr>\n",
       "    <tr>\n",
       "      <th>3</th>\n",
       "      <td>0.212255</td>\n",
       "      <td>0.05</td>\n",
       "      <td>False</td>\n",
       "      <td>0.050000</td>\n",
       "      <td>False</td>\n",
       "    </tr>\n",
       "  </tbody>\n",
       "</table>\n",
       "</div>"
      ],
      "text/plain": [
       "    p_value  alpha  test_result  alpha_holm  test_result_corr\n",
       "0  0.078429   0.05        False    0.012500             False\n",
       "1  0.294972   0.05        False    0.016667             False\n",
       "2  0.208362   0.05        False    0.025000             False\n",
       "3  0.212255   0.05        False    0.050000             False"
      ]
     },
     "execution_count": 49,
     "metadata": {},
     "output_type": "execute_result"
    }
   ],
   "source": [
    "test_corr(246, 248)"
   ]
  },
  {
   "cell_type": "markdown",
   "metadata": {},
   "source": [
    "Проводим тестирование для групп 247 и 248"
   ]
  },
  {
   "cell_type": "code",
   "execution_count": 50,
   "metadata": {},
   "outputs": [
    {
     "data": {
      "text/html": [
       "<div>\n",
       "<style scoped>\n",
       "    .dataframe tbody tr th:only-of-type {\n",
       "        vertical-align: middle;\n",
       "    }\n",
       "\n",
       "    .dataframe tbody tr th {\n",
       "        vertical-align: top;\n",
       "    }\n",
       "\n",
       "    .dataframe thead th {\n",
       "        text-align: right;\n",
       "    }\n",
       "</style>\n",
       "<table border=\"1\" class=\"dataframe\">\n",
       "  <thead>\n",
       "    <tr style=\"text-align: right;\">\n",
       "      <th></th>\n",
       "      <th>p_value</th>\n",
       "      <th>alpha</th>\n",
       "      <th>test_result</th>\n",
       "      <th>alpha_holm</th>\n",
       "      <th>test_result_corr</th>\n",
       "    </tr>\n",
       "  </thead>\n",
       "  <tbody>\n",
       "    <tr>\n",
       "      <th>0</th>\n",
       "      <td>0.578620</td>\n",
       "      <td>0.05</td>\n",
       "      <td>False</td>\n",
       "      <td>0.012500</td>\n",
       "      <td>False</td>\n",
       "    </tr>\n",
       "    <tr>\n",
       "      <th>1</th>\n",
       "      <td>0.458705</td>\n",
       "      <td>0.05</td>\n",
       "      <td>False</td>\n",
       "      <td>0.016667</td>\n",
       "      <td>False</td>\n",
       "    </tr>\n",
       "    <tr>\n",
       "      <th>2</th>\n",
       "      <td>0.919782</td>\n",
       "      <td>0.05</td>\n",
       "      <td>False</td>\n",
       "      <td>0.025000</td>\n",
       "      <td>False</td>\n",
       "    </tr>\n",
       "    <tr>\n",
       "      <th>3</th>\n",
       "      <td>0.737342</td>\n",
       "      <td>0.05</td>\n",
       "      <td>False</td>\n",
       "      <td>0.050000</td>\n",
       "      <td>False</td>\n",
       "    </tr>\n",
       "  </tbody>\n",
       "</table>\n",
       "</div>"
      ],
      "text/plain": [
       "    p_value  alpha  test_result  alpha_holm  test_result_corr\n",
       "0  0.578620   0.05        False    0.012500             False\n",
       "1  0.458705   0.05        False    0.016667             False\n",
       "2  0.919782   0.05        False    0.025000             False\n",
       "3  0.737342   0.05        False    0.050000             False"
      ]
     },
     "execution_count": 50,
     "metadata": {},
     "output_type": "execute_result"
    }
   ],
   "source": [
    "test_corr(247, 248)"
   ]
  },
  {
   "cell_type": "markdown",
   "metadata": {},
   "source": [
    "Проводим тестирование для групп 249 и 248"
   ]
  },
  {
   "cell_type": "code",
   "execution_count": 51,
   "metadata": {},
   "outputs": [
    {
     "data": {
      "text/html": [
       "<div>\n",
       "<style scoped>\n",
       "    .dataframe tbody tr th:only-of-type {\n",
       "        vertical-align: middle;\n",
       "    }\n",
       "\n",
       "    .dataframe tbody tr th {\n",
       "        vertical-align: top;\n",
       "    }\n",
       "\n",
       "    .dataframe thead th {\n",
       "        text-align: right;\n",
       "    }\n",
       "</style>\n",
       "<table border=\"1\" class=\"dataframe\">\n",
       "  <thead>\n",
       "    <tr style=\"text-align: right;\">\n",
       "      <th></th>\n",
       "      <th>p_value</th>\n",
       "      <th>alpha</th>\n",
       "      <th>test_result</th>\n",
       "      <th>alpha_holm</th>\n",
       "      <th>test_result_corr</th>\n",
       "    </tr>\n",
       "  </thead>\n",
       "  <tbody>\n",
       "    <tr>\n",
       "      <th>0</th>\n",
       "      <td>0.181759</td>\n",
       "      <td>0.05</td>\n",
       "      <td>False</td>\n",
       "      <td>0.012500</td>\n",
       "      <td>False</td>\n",
       "    </tr>\n",
       "    <tr>\n",
       "      <th>1</th>\n",
       "      <td>0.294245</td>\n",
       "      <td>0.05</td>\n",
       "      <td>False</td>\n",
       "      <td>0.016667</td>\n",
       "      <td>False</td>\n",
       "    </tr>\n",
       "    <tr>\n",
       "      <th>2</th>\n",
       "      <td>0.434255</td>\n",
       "      <td>0.05</td>\n",
       "      <td>False</td>\n",
       "      <td>0.025000</td>\n",
       "      <td>False</td>\n",
       "    </tr>\n",
       "    <tr>\n",
       "      <th>3</th>\n",
       "      <td>0.600429</td>\n",
       "      <td>0.05</td>\n",
       "      <td>False</td>\n",
       "      <td>0.050000</td>\n",
       "      <td>False</td>\n",
       "    </tr>\n",
       "  </tbody>\n",
       "</table>\n",
       "</div>"
      ],
      "text/plain": [
       "    p_value  alpha  test_result  alpha_holm  test_result_corr\n",
       "0  0.181759   0.05        False    0.012500             False\n",
       "1  0.294245   0.05        False    0.016667             False\n",
       "2  0.434255   0.05        False    0.025000             False\n",
       "3  0.600429   0.05        False    0.050000             False"
      ]
     },
     "execution_count": 51,
     "metadata": {},
     "output_type": "execute_result"
    }
   ],
   "source": [
    "test_corr(249, 248)"
   ]
  },
  {
   "cell_type": "markdown",
   "metadata": {},
   "source": [
    "**После проведения коррекции уровня значимости методом Холма результаты эксперимента не изменились - ни в одном из тестов не удалось отвергнуть нулевую гипотезу. Изменение шрифта не привело к ухудшению продажах.**"
   ]
  },
  {
   "cell_type": "markdown",
   "metadata": {},
   "source": [
    "### Выводы."
   ]
  },
  {
   "cell_type": "markdown",
   "metadata": {},
   "source": [
    "**По результатам исследования было определено следующее:**\n",
    "\n",
    "По воронке продаж: \n",
    "* Воронка продаж состоит из событий MainScreenAppear, OffersScreenAppear, CartScreenAppear и PaymentScreenSuccessful; \n",
    "* Больше всего пользователей теряется на событии OffersScreenAppear - только 61.9% пользователей перешли от MainScreenAppear к OffersScreenAppear. На других этапах потери меньше: 81.3% пользователей перешли от OffersScreenAppear к CartScreenAppear и 94.8% пользователей перешли от CartScreenAppear к PaymentScreenSuccessful;\n",
    "* Доля пользователей, совершивших оплату покупки: 47%;\n",
    "\n",
    "По результатам А/А/В эксперимента:\n",
    "* Тест можно считать оконченным. Изменение шрифта не привело ухудшению продажах."
   ]
  },
  {
   "cell_type": "code",
   "execution_count": null,
   "metadata": {},
   "outputs": [],
   "source": []
  }
 ],
 "metadata": {
  "ExecuteTimeLog": [
   {
    "duration": 49,
    "start_time": "2024-05-27T05:47:07.254Z"
   },
   {
    "duration": 7,
    "start_time": "2024-05-27T05:47:15.957Z"
   },
   {
    "duration": 363,
    "start_time": "2024-05-27T05:47:25.413Z"
   },
   {
    "duration": 368,
    "start_time": "2024-05-27T05:47:26.613Z"
   },
   {
    "duration": 11,
    "start_time": "2024-05-27T05:47:38.870Z"
   },
   {
    "duration": 54,
    "start_time": "2024-05-27T05:48:14.245Z"
   },
   {
    "duration": 62,
    "start_time": "2024-05-27T05:48:48.308Z"
   },
   {
    "duration": 298,
    "start_time": "2024-05-27T05:51:20.235Z"
   },
   {
    "duration": 6,
    "start_time": "2024-05-27T05:51:22.894Z"
   },
   {
    "duration": 174,
    "start_time": "2024-05-27T05:51:29.290Z"
   },
   {
    "duration": 8,
    "start_time": "2024-05-27T05:51:30.042Z"
   },
   {
    "duration": 22,
    "start_time": "2024-05-27T05:52:03.825Z"
   },
   {
    "duration": 2,
    "start_time": "2024-05-27T05:54:03.288Z"
   },
   {
    "duration": 44,
    "start_time": "2024-05-27T07:15:07.467Z"
   },
   {
    "duration": 8,
    "start_time": "2024-05-27T07:23:15.850Z"
   },
   {
    "duration": 8,
    "start_time": "2024-05-27T07:23:24.617Z"
   },
   {
    "duration": 39,
    "start_time": "2024-05-27T07:23:45.593Z"
   },
   {
    "duration": 9,
    "start_time": "2024-05-27T07:23:52.462Z"
   },
   {
    "duration": 45,
    "start_time": "2024-05-27T07:26:18.031Z"
   },
   {
    "duration": 8,
    "start_time": "2024-05-27T07:26:20.257Z"
   },
   {
    "duration": 23,
    "start_time": "2024-05-27T07:27:37.382Z"
   },
   {
    "duration": 10,
    "start_time": "2024-05-27T07:27:43.086Z"
   },
   {
    "duration": 12,
    "start_time": "2024-05-27T07:34:37.425Z"
   },
   {
    "duration": 8,
    "start_time": "2024-05-27T07:34:52.992Z"
   },
   {
    "duration": 171,
    "start_time": "2024-05-27T07:37:37.735Z"
   },
   {
    "duration": 7,
    "start_time": "2024-05-27T07:37:43.894Z"
   },
   {
    "duration": 8,
    "start_time": "2024-05-27T07:37:51.038Z"
   },
   {
    "duration": 8,
    "start_time": "2024-05-27T07:37:54.110Z"
   },
   {
    "duration": 20,
    "start_time": "2024-05-27T07:38:09.869Z"
   },
   {
    "duration": 167,
    "start_time": "2024-05-27T07:42:12.420Z"
   },
   {
    "duration": 5,
    "start_time": "2024-05-27T07:42:16.435Z"
   },
   {
    "duration": 18,
    "start_time": "2024-05-27T07:42:19.705Z"
   },
   {
    "duration": 56,
    "start_time": "2024-05-27T07:43:00.171Z"
   },
   {
    "duration": 69,
    "start_time": "2024-05-27T07:44:16.650Z"
   },
   {
    "duration": 74,
    "start_time": "2024-05-27T07:44:59.082Z"
   },
   {
    "duration": 67,
    "start_time": "2024-05-27T07:45:16.810Z"
   },
   {
    "duration": 57,
    "start_time": "2024-05-27T07:45:28.921Z"
   },
   {
    "duration": 18,
    "start_time": "2024-05-27T07:46:04.569Z"
   },
   {
    "duration": 7,
    "start_time": "2024-05-27T07:47:12.393Z"
   },
   {
    "duration": 8,
    "start_time": "2024-05-27T07:47:19.857Z"
   },
   {
    "duration": 2,
    "start_time": "2024-05-27T07:51:41.182Z"
   },
   {
    "duration": 177,
    "start_time": "2024-05-27T07:51:42.189Z"
   },
   {
    "duration": 7,
    "start_time": "2024-05-27T07:51:42.638Z"
   },
   {
    "duration": 3,
    "start_time": "2024-05-27T07:51:45.429Z"
   },
   {
    "duration": 56,
    "start_time": "2024-05-27T07:51:47.854Z"
   },
   {
    "duration": 59,
    "start_time": "2024-05-27T07:51:48.452Z"
   },
   {
    "duration": 57,
    "start_time": "2024-05-27T07:51:49.133Z"
   },
   {
    "duration": 18,
    "start_time": "2024-05-27T07:51:51.044Z"
   },
   {
    "duration": 6,
    "start_time": "2024-05-27T07:51:52.613Z"
   },
   {
    "duration": 7,
    "start_time": "2024-05-27T07:51:53.500Z"
   },
   {
    "duration": 10,
    "start_time": "2024-05-27T07:51:57.604Z"
   },
   {
    "duration": 25,
    "start_time": "2024-05-27T07:58:02.152Z"
   },
   {
    "duration": 22,
    "start_time": "2024-05-27T07:58:36.511Z"
   },
   {
    "duration": 26,
    "start_time": "2024-05-27T07:58:50.825Z"
   },
   {
    "duration": 23,
    "start_time": "2024-05-27T07:58:56.168Z"
   },
   {
    "duration": 14,
    "start_time": "2024-05-27T08:00:07.830Z"
   },
   {
    "duration": 14,
    "start_time": "2024-05-27T08:00:42.222Z"
   },
   {
    "duration": 8,
    "start_time": "2024-05-27T08:02:12.846Z"
   },
   {
    "duration": 17,
    "start_time": "2024-05-27T08:04:31.596Z"
   },
   {
    "duration": 56,
    "start_time": "2024-05-27T08:05:12.074Z"
   },
   {
    "duration": 17,
    "start_time": "2024-05-27T08:05:21.722Z"
   },
   {
    "duration": 18,
    "start_time": "2024-05-27T08:06:02.019Z"
   },
   {
    "duration": 6,
    "start_time": "2024-05-27T08:06:36.499Z"
   },
   {
    "duration": 8,
    "start_time": "2024-05-27T08:16:38.970Z"
   },
   {
    "duration": 69,
    "start_time": "2024-05-27T08:17:27.378Z"
   },
   {
    "duration": 44,
    "start_time": "2024-05-27T08:17:32.024Z"
   },
   {
    "duration": 9,
    "start_time": "2024-05-27T08:17:36.155Z"
   },
   {
    "duration": 9,
    "start_time": "2024-05-27T08:23:25.580Z"
   },
   {
    "duration": 880,
    "start_time": "2024-05-27T08:24:04.243Z"
   },
   {
    "duration": 17,
    "start_time": "2024-05-27T08:24:38.258Z"
   },
   {
    "duration": 3,
    "start_time": "2024-05-27T08:25:31.081Z"
   },
   {
    "duration": 483,
    "start_time": "2024-05-27T08:25:37.258Z"
   },
   {
    "duration": 530,
    "start_time": "2024-05-27T08:25:53.537Z"
   },
   {
    "duration": 494,
    "start_time": "2024-05-27T08:26:00.794Z"
   },
   {
    "duration": 400,
    "start_time": "2024-05-27T08:26:32.161Z"
   },
   {
    "duration": 427,
    "start_time": "2024-05-27T08:28:07.904Z"
   },
   {
    "duration": 422,
    "start_time": "2024-05-27T08:29:21.639Z"
   },
   {
    "duration": 428,
    "start_time": "2024-05-27T08:30:21.382Z"
   },
   {
    "duration": 442,
    "start_time": "2024-05-27T08:32:54.027Z"
   },
   {
    "duration": 450,
    "start_time": "2024-05-27T08:33:12.826Z"
   },
   {
    "duration": 482,
    "start_time": "2024-05-27T08:33:37.300Z"
   },
   {
    "duration": 442,
    "start_time": "2024-05-27T08:34:07.948Z"
   },
   {
    "duration": 166,
    "start_time": "2024-05-27T09:04:47.519Z"
   },
   {
    "duration": 247,
    "start_time": "2024-05-27T09:04:54.909Z"
   },
   {
    "duration": 245,
    "start_time": "2024-05-27T09:05:58.990Z"
   },
   {
    "duration": 290,
    "start_time": "2024-05-27T09:08:48.548Z"
   },
   {
    "duration": 33,
    "start_time": "2024-05-27T09:13:33.879Z"
   },
   {
    "duration": 8,
    "start_time": "2024-05-27T09:14:31.679Z"
   },
   {
    "duration": 23,
    "start_time": "2024-05-27T09:14:35.175Z"
   },
   {
    "duration": 10,
    "start_time": "2024-05-27T09:14:39.752Z"
   },
   {
    "duration": 237,
    "start_time": "2024-05-27T09:14:48.510Z"
   },
   {
    "duration": 19,
    "start_time": "2024-05-27T09:14:55.680Z"
   },
   {
    "duration": 14,
    "start_time": "2024-05-27T09:38:06.305Z"
   },
   {
    "duration": 9,
    "start_time": "2024-05-27T09:38:39.039Z"
   },
   {
    "duration": 970,
    "start_time": "2024-05-27T09:39:07.967Z"
   },
   {
    "duration": 312,
    "start_time": "2024-05-27T09:39:29.783Z"
   },
   {
    "duration": 24,
    "start_time": "2024-05-27T09:41:52.878Z"
   },
   {
    "duration": 40,
    "start_time": "2024-05-27T09:42:09.396Z"
   },
   {
    "duration": 4,
    "start_time": "2024-05-27T12:27:01.371Z"
   },
   {
    "duration": 34,
    "start_time": "2024-05-27T12:28:30.810Z"
   },
   {
    "duration": 51,
    "start_time": "2024-05-27T12:34:35.061Z"
   },
   {
    "duration": 52,
    "start_time": "2024-05-27T12:36:08.699Z"
   },
   {
    "duration": 52,
    "start_time": "2024-05-27T12:36:15.067Z"
   },
   {
    "duration": 51,
    "start_time": "2024-05-27T12:41:18.231Z"
   },
   {
    "duration": 45,
    "start_time": "2024-05-27T12:43:09.549Z"
   },
   {
    "duration": 58,
    "start_time": "2024-05-27T12:49:18.473Z"
   },
   {
    "duration": 54,
    "start_time": "2024-05-27T12:49:54.720Z"
   },
   {
    "duration": 55,
    "start_time": "2024-05-27T12:50:14.036Z"
   },
   {
    "duration": 978,
    "start_time": "2024-05-27T12:54:21.891Z"
   },
   {
    "duration": 287,
    "start_time": "2024-05-27T12:56:37.195Z"
   },
   {
    "duration": 299,
    "start_time": "2024-05-27T12:57:50.851Z"
   },
   {
    "duration": 275,
    "start_time": "2024-05-27T12:57:59.652Z"
   },
   {
    "duration": 60,
    "start_time": "2024-05-27T12:58:15.929Z"
   },
   {
    "duration": 226,
    "start_time": "2024-05-27T12:58:33.016Z"
   },
   {
    "duration": 48,
    "start_time": "2024-05-27T12:59:34.536Z"
   },
   {
    "duration": 3,
    "start_time": "2024-05-27T12:59:35.384Z"
   },
   {
    "duration": 55,
    "start_time": "2024-05-27T13:00:08.624Z"
   },
   {
    "duration": 49,
    "start_time": "2024-05-27T13:00:15.991Z"
   },
   {
    "duration": 147,
    "start_time": "2024-05-27T13:01:05.142Z"
   },
   {
    "duration": 104,
    "start_time": "2024-05-27T13:02:09.758Z"
   },
   {
    "duration": 60,
    "start_time": "2024-05-27T13:02:36.397Z"
   },
   {
    "duration": 59,
    "start_time": "2024-05-27T13:02:46.309Z"
   },
   {
    "duration": 64,
    "start_time": "2024-05-27T13:03:05.013Z"
   },
   {
    "duration": 60,
    "start_time": "2024-05-27T13:03:21.669Z"
   },
   {
    "duration": 65,
    "start_time": "2024-05-27T13:03:55.204Z"
   },
   {
    "duration": 47,
    "start_time": "2024-05-27T13:04:05.388Z"
   },
   {
    "duration": 59,
    "start_time": "2024-05-27T13:04:54.020Z"
   },
   {
    "duration": 8,
    "start_time": "2024-05-27T13:05:12.291Z"
   },
   {
    "duration": 4,
    "start_time": "2024-05-27T13:05:33.814Z"
   },
   {
    "duration": 7,
    "start_time": "2024-05-27T13:17:03.945Z"
   },
   {
    "duration": 977,
    "start_time": "2024-05-27T13:23:30.186Z"
   },
   {
    "duration": 6,
    "start_time": "2024-05-27T13:23:51.042Z"
   },
   {
    "duration": 4,
    "start_time": "2024-05-27T13:24:10.218Z"
   },
   {
    "duration": 16,
    "start_time": "2024-05-27T13:24:14.545Z"
   },
   {
    "duration": 64,
    "start_time": "2024-05-27T13:24:23.735Z"
   },
   {
    "duration": 4,
    "start_time": "2024-05-27T13:24:25.536Z"
   },
   {
    "duration": 5,
    "start_time": "2024-05-27T13:25:01.377Z"
   },
   {
    "duration": 9,
    "start_time": "2024-05-27T13:25:05.112Z"
   },
   {
    "duration": 956,
    "start_time": "2024-05-27T13:25:49.888Z"
   },
   {
    "duration": 6,
    "start_time": "2024-05-27T13:26:00.853Z"
   },
   {
    "duration": 8,
    "start_time": "2024-05-27T13:26:04.063Z"
   },
   {
    "duration": 67,
    "start_time": "2024-05-27T13:26:27.144Z"
   },
   {
    "duration": 3,
    "start_time": "2024-05-27T13:26:28.106Z"
   },
   {
    "duration": 4,
    "start_time": "2024-05-27T13:26:41.159Z"
   },
   {
    "duration": 8,
    "start_time": "2024-05-27T13:26:43.751Z"
   },
   {
    "duration": 56,
    "start_time": "2024-05-27T13:27:33.414Z"
   },
   {
    "duration": 3,
    "start_time": "2024-05-27T13:27:34.133Z"
   },
   {
    "duration": 6,
    "start_time": "2024-05-27T13:27:36.829Z"
   },
   {
    "duration": 8,
    "start_time": "2024-05-27T13:27:39.127Z"
   },
   {
    "duration": 6,
    "start_time": "2024-05-27T13:28:30.398Z"
   },
   {
    "duration": 8,
    "start_time": "2024-05-27T13:28:40.956Z"
   },
   {
    "duration": 59,
    "start_time": "2024-05-27T13:28:45.150Z"
   },
   {
    "duration": 4,
    "start_time": "2024-05-27T13:28:46.543Z"
   },
   {
    "duration": 8,
    "start_time": "2024-05-27T13:28:52.037Z"
   },
   {
    "duration": 5,
    "start_time": "2024-05-27T13:28:53.884Z"
   },
   {
    "duration": 7,
    "start_time": "2024-05-27T13:28:55.900Z"
   },
   {
    "duration": 947,
    "start_time": "2024-05-27T13:30:04.771Z"
   },
   {
    "duration": 4,
    "start_time": "2024-05-27T13:31:26.379Z"
   },
   {
    "duration": 5,
    "start_time": "2024-05-27T16:18:18.328Z"
   },
   {
    "duration": 5,
    "start_time": "2024-05-27T16:18:45.781Z"
   },
   {
    "duration": 73,
    "start_time": "2024-05-27T16:27:58.443Z"
   },
   {
    "duration": 428,
    "start_time": "2024-05-27T16:36:35.525Z"
   },
   {
    "duration": 80,
    "start_time": "2024-05-27T16:54:12.160Z"
   },
   {
    "duration": 7,
    "start_time": "2024-05-27T16:54:13.443Z"
   },
   {
    "duration": 29,
    "start_time": "2024-05-27T16:55:15.972Z"
   },
   {
    "duration": 3,
    "start_time": "2024-05-27T16:55:49.684Z"
   },
   {
    "duration": 7,
    "start_time": "2024-05-27T16:55:50.699Z"
   },
   {
    "duration": 31,
    "start_time": "2024-05-27T16:56:10.332Z"
   },
   {
    "duration": 957,
    "start_time": "2024-05-27T17:27:02.524Z"
   },
   {
    "duration": 896,
    "start_time": "2024-05-27T17:28:43.924Z"
   },
   {
    "duration": 5,
    "start_time": "2024-05-27T17:47:48.905Z"
   },
   {
    "duration": 3,
    "start_time": "2024-05-27T17:48:39.549Z"
   },
   {
    "duration": 4,
    "start_time": "2024-05-27T17:48:58.231Z"
   },
   {
    "duration": 4,
    "start_time": "2024-05-27T17:49:27.775Z"
   },
   {
    "duration": 7,
    "start_time": "2024-05-27T18:05:08.590Z"
   },
   {
    "duration": 7,
    "start_time": "2024-05-27T18:05:44.213Z"
   },
   {
    "duration": 10,
    "start_time": "2024-05-27T18:06:19.126Z"
   },
   {
    "duration": 1010,
    "start_time": "2024-05-28T07:26:47.472Z"
   },
   {
    "duration": 5,
    "start_time": "2024-05-28T07:28:13.428Z"
   },
   {
    "duration": 4,
    "start_time": "2024-05-28T07:28:28.407Z"
   },
   {
    "duration": 8,
    "start_time": "2024-05-28T07:30:30.543Z"
   },
   {
    "duration": 4,
    "start_time": "2024-05-28T07:30:34.516Z"
   },
   {
    "duration": 6,
    "start_time": "2024-05-28T07:30:35.988Z"
   },
   {
    "duration": 22,
    "start_time": "2024-05-28T07:41:33.125Z"
   },
   {
    "duration": 32,
    "start_time": "2024-05-28T07:42:36.926Z"
   },
   {
    "duration": 23,
    "start_time": "2024-05-28T07:42:47.541Z"
   },
   {
    "duration": 17,
    "start_time": "2024-05-28T07:42:52.181Z"
   },
   {
    "duration": 20,
    "start_time": "2024-05-28T07:48:55.218Z"
   },
   {
    "duration": 5,
    "start_time": "2024-05-28T07:48:56.489Z"
   },
   {
    "duration": 6,
    "start_time": "2024-05-28T07:48:57.168Z"
   },
   {
    "duration": 19,
    "start_time": "2024-05-28T07:49:29.464Z"
   },
   {
    "duration": 5,
    "start_time": "2024-05-28T07:49:29.920Z"
   },
   {
    "duration": 6,
    "start_time": "2024-05-28T07:49:30.592Z"
   },
   {
    "duration": 27,
    "start_time": "2024-05-28T07:55:45.044Z"
   },
   {
    "duration": 38,
    "start_time": "2024-05-28T07:56:16.997Z"
   },
   {
    "duration": 23,
    "start_time": "2024-05-28T07:56:29.404Z"
   },
   {
    "duration": 23,
    "start_time": "2024-05-28T07:56:40.492Z"
   },
   {
    "duration": 28,
    "start_time": "2024-05-28T07:58:31.746Z"
   },
   {
    "duration": 168,
    "start_time": "2024-05-28T08:01:44.190Z"
   },
   {
    "duration": 4,
    "start_time": "2024-05-28T08:02:56.038Z"
   },
   {
    "duration": 39,
    "start_time": "2024-05-28T08:16:54.962Z"
   },
   {
    "duration": 34,
    "start_time": "2024-05-28T08:18:37.879Z"
   },
   {
    "duration": 7,
    "start_time": "2024-05-28T08:18:52.062Z"
   },
   {
    "duration": 8,
    "start_time": "2024-05-28T08:19:02.407Z"
   },
   {
    "duration": 5,
    "start_time": "2024-05-28T12:57:04.769Z"
   },
   {
    "duration": 3,
    "start_time": "2024-05-28T13:15:25.401Z"
   },
   {
    "duration": 4,
    "start_time": "2024-05-28T13:16:15.953Z"
   },
   {
    "duration": 4,
    "start_time": "2024-05-28T13:16:19.134Z"
   },
   {
    "duration": 8,
    "start_time": "2024-05-28T13:16:52.584Z"
   },
   {
    "duration": 12,
    "start_time": "2024-05-28T16:09:58.359Z"
   },
   {
    "duration": 46,
    "start_time": "2024-05-28T16:09:59.202Z"
   },
   {
    "duration": 4,
    "start_time": "2024-05-28T16:10:05.432Z"
   },
   {
    "duration": 8,
    "start_time": "2024-05-28T16:10:08.956Z"
   },
   {
    "duration": 1351,
    "start_time": "2024-05-28T17:54:02.488Z"
   },
   {
    "duration": 294,
    "start_time": "2024-05-28T17:54:03.841Z"
   },
   {
    "duration": 16,
    "start_time": "2024-05-28T17:54:04.138Z"
   },
   {
    "duration": 34,
    "start_time": "2024-05-28T17:54:06.039Z"
   },
   {
    "duration": 3,
    "start_time": "2024-05-28T17:54:07.575Z"
   },
   {
    "duration": 69,
    "start_time": "2024-05-28T17:54:10.407Z"
   },
   {
    "duration": 77,
    "start_time": "2024-05-28T17:54:11.182Z"
   },
   {
    "duration": 65,
    "start_time": "2024-05-28T17:54:11.975Z"
   },
   {
    "duration": 20,
    "start_time": "2024-05-28T17:54:12.726Z"
   },
   {
    "duration": 8,
    "start_time": "2024-05-28T17:54:13.439Z"
   },
   {
    "duration": 7,
    "start_time": "2024-05-28T17:54:14.814Z"
   },
   {
    "duration": 28,
    "start_time": "2024-05-28T17:54:17.846Z"
   },
   {
    "duration": 7,
    "start_time": "2024-05-28T17:54:18.502Z"
   },
   {
    "duration": 6,
    "start_time": "2024-05-28T17:54:19.375Z"
   },
   {
    "duration": 19,
    "start_time": "2024-05-28T17:54:21.775Z"
   },
   {
    "duration": 10,
    "start_time": "2024-05-28T17:54:22.359Z"
   },
   {
    "duration": 18,
    "start_time": "2024-05-28T17:54:22.998Z"
   },
   {
    "duration": 188,
    "start_time": "2024-05-28T17:54:24.071Z"
   },
   {
    "duration": 4,
    "start_time": "2024-05-28T17:54:27.135Z"
   },
   {
    "duration": 7,
    "start_time": "2024-05-28T17:54:28.826Z"
   },
   {
    "duration": 4,
    "start_time": "2024-05-28T17:54:29.631Z"
   },
   {
    "duration": 6,
    "start_time": "2024-05-28T17:54:31.895Z"
   },
   {
    "duration": 329,
    "start_time": "2024-05-28T17:54:33.206Z"
   },
   {
    "duration": 16,
    "start_time": "2024-05-28T17:54:38.679Z"
   },
   {
    "duration": 14,
    "start_time": "2024-05-28T17:54:39.375Z"
   },
   {
    "duration": 26,
    "start_time": "2024-05-28T17:54:41.231Z"
   },
   {
    "duration": 36,
    "start_time": "2024-05-28T17:54:41.880Z"
   },
   {
    "duration": 28,
    "start_time": "2024-05-28T17:54:48.675Z"
   },
   {
    "duration": 78,
    "start_time": "2024-05-28T17:54:49.335Z"
   },
   {
    "duration": 8,
    "start_time": "2024-05-28T17:54:51.935Z"
   },
   {
    "duration": 11,
    "start_time": "2024-05-28T17:54:53.167Z"
   },
   {
    "duration": 5,
    "start_time": "2024-05-28T17:54:55.399Z"
   },
   {
    "duration": 5,
    "start_time": "2024-05-28T17:55:41.127Z"
   },
   {
    "duration": 33,
    "start_time": "2024-05-28T17:55:55.632Z"
   },
   {
    "duration": 79,
    "start_time": "2024-05-28T17:55:56.431Z"
   },
   {
    "duration": 3,
    "start_time": "2024-05-28T17:55:58.767Z"
   },
   {
    "duration": 8,
    "start_time": "2024-05-28T17:55:59.791Z"
   },
   {
    "duration": 11,
    "start_time": "2024-05-28T17:56:02.871Z"
   },
   {
    "duration": 5,
    "start_time": "2024-05-28T17:56:03.975Z"
   },
   {
    "duration": 4,
    "start_time": "2024-05-28T17:56:05.112Z"
   },
   {
    "duration": 7,
    "start_time": "2024-05-28T17:56:06.367Z"
   },
   {
    "duration": 5,
    "start_time": "2024-05-28T17:56:07.352Z"
   },
   {
    "duration": 11,
    "start_time": "2024-05-28T17:56:24.255Z"
   },
   {
    "duration": 11,
    "start_time": "2024-05-28T17:57:11.128Z"
   },
   {
    "duration": 11,
    "start_time": "2024-05-28T17:57:30.848Z"
   },
   {
    "duration": 11,
    "start_time": "2024-05-28T17:58:03.999Z"
   },
   {
    "duration": 56,
    "start_time": "2024-05-29T15:06:09.147Z"
   },
   {
    "duration": 1415,
    "start_time": "2024-05-29T15:06:16.883Z"
   },
   {
    "duration": 839,
    "start_time": "2024-05-29T15:06:19.428Z"
   },
   {
    "duration": 14,
    "start_time": "2024-05-29T15:06:21.107Z"
   },
   {
    "duration": 25,
    "start_time": "2024-05-29T15:06:22.635Z"
   },
   {
    "duration": 3,
    "start_time": "2024-05-29T15:06:26.883Z"
   },
   {
    "duration": 69,
    "start_time": "2024-05-29T15:06:28.067Z"
   },
   {
    "duration": 76,
    "start_time": "2024-05-29T15:06:30.443Z"
   },
   {
    "duration": 66,
    "start_time": "2024-05-29T15:06:30.932Z"
   },
   {
    "duration": 21,
    "start_time": "2024-05-29T15:06:32.180Z"
   },
   {
    "duration": 8,
    "start_time": "2024-05-29T15:06:36.808Z"
   },
   {
    "duration": 8,
    "start_time": "2024-05-29T15:06:39.163Z"
   },
   {
    "duration": 224,
    "start_time": "2024-05-29T15:27:39.561Z"
   },
   {
    "duration": 5,
    "start_time": "2024-05-29T15:27:42.736Z"
   },
   {
    "duration": 9,
    "start_time": "2024-05-29T15:34:59.609Z"
   },
   {
    "duration": 6,
    "start_time": "2024-05-29T15:35:54.911Z"
   },
   {
    "duration": 69,
    "start_time": "2024-05-29T15:45:07.020Z"
   },
   {
    "duration": 8,
    "start_time": "2024-05-29T15:45:49.388Z"
   },
   {
    "duration": 3,
    "start_time": "2024-05-29T15:45:55.425Z"
   },
   {
    "duration": 195,
    "start_time": "2024-05-29T15:45:56.139Z"
   },
   {
    "duration": 8,
    "start_time": "2024-05-29T15:45:56.707Z"
   },
   {
    "duration": 24,
    "start_time": "2024-05-29T15:45:57.443Z"
   },
   {
    "duration": 3,
    "start_time": "2024-05-29T15:46:00.955Z"
   },
   {
    "duration": 67,
    "start_time": "2024-05-29T15:46:01.972Z"
   },
   {
    "duration": 70,
    "start_time": "2024-05-29T15:46:02.980Z"
   },
   {
    "duration": 68,
    "start_time": "2024-05-29T15:46:03.539Z"
   },
   {
    "duration": 32,
    "start_time": "2024-05-29T15:46:04.595Z"
   },
   {
    "duration": 7,
    "start_time": "2024-05-29T15:46:06.132Z"
   },
   {
    "duration": 7,
    "start_time": "2024-05-29T15:46:06.780Z"
   },
   {
    "duration": 30,
    "start_time": "2024-05-29T15:46:08.763Z"
   },
   {
    "duration": 6,
    "start_time": "2024-05-29T15:46:11.268Z"
   },
   {
    "duration": 7,
    "start_time": "2024-05-29T15:46:12.054Z"
   },
   {
    "duration": 14,
    "start_time": "2024-05-29T15:46:15.699Z"
   },
   {
    "duration": 10,
    "start_time": "2024-05-29T15:46:16.867Z"
   },
   {
    "duration": 20,
    "start_time": "2024-05-29T15:46:19.139Z"
   },
   {
    "duration": 214,
    "start_time": "2024-05-29T15:46:21.172Z"
   },
   {
    "duration": 5,
    "start_time": "2024-05-29T15:46:23.395Z"
   },
   {
    "duration": 7,
    "start_time": "2024-05-29T15:46:25.774Z"
   },
   {
    "duration": 6,
    "start_time": "2024-05-29T15:46:26.851Z"
   },
   {
    "duration": 333,
    "start_time": "2024-05-29T15:46:28.756Z"
   },
   {
    "duration": 14,
    "start_time": "2024-05-29T15:46:34.028Z"
   },
   {
    "duration": 228,
    "start_time": "2024-05-29T15:46:36.404Z"
   },
   {
    "duration": 231,
    "start_time": "2024-05-29T15:47:08.620Z"
   },
   {
    "duration": 243,
    "start_time": "2024-05-29T15:47:25.109Z"
   },
   {
    "duration": 4,
    "start_time": "2024-05-29T16:18:35.155Z"
   },
   {
    "duration": 12,
    "start_time": "2024-05-29T16:18:44.130Z"
   },
   {
    "duration": 10,
    "start_time": "2024-05-29T16:18:54.647Z"
   },
   {
    "duration": 27,
    "start_time": "2024-05-29T16:19:05.242Z"
   },
   {
    "duration": 72,
    "start_time": "2024-05-29T16:19:10.426Z"
   },
   {
    "duration": 5,
    "start_time": "2024-05-29T16:19:15.986Z"
   },
   {
    "duration": 12,
    "start_time": "2024-05-29T16:35:51.279Z"
   },
   {
    "duration": 26,
    "start_time": "2024-05-29T16:35:51.854Z"
   },
   {
    "duration": 16,
    "start_time": "2024-05-29T16:38:12.295Z"
   },
   {
    "duration": 12,
    "start_time": "2024-05-29T16:38:15.726Z"
   },
   {
    "duration": 26,
    "start_time": "2024-05-29T16:38:18.159Z"
   },
   {
    "duration": 38,
    "start_time": "2024-05-29T16:41:39.895Z"
   },
   {
    "duration": 13,
    "start_time": "2024-05-29T17:06:15.302Z"
   },
   {
    "duration": 69,
    "start_time": "2024-05-29T17:07:21.806Z"
   },
   {
    "duration": 9,
    "start_time": "2024-05-29T17:07:24.733Z"
   },
   {
    "duration": 5,
    "start_time": "2024-05-29T17:07:34.821Z"
   },
   {
    "duration": 10,
    "start_time": "2024-05-29T17:07:44.709Z"
   },
   {
    "duration": 78,
    "start_time": "2024-05-29T17:16:50.171Z"
   },
   {
    "duration": 4,
    "start_time": "2024-05-29T17:17:06.742Z"
   },
   {
    "duration": 6,
    "start_time": "2024-05-29T17:18:18.392Z"
   },
   {
    "duration": 101,
    "start_time": "2024-05-29T17:25:26.577Z"
   },
   {
    "duration": 68,
    "start_time": "2024-05-29T17:25:39.753Z"
   },
   {
    "duration": 4,
    "start_time": "2024-05-29T17:25:49.883Z"
   },
   {
    "duration": 71,
    "start_time": "2024-05-29T17:28:41.130Z"
   },
   {
    "duration": 4,
    "start_time": "2024-05-29T17:29:21.865Z"
   },
   {
    "duration": 4,
    "start_time": "2024-05-29T17:29:33.305Z"
   },
   {
    "duration": 4,
    "start_time": "2024-05-29T17:31:01.714Z"
   },
   {
    "duration": 7,
    "start_time": "2024-05-29T17:35:16.057Z"
   },
   {
    "duration": 6,
    "start_time": "2024-05-29T17:36:20.491Z"
   },
   {
    "duration": 79,
    "start_time": "2024-05-29T17:39:18.156Z"
   },
   {
    "duration": 4,
    "start_time": "2024-05-29T17:39:18.892Z"
   },
   {
    "duration": 8,
    "start_time": "2024-05-29T17:39:19.620Z"
   },
   {
    "duration": 11,
    "start_time": "2024-05-29T17:40:33.596Z"
   },
   {
    "duration": 5,
    "start_time": "2024-05-29T17:40:52.196Z"
   },
   {
    "duration": 76,
    "start_time": "2024-05-29T17:51:14.182Z"
   },
   {
    "duration": 11,
    "start_time": "2024-05-29T17:51:18.994Z"
   },
   {
    "duration": 13,
    "start_time": "2024-05-29T17:55:52.809Z"
   },
   {
    "duration": 6,
    "start_time": "2024-05-29T17:56:05.544Z"
   },
   {
    "duration": 7,
    "start_time": "2024-05-29T17:57:33.360Z"
   },
   {
    "duration": 7,
    "start_time": "2024-05-29T17:58:25.928Z"
   },
   {
    "duration": 11,
    "start_time": "2024-05-29T18:08:20.426Z"
   },
   {
    "duration": 5,
    "start_time": "2024-05-29T18:08:24.010Z"
   },
   {
    "duration": 6,
    "start_time": "2024-05-29T18:08:26.537Z"
   },
   {
    "duration": 858,
    "start_time": "2024-05-29T18:11:22.474Z"
   },
   {
    "duration": 5,
    "start_time": "2024-05-29T18:12:10.378Z"
   },
   {
    "duration": 4,
    "start_time": "2024-05-29T18:12:18.746Z"
   },
   {
    "duration": 820,
    "start_time": "2024-05-29T18:12:30.683Z"
   },
   {
    "duration": 6,
    "start_time": "2024-05-29T18:12:42.833Z"
   },
   {
    "duration": 8,
    "start_time": "2024-05-29T18:13:45.643Z"
   },
   {
    "duration": 6,
    "start_time": "2024-05-29T18:19:35.852Z"
   },
   {
    "duration": 12,
    "start_time": "2024-05-29T18:19:39.187Z"
   },
   {
    "duration": 7,
    "start_time": "2024-05-29T18:20:53.813Z"
   },
   {
    "duration": 10,
    "start_time": "2024-05-29T18:20:54.812Z"
   },
   {
    "duration": 6,
    "start_time": "2024-05-29T18:21:33.564Z"
   },
   {
    "duration": 17,
    "start_time": "2024-05-29T18:21:35.371Z"
   },
   {
    "duration": 6,
    "start_time": "2024-05-29T18:21:55.148Z"
   },
   {
    "duration": 11,
    "start_time": "2024-05-29T18:21:55.667Z"
   },
   {
    "duration": 13,
    "start_time": "2024-05-29T18:25:25.516Z"
   },
   {
    "duration": 13,
    "start_time": "2024-05-29T18:25:31.148Z"
   },
   {
    "duration": 11,
    "start_time": "2024-05-29T18:25:38.908Z"
   },
   {
    "duration": 5,
    "start_time": "2024-05-29T20:07:42.260Z"
   },
   {
    "duration": 10,
    "start_time": "2024-05-29T20:08:20.930Z"
   },
   {
    "duration": 12,
    "start_time": "2024-05-29T20:15:32.123Z"
   },
   {
    "duration": 12,
    "start_time": "2024-05-29T20:28:07.278Z"
   },
   {
    "duration": 11,
    "start_time": "2024-05-29T20:28:26.981Z"
   },
   {
    "duration": 7,
    "start_time": "2024-05-29T20:28:53.702Z"
   },
   {
    "duration": 9,
    "start_time": "2024-05-29T20:29:05.925Z"
   },
   {
    "duration": 16,
    "start_time": "2024-05-29T20:35:03.173Z"
   },
   {
    "duration": 14,
    "start_time": "2024-05-29T20:35:57.961Z"
   },
   {
    "duration": 11,
    "start_time": "2024-05-29T20:38:32.568Z"
   },
   {
    "duration": 12,
    "start_time": "2024-05-29T20:39:32.127Z"
   },
   {
    "duration": 5,
    "start_time": "2024-05-29T20:39:45.599Z"
   },
   {
    "duration": 11,
    "start_time": "2024-05-29T20:39:50.689Z"
   },
   {
    "duration": 7,
    "start_time": "2024-05-29T20:41:02.343Z"
   },
   {
    "duration": 10,
    "start_time": "2024-05-29T20:42:23.880Z"
   },
   {
    "duration": 5,
    "start_time": "2024-05-29T20:43:45.911Z"
   },
   {
    "duration": 11,
    "start_time": "2024-05-29T20:43:59.169Z"
   },
   {
    "duration": 17,
    "start_time": "2024-05-29T20:44:42.849Z"
   },
   {
    "duration": 18,
    "start_time": "2024-05-29T20:45:43.370Z"
   },
   {
    "duration": 18,
    "start_time": "2024-05-29T20:47:01.394Z"
   },
   {
    "duration": 18,
    "start_time": "2024-05-29T20:47:27.530Z"
   },
   {
    "duration": 20,
    "start_time": "2024-05-29T20:47:53.962Z"
   },
   {
    "duration": 27,
    "start_time": "2024-05-29T20:50:35.794Z"
   },
   {
    "duration": 20,
    "start_time": "2024-05-29T20:50:41.731Z"
   },
   {
    "duration": 5,
    "start_time": "2024-05-29T20:58:01.834Z"
   },
   {
    "duration": 887,
    "start_time": "2024-05-29T20:58:30.084Z"
   },
   {
    "duration": 5,
    "start_time": "2024-05-29T20:59:45.932Z"
   },
   {
    "duration": 21,
    "start_time": "2024-05-29T20:59:46.996Z"
   },
   {
    "duration": 5,
    "start_time": "2024-05-29T21:00:21.044Z"
   },
   {
    "duration": 20,
    "start_time": "2024-05-29T21:00:21.852Z"
   },
   {
    "duration": 21,
    "start_time": "2024-05-29T21:00:40.348Z"
   },
   {
    "duration": 21,
    "start_time": "2024-05-29T21:01:00.940Z"
   },
   {
    "duration": 19,
    "start_time": "2024-05-29T21:01:49.492Z"
   },
   {
    "duration": 21,
    "start_time": "2024-05-29T21:13:41.126Z"
   },
   {
    "duration": 19,
    "start_time": "2024-05-29T21:14:36.983Z"
   },
   {
    "duration": 4,
    "start_time": "2024-05-29T21:17:03.766Z"
   },
   {
    "duration": 5,
    "start_time": "2024-05-29T21:17:06.248Z"
   },
   {
    "duration": 20,
    "start_time": "2024-05-29T21:17:07.237Z"
   },
   {
    "duration": 21,
    "start_time": "2024-05-29T21:17:08.399Z"
   },
   {
    "duration": 19,
    "start_time": "2024-05-29T21:17:09.766Z"
   },
   {
    "duration": 19,
    "start_time": "2024-05-29T21:17:10.911Z"
   },
   {
    "duration": 1321,
    "start_time": "2024-05-29T21:20:11.864Z"
   },
   {
    "duration": 188,
    "start_time": "2024-05-29T21:20:13.187Z"
   },
   {
    "duration": 15,
    "start_time": "2024-05-29T21:20:13.377Z"
   },
   {
    "duration": 23,
    "start_time": "2024-05-29T21:20:13.393Z"
   },
   {
    "duration": 3,
    "start_time": "2024-05-29T21:20:13.418Z"
   },
   {
    "duration": 88,
    "start_time": "2024-05-29T21:20:13.422Z"
   },
   {
    "duration": 85,
    "start_time": "2024-05-29T21:20:13.511Z"
   },
   {
    "duration": 64,
    "start_time": "2024-05-29T21:20:13.598Z"
   },
   {
    "duration": 33,
    "start_time": "2024-05-29T21:20:13.664Z"
   },
   {
    "duration": 11,
    "start_time": "2024-05-29T21:20:13.699Z"
   },
   {
    "duration": 17,
    "start_time": "2024-05-29T21:20:13.711Z"
   },
   {
    "duration": 42,
    "start_time": "2024-05-29T21:20:13.730Z"
   },
   {
    "duration": 6,
    "start_time": "2024-05-29T21:20:13.774Z"
   },
   {
    "duration": 34,
    "start_time": "2024-05-29T21:20:13.782Z"
   },
   {
    "duration": 47,
    "start_time": "2024-05-29T21:20:13.817Z"
   },
   {
    "duration": 23,
    "start_time": "2024-05-29T21:20:13.866Z"
   },
   {
    "duration": 25,
    "start_time": "2024-05-29T21:20:13.891Z"
   },
   {
    "duration": 190,
    "start_time": "2024-05-29T21:20:13.918Z"
   },
   {
    "duration": 4,
    "start_time": "2024-05-29T21:20:14.110Z"
   },
   {
    "duration": 13,
    "start_time": "2024-05-29T21:20:14.115Z"
   },
   {
    "duration": 19,
    "start_time": "2024-05-29T21:20:14.129Z"
   },
   {
    "duration": 333,
    "start_time": "2024-05-29T21:20:14.149Z"
   },
   {
    "duration": 20,
    "start_time": "2024-05-29T21:20:14.484Z"
   },
   {
    "duration": 16,
    "start_time": "2024-05-29T21:20:14.506Z"
   },
   {
    "duration": 26,
    "start_time": "2024-05-29T21:20:14.524Z"
   },
   {
    "duration": 65,
    "start_time": "2024-05-29T21:20:14.552Z"
   },
   {
    "duration": 32,
    "start_time": "2024-05-29T21:20:14.619Z"
   },
   {
    "duration": 71,
    "start_time": "2024-05-29T21:20:14.652Z"
   },
   {
    "duration": 8,
    "start_time": "2024-05-29T21:20:14.724Z"
   },
   {
    "duration": 10,
    "start_time": "2024-05-29T21:20:14.734Z"
   },
   {
    "duration": 7,
    "start_time": "2024-05-29T21:20:14.745Z"
   },
   {
    "duration": 10,
    "start_time": "2024-05-29T21:20:14.753Z"
   },
   {
    "duration": 105,
    "start_time": "2024-05-29T21:20:14.764Z"
   },
   {
    "duration": 23,
    "start_time": "2024-05-29T21:20:14.870Z"
   },
   {
    "duration": 8,
    "start_time": "2024-05-29T21:20:14.894Z"
   },
   {
    "duration": 24,
    "start_time": "2024-05-29T21:20:14.903Z"
   },
   {
    "duration": 15,
    "start_time": "2024-05-29T21:20:14.929Z"
   },
   {
    "duration": 35,
    "start_time": "2024-05-29T21:20:14.946Z"
   },
   {
    "duration": 7,
    "start_time": "2024-05-29T21:20:14.982Z"
   },
   {
    "duration": 20,
    "start_time": "2024-05-29T21:20:14.990Z"
   },
   {
    "duration": 74,
    "start_time": "2024-05-29T21:20:15.014Z"
   },
   {
    "duration": 24,
    "start_time": "2024-05-29T21:20:15.090Z"
   },
   {
    "duration": 13,
    "start_time": "2024-05-29T21:20:15.116Z"
   },
   {
    "duration": 20,
    "start_time": "2024-05-29T21:20:15.131Z"
   },
   {
    "duration": 25,
    "start_time": "2024-05-29T21:20:15.153Z"
   },
   {
    "duration": 44,
    "start_time": "2024-05-29T21:20:15.180Z"
   },
   {
    "duration": 31,
    "start_time": "2024-05-29T21:20:15.226Z"
   },
   {
    "duration": 50,
    "start_time": "2024-05-29T21:20:15.259Z"
   },
   {
    "duration": 20,
    "start_time": "2024-05-29T21:20:15.311Z"
   },
   {
    "duration": 1340,
    "start_time": "2024-05-30T04:23:44.614Z"
   },
   {
    "duration": 865,
    "start_time": "2024-05-30T04:23:45.956Z"
   },
   {
    "duration": 12,
    "start_time": "2024-05-30T04:23:46.823Z"
   },
   {
    "duration": 28,
    "start_time": "2024-05-30T04:23:46.837Z"
   },
   {
    "duration": 7,
    "start_time": "2024-05-30T04:23:46.866Z"
   },
   {
    "duration": 70,
    "start_time": "2024-05-30T04:23:46.874Z"
   },
   {
    "duration": 84,
    "start_time": "2024-05-30T04:23:46.946Z"
   },
   {
    "duration": 89,
    "start_time": "2024-05-30T04:23:47.032Z"
   },
   {
    "duration": 21,
    "start_time": "2024-05-30T04:23:47.122Z"
   },
   {
    "duration": 8,
    "start_time": "2024-05-30T04:23:47.157Z"
   },
   {
    "duration": 7,
    "start_time": "2024-05-30T04:23:47.167Z"
   },
   {
    "duration": 30,
    "start_time": "2024-05-30T04:23:47.176Z"
   },
   {
    "duration": 5,
    "start_time": "2024-05-30T04:23:47.208Z"
   },
   {
    "duration": 7,
    "start_time": "2024-05-30T04:23:47.214Z"
   },
   {
    "duration": 42,
    "start_time": "2024-05-30T04:23:47.223Z"
   },
   {
    "duration": 11,
    "start_time": "2024-05-30T04:23:47.267Z"
   },
   {
    "duration": 18,
    "start_time": "2024-05-30T04:23:47.279Z"
   },
   {
    "duration": 244,
    "start_time": "2024-05-30T04:23:47.299Z"
   },
   {
    "duration": 12,
    "start_time": "2024-05-30T04:23:47.545Z"
   },
   {
    "duration": 8,
    "start_time": "2024-05-30T04:23:47.559Z"
   },
   {
    "duration": 10,
    "start_time": "2024-05-30T04:23:47.568Z"
   },
   {
    "duration": 359,
    "start_time": "2024-05-30T04:23:47.579Z"
   },
   {
    "duration": 22,
    "start_time": "2024-05-30T04:23:47.940Z"
   },
   {
    "duration": 15,
    "start_time": "2024-05-30T04:23:47.964Z"
   },
   {
    "duration": 27,
    "start_time": "2024-05-30T04:23:47.981Z"
   },
   {
    "duration": 62,
    "start_time": "2024-05-30T04:23:48.010Z"
   },
   {
    "duration": 27,
    "start_time": "2024-05-30T04:23:48.074Z"
   },
   {
    "duration": 80,
    "start_time": "2024-05-30T04:23:48.105Z"
   },
   {
    "duration": 8,
    "start_time": "2024-05-30T04:23:48.186Z"
   },
   {
    "duration": 28,
    "start_time": "2024-05-30T04:23:48.196Z"
   },
   {
    "duration": 8,
    "start_time": "2024-05-30T04:23:48.226Z"
   },
   {
    "duration": 8,
    "start_time": "2024-05-30T04:23:48.236Z"
   },
   {
    "duration": 88,
    "start_time": "2024-05-30T04:23:48.245Z"
   },
   {
    "duration": 10,
    "start_time": "2024-05-30T04:23:48.334Z"
   },
   {
    "duration": 12,
    "start_time": "2024-05-30T04:23:48.346Z"
   },
   {
    "duration": 10,
    "start_time": "2024-05-30T04:23:48.360Z"
   },
   {
    "duration": 7,
    "start_time": "2024-05-30T04:23:48.371Z"
   },
   {
    "duration": 7,
    "start_time": "2024-05-30T04:23:48.380Z"
   },
   {
    "duration": 6,
    "start_time": "2024-05-30T04:23:48.389Z"
   },
   {
    "duration": 16,
    "start_time": "2024-05-30T04:23:48.396Z"
   },
   {
    "duration": 11,
    "start_time": "2024-05-30T04:23:48.413Z"
   },
   {
    "duration": 11,
    "start_time": "2024-05-30T04:23:48.455Z"
   },
   {
    "duration": 15,
    "start_time": "2024-05-30T04:23:48.468Z"
   },
   {
    "duration": 3,
    "start_time": "2024-05-30T04:23:48.485Z"
   },
   {
    "duration": 6,
    "start_time": "2024-05-30T04:23:48.489Z"
   },
   {
    "duration": 22,
    "start_time": "2024-05-30T04:23:48.496Z"
   },
   {
    "duration": 38,
    "start_time": "2024-05-30T04:23:48.520Z"
   },
   {
    "duration": 18,
    "start_time": "2024-05-30T04:23:48.560Z"
   },
   {
    "duration": 19,
    "start_time": "2024-05-30T04:23:48.581Z"
   },
   {
    "duration": 14,
    "start_time": "2024-05-30T04:28:33.801Z"
   },
   {
    "duration": 5,
    "start_time": "2024-05-30T04:50:18.066Z"
   },
   {
    "duration": 6,
    "start_time": "2024-05-30T05:00:08.356Z"
   },
   {
    "duration": 148,
    "start_time": "2024-05-30T05:00:09.359Z"
   },
   {
    "duration": 5,
    "start_time": "2024-05-30T05:00:29.985Z"
   },
   {
    "duration": 25,
    "start_time": "2024-05-30T05:00:33.215Z"
   },
   {
    "duration": 55,
    "start_time": "2024-05-30T06:03:42.112Z"
   },
   {
    "duration": 1454,
    "start_time": "2024-05-30T06:03:52.391Z"
   },
   {
    "duration": 901,
    "start_time": "2024-05-30T06:03:54.126Z"
   },
   {
    "duration": 13,
    "start_time": "2024-05-30T06:03:55.029Z"
   },
   {
    "duration": 25,
    "start_time": "2024-05-30T06:03:57.117Z"
   },
   {
    "duration": 4,
    "start_time": "2024-05-30T06:04:00.342Z"
   },
   {
    "duration": 72,
    "start_time": "2024-05-30T06:04:02.393Z"
   },
   {
    "duration": 82,
    "start_time": "2024-05-30T06:04:19.309Z"
   },
   {
    "duration": 76,
    "start_time": "2024-05-30T06:04:19.878Z"
   },
   {
    "duration": 22,
    "start_time": "2024-05-30T06:04:21.245Z"
   },
   {
    "duration": 12,
    "start_time": "2024-05-30T06:04:23.388Z"
   },
   {
    "duration": 8,
    "start_time": "2024-05-30T06:04:23.821Z"
   },
   {
    "duration": 32,
    "start_time": "2024-05-30T06:04:25.317Z"
   },
   {
    "duration": 5,
    "start_time": "2024-05-30T06:04:25.669Z"
   },
   {
    "duration": 5,
    "start_time": "2024-05-30T06:04:26.205Z"
   },
   {
    "duration": 14,
    "start_time": "2024-05-30T06:04:28.453Z"
   },
   {
    "duration": 10,
    "start_time": "2024-05-30T06:04:29.537Z"
   },
   {
    "duration": 19,
    "start_time": "2024-05-30T06:04:30.852Z"
   },
   {
    "duration": 247,
    "start_time": "2024-05-30T06:04:31.957Z"
   },
   {
    "duration": 20,
    "start_time": "2024-05-30T06:04:33.981Z"
   },
   {
    "duration": 7,
    "start_time": "2024-05-30T06:04:35.156Z"
   },
   {
    "duration": 8,
    "start_time": "2024-05-30T06:04:37.580Z"
   },
   {
    "duration": 388,
    "start_time": "2024-05-30T06:04:38.620Z"
   },
   {
    "duration": 17,
    "start_time": "2024-05-30T06:04:41.612Z"
   },
   {
    "duration": 39,
    "start_time": "2024-05-30T06:04:44.760Z"
   },
   {
    "duration": 28,
    "start_time": "2024-05-30T06:05:24.925Z"
   },
   {
    "duration": 31,
    "start_time": "2024-05-30T06:08:27.978Z"
   },
   {
    "duration": 230,
    "start_time": "2024-05-30T06:09:31.475Z"
   },
   {
    "duration": 61,
    "start_time": "2024-05-30T06:10:12.293Z"
   },
   {
    "duration": 86,
    "start_time": "2024-05-30T07:17:25.945Z"
   },
   {
    "duration": 1254,
    "start_time": "2024-05-30T07:21:57.163Z"
   },
   {
    "duration": 217,
    "start_time": "2024-05-30T07:21:58.419Z"
   },
   {
    "duration": 14,
    "start_time": "2024-05-30T07:21:58.637Z"
   },
   {
    "duration": 45,
    "start_time": "2024-05-30T07:21:58.653Z"
   },
   {
    "duration": 4,
    "start_time": "2024-05-30T07:21:58.699Z"
   },
   {
    "duration": 105,
    "start_time": "2024-05-30T07:21:58.705Z"
   },
   {
    "duration": 89,
    "start_time": "2024-05-30T07:21:58.812Z"
   },
   {
    "duration": 67,
    "start_time": "2024-05-30T07:21:58.902Z"
   },
   {
    "duration": 42,
    "start_time": "2024-05-30T07:21:58.971Z"
   },
   {
    "duration": 15,
    "start_time": "2024-05-30T07:21:59.016Z"
   },
   {
    "duration": 34,
    "start_time": "2024-05-30T07:21:59.033Z"
   },
   {
    "duration": 51,
    "start_time": "2024-05-30T07:21:59.070Z"
   },
   {
    "duration": 13,
    "start_time": "2024-05-30T07:21:59.123Z"
   },
   {
    "duration": 19,
    "start_time": "2024-05-30T07:21:59.138Z"
   },
   {
    "duration": 27,
    "start_time": "2024-05-30T07:21:59.159Z"
   },
   {
    "duration": 21,
    "start_time": "2024-05-30T07:21:59.190Z"
   },
   {
    "duration": 22,
    "start_time": "2024-05-30T07:21:59.213Z"
   },
   {
    "duration": 243,
    "start_time": "2024-05-30T07:21:59.237Z"
   },
   {
    "duration": 6,
    "start_time": "2024-05-30T07:21:59.494Z"
   },
   {
    "duration": 30,
    "start_time": "2024-05-30T07:21:59.502Z"
   },
   {
    "duration": 8,
    "start_time": "2024-05-30T07:21:59.534Z"
   },
   {
    "duration": 381,
    "start_time": "2024-05-30T07:21:59.544Z"
   },
   {
    "duration": 16,
    "start_time": "2024-05-30T07:21:59.927Z"
   },
   {
    "duration": 46,
    "start_time": "2024-05-30T07:21:59.945Z"
   },
   {
    "duration": 62,
    "start_time": "2024-05-30T07:21:59.994Z"
   },
   {
    "duration": 66,
    "start_time": "2024-05-30T07:22:00.057Z"
   },
   {
    "duration": 31,
    "start_time": "2024-05-30T07:22:00.125Z"
   },
   {
    "duration": 89,
    "start_time": "2024-05-30T07:22:00.161Z"
   },
   {
    "duration": 21,
    "start_time": "2024-05-30T07:22:00.252Z"
   },
   {
    "duration": 61,
    "start_time": "2024-05-30T07:22:00.274Z"
   },
   {
    "duration": 38,
    "start_time": "2024-05-30T07:22:00.337Z"
   },
   {
    "duration": 74,
    "start_time": "2024-05-30T07:22:00.377Z"
   },
   {
    "duration": 194,
    "start_time": "2024-05-30T07:22:00.453Z"
   },
   {
    "duration": 12,
    "start_time": "2024-05-30T07:22:00.649Z"
   },
   {
    "duration": 71,
    "start_time": "2024-05-30T07:22:00.663Z"
   },
   {
    "duration": 65,
    "start_time": "2024-05-30T07:22:00.736Z"
   },
   {
    "duration": 64,
    "start_time": "2024-05-30T07:22:00.803Z"
   },
   {
    "duration": 130,
    "start_time": "2024-05-30T07:22:00.869Z"
   },
   {
    "duration": 74,
    "start_time": "2024-05-30T07:22:01.001Z"
   },
   {
    "duration": 69,
    "start_time": "2024-05-30T07:22:01.077Z"
   },
   {
    "duration": 73,
    "start_time": "2024-05-30T07:22:01.149Z"
   },
   {
    "duration": 53,
    "start_time": "2024-05-30T07:22:01.224Z"
   },
   {
    "duration": 62,
    "start_time": "2024-05-30T07:22:01.279Z"
   },
   {
    "duration": 53,
    "start_time": "2024-05-30T07:22:01.343Z"
   },
   {
    "duration": 223,
    "start_time": "2024-05-30T07:22:01.404Z"
   },
   {
    "duration": 169,
    "start_time": "2024-05-30T07:22:01.628Z"
   },
   {
    "duration": 47,
    "start_time": "2024-05-30T07:22:01.802Z"
   },
   {
    "duration": 59,
    "start_time": "2024-05-30T07:22:01.850Z"
   },
   {
    "duration": 102,
    "start_time": "2024-05-30T07:22:01.910Z"
   },
   {
    "duration": 52,
    "start_time": "2024-05-30T07:23:37.253Z"
   },
   {
    "duration": 5,
    "start_time": "2024-05-30T07:24:10.219Z"
   },
   {
    "duration": 207,
    "start_time": "2024-05-30T07:25:46.322Z"
   },
   {
    "duration": 89,
    "start_time": "2024-05-30T07:26:25.087Z"
   },
   {
    "duration": 129,
    "start_time": "2024-05-30T07:26:42.577Z"
   },
   {
    "duration": 11,
    "start_time": "2024-05-30T07:26:51.041Z"
   },
   {
    "duration": 6,
    "start_time": "2024-05-30T07:27:03.297Z"
   },
   {
    "duration": 7,
    "start_time": "2024-05-30T07:27:06.208Z"
   },
   {
    "duration": 12,
    "start_time": "2024-05-30T07:27:16.552Z"
   },
   {
    "duration": 11,
    "start_time": "2024-05-30T07:27:27.597Z"
   },
   {
    "duration": 8,
    "start_time": "2024-05-30T07:27:46.098Z"
   },
   {
    "duration": 11,
    "start_time": "2024-05-30T07:27:48.841Z"
   },
   {
    "duration": 12,
    "start_time": "2024-05-30T07:27:57.744Z"
   },
   {
    "duration": 11,
    "start_time": "2024-05-30T07:28:00.257Z"
   },
   {
    "duration": 12,
    "start_time": "2024-05-30T07:28:00.832Z"
   },
   {
    "duration": 6,
    "start_time": "2024-05-30T07:28:15.506Z"
   },
   {
    "duration": 32,
    "start_time": "2024-05-30T07:28:24.689Z"
   },
   {
    "duration": 20,
    "start_time": "2024-05-30T07:28:28.831Z"
   },
   {
    "duration": 22,
    "start_time": "2024-05-30T07:28:31.413Z"
   },
   {
    "duration": 33,
    "start_time": "2024-05-30T07:28:33.463Z"
   },
   {
    "duration": 13,
    "start_time": "2024-05-30T07:32:59.501Z"
   },
   {
    "duration": 11,
    "start_time": "2024-05-30T07:35:03.156Z"
   },
   {
    "duration": 249,
    "start_time": "2024-05-30T07:39:45.403Z"
   },
   {
    "duration": 18,
    "start_time": "2024-05-30T07:40:09.282Z"
   },
   {
    "duration": 228,
    "start_time": "2024-05-30T07:40:43.589Z"
   },
   {
    "duration": 265,
    "start_time": "2024-05-30T07:40:52.544Z"
   },
   {
    "duration": 237,
    "start_time": "2024-05-30T07:42:08.375Z"
   },
   {
    "duration": 241,
    "start_time": "2024-05-30T07:42:22.447Z"
   },
   {
    "duration": 280,
    "start_time": "2024-05-30T07:42:31.630Z"
   },
   {
    "duration": 192,
    "start_time": "2024-05-30T07:42:43.510Z"
   },
   {
    "duration": 180,
    "start_time": "2024-05-30T07:44:29.273Z"
   },
   {
    "duration": 174,
    "start_time": "2024-05-30T07:46:07.003Z"
   },
   {
    "duration": 78,
    "start_time": "2024-05-30T08:09:07.491Z"
   },
   {
    "duration": 36,
    "start_time": "2024-05-30T08:10:08.057Z"
   },
   {
    "duration": 204,
    "start_time": "2024-05-30T08:10:14.139Z"
   },
   {
    "duration": 92,
    "start_time": "2024-05-30T08:10:24.072Z"
   },
   {
    "duration": 58,
    "start_time": "2024-05-30T08:11:16.918Z"
   },
   {
    "duration": 59,
    "start_time": "2024-05-30T08:11:31.758Z"
   },
   {
    "duration": 58,
    "start_time": "2024-05-30T08:11:37.798Z"
   },
   {
    "duration": 4,
    "start_time": "2024-05-30T08:11:46.358Z"
   },
   {
    "duration": 243,
    "start_time": "2024-05-30T08:11:53.918Z"
   },
   {
    "duration": 244,
    "start_time": "2024-05-30T08:12:09.286Z"
   },
   {
    "duration": 52,
    "start_time": "2024-05-30T08:12:21.317Z"
   },
   {
    "duration": 257,
    "start_time": "2024-05-30T08:12:46.117Z"
   },
   {
    "duration": 250,
    "start_time": "2024-05-30T08:12:55.149Z"
   },
   {
    "duration": 303,
    "start_time": "2024-05-30T08:13:54.924Z"
   },
   {
    "duration": 249,
    "start_time": "2024-05-30T08:14:13.922Z"
   },
   {
    "duration": 339,
    "start_time": "2024-05-30T08:14:44.177Z"
   },
   {
    "duration": 248,
    "start_time": "2024-05-30T08:15:15.978Z"
   },
   {
    "duration": 1252,
    "start_time": "2024-05-30T08:16:13.279Z"
   },
   {
    "duration": 205,
    "start_time": "2024-05-30T08:16:14.533Z"
   },
   {
    "duration": 12,
    "start_time": "2024-05-30T08:16:14.740Z"
   },
   {
    "duration": 39,
    "start_time": "2024-05-30T08:16:14.754Z"
   },
   {
    "duration": 4,
    "start_time": "2024-05-30T08:16:14.796Z"
   },
   {
    "duration": 83,
    "start_time": "2024-05-30T08:16:14.802Z"
   },
   {
    "duration": 80,
    "start_time": "2024-05-30T08:16:14.888Z"
   },
   {
    "duration": 71,
    "start_time": "2024-05-30T08:16:14.984Z"
   },
   {
    "duration": 42,
    "start_time": "2024-05-30T08:16:15.056Z"
   },
   {
    "duration": 9,
    "start_time": "2024-05-30T08:16:15.100Z"
   },
   {
    "duration": 43,
    "start_time": "2024-05-30T08:16:15.110Z"
   },
   {
    "duration": 45,
    "start_time": "2024-05-30T08:16:15.155Z"
   },
   {
    "duration": 18,
    "start_time": "2024-05-30T08:16:15.201Z"
   },
   {
    "duration": 24,
    "start_time": "2024-05-30T08:16:15.222Z"
   },
   {
    "duration": 58,
    "start_time": "2024-05-30T08:16:15.248Z"
   },
   {
    "duration": 62,
    "start_time": "2024-05-30T08:16:15.307Z"
   },
   {
    "duration": 36,
    "start_time": "2024-05-30T08:16:15.371Z"
   },
   {
    "duration": 233,
    "start_time": "2024-05-30T08:16:15.409Z"
   },
   {
    "duration": 5,
    "start_time": "2024-05-30T08:16:15.644Z"
   },
   {
    "duration": 17,
    "start_time": "2024-05-30T08:16:15.650Z"
   },
   {
    "duration": 28,
    "start_time": "2024-05-30T08:16:15.668Z"
   },
   {
    "duration": 404,
    "start_time": "2024-05-30T08:16:15.699Z"
   },
   {
    "duration": 20,
    "start_time": "2024-05-30T08:16:16.105Z"
   },
   {
    "duration": 27,
    "start_time": "2024-05-30T08:16:16.127Z"
   },
   {
    "duration": 86,
    "start_time": "2024-05-30T08:16:16.156Z"
   },
   {
    "duration": 55,
    "start_time": "2024-05-30T08:16:16.244Z"
   },
   {
    "duration": 28,
    "start_time": "2024-05-30T08:16:16.301Z"
   },
   {
    "duration": 208,
    "start_time": "2024-05-30T08:16:16.330Z"
   },
   {
    "duration": 94,
    "start_time": "2024-05-30T08:16:16.539Z"
   },
   {
    "duration": 244,
    "start_time": "2024-05-30T08:16:16.636Z"
   },
   {
    "duration": 10,
    "start_time": "2024-05-30T08:16:16.890Z"
   },
   {
    "duration": 25,
    "start_time": "2024-05-30T08:16:16.902Z"
   },
   {
    "duration": 62,
    "start_time": "2024-05-30T08:16:16.929Z"
   },
   {
    "duration": 39,
    "start_time": "2024-05-30T08:16:16.993Z"
   },
   {
    "duration": 105,
    "start_time": "2024-05-30T08:16:17.034Z"
   },
   {
    "duration": 11,
    "start_time": "2024-05-30T08:16:17.140Z"
   },
   {
    "duration": 7,
    "start_time": "2024-05-30T08:16:17.152Z"
   },
   {
    "duration": 25,
    "start_time": "2024-05-30T08:16:17.161Z"
   },
   {
    "duration": 10,
    "start_time": "2024-05-30T08:16:17.189Z"
   },
   {
    "duration": 18,
    "start_time": "2024-05-30T08:16:17.201Z"
   },
   {
    "duration": 8,
    "start_time": "2024-05-30T08:16:17.225Z"
   },
   {
    "duration": 32,
    "start_time": "2024-05-30T08:16:17.235Z"
   },
   {
    "duration": 38,
    "start_time": "2024-05-30T08:16:17.269Z"
   },
   {
    "duration": 18,
    "start_time": "2024-05-30T08:16:17.309Z"
   },
   {
    "duration": 12,
    "start_time": "2024-05-30T08:16:17.329Z"
   },
   {
    "duration": 11,
    "start_time": "2024-05-30T08:16:17.344Z"
   },
   {
    "duration": 11,
    "start_time": "2024-05-30T08:16:17.356Z"
   },
   {
    "duration": 68,
    "start_time": "2024-05-30T08:16:17.369Z"
   },
   {
    "duration": 28,
    "start_time": "2024-05-30T08:16:17.438Z"
   },
   {
    "duration": 33,
    "start_time": "2024-05-30T08:16:17.468Z"
   },
   {
    "duration": 24,
    "start_time": "2024-05-30T08:16:17.503Z"
   },
   {
    "duration": 13,
    "start_time": "2024-05-30T08:17:31.655Z"
   },
   {
    "duration": 11,
    "start_time": "2024-05-30T08:17:48.895Z"
   },
   {
    "duration": 76,
    "start_time": "2024-05-30T08:17:59.815Z"
   },
   {
    "duration": 264,
    "start_time": "2024-05-30T08:18:01.735Z"
   },
   {
    "duration": 10,
    "start_time": "2024-05-30T08:18:07.421Z"
   },
   {
    "duration": 14,
    "start_time": "2024-05-30T08:18:11.253Z"
   },
   {
    "duration": 1313,
    "start_time": "2024-05-30T08:18:44.939Z"
   },
   {
    "duration": 203,
    "start_time": "2024-05-30T08:18:46.254Z"
   },
   {
    "duration": 14,
    "start_time": "2024-05-30T08:18:46.459Z"
   },
   {
    "duration": 30,
    "start_time": "2024-05-30T08:18:46.489Z"
   },
   {
    "duration": 3,
    "start_time": "2024-05-30T08:18:46.521Z"
   },
   {
    "duration": 94,
    "start_time": "2024-05-30T08:18:46.526Z"
   },
   {
    "duration": 77,
    "start_time": "2024-05-30T08:18:46.622Z"
   },
   {
    "duration": 64,
    "start_time": "2024-05-30T08:18:46.701Z"
   },
   {
    "duration": 42,
    "start_time": "2024-05-30T08:18:46.767Z"
   },
   {
    "duration": 18,
    "start_time": "2024-05-30T08:18:46.810Z"
   },
   {
    "duration": 17,
    "start_time": "2024-05-30T08:18:46.829Z"
   },
   {
    "duration": 49,
    "start_time": "2024-05-30T08:18:46.847Z"
   },
   {
    "duration": 6,
    "start_time": "2024-05-30T08:18:46.899Z"
   },
   {
    "duration": 16,
    "start_time": "2024-05-30T08:18:46.908Z"
   },
   {
    "duration": 27,
    "start_time": "2024-05-30T08:18:46.926Z"
   },
   {
    "duration": 24,
    "start_time": "2024-05-30T08:18:46.955Z"
   },
   {
    "duration": 22,
    "start_time": "2024-05-30T08:18:46.990Z"
   },
   {
    "duration": 218,
    "start_time": "2024-05-30T08:18:47.014Z"
   },
   {
    "duration": 5,
    "start_time": "2024-05-30T08:18:47.234Z"
   },
   {
    "duration": 19,
    "start_time": "2024-05-30T08:18:47.241Z"
   },
   {
    "duration": 22,
    "start_time": "2024-05-30T08:18:47.262Z"
   },
   {
    "duration": 407,
    "start_time": "2024-05-30T08:18:47.286Z"
   },
   {
    "duration": 16,
    "start_time": "2024-05-30T08:18:47.695Z"
   },
   {
    "duration": 24,
    "start_time": "2024-05-30T08:18:47.712Z"
   },
   {
    "duration": 84,
    "start_time": "2024-05-30T08:18:47.737Z"
   },
   {
    "duration": 36,
    "start_time": "2024-05-30T08:18:47.823Z"
   },
   {
    "duration": 44,
    "start_time": "2024-05-30T08:18:47.861Z"
   },
   {
    "duration": 211,
    "start_time": "2024-05-30T08:18:47.906Z"
   },
   {
    "duration": 84,
    "start_time": "2024-05-30T08:18:48.118Z"
   },
   {
    "duration": 233,
    "start_time": "2024-05-30T08:18:48.204Z"
   },
   {
    "duration": 9,
    "start_time": "2024-05-30T08:18:48.438Z"
   },
   {
    "duration": 29,
    "start_time": "2024-05-30T08:18:48.448Z"
   },
   {
    "duration": 16,
    "start_time": "2024-05-30T08:18:48.480Z"
   },
   {
    "duration": 8,
    "start_time": "2024-05-30T08:18:48.498Z"
   },
   {
    "duration": 115,
    "start_time": "2024-05-30T08:18:48.507Z"
   },
   {
    "duration": 10,
    "start_time": "2024-05-30T08:18:48.624Z"
   },
   {
    "duration": 13,
    "start_time": "2024-05-30T08:18:48.636Z"
   },
   {
    "duration": 30,
    "start_time": "2024-05-30T08:18:48.651Z"
   },
   {
    "duration": 13,
    "start_time": "2024-05-30T08:18:48.683Z"
   },
   {
    "duration": 18,
    "start_time": "2024-05-30T08:18:48.698Z"
   },
   {
    "duration": 13,
    "start_time": "2024-05-30T08:18:48.720Z"
   },
   {
    "duration": 21,
    "start_time": "2024-05-30T08:18:48.734Z"
   },
   {
    "duration": 32,
    "start_time": "2024-05-30T08:18:48.756Z"
   },
   {
    "duration": 16,
    "start_time": "2024-05-30T08:18:48.795Z"
   },
   {
    "duration": 17,
    "start_time": "2024-05-30T08:18:48.812Z"
   },
   {
    "duration": 11,
    "start_time": "2024-05-30T08:18:48.830Z"
   },
   {
    "duration": 11,
    "start_time": "2024-05-30T08:18:48.843Z"
   },
   {
    "duration": 46,
    "start_time": "2024-05-30T08:18:48.856Z"
   },
   {
    "duration": 20,
    "start_time": "2024-05-30T08:18:48.904Z"
   },
   {
    "duration": 21,
    "start_time": "2024-05-30T08:18:48.926Z"
   },
   {
    "duration": 49,
    "start_time": "2024-05-30T08:18:48.949Z"
   },
   {
    "duration": 1430,
    "start_time": "2024-05-30T08:48:32.046Z"
   },
   {
    "duration": 883,
    "start_time": "2024-05-30T08:48:33.478Z"
   },
   {
    "duration": 14,
    "start_time": "2024-05-30T08:48:34.363Z"
   },
   {
    "duration": 45,
    "start_time": "2024-05-30T08:48:34.380Z"
   },
   {
    "duration": 3,
    "start_time": "2024-05-30T08:48:34.427Z"
   },
   {
    "duration": 120,
    "start_time": "2024-05-30T08:48:34.432Z"
   },
   {
    "duration": 99,
    "start_time": "2024-05-30T08:48:34.554Z"
   },
   {
    "duration": 80,
    "start_time": "2024-05-30T08:48:34.655Z"
   },
   {
    "duration": 21,
    "start_time": "2024-05-30T08:48:34.737Z"
   },
   {
    "duration": 32,
    "start_time": "2024-05-30T08:48:34.761Z"
   },
   {
    "duration": 8,
    "start_time": "2024-05-30T08:48:34.795Z"
   },
   {
    "duration": 40,
    "start_time": "2024-05-30T08:48:34.805Z"
   },
   {
    "duration": 5,
    "start_time": "2024-05-30T08:48:34.846Z"
   },
   {
    "duration": 19,
    "start_time": "2024-05-30T08:48:34.853Z"
   },
   {
    "duration": 35,
    "start_time": "2024-05-30T08:48:34.873Z"
   },
   {
    "duration": 17,
    "start_time": "2024-05-30T08:48:34.910Z"
   },
   {
    "duration": 35,
    "start_time": "2024-05-30T08:48:34.929Z"
   },
   {
    "duration": 236,
    "start_time": "2024-05-30T08:48:34.966Z"
   },
   {
    "duration": 4,
    "start_time": "2024-05-30T08:48:35.203Z"
   },
   {
    "duration": 33,
    "start_time": "2024-05-30T08:48:35.209Z"
   },
   {
    "duration": 37,
    "start_time": "2024-05-30T08:48:35.243Z"
   },
   {
    "duration": 379,
    "start_time": "2024-05-30T08:48:35.284Z"
   },
   {
    "duration": 31,
    "start_time": "2024-05-30T08:48:35.665Z"
   },
   {
    "duration": 22,
    "start_time": "2024-05-30T08:48:35.698Z"
   },
   {
    "duration": 78,
    "start_time": "2024-05-30T08:48:35.722Z"
   },
   {
    "duration": 37,
    "start_time": "2024-05-30T08:48:35.801Z"
   },
   {
    "duration": 56,
    "start_time": "2024-05-30T08:48:35.839Z"
   },
   {
    "duration": 213,
    "start_time": "2024-05-30T08:48:35.899Z"
   },
   {
    "duration": 89,
    "start_time": "2024-05-30T08:48:36.114Z"
   },
   {
    "duration": 268,
    "start_time": "2024-05-30T08:48:36.204Z"
   },
   {
    "duration": 24,
    "start_time": "2024-05-30T08:48:36.473Z"
   },
   {
    "duration": 40,
    "start_time": "2024-05-30T08:48:36.499Z"
   },
   {
    "duration": 27,
    "start_time": "2024-05-30T08:48:36.541Z"
   },
   {
    "duration": 30,
    "start_time": "2024-05-30T08:48:36.570Z"
   },
   {
    "duration": 127,
    "start_time": "2024-05-30T08:48:36.602Z"
   },
   {
    "duration": 10,
    "start_time": "2024-05-30T08:48:36.731Z"
   },
   {
    "duration": 27,
    "start_time": "2024-05-30T08:48:36.742Z"
   },
   {
    "duration": 25,
    "start_time": "2024-05-30T08:48:36.771Z"
   },
   {
    "duration": 17,
    "start_time": "2024-05-30T08:48:36.797Z"
   },
   {
    "duration": 32,
    "start_time": "2024-05-30T08:48:36.816Z"
   },
   {
    "duration": 28,
    "start_time": "2024-05-30T08:48:36.850Z"
   },
   {
    "duration": 39,
    "start_time": "2024-05-30T08:48:36.880Z"
   },
   {
    "duration": 34,
    "start_time": "2024-05-30T08:48:36.921Z"
   },
   {
    "duration": 13,
    "start_time": "2024-05-30T08:48:36.957Z"
   },
   {
    "duration": 28,
    "start_time": "2024-05-30T08:48:36.972Z"
   },
   {
    "duration": 17,
    "start_time": "2024-05-30T08:48:37.001Z"
   },
   {
    "duration": 21,
    "start_time": "2024-05-30T08:48:37.019Z"
   },
   {
    "duration": 56,
    "start_time": "2024-05-30T08:48:37.042Z"
   },
   {
    "duration": 28,
    "start_time": "2024-05-30T08:48:37.101Z"
   },
   {
    "duration": 46,
    "start_time": "2024-05-30T08:48:37.131Z"
   },
   {
    "duration": 42,
    "start_time": "2024-05-30T08:48:37.179Z"
   },
   {
    "duration": 64,
    "start_time": "2024-05-30T08:53:40.824Z"
   }
  ],
  "kernelspec": {
   "display_name": "Python 3 (ipykernel)",
   "language": "python",
   "name": "python3"
  },
  "language_info": {
   "codemirror_mode": {
    "name": "ipython",
    "version": 3
   },
   "file_extension": ".py",
   "mimetype": "text/x-python",
   "name": "python",
   "nbconvert_exporter": "python",
   "pygments_lexer": "ipython3",
   "version": "3.11.5"
  },
  "toc": {
   "base_numbering": 1,
   "nav_menu": {},
   "number_sections": true,
   "sideBar": true,
   "skip_h1_title": true,
   "title_cell": "Table of Contents",
   "title_sidebar": "Contents",
   "toc_cell": false,
   "toc_position": {},
   "toc_section_display": true,
   "toc_window_display": false
  }
 },
 "nbformat": 4,
 "nbformat_minor": 2
}
