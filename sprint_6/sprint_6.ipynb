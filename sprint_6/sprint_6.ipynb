{
 "cells": [
  {
   "cell_type": "markdown",
   "id": "45b5a8f0",
   "metadata": {},
   "source": [
    "# Статистический анализ данных сервиса аренды самокатов GoFast\n"
   ]
  },
  {
   "cell_type": "markdown",
   "id": "baa1c010",
   "metadata": {},
   "source": [
    "**Цель исследования**\n",
    "\n",
    "Цель данного исследования состоит в том, чтобы на основе имеющихся данных о пользователях сервиса GoFast проверить некоторые гипотезы, которые позволят определить насколько осмысленно для сервиса развивать и продвигать платную подписку. В качестве входных данных нами будет использована информация о пользователях, их поездках и подписках, собранная по нескольким городам.    \n",
    "\n",
    "**Описание данных**\n",
    "\n",
    "Данные представлены следующими категориями:\n",
    "\n",
    "Пользователи — users_go.csv\n",
    "\n",
    "* user_id — уникальный идентификатор пользователя\n",
    "* name — имя пользователя\n",
    "* age — возраст\n",
    "* city — город\n",
    "* subscription_type — тип подписки (free, ultra)\n",
    "\n",
    "Поездки — rides_go.csv\n",
    "\n",
    "* user_id — уникальный идентификатор пользователя\n",
    "* distance — расстояние, которое пользователь проехал в текущей сессии (в метрах)\n",
    "* duration — продолжительность сессии (в минутах) — время с того момента, как пользователь нажал кнопку «Начать поездку» до момента, как он нажал кнопку «Завершить поездку»\n",
    "* date — дата совершения поездки\n",
    "\n",
    "Подписки — subscriptions_go.csv\n",
    "\n",
    "* subscription_type — тип подписки\n",
    "* minute_price — стоимость одной минуты поездки по данной подписке\n",
    "* start_ride_price — стоимость начала поездки\n",
    "* subscription_fee — стоимость ежемесячного платежа\n",
    "\n",
    "**План исследования**\n",
    "\n",
    "1. Загрузка данных\n",
    "\n",
    "Загрузим данные и изучим общую информацию о каждом датафрейме. \n",
    "\n",
    "2. Предобработка данных\n",
    "\n",
    "На данном этапе мы проверим нашу таблицу на наличие пропусков и дубликатов, скорректируем их и при необходимости добавим в таблицу новые столбцы.\n",
    "\n",
    "3. Исследовательский анализ данных\n",
    "\n",
    "На данном этапе мы опишем и визуализируем общую информацию о пользователях и поездках, в частности мы рассмотрим:\n",
    "\n",
    "* частоту встречаемости городов;\n",
    "* соотношение пользователей с подпиской и без подписки;\n",
    "* возраст пользователей;\n",
    "* расстояние, которое пользователь преодолел за одну поездку;\n",
    "* продолжительность поездок.\n",
    "\n",
    "4. Объединение данных\n",
    "\n",
    "На данном этапе мы объединим данные о пользователях, поездках и подписках и визуализируем информацию о расстоянии и времени поездок для пользователей с подпиской и без подписки.\n",
    "\n",
    "5. Подсчёт выручки\n",
    "\n",
    "На данном этапе мы подсчитаем помесячную выручку, которую принёс каждый пользователь.\n",
    "\n",
    "6. Проверка гипотез\n",
    "\n",
    "На данном этапе мы проверим такие гипотезы как:\n",
    "\n",
    "* \"Пользователи с подпиской тратят больше времени на поездки\"; \n",
    "* \"Среднее расстояние, которое проезжают пользователи с подпиской за одну поездку, не превышает 3130 метров\"; \n",
    "* \"Помесячная выручка от пользователей с подпиской по месяцам выше, чем выручка от пользователей без подписки\".\n",
    "\n",
    "Рассмотрим какие тесты необходимы для проверки гипотезы \"Количество обращений в техподдержку значимо снизилось после обновления сервера, с которыми взаимодействует мобильное приложение сервиса\".\n",
    "\n",
    "7. Распределения\n",
    "\n",
    "В интересах отдела маркетинга сервиса построим графики распределения и выясним:\n",
    "\n",
    "* \"Какое минимальное количество промокодов нужно разослать, чтобы вероятность не выполнить план акции с раздачей промокодов была примерно 5%\";\n",
    "* \"Какова вероятность того, что из 1 млн. push-уведомлений откроют не более 399,5 тыс.\"\n",
    "\n",
    "8. Выводы.\n",
    "\n"
   ]
  },
  {
   "cell_type": "markdown",
   "id": "c42cbe00",
   "metadata": {},
   "source": [
    "### Шаг 1. Загрузка данных"
   ]
  },
  {
   "cell_type": "code",
   "execution_count": 1,
   "id": "72576667",
   "metadata": {},
   "outputs": [],
   "source": [
    "import pandas as pd\n",
    "import matplotlib.pyplot as plt \n",
    "import seaborn as sns\n",
    "import numpy as np\n",
    "from math import sqrt\n",
    "from scipy import stats as st\n",
    "from scipy.stats import binom, norm"
   ]
  },
  {
   "cell_type": "code",
   "execution_count": 2,
   "id": "eff9f206",
   "metadata": {},
   "outputs": [],
   "source": [
    "data_users = pd.read_csv('/datasets/users_go.csv')"
   ]
  },
  {
   "cell_type": "code",
   "execution_count": 3,
   "id": "21813947",
   "metadata": {},
   "outputs": [],
   "source": [
    "data_rides = pd.read_csv('/datasets/rides_go.csv')"
   ]
  },
  {
   "cell_type": "code",
   "execution_count": 4,
   "id": "3b23dfb6",
   "metadata": {},
   "outputs": [],
   "source": [
    "data_subs = pd.read_csv('/datasets/subscriptions_go.csv')"
   ]
  },
  {
   "cell_type": "code",
   "execution_count": 5,
   "id": "cf86467b",
   "metadata": {},
   "outputs": [
    {
     "data": {
      "text/html": [
       "<div>\n",
       "<style scoped>\n",
       "    .dataframe tbody tr th:only-of-type {\n",
       "        vertical-align: middle;\n",
       "    }\n",
       "\n",
       "    .dataframe tbody tr th {\n",
       "        vertical-align: top;\n",
       "    }\n",
       "\n",
       "    .dataframe thead th {\n",
       "        text-align: right;\n",
       "    }\n",
       "</style>\n",
       "<table border=\"1\" class=\"dataframe\">\n",
       "  <thead>\n",
       "    <tr style=\"text-align: right;\">\n",
       "      <th></th>\n",
       "      <th>user_id</th>\n",
       "      <th>name</th>\n",
       "      <th>age</th>\n",
       "      <th>city</th>\n",
       "      <th>subscription_type</th>\n",
       "    </tr>\n",
       "  </thead>\n",
       "  <tbody>\n",
       "    <tr>\n",
       "      <th>0</th>\n",
       "      <td>1</td>\n",
       "      <td>Кира</td>\n",
       "      <td>22</td>\n",
       "      <td>Тюмень</td>\n",
       "      <td>ultra</td>\n",
       "    </tr>\n",
       "    <tr>\n",
       "      <th>1</th>\n",
       "      <td>2</td>\n",
       "      <td>Станислав</td>\n",
       "      <td>31</td>\n",
       "      <td>Омск</td>\n",
       "      <td>ultra</td>\n",
       "    </tr>\n",
       "    <tr>\n",
       "      <th>2</th>\n",
       "      <td>3</td>\n",
       "      <td>Алексей</td>\n",
       "      <td>20</td>\n",
       "      <td>Москва</td>\n",
       "      <td>ultra</td>\n",
       "    </tr>\n",
       "    <tr>\n",
       "      <th>3</th>\n",
       "      <td>4</td>\n",
       "      <td>Константин</td>\n",
       "      <td>26</td>\n",
       "      <td>Ростов-на-Дону</td>\n",
       "      <td>ultra</td>\n",
       "    </tr>\n",
       "    <tr>\n",
       "      <th>4</th>\n",
       "      <td>5</td>\n",
       "      <td>Адель</td>\n",
       "      <td>28</td>\n",
       "      <td>Омск</td>\n",
       "      <td>ultra</td>\n",
       "    </tr>\n",
       "  </tbody>\n",
       "</table>\n",
       "</div>"
      ],
      "text/plain": [
       "   user_id        name  age            city subscription_type\n",
       "0        1        Кира   22          Тюмень             ultra\n",
       "1        2   Станислав   31            Омск             ultra\n",
       "2        3     Алексей   20          Москва             ultra\n",
       "3        4  Константин   26  Ростов-на-Дону             ultra\n",
       "4        5       Адель   28            Омск             ultra"
      ]
     },
     "execution_count": 5,
     "metadata": {},
     "output_type": "execute_result"
    }
   ],
   "source": [
    "data_users.head()"
   ]
  },
  {
   "cell_type": "code",
   "execution_count": 6,
   "id": "501a6e57",
   "metadata": {},
   "outputs": [
    {
     "name": "stdout",
     "output_type": "stream",
     "text": [
      "<class 'pandas.core.frame.DataFrame'>\n",
      "RangeIndex: 1565 entries, 0 to 1564\n",
      "Data columns (total 5 columns):\n",
      " #   Column             Non-Null Count  Dtype \n",
      "---  ------             --------------  ----- \n",
      " 0   user_id            1565 non-null   int64 \n",
      " 1   name               1565 non-null   object\n",
      " 2   age                1565 non-null   int64 \n",
      " 3   city               1565 non-null   object\n",
      " 4   subscription_type  1565 non-null   object\n",
      "dtypes: int64(2), object(3)\n",
      "memory usage: 61.3+ KB\n"
     ]
    }
   ],
   "source": [
    "data_users.info()"
   ]
  },
  {
   "cell_type": "code",
   "execution_count": 7,
   "id": "1f2dccb6",
   "metadata": {},
   "outputs": [
    {
     "data": {
      "text/html": [
       "<div>\n",
       "<style scoped>\n",
       "    .dataframe tbody tr th:only-of-type {\n",
       "        vertical-align: middle;\n",
       "    }\n",
       "\n",
       "    .dataframe tbody tr th {\n",
       "        vertical-align: top;\n",
       "    }\n",
       "\n",
       "    .dataframe thead th {\n",
       "        text-align: right;\n",
       "    }\n",
       "</style>\n",
       "<table border=\"1\" class=\"dataframe\">\n",
       "  <thead>\n",
       "    <tr style=\"text-align: right;\">\n",
       "      <th></th>\n",
       "      <th>user_id</th>\n",
       "      <th>distance</th>\n",
       "      <th>duration</th>\n",
       "      <th>date</th>\n",
       "    </tr>\n",
       "  </thead>\n",
       "  <tbody>\n",
       "    <tr>\n",
       "      <th>0</th>\n",
       "      <td>1</td>\n",
       "      <td>4409.919140</td>\n",
       "      <td>25.599769</td>\n",
       "      <td>2021-01-01</td>\n",
       "    </tr>\n",
       "    <tr>\n",
       "      <th>1</th>\n",
       "      <td>1</td>\n",
       "      <td>2617.592153</td>\n",
       "      <td>15.816871</td>\n",
       "      <td>2021-01-18</td>\n",
       "    </tr>\n",
       "    <tr>\n",
       "      <th>2</th>\n",
       "      <td>1</td>\n",
       "      <td>754.159807</td>\n",
       "      <td>6.232113</td>\n",
       "      <td>2021-04-20</td>\n",
       "    </tr>\n",
       "    <tr>\n",
       "      <th>3</th>\n",
       "      <td>1</td>\n",
       "      <td>2694.783254</td>\n",
       "      <td>18.511000</td>\n",
       "      <td>2021-08-11</td>\n",
       "    </tr>\n",
       "    <tr>\n",
       "      <th>4</th>\n",
       "      <td>1</td>\n",
       "      <td>4028.687306</td>\n",
       "      <td>26.265803</td>\n",
       "      <td>2021-08-28</td>\n",
       "    </tr>\n",
       "  </tbody>\n",
       "</table>\n",
       "</div>"
      ],
      "text/plain": [
       "   user_id     distance   duration        date\n",
       "0        1  4409.919140  25.599769  2021-01-01\n",
       "1        1  2617.592153  15.816871  2021-01-18\n",
       "2        1   754.159807   6.232113  2021-04-20\n",
       "3        1  2694.783254  18.511000  2021-08-11\n",
       "4        1  4028.687306  26.265803  2021-08-28"
      ]
     },
     "execution_count": 7,
     "metadata": {},
     "output_type": "execute_result"
    }
   ],
   "source": [
    "data_rides.head()"
   ]
  },
  {
   "cell_type": "code",
   "execution_count": 8,
   "id": "73e69be1",
   "metadata": {},
   "outputs": [
    {
     "name": "stdout",
     "output_type": "stream",
     "text": [
      "<class 'pandas.core.frame.DataFrame'>\n",
      "RangeIndex: 18068 entries, 0 to 18067\n",
      "Data columns (total 4 columns):\n",
      " #   Column    Non-Null Count  Dtype  \n",
      "---  ------    --------------  -----  \n",
      " 0   user_id   18068 non-null  int64  \n",
      " 1   distance  18068 non-null  float64\n",
      " 2   duration  18068 non-null  float64\n",
      " 3   date      18068 non-null  object \n",
      "dtypes: float64(2), int64(1), object(1)\n",
      "memory usage: 564.8+ KB\n"
     ]
    }
   ],
   "source": [
    "data_rides.info()"
   ]
  },
  {
   "cell_type": "code",
   "execution_count": 9,
   "id": "57ebb00c",
   "metadata": {},
   "outputs": [
    {
     "data": {
      "text/html": [
       "<div>\n",
       "<style scoped>\n",
       "    .dataframe tbody tr th:only-of-type {\n",
       "        vertical-align: middle;\n",
       "    }\n",
       "\n",
       "    .dataframe tbody tr th {\n",
       "        vertical-align: top;\n",
       "    }\n",
       "\n",
       "    .dataframe thead th {\n",
       "        text-align: right;\n",
       "    }\n",
       "</style>\n",
       "<table border=\"1\" class=\"dataframe\">\n",
       "  <thead>\n",
       "    <tr style=\"text-align: right;\">\n",
       "      <th></th>\n",
       "      <th>subscription_type</th>\n",
       "      <th>minute_price</th>\n",
       "      <th>start_ride_price</th>\n",
       "      <th>subscription_fee</th>\n",
       "    </tr>\n",
       "  </thead>\n",
       "  <tbody>\n",
       "    <tr>\n",
       "      <th>0</th>\n",
       "      <td>free</td>\n",
       "      <td>8</td>\n",
       "      <td>50</td>\n",
       "      <td>0</td>\n",
       "    </tr>\n",
       "    <tr>\n",
       "      <th>1</th>\n",
       "      <td>ultra</td>\n",
       "      <td>6</td>\n",
       "      <td>0</td>\n",
       "      <td>199</td>\n",
       "    </tr>\n",
       "  </tbody>\n",
       "</table>\n",
       "</div>"
      ],
      "text/plain": [
       "  subscription_type  minute_price  start_ride_price  subscription_fee\n",
       "0              free             8                50                 0\n",
       "1             ultra             6                 0               199"
      ]
     },
     "execution_count": 9,
     "metadata": {},
     "output_type": "execute_result"
    }
   ],
   "source": [
    "data_subs.head()"
   ]
  },
  {
   "cell_type": "code",
   "execution_count": 10,
   "id": "4c0b9426",
   "metadata": {},
   "outputs": [
    {
     "name": "stdout",
     "output_type": "stream",
     "text": [
      "<class 'pandas.core.frame.DataFrame'>\n",
      "RangeIndex: 2 entries, 0 to 1\n",
      "Data columns (total 4 columns):\n",
      " #   Column             Non-Null Count  Dtype \n",
      "---  ------             --------------  ----- \n",
      " 0   subscription_type  2 non-null      object\n",
      " 1   minute_price       2 non-null      int64 \n",
      " 2   start_ride_price   2 non-null      int64 \n",
      " 3   subscription_fee   2 non-null      int64 \n",
      "dtypes: int64(3), object(1)\n",
      "memory usage: 192.0+ bytes\n"
     ]
    }
   ],
   "source": [
    "data_subs.info()"
   ]
  },
  {
   "cell_type": "markdown",
   "id": "f422e015",
   "metadata": {},
   "source": [
    "* Датафрейм data_users имеет 5 столбцов с целочисленными (2) и строковыми (3) типами данных, 1565 строк и размер в 61.3 кб. Столбец date потребуется в дальнейшем привести к типу даты pandas. \n",
    "* Датафрейм data_rides имеет 4 столбца с целочисленным (1), строковым (1) типами данных и типом данных для чисел с плавающей запятой (2), 18068 строк и размер в 564.8 кб. \n",
    "* Датафрейм data_subs имеет 4 столбца с целочисленными (3) и строковым (1) типами данных и типом данных для чисел с плавающей запятой (2), 2 строки и размер в 192 б. "
   ]
  },
  {
   "cell_type": "markdown",
   "id": "e95ebca7",
   "metadata": {},
   "source": [
    "### Шаг 2. Предобработка данных"
   ]
  },
  {
   "cell_type": "markdown",
   "id": "1f85899f",
   "metadata": {},
   "source": [
    "#### Приведем столбец date к типу даты pandas."
   ]
  },
  {
   "cell_type": "code",
   "execution_count": 11,
   "id": "af6d202c",
   "metadata": {},
   "outputs": [],
   "source": [
    "data_rides['date'] = pd.to_datetime(data_rides['date'], format='%Y-%m-%d')"
   ]
  },
  {
   "cell_type": "code",
   "execution_count": 12,
   "id": "b133572d",
   "metadata": {},
   "outputs": [
    {
     "name": "stdout",
     "output_type": "stream",
     "text": [
      "<class 'pandas.core.frame.DataFrame'>\n",
      "RangeIndex: 18068 entries, 0 to 18067\n",
      "Data columns (total 4 columns):\n",
      " #   Column    Non-Null Count  Dtype         \n",
      "---  ------    --------------  -----         \n",
      " 0   user_id   18068 non-null  int64         \n",
      " 1   distance  18068 non-null  float64       \n",
      " 2   duration  18068 non-null  float64       \n",
      " 3   date      18068 non-null  datetime64[ns]\n",
      "dtypes: datetime64[ns](1), float64(2), int64(1)\n",
      "memory usage: 564.8 KB\n"
     ]
    }
   ],
   "source": [
    "data_rides.info()"
   ]
  },
  {
   "cell_type": "markdown",
   "id": "7a97fe59",
   "metadata": {},
   "source": [
    "#### Создадим новый столбец с номером месяца на основе столбца date."
   ]
  },
  {
   "cell_type": "code",
   "execution_count": 13,
   "id": "b8a3d3a7",
   "metadata": {},
   "outputs": [
    {
     "data": {
      "text/plain": [
       "array([2021])"
      ]
     },
     "execution_count": 13,
     "metadata": {},
     "output_type": "execute_result"
    }
   ],
   "source": [
    "# Проверим действительно ли в датафрейме данные только за один год\n",
    "data_rides['date'].dt.year.unique()"
   ]
  },
  {
   "cell_type": "code",
   "execution_count": 14,
   "id": "3a6d5197",
   "metadata": {},
   "outputs": [],
   "source": [
    "data_rides['month'] = data_rides['date'].dt.month"
   ]
  },
  {
   "cell_type": "markdown",
   "id": "484e06aa",
   "metadata": {},
   "source": [
    "#### Проверим наличие пропущенных значений и дубликатов в датафреймах."
   ]
  },
  {
   "cell_type": "markdown",
   "id": "a6408040",
   "metadata": {},
   "source": [
    "**Проверим датафрейм на наличие неявных дубликатов**"
   ]
  },
  {
   "cell_type": "code",
   "execution_count": 15,
   "id": "69d4688f",
   "metadata": {},
   "outputs": [
    {
     "data": {
      "text/plain": [
       "array(['Тюмень', 'Омск', 'Москва', 'Ростов-на-Дону', 'Краснодар',\n",
       "       'Пятигорск', 'Екатеринбург', 'Сочи'], dtype=object)"
      ]
     },
     "execution_count": 15,
     "metadata": {},
     "output_type": "execute_result"
    }
   ],
   "source": [
    "data_users['city'].unique()"
   ]
  },
  {
   "cell_type": "markdown",
   "id": "48181811",
   "metadata": {},
   "source": [
    "**Проверим данные на наличие пропущенных значений и дубликатов и обработаем их при необходимости.**"
   ]
  },
  {
   "cell_type": "code",
   "execution_count": 16,
   "id": "c2faacf9",
   "metadata": {},
   "outputs": [
    {
     "data": {
      "text/plain": [
       "31"
      ]
     },
     "execution_count": 16,
     "metadata": {},
     "output_type": "execute_result"
    }
   ],
   "source": [
    "data_users.duplicated().sum()"
   ]
  },
  {
   "cell_type": "code",
   "execution_count": 17,
   "id": "f8d2780a",
   "metadata": {},
   "outputs": [],
   "source": [
    "data_users = data_users.drop_duplicates()"
   ]
  },
  {
   "cell_type": "code",
   "execution_count": 18,
   "id": "a39fc7ac",
   "metadata": {},
   "outputs": [
    {
     "data": {
      "text/plain": [
       "user_id              0\n",
       "name                 0\n",
       "age                  0\n",
       "city                 0\n",
       "subscription_type    0\n",
       "dtype: int64"
      ]
     },
     "execution_count": 18,
     "metadata": {},
     "output_type": "execute_result"
    }
   ],
   "source": [
    "data_users.isna().sum()"
   ]
  },
  {
   "cell_type": "code",
   "execution_count": 19,
   "id": "9dbf26fa",
   "metadata": {},
   "outputs": [
    {
     "data": {
      "text/plain": [
       "0"
      ]
     },
     "execution_count": 19,
     "metadata": {},
     "output_type": "execute_result"
    }
   ],
   "source": [
    "data_rides.duplicated().sum()"
   ]
  },
  {
   "cell_type": "code",
   "execution_count": 20,
   "id": "121b5f41",
   "metadata": {},
   "outputs": [
    {
     "data": {
      "text/plain": [
       "user_id     0\n",
       "distance    0\n",
       "duration    0\n",
       "date        0\n",
       "month       0\n",
       "dtype: int64"
      ]
     },
     "execution_count": 20,
     "metadata": {},
     "output_type": "execute_result"
    }
   ],
   "source": [
    "data_rides.isna().sum()"
   ]
  },
  {
   "cell_type": "markdown",
   "id": "5dfe9bbc",
   "metadata": {},
   "source": [
    "**В ходе предобработки данных было установлено, что в исходных данных отсутствуют пропуски, среди данных о пользователях (users_go.csv) имеется несколько дубликатов. Неявные дубликаты отсутствуют. Тип данных в столбце date был приведен к типу даты pandas. В целом предобработка данных не потребовала значительных усилий.**"
   ]
  },
  {
   "cell_type": "markdown",
   "id": "212593c7",
   "metadata": {},
   "source": [
    "### Шаг 3. Исследовательский анализ данных"
   ]
  },
  {
   "cell_type": "markdown",
   "id": "0a2a520e",
   "metadata": {},
   "source": [
    "#### Частота встречаемости городов."
   ]
  },
  {
   "cell_type": "code",
   "execution_count": 21,
   "id": "e9b34f0e",
   "metadata": {},
   "outputs": [
    {
     "data": {
      "image/png": "[encoded data removed]",
      "text/plain": [
       "<Figure size 576x576 with 1 Axes>"
      ]
     },
     "metadata": {
      "needs_background": "light"
     },
     "output_type": "display_data"
    }
   ],
   "source": [
    "(data_users.groupby('city')['city'].agg('count').sort_values()\n",
    " .plot(kind='barh', figsize=(8, 8), title='Частота встречаемости городов', grid=False))\n",
    "plt.xlabel('Число использований сервиса в каждом городе')\n",
    "plt.ylabel('Города')\n",
    "plt.show()"
   ]
  },
  {
   "cell_type": "code",
   "execution_count": 22,
   "id": "03e7b85f",
   "metadata": {},
   "outputs": [
    {
     "data": {
      "text/plain": [
       "city\n",
       "Пятигорск         219\n",
       "Екатеринбург      204\n",
       "Ростов-на-Дону    198\n",
       "Краснодар         193\n",
       "Сочи              189\n",
       "Омск              183\n",
       "Тюмень            180\n",
       "Москва            168\n",
       "Name: city, dtype: int64"
      ]
     },
     "execution_count": 22,
     "metadata": {},
     "output_type": "execute_result"
    }
   ],
   "source": [
    "data_users.groupby('city')['city'].agg('count').sort_values(ascending=False)"
   ]
  },
  {
   "cell_type": "markdown",
   "id": "7ee410e4",
   "metadata": {},
   "source": [
    "**Больше всего пользователей из Пятигорска (219), меньше всего - из Москвы (168).**"
   ]
  },
  {
   "cell_type": "markdown",
   "id": "094e9989",
   "metadata": {},
   "source": [
    "#### Соотношение пользователей с подпиской и без подписки."
   ]
  },
  {
   "cell_type": "code",
   "execution_count": 23,
   "id": "4de80e1e",
   "metadata": {},
   "outputs": [
    {
     "data": {
      "image/png": "[encoded data removed]",
      "text/plain": [
       "<Figure size 576x576 with 1 Axes>"
      ]
     },
     "metadata": {},
     "output_type": "display_data"
    }
   ],
   "source": [
    "(data_users.groupby('subscription_type')['city'].agg('count').sort_values(ascending=True)\n",
    " .plot(kind='pie', labels=None, label='', autopct='%0.2f%%',\n",
    "       legend=True, figsize=(8, 8), title='Соотношение пользователей с подпиской и без подписки'))\n",
    "plt.show()"
   ]
  },
  {
   "cell_type": "code",
   "execution_count": 24,
   "id": "b891f910",
   "metadata": {},
   "outputs": [
    {
     "data": {
      "text/plain": [
       "subscription_type\n",
       "free     835\n",
       "ultra    699\n",
       "Name: subscription_type, dtype: int64"
      ]
     },
     "execution_count": 24,
     "metadata": {},
     "output_type": "execute_result"
    }
   ],
   "source": [
    "data_users.groupby('subscription_type')['subscription_type'].agg('count')"
   ]
  },
  {
   "cell_type": "markdown",
   "id": "0a7e343f",
   "metadata": {},
   "source": [
    "**Число пользователей без подписки - 835 человек, что составляет 54.43% от общего числа пользователей. Число пользователей с подпиской - 699 человек или 45.57%.**"
   ]
  },
  {
   "cell_type": "markdown",
   "id": "5b2d327b",
   "metadata": {},
   "source": [
    "#### Возраст пользователей."
   ]
  },
  {
   "cell_type": "code",
   "execution_count": 25,
   "id": "66331b0b",
   "metadata": {},
   "outputs": [
    {
     "data": {
      "text/plain": [
       "Text(0, 0.5, 'Число пользователей')"
      ]
     },
     "execution_count": 25,
     "metadata": {},
     "output_type": "execute_result"
    },
    {
     "data": {
      "image/png": "[encoded data removed]",
      "text/plain": [
       "<Figure size 864x360 with 1 Axes>"
      ]
     },
     "metadata": {
      "needs_background": "light"
     },
     "output_type": "display_data"
    }
   ],
   "source": [
    "data_users['age'].hist(bins=80, figsize=(12, 5))\n",
    "plt.title('Возраст пользователей')\n",
    "plt.xlabel('Возраст пользователей')\n",
    "plt.ylabel('Число пользователей')"
   ]
  },
  {
   "cell_type": "code",
   "execution_count": 26,
   "id": "1fc6acde",
   "metadata": {},
   "outputs": [
    {
     "data": {
      "text/plain": [
       "Text(0.5, 1.0, 'Возраст пользователей')"
      ]
     },
     "execution_count": 26,
     "metadata": {},
     "output_type": "execute_result"
    },
    {
     "data": {
      "image/png": "[encoded data removed]",
      "text/plain": [
       "<Figure size 504x504 with 1 Axes>"
      ]
     },
     "metadata": {
      "needs_background": "light"
     },
     "output_type": "display_data"
    }
   ],
   "source": [
    "data_users.boxplot('age', figsize=(7, 7))\n",
    "plt.title('Возраст пользователей')"
   ]
  },
  {
   "cell_type": "code",
   "execution_count": 27,
   "id": "05b02140",
   "metadata": {},
   "outputs": [
    {
     "data": {
      "text/plain": [
       "count    1534.000000\n",
       "mean       24.903520\n",
       "std         4.572367\n",
       "min        12.000000\n",
       "25%        22.000000\n",
       "50%        25.000000\n",
       "75%        28.000000\n",
       "max        43.000000\n",
       "Name: age, dtype: float64"
      ]
     },
     "execution_count": 27,
     "metadata": {},
     "output_type": "execute_result"
    }
   ],
   "source": [
    "data_users['age'].describe()"
   ]
  },
  {
   "cell_type": "markdown",
   "id": "9405288e",
   "metadata": {},
   "source": [
    "**Возраст пользователей сервиса GoFast находится в диапазоне от 12 до 43 лет. Чаще всего встречается возраст 25 лет, он же является медианным.**"
   ]
  },
  {
   "cell_type": "markdown",
   "id": "4e61a876",
   "metadata": {},
   "source": [
    "#### Расстояние, которое пользователь преодолел за одну поездку."
   ]
  },
  {
   "cell_type": "code",
   "execution_count": 28,
   "id": "56118685",
   "metadata": {},
   "outputs": [
    {
     "data": {
      "text/plain": [
       "Text(0, 0.5, 'Число поездок')"
      ]
     },
     "execution_count": 28,
     "metadata": {},
     "output_type": "execute_result"
    },
    {
     "data": {
      "image/png": "[encoded data removed]",
      "text/plain": [
       "<Figure size 864x360 with 1 Axes>"
      ]
     },
     "metadata": {
      "needs_background": "light"
     },
     "output_type": "display_data"
    }
   ],
   "source": [
    "data_rides['distance'].hist(bins=200, figsize=(12, 5))\n",
    "plt.title('Расстояние, которое пользователь преодолел за одну поездку')\n",
    "plt.xlabel('Расстояние, которое пользователь преодолел за одну поездку, м')\n",
    "plt.ylabel('Число поездок')"
   ]
  },
  {
   "cell_type": "code",
   "execution_count": 29,
   "id": "def16217",
   "metadata": {},
   "outputs": [
    {
     "data": {
      "text/plain": [
       "Text(0.5, 1.0, 'Расстояние, которое пользователь преодолел за одну поездку')"
      ]
     },
     "execution_count": 29,
     "metadata": {},
     "output_type": "execute_result"
    },
    {
     "data": {
      "image/png": "[encoded data removed]",
      "text/plain": [
       "<Figure size 504x504 with 1 Axes>"
      ]
     },
     "metadata": {
      "needs_background": "light"
     },
     "output_type": "display_data"
    }
   ],
   "source": [
    "data_rides.boxplot('distance', figsize=(7, 7))\n",
    "plt.title('Расстояние, которое пользователь преодолел за одну поездку')"
   ]
  },
  {
   "cell_type": "code",
   "execution_count": 30,
   "id": "82f71c96",
   "metadata": {},
   "outputs": [
    {
     "data": {
      "text/plain": [
       "count    18068.000000\n",
       "mean      3070.659976\n",
       "std       1116.831209\n",
       "min          0.855683\n",
       "25%       2543.226360\n",
       "50%       3133.609994\n",
       "75%       3776.222735\n",
       "max       7211.007745\n",
       "Name: distance, dtype: float64"
      ]
     },
     "execution_count": 30,
     "metadata": {},
     "output_type": "execute_result"
    }
   ],
   "source": [
    "data_rides['distance'].describe()"
   ]
  },
  {
   "cell_type": "markdown",
   "id": "e6ff8e8c",
   "metadata": {},
   "source": [
    "**За одну поездку пользователи сервиса GoFast преодолевают расстояние в диапазоне от 0.85 до 7211 м. Медианное значение - 3133.6 м. Среднее значение - 3070.6 м. Также на гистограмме присутствует малый пик около 700 м.**"
   ]
  },
  {
   "cell_type": "markdown",
   "id": "9e561f14",
   "metadata": {},
   "source": [
    "#### Продолжительность поездок."
   ]
  },
  {
   "cell_type": "code",
   "execution_count": 31,
   "id": "e254c91f",
   "metadata": {},
   "outputs": [
    {
     "data": {
      "text/plain": [
       "Text(0, 0.5, 'Число поездок')"
      ]
     },
     "execution_count": 31,
     "metadata": {},
     "output_type": "execute_result"
    },
    {
     "data": {
      "image/png": "[encoded data removed]",
      "text/plain": [
       "<Figure size 864x360 with 1 Axes>"
      ]
     },
     "metadata": {
      "needs_background": "light"
     },
     "output_type": "display_data"
    }
   ],
   "source": [
    "data_rides['duration'].hist(bins=200, figsize=(12, 5))\n",
    "plt.title('Продолжительность поездок')\n",
    "plt.xlabel('Продолжительность поездок, мин.')\n",
    "plt.ylabel('Число поездок')"
   ]
  },
  {
   "cell_type": "code",
   "execution_count": 32,
   "id": "e3a40330",
   "metadata": {},
   "outputs": [
    {
     "data": {
      "text/plain": [
       "Text(0.5, 1.0, 'Продолжительность поездок')"
      ]
     },
     "execution_count": 32,
     "metadata": {},
     "output_type": "execute_result"
    },
    {
     "data": {
      "image/png": "[encoded data removed]",
      "text/plain": [
       "<Figure size 504x504 with 1 Axes>"
      ]
     },
     "metadata": {
      "needs_background": "light"
     },
     "output_type": "display_data"
    }
   ],
   "source": [
    "data_rides.boxplot('duration', figsize=(7, 7))\n",
    "plt.title('Продолжительность поездок')"
   ]
  },
  {
   "cell_type": "code",
   "execution_count": 33,
   "id": "2bed6480",
   "metadata": {},
   "outputs": [
    {
     "data": {
      "text/plain": [
       "Text(0, 0.5, 'Число поездок')"
      ]
     },
     "execution_count": 33,
     "metadata": {},
     "output_type": "execute_result"
    },
    {
     "data": {
      "image/png": "[encoded data removed]",
      "text/plain": [
       "<Figure size 864x360 with 1 Axes>"
      ]
     },
     "metadata": {
      "needs_background": "light"
     },
     "output_type": "display_data"
    }
   ],
   "source": [
    "# Проверим какое расстояние соответствует поездке длительностью в полминуты.\n",
    "data_rides[data_rides['duration'] == 0.5]['distance'].hist(bins=100, figsize=(12, 5))\n",
    "plt.title('Расстояние, которое пользователь преодолел за одну поездку')\n",
    "plt.xlabel('Расстояние, которое пользователь преодолел за одну поездку, м')\n",
    "plt.ylabel('Число поездок')"
   ]
  },
  {
   "cell_type": "code",
   "execution_count": 34,
   "id": "5b01c955",
   "metadata": {},
   "outputs": [
    {
     "data": {
      "text/plain": [
       "count    18068.000000\n",
       "mean        17.805011\n",
       "std          6.091051\n",
       "min          0.500000\n",
       "25%         13.597563\n",
       "50%         17.678395\n",
       "75%         21.724800\n",
       "max         40.823963\n",
       "Name: duration, dtype: float64"
      ]
     },
     "execution_count": 34,
     "metadata": {},
     "output_type": "execute_result"
    }
   ],
   "source": [
    "data_rides['duration'].describe()"
   ]
  },
  {
   "cell_type": "markdown",
   "id": "0e9f0949",
   "metadata": {},
   "source": [
    "**Длительность одной поездки составляет от 0.5 до 40.8 мин. Медианное значение - 17.7 мин., что близко к среднему - 17.8 мин. Также на гистограмме присутствует малый пик около минимального значения в полминуты, вероятно вызвынный технической неполадкой в работе приложения, так как, чтобы преодолеть расстояние в 5 км за полминуты, самокат должен был бы иметь скорость в 600 км/ч.**"
   ]
  },
  {
   "cell_type": "markdown",
   "id": "4ef51331",
   "metadata": {},
   "source": [
    "### Шаг 4. Объединение данных"
   ]
  },
  {
   "cell_type": "markdown",
   "id": "407d4ad1",
   "metadata": {},
   "source": [
    "#### Объединим данные о пользователях, поездках и подписках в один датафрейм."
   ]
  },
  {
   "cell_type": "code",
   "execution_count": 35,
   "id": "f6fad402",
   "metadata": {},
   "outputs": [],
   "source": [
    "data = data_rides.merge(data_users, on='user_id').merge(data_subs, on='subscription_type')"
   ]
  },
  {
   "cell_type": "code",
   "execution_count": 36,
   "id": "9c440b24",
   "metadata": {},
   "outputs": [
    {
     "data": {
      "text/html": [
       "<div>\n",
       "<style scoped>\n",
       "    .dataframe tbody tr th:only-of-type {\n",
       "        vertical-align: middle;\n",
       "    }\n",
       "\n",
       "    .dataframe tbody tr th {\n",
       "        vertical-align: top;\n",
       "    }\n",
       "\n",
       "    .dataframe thead th {\n",
       "        text-align: right;\n",
       "    }\n",
       "</style>\n",
       "<table border=\"1\" class=\"dataframe\">\n",
       "  <thead>\n",
       "    <tr style=\"text-align: right;\">\n",
       "      <th></th>\n",
       "      <th>user_id</th>\n",
       "      <th>distance</th>\n",
       "      <th>duration</th>\n",
       "      <th>date</th>\n",
       "      <th>month</th>\n",
       "      <th>name</th>\n",
       "      <th>age</th>\n",
       "      <th>city</th>\n",
       "      <th>subscription_type</th>\n",
       "      <th>minute_price</th>\n",
       "      <th>start_ride_price</th>\n",
       "      <th>subscription_fee</th>\n",
       "    </tr>\n",
       "  </thead>\n",
       "  <tbody>\n",
       "    <tr>\n",
       "      <th>0</th>\n",
       "      <td>1</td>\n",
       "      <td>4409.919140</td>\n",
       "      <td>25.599769</td>\n",
       "      <td>2021-01-01</td>\n",
       "      <td>1</td>\n",
       "      <td>Кира</td>\n",
       "      <td>22</td>\n",
       "      <td>Тюмень</td>\n",
       "      <td>ultra</td>\n",
       "      <td>6</td>\n",
       "      <td>0</td>\n",
       "      <td>199</td>\n",
       "    </tr>\n",
       "    <tr>\n",
       "      <th>1</th>\n",
       "      <td>1</td>\n",
       "      <td>2617.592153</td>\n",
       "      <td>15.816871</td>\n",
       "      <td>2021-01-18</td>\n",
       "      <td>1</td>\n",
       "      <td>Кира</td>\n",
       "      <td>22</td>\n",
       "      <td>Тюмень</td>\n",
       "      <td>ultra</td>\n",
       "      <td>6</td>\n",
       "      <td>0</td>\n",
       "      <td>199</td>\n",
       "    </tr>\n",
       "    <tr>\n",
       "      <th>2</th>\n",
       "      <td>1</td>\n",
       "      <td>754.159807</td>\n",
       "      <td>6.232113</td>\n",
       "      <td>2021-04-20</td>\n",
       "      <td>4</td>\n",
       "      <td>Кира</td>\n",
       "      <td>22</td>\n",
       "      <td>Тюмень</td>\n",
       "      <td>ultra</td>\n",
       "      <td>6</td>\n",
       "      <td>0</td>\n",
       "      <td>199</td>\n",
       "    </tr>\n",
       "    <tr>\n",
       "      <th>3</th>\n",
       "      <td>1</td>\n",
       "      <td>2694.783254</td>\n",
       "      <td>18.511000</td>\n",
       "      <td>2021-08-11</td>\n",
       "      <td>8</td>\n",
       "      <td>Кира</td>\n",
       "      <td>22</td>\n",
       "      <td>Тюмень</td>\n",
       "      <td>ultra</td>\n",
       "      <td>6</td>\n",
       "      <td>0</td>\n",
       "      <td>199</td>\n",
       "    </tr>\n",
       "    <tr>\n",
       "      <th>4</th>\n",
       "      <td>1</td>\n",
       "      <td>4028.687306</td>\n",
       "      <td>26.265803</td>\n",
       "      <td>2021-08-28</td>\n",
       "      <td>8</td>\n",
       "      <td>Кира</td>\n",
       "      <td>22</td>\n",
       "      <td>Тюмень</td>\n",
       "      <td>ultra</td>\n",
       "      <td>6</td>\n",
       "      <td>0</td>\n",
       "      <td>199</td>\n",
       "    </tr>\n",
       "  </tbody>\n",
       "</table>\n",
       "</div>"
      ],
      "text/plain": [
       "   user_id     distance   duration       date  month  name  age    city  \\\n",
       "0        1  4409.919140  25.599769 2021-01-01      1  Кира   22  Тюмень   \n",
       "1        1  2617.592153  15.816871 2021-01-18      1  Кира   22  Тюмень   \n",
       "2        1   754.159807   6.232113 2021-04-20      4  Кира   22  Тюмень   \n",
       "3        1  2694.783254  18.511000 2021-08-11      8  Кира   22  Тюмень   \n",
       "4        1  4028.687306  26.265803 2021-08-28      8  Кира   22  Тюмень   \n",
       "\n",
       "  subscription_type  minute_price  start_ride_price  subscription_fee  \n",
       "0             ultra             6                 0               199  \n",
       "1             ultra             6                 0               199  \n",
       "2             ultra             6                 0               199  \n",
       "3             ultra             6                 0               199  \n",
       "4             ultra             6                 0               199  "
      ]
     },
     "execution_count": 36,
     "metadata": {},
     "output_type": "execute_result"
    }
   ],
   "source": [
    "data.head()"
   ]
  },
  {
   "cell_type": "markdown",
   "id": "5b226c1a",
   "metadata": {},
   "source": [
    "**Сравним размеры датафреймов до и после объединения.**"
   ]
  },
  {
   "cell_type": "code",
   "execution_count": 37,
   "id": "8902b512",
   "metadata": {},
   "outputs": [
    {
     "name": "stdout",
     "output_type": "stream",
     "text": [
      "<class 'pandas.core.frame.DataFrame'>\n",
      "Int64Index: 1534 entries, 0 to 1533\n",
      "Data columns (total 5 columns):\n",
      " #   Column             Non-Null Count  Dtype \n",
      "---  ------             --------------  ----- \n",
      " 0   user_id            1534 non-null   int64 \n",
      " 1   name               1534 non-null   object\n",
      " 2   age                1534 non-null   int64 \n",
      " 3   city               1534 non-null   object\n",
      " 4   subscription_type  1534 non-null   object\n",
      "dtypes: int64(2), object(3)\n",
      "memory usage: 71.9+ KB\n"
     ]
    }
   ],
   "source": [
    "data_users.info()"
   ]
  },
  {
   "cell_type": "code",
   "execution_count": 38,
   "id": "9cbc1942",
   "metadata": {},
   "outputs": [
    {
     "name": "stdout",
     "output_type": "stream",
     "text": [
      "<class 'pandas.core.frame.DataFrame'>\n",
      "RangeIndex: 18068 entries, 0 to 18067\n",
      "Data columns (total 5 columns):\n",
      " #   Column    Non-Null Count  Dtype         \n",
      "---  ------    --------------  -----         \n",
      " 0   user_id   18068 non-null  int64         \n",
      " 1   distance  18068 non-null  float64       \n",
      " 2   duration  18068 non-null  float64       \n",
      " 3   date      18068 non-null  datetime64[ns]\n",
      " 4   month     18068 non-null  int64         \n",
      "dtypes: datetime64[ns](1), float64(2), int64(2)\n",
      "memory usage: 705.9 KB\n"
     ]
    }
   ],
   "source": [
    "data_rides.info()"
   ]
  },
  {
   "cell_type": "code",
   "execution_count": 39,
   "id": "782f38c8",
   "metadata": {},
   "outputs": [
    {
     "name": "stdout",
     "output_type": "stream",
     "text": [
      "<class 'pandas.core.frame.DataFrame'>\n",
      "RangeIndex: 2 entries, 0 to 1\n",
      "Data columns (total 4 columns):\n",
      " #   Column             Non-Null Count  Dtype \n",
      "---  ------             --------------  ----- \n",
      " 0   subscription_type  2 non-null      object\n",
      " 1   minute_price       2 non-null      int64 \n",
      " 2   start_ride_price   2 non-null      int64 \n",
      " 3   subscription_fee   2 non-null      int64 \n",
      "dtypes: int64(3), object(1)\n",
      "memory usage: 192.0+ bytes\n"
     ]
    }
   ],
   "source": [
    "data_subs.info()"
   ]
  },
  {
   "cell_type": "code",
   "execution_count": 40,
   "id": "a089a33b",
   "metadata": {},
   "outputs": [
    {
     "name": "stdout",
     "output_type": "stream",
     "text": [
      "<class 'pandas.core.frame.DataFrame'>\n",
      "Int64Index: 18068 entries, 0 to 18067\n",
      "Data columns (total 12 columns):\n",
      " #   Column             Non-Null Count  Dtype         \n",
      "---  ------             --------------  -----         \n",
      " 0   user_id            18068 non-null  int64         \n",
      " 1   distance           18068 non-null  float64       \n",
      " 2   duration           18068 non-null  float64       \n",
      " 3   date               18068 non-null  datetime64[ns]\n",
      " 4   month              18068 non-null  int64         \n",
      " 5   name               18068 non-null  object        \n",
      " 6   age                18068 non-null  int64         \n",
      " 7   city               18068 non-null  object        \n",
      " 8   subscription_type  18068 non-null  object        \n",
      " 9   minute_price       18068 non-null  int64         \n",
      " 10  start_ride_price   18068 non-null  int64         \n",
      " 11  subscription_fee   18068 non-null  int64         \n",
      "dtypes: datetime64[ns](1), float64(2), int64(6), object(3)\n",
      "memory usage: 1.8+ MB\n"
     ]
    }
   ],
   "source": [
    "data.info()"
   ]
  },
  {
   "cell_type": "markdown",
   "id": "9373b29d",
   "metadata": {},
   "source": [
    "То что размер итогового датафрейма заметно больше (1.8 мб) размера объединяемых датасетов (71.9 кб + 705.9 кб + 192 б) связано с тем, что столбцы name, age, city, и subscription_type увеличились с 1534 до 18068 строк, а столбцы minute_price, start_ride_price и subscription_fee с 2 до 18068 строк."
   ]
  },
  {
   "cell_type": "markdown",
   "id": "18cd0bc8",
   "metadata": {},
   "source": [
    "#### Создадим ещё два датафрейма из датафрейма, созданного на этапе 4.1."
   ]
  },
  {
   "cell_type": "code",
   "execution_count": 41,
   "id": "cd5c8b89",
   "metadata": {},
   "outputs": [],
   "source": [
    "# Для пользователей без подписки.\n",
    "data_free = data[data['subscription_type'] == 'free']"
   ]
  },
  {
   "cell_type": "code",
   "execution_count": 42,
   "id": "65ab09ec",
   "metadata": {},
   "outputs": [
    {
     "data": {
      "text/html": [
       "<div>\n",
       "<style scoped>\n",
       "    .dataframe tbody tr th:only-of-type {\n",
       "        vertical-align: middle;\n",
       "    }\n",
       "\n",
       "    .dataframe tbody tr th {\n",
       "        vertical-align: top;\n",
       "    }\n",
       "\n",
       "    .dataframe thead th {\n",
       "        text-align: right;\n",
       "    }\n",
       "</style>\n",
       "<table border=\"1\" class=\"dataframe\">\n",
       "  <thead>\n",
       "    <tr style=\"text-align: right;\">\n",
       "      <th></th>\n",
       "      <th>user_id</th>\n",
       "      <th>distance</th>\n",
       "      <th>duration</th>\n",
       "      <th>date</th>\n",
       "      <th>month</th>\n",
       "      <th>name</th>\n",
       "      <th>age</th>\n",
       "      <th>city</th>\n",
       "      <th>subscription_type</th>\n",
       "      <th>minute_price</th>\n",
       "      <th>start_ride_price</th>\n",
       "      <th>subscription_fee</th>\n",
       "    </tr>\n",
       "  </thead>\n",
       "  <tbody>\n",
       "    <tr>\n",
       "      <th>6500</th>\n",
       "      <td>700</td>\n",
       "      <td>2515.690719</td>\n",
       "      <td>14.944286</td>\n",
       "      <td>2021-01-02</td>\n",
       "      <td>1</td>\n",
       "      <td>Айдар</td>\n",
       "      <td>22</td>\n",
       "      <td>Омск</td>\n",
       "      <td>free</td>\n",
       "      <td>8</td>\n",
       "      <td>50</td>\n",
       "      <td>0</td>\n",
       "    </tr>\n",
       "    <tr>\n",
       "      <th>6501</th>\n",
       "      <td>700</td>\n",
       "      <td>846.932642</td>\n",
       "      <td>16.234663</td>\n",
       "      <td>2021-02-01</td>\n",
       "      <td>2</td>\n",
       "      <td>Айдар</td>\n",
       "      <td>22</td>\n",
       "      <td>Омск</td>\n",
       "      <td>free</td>\n",
       "      <td>8</td>\n",
       "      <td>50</td>\n",
       "      <td>0</td>\n",
       "    </tr>\n",
       "    <tr>\n",
       "      <th>6502</th>\n",
       "      <td>700</td>\n",
       "      <td>4004.434142</td>\n",
       "      <td>20.016628</td>\n",
       "      <td>2021-02-04</td>\n",
       "      <td>2</td>\n",
       "      <td>Айдар</td>\n",
       "      <td>22</td>\n",
       "      <td>Омск</td>\n",
       "      <td>free</td>\n",
       "      <td>8</td>\n",
       "      <td>50</td>\n",
       "      <td>0</td>\n",
       "    </tr>\n",
       "    <tr>\n",
       "      <th>6503</th>\n",
       "      <td>700</td>\n",
       "      <td>1205.911290</td>\n",
       "      <td>9.782872</td>\n",
       "      <td>2021-02-10</td>\n",
       "      <td>2</td>\n",
       "      <td>Айдар</td>\n",
       "      <td>22</td>\n",
       "      <td>Омск</td>\n",
       "      <td>free</td>\n",
       "      <td>8</td>\n",
       "      <td>50</td>\n",
       "      <td>0</td>\n",
       "    </tr>\n",
       "    <tr>\n",
       "      <th>6504</th>\n",
       "      <td>700</td>\n",
       "      <td>3047.379435</td>\n",
       "      <td>17.427673</td>\n",
       "      <td>2021-02-14</td>\n",
       "      <td>2</td>\n",
       "      <td>Айдар</td>\n",
       "      <td>22</td>\n",
       "      <td>Омск</td>\n",
       "      <td>free</td>\n",
       "      <td>8</td>\n",
       "      <td>50</td>\n",
       "      <td>0</td>\n",
       "    </tr>\n",
       "  </tbody>\n",
       "</table>\n",
       "</div>"
      ],
      "text/plain": [
       "      user_id     distance   duration       date  month   name  age  city  \\\n",
       "6500      700  2515.690719  14.944286 2021-01-02      1  Айдар   22  Омск   \n",
       "6501      700   846.932642  16.234663 2021-02-01      2  Айдар   22  Омск   \n",
       "6502      700  4004.434142  20.016628 2021-02-04      2  Айдар   22  Омск   \n",
       "6503      700  1205.911290   9.782872 2021-02-10      2  Айдар   22  Омск   \n",
       "6504      700  3047.379435  17.427673 2021-02-14      2  Айдар   22  Омск   \n",
       "\n",
       "     subscription_type  minute_price  start_ride_price  subscription_fee  \n",
       "6500              free             8                50                 0  \n",
       "6501              free             8                50                 0  \n",
       "6502              free             8                50                 0  \n",
       "6503              free             8                50                 0  \n",
       "6504              free             8                50                 0  "
      ]
     },
     "execution_count": 42,
     "metadata": {},
     "output_type": "execute_result"
    }
   ],
   "source": [
    "data_free.head()"
   ]
  },
  {
   "cell_type": "code",
   "execution_count": 43,
   "id": "790c84f6",
   "metadata": {},
   "outputs": [],
   "source": [
    "# Для пользователей с подпиской.\n",
    "data_ultra = data[data['subscription_type'] == 'ultra']"
   ]
  },
  {
   "cell_type": "code",
   "execution_count": 44,
   "id": "d433b59a",
   "metadata": {},
   "outputs": [
    {
     "data": {
      "text/html": [
       "<div>\n",
       "<style scoped>\n",
       "    .dataframe tbody tr th:only-of-type {\n",
       "        vertical-align: middle;\n",
       "    }\n",
       "\n",
       "    .dataframe tbody tr th {\n",
       "        vertical-align: top;\n",
       "    }\n",
       "\n",
       "    .dataframe thead th {\n",
       "        text-align: right;\n",
       "    }\n",
       "</style>\n",
       "<table border=\"1\" class=\"dataframe\">\n",
       "  <thead>\n",
       "    <tr style=\"text-align: right;\">\n",
       "      <th></th>\n",
       "      <th>user_id</th>\n",
       "      <th>distance</th>\n",
       "      <th>duration</th>\n",
       "      <th>date</th>\n",
       "      <th>month</th>\n",
       "      <th>name</th>\n",
       "      <th>age</th>\n",
       "      <th>city</th>\n",
       "      <th>subscription_type</th>\n",
       "      <th>minute_price</th>\n",
       "      <th>start_ride_price</th>\n",
       "      <th>subscription_fee</th>\n",
       "    </tr>\n",
       "  </thead>\n",
       "  <tbody>\n",
       "    <tr>\n",
       "      <th>0</th>\n",
       "      <td>1</td>\n",
       "      <td>4409.919140</td>\n",
       "      <td>25.599769</td>\n",
       "      <td>2021-01-01</td>\n",
       "      <td>1</td>\n",
       "      <td>Кира</td>\n",
       "      <td>22</td>\n",
       "      <td>Тюмень</td>\n",
       "      <td>ultra</td>\n",
       "      <td>6</td>\n",
       "      <td>0</td>\n",
       "      <td>199</td>\n",
       "    </tr>\n",
       "    <tr>\n",
       "      <th>1</th>\n",
       "      <td>1</td>\n",
       "      <td>2617.592153</td>\n",
       "      <td>15.816871</td>\n",
       "      <td>2021-01-18</td>\n",
       "      <td>1</td>\n",
       "      <td>Кира</td>\n",
       "      <td>22</td>\n",
       "      <td>Тюмень</td>\n",
       "      <td>ultra</td>\n",
       "      <td>6</td>\n",
       "      <td>0</td>\n",
       "      <td>199</td>\n",
       "    </tr>\n",
       "    <tr>\n",
       "      <th>2</th>\n",
       "      <td>1</td>\n",
       "      <td>754.159807</td>\n",
       "      <td>6.232113</td>\n",
       "      <td>2021-04-20</td>\n",
       "      <td>4</td>\n",
       "      <td>Кира</td>\n",
       "      <td>22</td>\n",
       "      <td>Тюмень</td>\n",
       "      <td>ultra</td>\n",
       "      <td>6</td>\n",
       "      <td>0</td>\n",
       "      <td>199</td>\n",
       "    </tr>\n",
       "    <tr>\n",
       "      <th>3</th>\n",
       "      <td>1</td>\n",
       "      <td>2694.783254</td>\n",
       "      <td>18.511000</td>\n",
       "      <td>2021-08-11</td>\n",
       "      <td>8</td>\n",
       "      <td>Кира</td>\n",
       "      <td>22</td>\n",
       "      <td>Тюмень</td>\n",
       "      <td>ultra</td>\n",
       "      <td>6</td>\n",
       "      <td>0</td>\n",
       "      <td>199</td>\n",
       "    </tr>\n",
       "    <tr>\n",
       "      <th>4</th>\n",
       "      <td>1</td>\n",
       "      <td>4028.687306</td>\n",
       "      <td>26.265803</td>\n",
       "      <td>2021-08-28</td>\n",
       "      <td>8</td>\n",
       "      <td>Кира</td>\n",
       "      <td>22</td>\n",
       "      <td>Тюмень</td>\n",
       "      <td>ultra</td>\n",
       "      <td>6</td>\n",
       "      <td>0</td>\n",
       "      <td>199</td>\n",
       "    </tr>\n",
       "  </tbody>\n",
       "</table>\n",
       "</div>"
      ],
      "text/plain": [
       "   user_id     distance   duration       date  month  name  age    city  \\\n",
       "0        1  4409.919140  25.599769 2021-01-01      1  Кира   22  Тюмень   \n",
       "1        1  2617.592153  15.816871 2021-01-18      1  Кира   22  Тюмень   \n",
       "2        1   754.159807   6.232113 2021-04-20      4  Кира   22  Тюмень   \n",
       "3        1  2694.783254  18.511000 2021-08-11      8  Кира   22  Тюмень   \n",
       "4        1  4028.687306  26.265803 2021-08-28      8  Кира   22  Тюмень   \n",
       "\n",
       "  subscription_type  minute_price  start_ride_price  subscription_fee  \n",
       "0             ultra             6                 0               199  \n",
       "1             ultra             6                 0               199  \n",
       "2             ultra             6                 0               199  \n",
       "3             ultra             6                 0               199  \n",
       "4             ultra             6                 0               199  "
      ]
     },
     "execution_count": 44,
     "metadata": {},
     "output_type": "execute_result"
    }
   ],
   "source": [
    "data_ultra.head()"
   ]
  },
  {
   "cell_type": "markdown",
   "id": "2b67a794",
   "metadata": {},
   "source": [
    "#### Визуализируем информацию о расстоянии и времени поездок для пользователей обеих категорий."
   ]
  },
  {
   "cell_type": "code",
   "execution_count": 45,
   "id": "9aa35038",
   "metadata": {},
   "outputs": [
    {
     "data": {
      "image/png": "[encoded data removed]",
      "text/plain": [
       "<Figure size 864x360 with 1 Axes>"
      ]
     },
     "metadata": {
      "needs_background": "light"
     },
     "output_type": "display_data"
    }
   ],
   "source": [
    "data_free.rename(columns = {'distance':'без подписки'})['без подписки'].hist(bins=200, figsize=(12, 5), alpha=0.5, legend=True)\n",
    "(data_ultra.rename(columns = {'distance':'с подпиской Ultra'})['с подпиской Ultra']\n",
    " .hist(bins=200, figsize=(12, 5), alpha=0.5, legend=True))\n",
    "plt.title('Расстояние, которое пользователь преодолел за одну поездку')\n",
    "plt.xlabel('Расстояние, которое пользователь преодолел за одну поездку, м')\n",
    "plt.ylabel('Число поездок')\n",
    "plt.show()"
   ]
  },
  {
   "cell_type": "code",
   "execution_count": 46,
   "id": "59444340",
   "metadata": {},
   "outputs": [
    {
     "data": {
      "text/plain": [
       "count    11568.000000\n",
       "mean      3045.495282\n",
       "std       1246.173806\n",
       "min          0.855683\n",
       "25%       2366.562689\n",
       "50%       3114.648465\n",
       "75%       3905.697894\n",
       "max       7211.007745\n",
       "Name: distance, dtype: float64"
      ]
     },
     "execution_count": 46,
     "metadata": {},
     "output_type": "execute_result"
    }
   ],
   "source": [
    "data_free['distance'].describe()"
   ]
  },
  {
   "cell_type": "code",
   "execution_count": 47,
   "id": "0a7691ec",
   "metadata": {},
   "outputs": [
    {
     "data": {
      "text/plain": [
       "count    6500.000000\n",
       "mean     3115.445388\n",
       "std       836.895330\n",
       "min       244.210438\n",
       "25%      2785.444017\n",
       "50%      3148.637229\n",
       "75%      3560.574425\n",
       "max      5699.769662\n",
       "Name: distance, dtype: float64"
      ]
     },
     "execution_count": 47,
     "metadata": {},
     "output_type": "execute_result"
    }
   ],
   "source": [
    "data_ultra['distance'].describe()"
   ]
  },
  {
   "cell_type": "code",
   "execution_count": 48,
   "id": "8070c1b1",
   "metadata": {},
   "outputs": [
    {
     "data": {
      "image/png": "[encoded data removed]",
      "text/plain": [
       "<Figure size 864x360 with 1 Axes>"
      ]
     },
     "metadata": {
      "needs_background": "light"
     },
     "output_type": "display_data"
    }
   ],
   "source": [
    "data_free.rename(columns = {'duration':'без подписки'})['без подписки'].hist(bins=200, figsize=(12, 5), alpha=0.5, legend=True)\n",
    "(data_ultra.rename(columns = {'duration':'с подпиской Ultra'})['с подпиской Ultra']\n",
    " .hist(bins=200, figsize=(12, 5), alpha=0.5, legend=True))\n",
    "plt.title('Продолжительность поездок')\n",
    "plt.xlabel('Продолжительность поездок, мин.')\n",
    "plt.ylabel('Число поездок')\n",
    "plt.show()"
   ]
  },
  {
   "cell_type": "code",
   "execution_count": 49,
   "id": "bf02c35a",
   "metadata": {},
   "outputs": [
    {
     "data": {
      "text/plain": [
       "count    11568.000000\n",
       "mean        17.390909\n",
       "std          6.326803\n",
       "min          0.500000\n",
       "25%         12.958437\n",
       "50%         17.326890\n",
       "75%         21.594071\n",
       "max         34.948498\n",
       "Name: duration, dtype: float64"
      ]
     },
     "execution_count": 49,
     "metadata": {},
     "output_type": "execute_result"
    }
   ],
   "source": [
    "data_free['duration'].describe()"
   ]
  },
  {
   "cell_type": "code",
   "execution_count": 50,
   "id": "7a5ac386",
   "metadata": {},
   "outputs": [
    {
     "data": {
      "text/plain": [
       "count    6500.000000\n",
       "mean       18.541985\n",
       "std         5.572048\n",
       "min         3.760353\n",
       "25%        14.524654\n",
       "50%        18.178153\n",
       "75%        21.884129\n",
       "max        40.823963\n",
       "Name: duration, dtype: float64"
      ]
     },
     "execution_count": 50,
     "metadata": {},
     "output_type": "execute_result"
    }
   ],
   "source": [
    "data_ultra['duration'].describe()"
   ]
  },
  {
   "cell_type": "markdown",
   "id": "fec1fe4b",
   "metadata": {},
   "source": [
    "**Пользователи без подписки чаще совершают поездки - 11568 против 6500 у пользователей с подпиской - почти в 2 раза чаще. При этом медианные значения преодоленного расстояния близки - 3114.6 и 3148.6 м, но при этом отличаются минимальные и максимальные значения - 0.85 и 244 м и 7211 и 5699.8 м соответственно для пользователей без подписки и с подпиской. Есть отличия и в длительности поездок - минимумы - 0.5 и 3.8 мин., максимумы - 35 и 40.8 мин., медианные значения - 17.3 и 18.2 мин. соответственно для пользователей без подписки и с подпиской.**"
   ]
  },
  {
   "cell_type": "markdown",
   "id": "402d620f",
   "metadata": {},
   "source": [
    "### Шаг 5. Подсчёт выручки"
   ]
  },
  {
   "cell_type": "markdown",
   "id": "c191e2c8",
   "metadata": {},
   "source": [
    "#### Создадим датафрейм с агрегированными данными о поездках на основе датафрейма с объединёнными данными из шага 4."
   ]
  },
  {
   "cell_type": "code",
   "execution_count": 51,
   "id": "386d850d",
   "metadata": {},
   "outputs": [],
   "source": [
    "# Добавим столбец с округленными значениями длительности поездок, он понадобится в следующем пункте\n",
    "data['duration_round'] = np.ceil(data['duration'])\n",
    "# Создадим датафрейм с агрегированными данными\n",
    "data_agg = data.pivot_table(index=['user_id', 'month'], values=['distance', 'duration', 'duration_round', 'minute_price', \n",
    "                                                             'start_ride_price', 'subscription_fee'], \n",
    "                         aggfunc={'distance': 'sum',\n",
    "                                  'duration': ['sum', 'count'],\n",
    "                                  'duration_round': 'sum',\n",
    "                                  'start_ride_price': 'mean',\n",
    "                                  'subscription_fee': 'mean',\n",
    "                                  'minute_price': 'mean'})\n",
    "# Поправим заголовки столбцов\n",
    "data_agg.columns = ['distance', 'count', 'duration', 'duration_round', 'minute_price', 'start_ride_price', 'subscription_fee']"
   ]
  },
  {
   "cell_type": "code",
   "execution_count": 52,
   "id": "1ac5c6a7",
   "metadata": {},
   "outputs": [
    {
     "data": {
      "text/plain": [
       "distance            0\n",
       "count               0\n",
       "duration            0\n",
       "duration_round      0\n",
       "minute_price        0\n",
       "start_ride_price    0\n",
       "subscription_fee    0\n",
       "dtype: int64"
      ]
     },
     "execution_count": 52,
     "metadata": {},
     "output_type": "execute_result"
    }
   ],
   "source": [
    "# Проверим датафрейм с агрегированными данными на наличие пропусков\n",
    "data_agg.isna().sum()"
   ]
  },
  {
   "cell_type": "markdown",
   "id": "efb5bb93",
   "metadata": {},
   "source": [
    "#### Добавим столбец с помесячной выручкой, которую принёс каждый пользователь."
   ]
  },
  {
   "cell_type": "code",
   "execution_count": 53,
   "id": "6473b46a",
   "metadata": {},
   "outputs": [
    {
     "data": {
      "text/html": [
       "<div>\n",
       "<style scoped>\n",
       "    .dataframe tbody tr th:only-of-type {\n",
       "        vertical-align: middle;\n",
       "    }\n",
       "\n",
       "    .dataframe tbody tr th {\n",
       "        vertical-align: top;\n",
       "    }\n",
       "\n",
       "    .dataframe thead th {\n",
       "        text-align: right;\n",
       "    }\n",
       "</style>\n",
       "<table border=\"1\" class=\"dataframe\">\n",
       "  <thead>\n",
       "    <tr style=\"text-align: right;\">\n",
       "      <th></th>\n",
       "      <th></th>\n",
       "      <th>distance</th>\n",
       "      <th>count</th>\n",
       "      <th>duration</th>\n",
       "      <th>duration_round</th>\n",
       "      <th>minute_price</th>\n",
       "      <th>start_ride_price</th>\n",
       "      <th>subscription_fee</th>\n",
       "      <th>monthly_revenue</th>\n",
       "    </tr>\n",
       "    <tr>\n",
       "      <th>user_id</th>\n",
       "      <th>month</th>\n",
       "      <th></th>\n",
       "      <th></th>\n",
       "      <th></th>\n",
       "      <th></th>\n",
       "      <th></th>\n",
       "      <th></th>\n",
       "      <th></th>\n",
       "      <th></th>\n",
       "    </tr>\n",
       "  </thead>\n",
       "  <tbody>\n",
       "    <tr>\n",
       "      <th rowspan=\"5\" valign=\"top\">1</th>\n",
       "      <th>1</th>\n",
       "      <td>7027.511294</td>\n",
       "      <td>2</td>\n",
       "      <td>41.416640</td>\n",
       "      <td>42.0</td>\n",
       "      <td>6</td>\n",
       "      <td>0</td>\n",
       "      <td>199</td>\n",
       "      <td>451.0</td>\n",
       "    </tr>\n",
       "    <tr>\n",
       "      <th>4</th>\n",
       "      <td>754.159807</td>\n",
       "      <td>1</td>\n",
       "      <td>6.232113</td>\n",
       "      <td>7.0</td>\n",
       "      <td>6</td>\n",
       "      <td>0</td>\n",
       "      <td>199</td>\n",
       "      <td>241.0</td>\n",
       "    </tr>\n",
       "    <tr>\n",
       "      <th>8</th>\n",
       "      <td>6723.470560</td>\n",
       "      <td>2</td>\n",
       "      <td>44.776802</td>\n",
       "      <td>46.0</td>\n",
       "      <td>6</td>\n",
       "      <td>0</td>\n",
       "      <td>199</td>\n",
       "      <td>475.0</td>\n",
       "    </tr>\n",
       "    <tr>\n",
       "      <th>10</th>\n",
       "      <td>5809.911100</td>\n",
       "      <td>2</td>\n",
       "      <td>31.578017</td>\n",
       "      <td>32.0</td>\n",
       "      <td>6</td>\n",
       "      <td>0</td>\n",
       "      <td>199</td>\n",
       "      <td>391.0</td>\n",
       "    </tr>\n",
       "    <tr>\n",
       "      <th>11</th>\n",
       "      <td>7003.499363</td>\n",
       "      <td>3</td>\n",
       "      <td>53.397424</td>\n",
       "      <td>56.0</td>\n",
       "      <td>6</td>\n",
       "      <td>0</td>\n",
       "      <td>199</td>\n",
       "      <td>535.0</td>\n",
       "    </tr>\n",
       "  </tbody>\n",
       "</table>\n",
       "</div>"
      ],
      "text/plain": [
       "                  distance  count   duration  duration_round  minute_price  \\\n",
       "user_id month                                                                \n",
       "1       1      7027.511294      2  41.416640            42.0             6   \n",
       "        4       754.159807      1   6.232113             7.0             6   \n",
       "        8      6723.470560      2  44.776802            46.0             6   \n",
       "        10     5809.911100      2  31.578017            32.0             6   \n",
       "        11     7003.499363      3  53.397424            56.0             6   \n",
       "\n",
       "               start_ride_price  subscription_fee  monthly_revenue  \n",
       "user_id month                                                       \n",
       "1       1                     0               199            451.0  \n",
       "        4                     0               199            241.0  \n",
       "        8                     0               199            475.0  \n",
       "        10                    0               199            391.0  \n",
       "        11                    0               199            535.0  "
      ]
     },
     "execution_count": 53,
     "metadata": {},
     "output_type": "execute_result"
    }
   ],
   "source": [
    "data_agg['monthly_revenue'] = data_agg['start_ride_price'] * data_agg['count'] + data_agg['minute_price'] * data_agg['duration_round'] + data_agg['subscription_fee']\n",
    "data_agg.head()"
   ]
  },
  {
   "cell_type": "markdown",
   "id": "41545ac0",
   "metadata": {},
   "source": [
    "### Шаг 6. Проверка гипотез"
   ]
  },
  {
   "cell_type": "markdown",
   "id": "4d3c2cb5",
   "metadata": {},
   "source": [
    "#### Тратят ли пользователи с подпиской больше времени на поездки?"
   ]
  },
  {
   "cell_type": "markdown",
   "id": "774fad97",
   "metadata": {},
   "source": [
    "Гипотеза Н0: Средняя продолжительность поездок с подпиской и без подписки равна.\n",
    "\n",
    "Гипотеза Н1: Средняя продолжительность поездок с подпиской больше, чем поездок без подписки."
   ]
  },
  {
   "cell_type": "code",
   "execution_count": 54,
   "id": "23ea867b",
   "metadata": {},
   "outputs": [
    {
     "name": "stdout",
     "output_type": "stream",
     "text": [
      "p-значение: 5.6757813771289775e-37\n",
      "Отвергаем нулевую гипотезу\n"
     ]
    }
   ],
   "source": [
    "alpha = 0.05 # уровень статистической значимости\n",
    "\n",
    "# Выборки не равны, установим equal_var=False\n",
    "results = st.ttest_ind(data_ultra['duration'], data_free['duration'], equal_var=False, alternative='greater')\n",
    "\n",
    "print('p-значение:', results.pvalue)\n",
    "\n",
    "if results.pvalue < alpha:\n",
    "    print('Отвергаем нулевую гипотезу')\n",
    "else:\n",
    "    print('Не получилось отвергнуть нулевую гипотезу')"
   ]
  },
  {
   "cell_type": "markdown",
   "id": "268d181e",
   "metadata": {},
   "source": [
    "Вывод: Отвергаем нулевую гипотезу о том, что средняя продолжительность поездок с подпиской и без подписки равна в пользу гипотезы о том, что средняя продолжительность поездок с подпиской больше, чем поездок без подписки. Возможно пользователи с подпиской действительно тратят больше времени на поездки."
   ]
  },
  {
   "cell_type": "markdown",
   "id": "4593a8a6",
   "metadata": {},
   "source": [
    "#### Можно ли сказать, что среднее расстояние, которое проезжают пользователи с подпиской за одну поездку, не превышает 3130 метров?"
   ]
  },
  {
   "cell_type": "markdown",
   "id": "01210005",
   "metadata": {},
   "source": [
    "Гипотеза Н0: Среднее расстояние, которое проезжают пользователи с подпиской, равно оптимальному расстоянию в 3130 метров.\n",
    "\n",
    "Гипотеза Н1: Среднее расстояние, которое проезжают пользователи с подпиской, больше 3130 метров."
   ]
  },
  {
   "cell_type": "code",
   "execution_count": 55,
   "id": "4ad0d1cc",
   "metadata": {},
   "outputs": [
    {
     "name": "stdout",
     "output_type": "stream",
     "text": [
      "p-значение: 0.9195368847849785\n",
      "Не получилось отвергнуть нулевую гипотезу\n"
     ]
    }
   ],
   "source": [
    "alpha = 0.05 # уровень статистической значимости\n",
    "\n",
    "# Выборки не равны, установим equal_var=False\n",
    "results = st.ttest_1samp(data_ultra['distance'], 3130, alternative='greater')\n",
    "\n",
    "print('p-значение:', results.pvalue)\n",
    "\n",
    "if results.pvalue < alpha:\n",
    "    print('Отвергаем нулевую гипотезу')\n",
    "else:\n",
    "    print('Не получилось отвергнуть нулевую гипотезу')"
   ]
  },
  {
   "cell_type": "markdown",
   "id": "c14a71f9",
   "metadata": {},
   "source": [
    "Вывод: Не получилось отвергнуть нулевую гипотезу о том, что среднее расстояние, которое проезжают пользователи с подпиской, равно оптимальному расстоянию в 3130 метров в пользу гипотезы о том, что среднее расстояние, которое проезжают пользователи с подпиской, больше 3130 метров. Возможно расстояние, которое проезжают пользователи с подпиской, действительно меньше или равно оптимальному. "
   ]
  },
  {
   "cell_type": "markdown",
   "id": "2f300ecd",
   "metadata": {},
   "source": [
    "#### Будет ли помесячная выручка от пользователей с подпиской по месяцам выше, чем выручка от пользователей без подписки?"
   ]
  },
  {
   "cell_type": "markdown",
   "id": "043c33f8",
   "metadata": {},
   "source": [
    "Гипотеза Н0: Помесячная выручка от пользователей с подпиской по месяцам равна выручке от пользователей без подписки.\n",
    "\n",
    "Гипотеза Н1: Помесячная выручка от пользователей с подпиской по месяцам больше, чем выручка от пользователей без подписки."
   ]
  },
  {
   "cell_type": "code",
   "execution_count": 56,
   "id": "8fbafef9",
   "metadata": {},
   "outputs": [
    {
     "name": "stdout",
     "output_type": "stream",
     "text": [
      "p-значение: 8.874140893976874e-40\n",
      "Отвергаем нулевую гипотезу\n"
     ]
    }
   ],
   "source": [
    "alpha = 0.05 # уровень статистической значимости\n",
    "\n",
    "# Выборки не равны, установим equal_var=False\n",
    "results = st.ttest_ind(data_agg[data_agg['subscription_fee'] == 199]['monthly_revenue'], \n",
    "                       data_agg[data_agg['subscription_fee'] == 0]['monthly_revenue'], equal_var=False, alternative='greater')\n",
    "\n",
    "print('p-значение:', results.pvalue)\n",
    "\n",
    "if results.pvalue < alpha:\n",
    "    print('Отвергаем нулевую гипотезу')\n",
    "else:\n",
    "    print('Не получилось отвергнуть нулевую гипотезу')"
   ]
  },
  {
   "cell_type": "markdown",
   "id": "1e39f56b",
   "metadata": {},
   "source": [
    "Вывод: Отвергаем нулевую гипотезу о том, что помесячная выручка от пользователей с подпиской по месяцам равна выручке от пользователей без подписки в пользу гипотезы о том, что помесячная выручка от пользователей с подпиской по месяцам больше, чем выручка от пользователей без подписки. Возможно имеет смысл продолжать продвигать подписку среди пользователей.  "
   ]
  },
  {
   "cell_type": "markdown",
   "id": "69313bc2",
   "metadata": {},
   "source": [
    "#### Рассмотрим какие тесты необходимы для проверки гипотезы \"Количество обращений в техподдержку значимо снизилось после обновления сервера, с которыми взаимодействует мобильное приложение сервиса\"."
   ]
  },
  {
   "cell_type": "markdown",
   "id": "1e5fa638",
   "metadata": {},
   "source": [
    "Если размеры выборок равны, т.е. количество уникальных пользователей до и после обновления совпадает, следует использовать метод st.ttest_rel(). "
   ]
  },
  {
   "cell_type": "markdown",
   "id": "61213c5e",
   "metadata": {},
   "source": [
    "### Шаг 7. Распределения"
   ]
  },
  {
   "cell_type": "markdown",
   "id": "65bca265",
   "metadata": {},
   "source": [
    "#### Какое минимальное количество промокодов нужно разослать, чтобы вероятность не выполнить план акции с раздачей промокодов была примерно 5%."
   ]
  },
  {
   "cell_type": "code",
   "execution_count": 57,
   "id": "95cd1d51",
   "metadata": {},
   "outputs": [
    {
     "name": "stderr",
     "output_type": "stream",
     "text": [
      "/opt/conda/lib/python3.9/site-packages/scipy/stats/_discrete_distns.py:78: RuntimeWarning: divide by zero encountered in _binom_pdf\n",
      "  return _boost._binom_pdf(x, n, p)\n"
     ]
    },
    {
     "data": {
      "text/plain": [
       "<BarContainer object of 1001 artists>"
      ]
     },
     "execution_count": 57,
     "metadata": {},
     "output_type": "execute_result"
    },
    {
     "data": {
      "image/png": "[encoded data removed]",
      "text/plain": [
       "<Figure size 432x288 with 1 Axes>"
      ]
     },
     "metadata": {
      "needs_background": "light"
     },
     "output_type": "display_data"
    }
   ],
   "source": [
    "# Построим график распределения\n",
    "\n",
    "n = 1000 # количество попыток\n",
    "p = 0.1 # вероятность успеха\n",
    "\n",
    "distr = []\n",
    "\n",
    "for k in range(0, n + 1):\n",
    "    current_value = binom.pmf(k, n, p)\n",
    "    distr.append(current_value)\n",
    "\n",
    "plt.bar(range(0, n + 1), distr)"
   ]
  },
  {
   "cell_type": "code",
   "execution_count": 58,
   "id": "3bd6212a",
   "metadata": {},
   "outputs": [
    {
     "data": {
      "text/plain": [
       "(25.0, 175.0)"
      ]
     },
     "execution_count": 58,
     "metadata": {},
     "output_type": "execute_result"
    },
    {
     "data": {
      "image/png": "[encoded data removed]",
      "text/plain": [
       "<Figure size 432x288 with 1 Axes>"
      ]
     },
     "metadata": {
      "needs_background": "light"
     },
     "output_type": "display_data"
    }
   ],
   "source": [
    "# Рассмотрим график на интересующем нас диапазоне\n",
    "\n",
    "plt.bar(range(0, n + 1), distr)\n",
    "plt.xlim(25, 175)"
   ]
  },
  {
   "cell_type": "code",
   "execution_count": 59,
   "id": "c78319da",
   "metadata": {},
   "outputs": [
    {
     "name": "stdout",
     "output_type": "stream",
     "text": [
      "Число промокодов: 1172, cdf= 0.04954795210203071\n"
     ]
    }
   ],
   "source": [
    "p = 0.1 # вероятность успеха\n",
    "\n",
    "# Подберем такое количество промокодов, при котором вероятность не выполнить план будет < 5%\n",
    "\n",
    "i = 1000\n",
    "while binom(i, p).cdf(100) > 0.05:\n",
    "    i += 1\n",
    "else:\n",
    "    print(f'Число промокодов: {i}, cdf= {binom(i, p).cdf(100)}')\n",
    "       "
   ]
  },
  {
   "cell_type": "code",
   "execution_count": 60,
   "id": "aea3f1eb",
   "metadata": {},
   "outputs": [
    {
     "data": {
      "text/plain": [
       "(25.0, 175.0)"
      ]
     },
     "execution_count": 60,
     "metadata": {},
     "output_type": "execute_result"
    },
    {
     "data": {
      "image/png": "[encoded data removed]",
      "text/plain": [
       "<Figure size 432x288 with 1 Axes>"
      ]
     },
     "metadata": {
      "needs_background": "light"
     },
     "output_type": "display_data"
    }
   ],
   "source": [
    "# Построим новый график распределения\n",
    "\n",
    "n = 1172 # количество попыток\n",
    "p = 0.1 # вероятность успеха\n",
    "\n",
    "distr = []\n",
    "\n",
    "for k in range(0, n + 1):\n",
    "    current_value = binom.pmf(k, n, p)\n",
    "    distr.append(current_value)\n",
    "\n",
    "plt.bar(range(0, n + 1), distr)\n",
    "\n",
    "plt.xlim(25, 175)"
   ]
  },
  {
   "cell_type": "markdown",
   "id": "e4ff5c6a",
   "metadata": {},
   "source": [
    "Вывод: чтобы вероятность не выполнить план была примерно 5%, требуется разослать как минимум 1172 промокода"
   ]
  },
  {
   "cell_type": "markdown",
   "id": "54a43590",
   "metadata": {},
   "source": [
    "#### Какова вероятность того, что из 1 млн. push-уведомлений откроют не более 399,5 тыс."
   ]
  },
  {
   "cell_type": "code",
   "execution_count": 61,
   "id": "bad4fd69",
   "metadata": {},
   "outputs": [
    {
     "data": {
      "image/png": "[encoded data removed]",
      "text/plain": [
       "<Figure size 432x288 with 1 Axes>"
      ]
     },
     "metadata": {
      "needs_background": "light"
     },
     "output_type": "display_data"
    },
    {
     "name": "stdout",
     "output_type": "stream",
     "text": [
      "cdf= 0.15371708296369768\n"
     ]
    }
   ],
   "source": [
    "n = 1000000 # количество попыток\n",
    "p = 0.4 # вероятность успеха\n",
    "\n",
    "# зададим функцию, которая выдаёт <num> чисел,\n",
    "# равномерно распределённых от <start> до <stop>\n",
    "def linspace(start, stop, num):\n",
    "    step = (stop - start) / (num - 1)\n",
    "    result = []\n",
    "    for i in range(num):\n",
    "        result.append(start + step * i)\n",
    "    return result\n",
    "\n",
    "# зададим нормальное распределение\n",
    "mu = n * p\n",
    "sigma = sqrt(n * p * (1 - p))\n",
    "\n",
    "# границы промежутка, в котором будем строить аппроксимацию\n",
    "left = int(n * p - 4 * sqrt(n * p * (1 - p)))\n",
    "right = int(n * p + 4 * sqrt(n * p * (1 - p)))\n",
    "\n",
    "x = linspace(left, right, 1000000)\n",
    "\n",
    "ax = plt.subplot()\n",
    "ax.plot(x, norm.pdf(x, mu, sigma), label='плотность вероятности нормального распределения')\n",
    "    \n",
    "# настраиваем оптимальное расположение легенды и выводим график\n",
    "ax.legend(loc='best')\n",
    "plt.show()\n",
    "\n",
    "distr = st.norm(mu, sigma)\n",
    "print(f'cdf= {distr.cdf(399500)}') "
   ]
  },
  {
   "cell_type": "markdown",
   "id": "bd8332fe",
   "metadata": {},
   "source": [
    "Вывод: вероятность того, что из 1 млн. уведомлений пользователеми будет открыто не более 399,5 тыс., составляет 15,37%. "
   ]
  },
  {
   "cell_type": "markdown",
   "id": "d8f845aa",
   "metadata": {},
   "source": [
    "### Выводы"
   ]
  },
  {
   "cell_type": "markdown",
   "id": "328c858a",
   "metadata": {},
   "source": [
    "В ходе данного исследования нами был рассмотрен ряд гипотез:\n",
    "\n",
    "**Тратят ли пользователи с подпиской больше времени на поездки?**\n",
    "\n",
    "Отвергаем нулевую гипотезу о том, что средняя продолжительность поездок с подпиской и без подписки равна в пользу гипотезы о том, что средняя продолжительность поездок с подпиской больше, чем поездок без подписки. Возможно пользователи с подпиской действительно тратят больше времени на поездки. \n",
    "\n",
    "**Можно ли сказать, что среднее расстояние, которое проезжают пользователи с подпиской за одну поездку, не превышает 3130 метров?**\n",
    "\n",
    "Не получилось отвергнуть нулевую гипотезу о том, что среднее расстояние, которое проезжают пользователи с подпиской, равно оптимальному расстоянию в 3130 метров в пользу гипотезы о том, что среднее расстояние, которое проезжают пользователи с подпиской, больше 3130 метров. Возможно расстояние, которое проезжают пользователи с подпиской, действительно меньше или равно оптимальному.\n",
    "\n",
    "**Будет ли помесячная выручка от пользователей с подпиской по месяцам выше, чем выручка от пользователей без подписки?**\n",
    "\n",
    "Отвергаем нулевую гипотезу о том, что помесячная выручка от пользователей с подпиской по месяцам равна выручке от пользователей без подписки в пользу гипотезы о том, что помесячная выручка от пользователей с подпиской по месяцам больше, чем выручка от пользователей без подписки. Возможно имеет смысл продолжать продвигать подписку среди пользователей. \n",
    "\n",
    "\n",
    "Кроме того мы установили, что:\n",
    "\n",
    "**Для того, чтобы вероятность не выполнить план маркетингового отдела была примерно 5%, требуется разослать как минимум 1172 промокода.**\n",
    "\n",
    "**Вероятность того, что из 1 млн. уведомлений пользователеми будет открыто не более 399,5 тыс., составляет 15,37%**\n",
    "\n",
    "**Итоговый вывод:** \n",
    "\n",
    "Исследование гипотез говорит нам о том, что расстояние, которое проезжают пользователи с подпиской за одну поездку, не превышает оптимального, что снижает износ самокатов; помесячная выручка среди пользователей с платной подпиской выше, чем у пользователей без подписки, что также говорит в ее пользу; пользователи с подпиской тратят больше времени на поездки. Таким образом можно утверждать, что для сервиса аренды самокатов GoFast имеет смысл далее развивать и продвигать платную подписку. "
   ]
  }
 ],
 "metadata": {
  "ExecuteTimeLog": [
   {
    "duration": 47,
    "start_time": "2024-02-27T14:01:10.377Z"
   },
   {
    "duration": 390,
    "start_time": "2024-02-27T14:01:15.051Z"
   },
   {
    "duration": 87,
    "start_time": "2024-02-27T14:01:17.299Z"
   },
   {
    "duration": 79,
    "start_time": "2024-02-27T14:03:26.992Z"
   },
   {
    "duration": 68,
    "start_time": "2024-02-27T14:03:31.619Z"
   },
   {
    "duration": 11,
    "start_time": "2024-02-27T14:05:57.227Z"
   },
   {
    "duration": 11,
    "start_time": "2024-02-27T14:06:42.532Z"
   },
   {
    "duration": 10,
    "start_time": "2024-02-27T14:07:12.540Z"
   },
   {
    "duration": 7,
    "start_time": "2024-02-27T14:09:54.020Z"
   },
   {
    "duration": 11,
    "start_time": "2024-02-27T14:10:13.260Z"
   },
   {
    "duration": 6,
    "start_time": "2024-02-27T14:12:30.892Z"
   },
   {
    "duration": 9,
    "start_time": "2024-02-27T14:12:53.693Z"
   },
   {
    "duration": 28,
    "start_time": "2024-02-27T14:15:23.484Z"
   },
   {
    "duration": 5,
    "start_time": "2024-02-27T14:15:52.003Z"
   },
   {
    "duration": 11,
    "start_time": "2024-02-27T14:19:54.630Z"
   },
   {
    "duration": 6,
    "start_time": "2024-02-27T14:20:16.103Z"
   },
   {
    "duration": 8,
    "start_time": "2024-02-27T14:20:38.735Z"
   },
   {
    "duration": 7,
    "start_time": "2024-02-27T14:20:57.623Z"
   },
   {
    "duration": 10,
    "start_time": "2024-02-27T14:22:18.216Z"
   },
   {
    "duration": 7,
    "start_time": "2024-02-27T14:22:31.176Z"
   },
   {
    "duration": 13,
    "start_time": "2024-02-27T14:27:24.082Z"
   },
   {
    "duration": 18,
    "start_time": "2024-02-27T14:28:59.810Z"
   },
   {
    "duration": 6,
    "start_time": "2024-02-27T14:32:00.635Z"
   },
   {
    "duration": 6,
    "start_time": "2024-02-27T14:32:21.530Z"
   },
   {
    "duration": 414,
    "start_time": "2024-02-27T14:35:23.267Z"
   },
   {
    "duration": 167,
    "start_time": "2024-02-27T14:35:28.187Z"
   },
   {
    "duration": 149,
    "start_time": "2024-02-27T14:35:42.347Z"
   },
   {
    "duration": 145,
    "start_time": "2024-02-27T14:35:58.860Z"
   },
   {
    "duration": 207,
    "start_time": "2024-02-27T14:36:37.680Z"
   },
   {
    "duration": 180,
    "start_time": "2024-02-27T14:36:46.267Z"
   },
   {
    "duration": 195,
    "start_time": "2024-02-27T14:36:53.540Z"
   },
   {
    "duration": 173,
    "start_time": "2024-02-27T14:37:02.107Z"
   },
   {
    "duration": 172,
    "start_time": "2024-02-27T14:37:55.795Z"
   },
   {
    "duration": 151,
    "start_time": "2024-02-27T14:38:12.452Z"
   },
   {
    "duration": 162,
    "start_time": "2024-02-27T14:38:23.012Z"
   },
   {
    "duration": 155,
    "start_time": "2024-02-27T14:38:29.580Z"
   },
   {
    "duration": 174,
    "start_time": "2024-02-27T14:39:43.420Z"
   },
   {
    "duration": 153,
    "start_time": "2024-02-27T14:40:16.453Z"
   },
   {
    "duration": 169,
    "start_time": "2024-02-27T14:40:33.573Z"
   },
   {
    "duration": 208,
    "start_time": "2024-02-27T14:40:48.996Z"
   },
   {
    "duration": 162,
    "start_time": "2024-02-27T14:41:05.309Z"
   },
   {
    "duration": 182,
    "start_time": "2024-02-27T14:41:19.733Z"
   },
   {
    "duration": 157,
    "start_time": "2024-02-27T14:41:32.541Z"
   },
   {
    "duration": 173,
    "start_time": "2024-02-27T14:41:45.492Z"
   },
   {
    "duration": 154,
    "start_time": "2024-02-27T14:43:47.006Z"
   },
   {
    "duration": 231,
    "start_time": "2024-02-27T14:44:01.742Z"
   },
   {
    "duration": 257,
    "start_time": "2024-02-27T14:44:32.285Z"
   },
   {
    "duration": 248,
    "start_time": "2024-02-27T14:45:29.078Z"
   },
   {
    "duration": 342,
    "start_time": "2024-02-27T14:47:56.926Z"
   },
   {
    "duration": 336,
    "start_time": "2024-02-27T14:48:13.398Z"
   },
   {
    "duration": 484,
    "start_time": "2024-02-27T14:48:40.039Z"
   },
   {
    "duration": 354,
    "start_time": "2024-02-27T14:49:31.087Z"
   },
   {
    "duration": 455,
    "start_time": "2024-02-27T14:49:55.166Z"
   },
   {
    "duration": 360,
    "start_time": "2024-02-27T14:50:14.831Z"
   },
   {
    "duration": 151,
    "start_time": "2024-02-27T14:56:24.799Z"
   },
   {
    "duration": 113,
    "start_time": "2024-02-27T14:56:30.551Z"
   },
   {
    "duration": 113,
    "start_time": "2024-02-27T14:56:34.567Z"
   },
   {
    "duration": 117,
    "start_time": "2024-02-27T14:56:46.599Z"
   },
   {
    "duration": 115,
    "start_time": "2024-02-27T15:06:00.309Z"
   },
   {
    "duration": 10,
    "start_time": "2024-02-27T15:22:01.556Z"
   },
   {
    "duration": 17,
    "start_time": "2024-02-27T15:22:37.467Z"
   },
   {
    "duration": 96,
    "start_time": "2024-02-27T15:42:24.756Z"
   },
   {
    "duration": 5,
    "start_time": "2024-02-27T15:42:32.803Z"
   },
   {
    "duration": 17,
    "start_time": "2024-02-27T15:43:46.779Z"
   },
   {
    "duration": 5,
    "start_time": "2024-02-27T15:44:15.323Z"
   },
   {
    "duration": 6,
    "start_time": "2024-02-27T15:45:17.380Z"
   },
   {
    "duration": 5,
    "start_time": "2024-02-27T15:45:43.395Z"
   },
   {
    "duration": 5,
    "start_time": "2024-02-27T16:06:02.080Z"
   },
   {
    "duration": 4,
    "start_time": "2024-02-27T16:06:32.081Z"
   },
   {
    "duration": 4,
    "start_time": "2024-02-27T16:10:40.074Z"
   },
   {
    "duration": 4,
    "start_time": "2024-02-27T16:10:43.450Z"
   },
   {
    "duration": 10,
    "start_time": "2024-02-27T16:16:27.379Z"
   },
   {
    "duration": 20,
    "start_time": "2024-02-27T16:16:50.659Z"
   },
   {
    "duration": 9,
    "start_time": "2024-02-27T16:17:23.291Z"
   },
   {
    "duration": 20,
    "start_time": "2024-02-27T16:17:24.539Z"
   },
   {
    "duration": 11,
    "start_time": "2024-02-27T16:18:05.284Z"
   },
   {
    "duration": 19,
    "start_time": "2024-02-27T16:18:06.740Z"
   },
   {
    "duration": 11,
    "start_time": "2024-02-27T16:18:19.004Z"
   },
   {
    "duration": 8,
    "start_time": "2024-02-27T16:19:19.907Z"
   },
   {
    "duration": 6,
    "start_time": "2024-02-27T16:19:37.115Z"
   },
   {
    "duration": 8,
    "start_time": "2024-02-27T16:19:41.235Z"
   },
   {
    "duration": 9,
    "start_time": "2024-02-27T16:19:50.611Z"
   },
   {
    "duration": 13,
    "start_time": "2024-02-27T16:19:51.884Z"
   },
   {
    "duration": 18,
    "start_time": "2024-02-27T16:23:28.125Z"
   },
   {
    "duration": 18,
    "start_time": "2024-02-27T16:23:30.197Z"
   },
   {
    "duration": 14,
    "start_time": "2024-02-27T16:23:48.949Z"
   },
   {
    "duration": 12,
    "start_time": "2024-02-27T16:23:50.421Z"
   },
   {
    "duration": 6,
    "start_time": "2024-02-27T16:27:07.229Z"
   },
   {
    "duration": 7,
    "start_time": "2024-02-27T16:27:41.109Z"
   },
   {
    "duration": 11,
    "start_time": "2024-02-27T16:28:18.534Z"
   },
   {
    "duration": 544,
    "start_time": "2024-02-27T16:31:29.350Z"
   },
   {
    "duration": 410,
    "start_time": "2024-02-27T16:31:35.462Z"
   },
   {
    "duration": 358,
    "start_time": "2024-02-27T16:32:18.054Z"
   },
   {
    "duration": 337,
    "start_time": "2024-02-27T16:32:26.567Z"
   },
   {
    "duration": 15,
    "start_time": "2024-02-27T16:46:44.707Z"
   },
   {
    "duration": 27,
    "start_time": "2024-02-27T16:48:15.342Z"
   },
   {
    "duration": 20,
    "start_time": "2024-02-27T17:01:32.274Z"
   },
   {
    "duration": 37,
    "start_time": "2024-02-27T17:16:53.144Z"
   },
   {
    "duration": 20,
    "start_time": "2024-02-27T17:20:54.091Z"
   },
   {
    "duration": 16,
    "start_time": "2024-02-27T17:47:48.664Z"
   },
   {
    "duration": 1122,
    "start_time": "2024-02-27T17:55:44.728Z"
   },
   {
    "duration": 9,
    "start_time": "2024-02-27T17:56:59.329Z"
   },
   {
    "duration": 17,
    "start_time": "2024-02-27T18:05:45.094Z"
   },
   {
    "duration": 20,
    "start_time": "2024-02-27T19:11:01.313Z"
   },
   {
    "duration": 15,
    "start_time": "2024-02-27T19:11:07.669Z"
   },
   {
    "duration": 75,
    "start_time": "2024-02-27T19:13:51.825Z"
   },
   {
    "duration": 73,
    "start_time": "2024-02-27T19:14:54.681Z"
   },
   {
    "duration": 90,
    "start_time": "2024-02-27T19:15:02.865Z"
   },
   {
    "duration": 77,
    "start_time": "2024-02-27T19:15:06.873Z"
   },
   {
    "duration": 89,
    "start_time": "2024-02-27T19:15:12.153Z"
   },
   {
    "duration": 72,
    "start_time": "2024-02-27T19:15:39.353Z"
   },
   {
    "duration": 63,
    "start_time": "2024-02-27T19:16:26.441Z"
   },
   {
    "duration": 69,
    "start_time": "2024-02-27T19:16:58.178Z"
   },
   {
    "duration": 26,
    "start_time": "2024-02-27T19:17:31.482Z"
   },
   {
    "duration": 17,
    "start_time": "2024-02-27T19:17:33.814Z"
   },
   {
    "duration": 16,
    "start_time": "2024-02-27T19:20:30.259Z"
   },
   {
    "duration": 34,
    "start_time": "2024-02-27T19:22:03.051Z"
   },
   {
    "duration": 16,
    "start_time": "2024-02-27T19:22:05.264Z"
   },
   {
    "duration": 75,
    "start_time": "2024-02-27T19:35:44.744Z"
   },
   {
    "duration": 77,
    "start_time": "2024-02-27T19:36:35.536Z"
   },
   {
    "duration": 10,
    "start_time": "2024-02-27T19:37:00.600Z"
   },
   {
    "duration": 8,
    "start_time": "2024-02-27T19:37:51.880Z"
   },
   {
    "duration": 9,
    "start_time": "2024-02-27T19:38:22.344Z"
   },
   {
    "duration": 5,
    "start_time": "2024-02-27T19:38:42.736Z"
   },
   {
    "duration": 39,
    "start_time": "2024-02-27T19:38:44.752Z"
   },
   {
    "duration": 22,
    "start_time": "2024-02-27T19:38:47.102Z"
   },
   {
    "duration": 908,
    "start_time": "2024-02-28T15:26:02.952Z"
   },
   {
    "duration": 98,
    "start_time": "2024-02-28T15:26:03.862Z"
   },
   {
    "duration": 169,
    "start_time": "2024-02-28T15:26:03.961Z"
   },
   {
    "duration": 62,
    "start_time": "2024-02-28T15:26:04.132Z"
   },
   {
    "duration": 11,
    "start_time": "2024-02-28T15:26:04.196Z"
   },
   {
    "duration": 34,
    "start_time": "2024-02-28T15:26:04.209Z"
   },
   {
    "duration": 30,
    "start_time": "2024-02-28T15:26:04.245Z"
   },
   {
    "duration": 15,
    "start_time": "2024-02-28T15:26:04.277Z"
   },
   {
    "duration": 13,
    "start_time": "2024-02-28T15:26:04.294Z"
   },
   {
    "duration": 13,
    "start_time": "2024-02-28T15:26:04.308Z"
   },
   {
    "duration": 27,
    "start_time": "2024-02-28T15:26:04.323Z"
   },
   {
    "duration": 11,
    "start_time": "2024-02-28T15:26:04.352Z"
   },
   {
    "duration": 24,
    "start_time": "2024-02-28T15:26:04.365Z"
   },
   {
    "duration": 15,
    "start_time": "2024-02-28T15:26:04.393Z"
   },
   {
    "duration": 16,
    "start_time": "2024-02-28T15:26:04.409Z"
   },
   {
    "duration": 10,
    "start_time": "2024-02-28T15:26:04.427Z"
   },
   {
    "duration": 143,
    "start_time": "2024-02-28T15:26:04.439Z"
   },
   {
    "duration": 195,
    "start_time": "2024-02-28T15:26:04.583Z"
   },
   {
    "duration": 293,
    "start_time": "2024-02-28T15:26:04.780Z"
   },
   {
    "duration": 464,
    "start_time": "2024-02-28T15:26:05.074Z"
   },
   {
    "duration": 400,
    "start_time": "2024-02-28T15:26:05.539Z"
   },
   {
    "duration": 33,
    "start_time": "2024-02-28T15:26:05.940Z"
   },
   {
    "duration": 8,
    "start_time": "2024-02-28T15:26:05.975Z"
   },
   {
    "duration": 8,
    "start_time": "2024-02-28T15:26:05.985Z"
   },
   {
    "duration": 429,
    "start_time": "2024-02-28T15:26:05.995Z"
   },
   {
    "duration": 475,
    "start_time": "2024-02-28T15:26:06.426Z"
   },
   {
    "duration": 444,
    "start_time": "2024-02-28T15:26:06.903Z"
   },
   {
    "duration": 411,
    "start_time": "2024-02-28T15:26:07.350Z"
   },
   {
    "duration": 5,
    "start_time": "2024-02-28T15:26:07.762Z"
   },
   {
    "duration": 55,
    "start_time": "2024-02-28T15:26:07.773Z"
   },
   {
    "duration": 3,
    "start_time": "2024-02-28T15:26:07.830Z"
   },
   {
    "duration": 6,
    "start_time": "2024-02-28T15:30:42.609Z"
   },
   {
    "duration": 23,
    "start_time": "2024-02-28T15:30:56.748Z"
   },
   {
    "duration": 75,
    "start_time": "2024-02-28T16:08:04.745Z"
   },
   {
    "duration": 577,
    "start_time": "2024-02-28T16:08:27.335Z"
   },
   {
    "duration": 36,
    "start_time": "2024-02-28T16:12:21.351Z"
   },
   {
    "duration": 5,
    "start_time": "2024-02-28T16:12:40.543Z"
   },
   {
    "duration": 6,
    "start_time": "2024-02-28T16:13:16.223Z"
   },
   {
    "duration": 8,
    "start_time": "2024-02-28T16:14:40.743Z"
   },
   {
    "duration": 5,
    "start_time": "2024-02-28T16:14:43.087Z"
   },
   {
    "duration": 6,
    "start_time": "2024-02-28T16:19:27.952Z"
   },
   {
    "duration": 5,
    "start_time": "2024-02-28T16:23:32.687Z"
   },
   {
    "duration": 5,
    "start_time": "2024-02-28T16:25:54.160Z"
   },
   {
    "duration": 7,
    "start_time": "2024-02-28T16:27:32.080Z"
   },
   {
    "duration": 10,
    "start_time": "2024-02-28T16:37:24.554Z"
   },
   {
    "duration": 13,
    "start_time": "2024-02-28T17:37:57.190Z"
   },
   {
    "duration": 1654,
    "start_time": "2024-02-28T17:38:12.614Z"
   },
   {
    "duration": 245,
    "start_time": "2024-02-28T17:42:00.127Z"
   },
   {
    "duration": 1567,
    "start_time": "2024-02-28T17:42:11.032Z"
   },
   {
    "duration": 263,
    "start_time": "2024-02-28T17:44:51.799Z"
   },
   {
    "duration": 1696,
    "start_time": "2024-02-28T17:45:16.343Z"
   },
   {
    "duration": 335,
    "start_time": "2024-02-28T17:48:02.615Z"
   },
   {
    "duration": 256,
    "start_time": "2024-02-28T17:48:57.144Z"
   },
   {
    "duration": 280,
    "start_time": "2024-02-28T17:49:08.175Z"
   },
   {
    "duration": 1725,
    "start_time": "2024-02-28T17:56:20.754Z"
   },
   {
    "duration": 3041,
    "start_time": "2024-02-28T17:56:50.362Z"
   },
   {
    "duration": 3312,
    "start_time": "2024-02-28T17:57:09.945Z"
   },
   {
    "duration": 2432,
    "start_time": "2024-02-28T18:00:14.442Z"
   },
   {
    "duration": 2620,
    "start_time": "2024-02-28T18:00:28.610Z"
   },
   {
    "duration": 1793,
    "start_time": "2024-02-28T18:04:28.475Z"
   },
   {
    "duration": 1776,
    "start_time": "2024-02-28T18:05:30.428Z"
   },
   {
    "duration": 1970,
    "start_time": "2024-02-28T18:11:34.907Z"
   },
   {
    "duration": 2153,
    "start_time": "2024-02-28T18:13:25.476Z"
   },
   {
    "duration": 1598,
    "start_time": "2024-02-28T18:13:39.747Z"
   },
   {
    "duration": 1920,
    "start_time": "2024-02-28T18:15:21.732Z"
   },
   {
    "duration": 2111,
    "start_time": "2024-02-28T18:15:43.084Z"
   },
   {
    "duration": 522,
    "start_time": "2024-02-28T18:23:07.453Z"
   },
   {
    "duration": 1735,
    "start_time": "2024-02-28T18:35:25.984Z"
   },
   {
    "duration": 2036,
    "start_time": "2024-02-28T18:37:03.976Z"
   },
   {
    "duration": 2031,
    "start_time": "2024-02-28T18:37:38.656Z"
   },
   {
    "duration": 6,
    "start_time": "2024-02-28T18:40:39.432Z"
   },
   {
    "duration": 1988,
    "start_time": "2024-02-28T18:49:49.070Z"
   },
   {
    "duration": 2011,
    "start_time": "2024-02-28T18:50:04.014Z"
   },
   {
    "duration": 7,
    "start_time": "2024-02-28T18:56:57.206Z"
   },
   {
    "duration": 6,
    "start_time": "2024-02-28T18:57:39.630Z"
   },
   {
    "duration": 417,
    "start_time": "2024-02-28T18:59:10.294Z"
   },
   {
    "duration": 74,
    "start_time": "2024-02-28T19:02:20.504Z"
   },
   {
    "duration": 14,
    "start_time": "2024-02-28T19:03:46.639Z"
   },
   {
    "duration": 14,
    "start_time": "2024-02-28T19:06:39.967Z"
   },
   {
    "duration": 167,
    "start_time": "2024-02-28T19:07:04.480Z"
   },
   {
    "duration": 197,
    "start_time": "2024-02-28T19:07:29.047Z"
   },
   {
    "duration": 5,
    "start_time": "2024-02-28T19:10:22.000Z"
   },
   {
    "duration": 6,
    "start_time": "2024-02-28T19:11:06.455Z"
   },
   {
    "duration": 7,
    "start_time": "2024-02-28T19:18:20.955Z"
   },
   {
    "duration": 6,
    "start_time": "2024-02-28T19:18:56.875Z"
   },
   {
    "duration": 5,
    "start_time": "2024-02-28T19:19:36.828Z"
   },
   {
    "duration": 7,
    "start_time": "2024-02-28T19:19:52.612Z"
   },
   {
    "duration": 6,
    "start_time": "2024-02-28T19:21:04.757Z"
   },
   {
    "duration": 6,
    "start_time": "2024-02-28T19:22:22.717Z"
   },
   {
    "duration": 7,
    "start_time": "2024-02-28T19:22:47.653Z"
   },
   {
    "duration": 6,
    "start_time": "2024-02-28T19:25:07.894Z"
   },
   {
    "duration": 6,
    "start_time": "2024-02-28T19:25:14.910Z"
   },
   {
    "duration": 100,
    "start_time": "2024-02-28T19:28:49.167Z"
   },
   {
    "duration": 635,
    "start_time": "2024-02-28T19:51:24.403Z"
   },
   {
    "duration": 44,
    "start_time": "2024-02-28T19:51:25.039Z"
   },
   {
    "duration": 36,
    "start_time": "2024-02-28T19:51:25.084Z"
   },
   {
    "duration": 19,
    "start_time": "2024-02-28T19:51:25.121Z"
   },
   {
    "duration": 12,
    "start_time": "2024-02-28T19:51:25.142Z"
   },
   {
    "duration": 12,
    "start_time": "2024-02-28T19:51:25.155Z"
   },
   {
    "duration": 11,
    "start_time": "2024-02-28T19:51:25.172Z"
   },
   {
    "duration": 7,
    "start_time": "2024-02-28T19:51:25.184Z"
   },
   {
    "duration": 11,
    "start_time": "2024-02-28T19:51:25.193Z"
   },
   {
    "duration": 5,
    "start_time": "2024-02-28T19:51:25.205Z"
   },
   {
    "duration": 4,
    "start_time": "2024-02-28T19:51:25.211Z"
   },
   {
    "duration": 7,
    "start_time": "2024-02-28T19:51:25.216Z"
   },
   {
    "duration": 4,
    "start_time": "2024-02-28T19:51:25.224Z"
   },
   {
    "duration": 6,
    "start_time": "2024-02-28T19:51:25.274Z"
   },
   {
    "duration": 15,
    "start_time": "2024-02-28T19:51:25.282Z"
   },
   {
    "duration": 6,
    "start_time": "2024-02-28T19:51:25.298Z"
   },
   {
    "duration": 168,
    "start_time": "2024-02-28T19:51:25.305Z"
   },
   {
    "duration": 200,
    "start_time": "2024-02-28T19:51:25.475Z"
   },
   {
    "duration": 287,
    "start_time": "2024-02-28T19:51:25.676Z"
   },
   {
    "duration": 473,
    "start_time": "2024-02-28T19:51:25.964Z"
   },
   {
    "duration": 406,
    "start_time": "2024-02-28T19:51:26.439Z"
   },
   {
    "duration": 16,
    "start_time": "2024-02-28T19:51:26.846Z"
   },
   {
    "duration": 8,
    "start_time": "2024-02-28T19:51:26.873Z"
   },
   {
    "duration": 7,
    "start_time": "2024-02-28T19:51:26.883Z"
   },
   {
    "duration": 444,
    "start_time": "2024-02-28T19:51:26.892Z"
   },
   {
    "duration": 473,
    "start_time": "2024-02-28T19:51:27.338Z"
   },
   {
    "duration": 426,
    "start_time": "2024-02-28T19:51:27.813Z"
   },
   {
    "duration": 410,
    "start_time": "2024-02-28T19:51:28.241Z"
   },
   {
    "duration": 4,
    "start_time": "2024-02-28T19:51:28.653Z"
   },
   {
    "duration": 62,
    "start_time": "2024-02-28T19:51:28.659Z"
   },
   {
    "duration": 4,
    "start_time": "2024-02-28T19:51:28.723Z"
   },
   {
    "duration": 43,
    "start_time": "2024-02-28T19:51:28.729Z"
   },
   {
    "duration": 535,
    "start_time": "2024-02-28T19:51:28.774Z"
   },
   {
    "duration": 5,
    "start_time": "2024-02-28T19:51:29.311Z"
   },
   {
    "duration": 14,
    "start_time": "2024-02-28T19:51:29.317Z"
   },
   {
    "duration": 124,
    "start_time": "2024-02-28T19:51:29.332Z"
   },
   {
    "duration": 0,
    "start_time": "2024-02-28T19:51:29.457Z"
   },
   {
    "duration": 0,
    "start_time": "2024-02-28T19:51:29.459Z"
   },
   {
    "duration": 0,
    "start_time": "2024-02-28T19:51:29.460Z"
   },
   {
    "duration": 0,
    "start_time": "2024-02-28T19:51:29.461Z"
   },
   {
    "duration": 1866,
    "start_time": "2024-02-28T19:51:53.555Z"
   },
   {
    "duration": 62,
    "start_time": "2024-02-28T19:52:10.627Z"
   },
   {
    "duration": 6,
    "start_time": "2024-02-28T19:52:16.571Z"
   },
   {
    "duration": 1338,
    "start_time": "2024-02-28T19:53:01.739Z"
   },
   {
    "duration": 635,
    "start_time": "2024-02-28T19:53:31.330Z"
   },
   {
    "duration": 43,
    "start_time": "2024-02-28T19:53:31.967Z"
   },
   {
    "duration": 34,
    "start_time": "2024-02-28T19:53:32.011Z"
   },
   {
    "duration": 20,
    "start_time": "2024-02-28T19:53:32.046Z"
   },
   {
    "duration": 14,
    "start_time": "2024-02-28T19:53:32.068Z"
   },
   {
    "duration": 28,
    "start_time": "2024-02-28T19:53:32.085Z"
   },
   {
    "duration": 42,
    "start_time": "2024-02-28T19:53:32.114Z"
   },
   {
    "duration": 21,
    "start_time": "2024-02-28T19:53:32.157Z"
   },
   {
    "duration": 69,
    "start_time": "2024-02-28T19:53:32.179Z"
   },
   {
    "duration": 22,
    "start_time": "2024-02-28T19:53:32.249Z"
   },
   {
    "duration": 22,
    "start_time": "2024-02-28T19:53:32.273Z"
   },
   {
    "duration": 17,
    "start_time": "2024-02-28T19:53:32.296Z"
   },
   {
    "duration": 13,
    "start_time": "2024-02-28T19:53:32.315Z"
   },
   {
    "duration": 16,
    "start_time": "2024-02-28T19:53:32.331Z"
   },
   {
    "duration": 12,
    "start_time": "2024-02-28T19:53:32.349Z"
   },
   {
    "duration": 6,
    "start_time": "2024-02-28T19:53:32.362Z"
   },
   {
    "duration": 166,
    "start_time": "2024-02-28T19:53:32.369Z"
   },
   {
    "duration": 186,
    "start_time": "2024-02-28T19:53:32.537Z"
   },
   {
    "duration": 281,
    "start_time": "2024-02-28T19:53:32.725Z"
   },
   {
    "duration": 480,
    "start_time": "2024-02-28T19:53:33.008Z"
   },
   {
    "duration": 412,
    "start_time": "2024-02-28T19:53:33.491Z"
   },
   {
    "duration": 15,
    "start_time": "2024-02-28T19:53:33.904Z"
   },
   {
    "duration": 14,
    "start_time": "2024-02-28T19:53:33.920Z"
   },
   {
    "duration": 6,
    "start_time": "2024-02-28T19:53:33.937Z"
   },
   {
    "duration": 432,
    "start_time": "2024-02-28T19:53:33.945Z"
   },
   {
    "duration": 509,
    "start_time": "2024-02-28T19:53:34.379Z"
   },
   {
    "duration": 413,
    "start_time": "2024-02-28T19:53:34.890Z"
   },
   {
    "duration": 406,
    "start_time": "2024-02-28T19:53:35.304Z"
   },
   {
    "duration": 4,
    "start_time": "2024-02-28T19:53:35.712Z"
   },
   {
    "duration": 57,
    "start_time": "2024-02-28T19:53:35.717Z"
   },
   {
    "duration": 5,
    "start_time": "2024-02-28T19:53:35.775Z"
   },
   {
    "duration": 30,
    "start_time": "2024-02-28T19:53:35.781Z"
   },
   {
    "duration": 545,
    "start_time": "2024-02-28T19:53:35.812Z"
   },
   {
    "duration": 5,
    "start_time": "2024-02-28T19:53:36.359Z"
   },
   {
    "duration": 13,
    "start_time": "2024-02-28T19:53:36.373Z"
   },
   {
    "duration": 1704,
    "start_time": "2024-02-28T19:53:36.387Z"
   },
   {
    "duration": 62,
    "start_time": "2024-02-28T19:53:38.093Z"
   },
   {
    "duration": 668,
    "start_time": "2024-02-28T19:54:50.586Z"
   },
   {
    "duration": 38,
    "start_time": "2024-02-28T19:54:51.256Z"
   },
   {
    "duration": 36,
    "start_time": "2024-02-28T19:54:51.295Z"
   },
   {
    "duration": 21,
    "start_time": "2024-02-28T19:54:51.333Z"
   },
   {
    "duration": 11,
    "start_time": "2024-02-28T19:54:51.356Z"
   },
   {
    "duration": 25,
    "start_time": "2024-02-28T19:54:51.369Z"
   },
   {
    "duration": 9,
    "start_time": "2024-02-28T19:54:51.396Z"
   },
   {
    "duration": 10,
    "start_time": "2024-02-28T19:54:51.407Z"
   },
   {
    "duration": 34,
    "start_time": "2024-02-28T19:54:51.418Z"
   },
   {
    "duration": 20,
    "start_time": "2024-02-28T19:54:51.453Z"
   },
   {
    "duration": 8,
    "start_time": "2024-02-28T19:54:51.475Z"
   },
   {
    "duration": 16,
    "start_time": "2024-02-28T19:54:51.485Z"
   },
   {
    "duration": 11,
    "start_time": "2024-02-28T19:54:51.503Z"
   },
   {
    "duration": 7,
    "start_time": "2024-02-28T19:54:51.517Z"
   },
   {
    "duration": 34,
    "start_time": "2024-02-28T19:54:51.525Z"
   },
   {
    "duration": 13,
    "start_time": "2024-02-28T19:54:51.561Z"
   },
   {
    "duration": 161,
    "start_time": "2024-02-28T19:54:51.575Z"
   },
   {
    "duration": 195,
    "start_time": "2024-02-28T19:54:51.738Z"
   },
   {
    "duration": 296,
    "start_time": "2024-02-28T19:54:51.934Z"
   },
   {
    "duration": 466,
    "start_time": "2024-02-28T19:54:52.232Z"
   },
   {
    "duration": 418,
    "start_time": "2024-02-28T19:54:52.700Z"
   },
   {
    "duration": 17,
    "start_time": "2024-02-28T19:54:53.120Z"
   },
   {
    "duration": 27,
    "start_time": "2024-02-28T19:54:53.138Z"
   },
   {
    "duration": 11,
    "start_time": "2024-02-28T19:54:53.166Z"
   },
   {
    "duration": 440,
    "start_time": "2024-02-28T19:54:53.179Z"
   },
   {
    "duration": 500,
    "start_time": "2024-02-28T19:54:53.621Z"
   },
   {
    "duration": 406,
    "start_time": "2024-02-28T19:54:54.123Z"
   },
   {
    "duration": 390,
    "start_time": "2024-02-28T19:54:54.531Z"
   },
   {
    "duration": 5,
    "start_time": "2024-02-28T19:54:54.923Z"
   },
   {
    "duration": 61,
    "start_time": "2024-02-28T19:54:54.930Z"
   },
   {
    "duration": 6,
    "start_time": "2024-02-28T19:54:54.992Z"
   },
   {
    "duration": 31,
    "start_time": "2024-02-28T19:54:55.000Z"
   },
   {
    "duration": 575,
    "start_time": "2024-02-28T19:54:55.033Z"
   },
   {
    "duration": 6,
    "start_time": "2024-02-28T19:54:55.610Z"
   },
   {
    "duration": 24,
    "start_time": "2024-02-28T19:54:55.618Z"
   },
   {
    "duration": 1696,
    "start_time": "2024-02-28T19:54:55.644Z"
   },
   {
    "duration": 69,
    "start_time": "2024-02-28T19:54:57.342Z"
   },
   {
    "duration": 6,
    "start_time": "2024-02-28T19:54:57.413Z"
   },
   {
    "duration": 5,
    "start_time": "2024-02-28T19:56:09.348Z"
   },
   {
    "duration": 5,
    "start_time": "2024-02-28T19:56:15.202Z"
   },
   {
    "duration": 6,
    "start_time": "2024-02-28T19:56:25.163Z"
   },
   {
    "duration": 6,
    "start_time": "2024-02-28T19:57:07.042Z"
   },
   {
    "duration": 682,
    "start_time": "2024-02-28T19:57:29.816Z"
   },
   {
    "duration": 39,
    "start_time": "2024-02-28T19:57:30.500Z"
   },
   {
    "duration": 100,
    "start_time": "2024-02-28T19:57:30.541Z"
   },
   {
    "duration": 104,
    "start_time": "2024-02-28T19:57:30.643Z"
   },
   {
    "duration": 65,
    "start_time": "2024-02-28T19:57:30.749Z"
   },
   {
    "duration": 83,
    "start_time": "2024-02-28T19:57:30.816Z"
   },
   {
    "duration": 76,
    "start_time": "2024-02-28T19:57:30.901Z"
   },
   {
    "duration": 87,
    "start_time": "2024-02-28T19:57:30.979Z"
   },
   {
    "duration": 84,
    "start_time": "2024-02-28T19:57:31.068Z"
   },
   {
    "duration": 45,
    "start_time": "2024-02-28T19:57:31.154Z"
   },
   {
    "duration": 85,
    "start_time": "2024-02-28T19:57:31.201Z"
   },
   {
    "duration": 63,
    "start_time": "2024-02-28T19:57:31.289Z"
   },
   {
    "duration": 60,
    "start_time": "2024-02-28T19:57:31.354Z"
   },
   {
    "duration": 44,
    "start_time": "2024-02-28T19:57:31.417Z"
   },
   {
    "duration": 39,
    "start_time": "2024-02-28T19:57:31.463Z"
   },
   {
    "duration": 39,
    "start_time": "2024-02-28T19:57:31.504Z"
   },
   {
    "duration": 190,
    "start_time": "2024-02-28T19:57:31.545Z"
   },
   {
    "duration": 185,
    "start_time": "2024-02-28T19:57:31.736Z"
   },
   {
    "duration": 279,
    "start_time": "2024-02-28T19:57:31.923Z"
   },
   {
    "duration": 477,
    "start_time": "2024-02-28T19:57:32.204Z"
   },
   {
    "duration": 414,
    "start_time": "2024-02-28T19:57:32.683Z"
   },
   {
    "duration": 16,
    "start_time": "2024-02-28T19:57:33.098Z"
   },
   {
    "duration": 7,
    "start_time": "2024-02-28T19:57:33.116Z"
   },
   {
    "duration": 11,
    "start_time": "2024-02-28T19:57:33.124Z"
   },
   {
    "duration": 456,
    "start_time": "2024-02-28T19:57:33.136Z"
   },
   {
    "duration": 508,
    "start_time": "2024-02-28T19:57:33.593Z"
   },
   {
    "duration": 420,
    "start_time": "2024-02-28T19:57:34.103Z"
   },
   {
    "duration": 391,
    "start_time": "2024-02-28T19:57:34.524Z"
   },
   {
    "duration": 4,
    "start_time": "2024-02-28T19:57:34.916Z"
   },
   {
    "duration": 79,
    "start_time": "2024-02-28T19:57:34.922Z"
   },
   {
    "duration": 5,
    "start_time": "2024-02-28T19:57:35.003Z"
   },
   {
    "duration": 32,
    "start_time": "2024-02-28T19:57:35.010Z"
   },
   {
    "duration": 562,
    "start_time": "2024-02-28T19:57:35.044Z"
   },
   {
    "duration": 6,
    "start_time": "2024-02-28T19:57:35.608Z"
   },
   {
    "duration": 23,
    "start_time": "2024-02-28T19:57:35.616Z"
   },
   {
    "duration": 1643,
    "start_time": "2024-02-28T19:57:35.641Z"
   },
   {
    "duration": 63,
    "start_time": "2024-02-28T19:57:37.285Z"
   },
   {
    "duration": 6,
    "start_time": "2024-02-28T19:57:37.350Z"
   },
   {
    "duration": 71,
    "start_time": "2024-02-28T19:58:17.443Z"
   },
   {
    "duration": 1658,
    "start_time": "2024-02-28T19:59:49.394Z"
   },
   {
    "duration": 1655,
    "start_time": "2024-02-28T20:00:21.242Z"
   },
   {
    "duration": 1339,
    "start_time": "2024-03-04T08:06:28.661Z"
   },
   {
    "duration": 97,
    "start_time": "2024-03-04T08:06:44.054Z"
   },
   {
    "duration": 1135,
    "start_time": "2024-03-04T08:11:52.330Z"
   },
   {
    "duration": 85,
    "start_time": "2024-03-04T08:11:53.467Z"
   },
   {
    "duration": 74,
    "start_time": "2024-03-04T08:11:53.554Z"
   },
   {
    "duration": 57,
    "start_time": "2024-03-04T08:11:53.630Z"
   },
   {
    "duration": 10,
    "start_time": "2024-03-04T08:11:53.689Z"
   },
   {
    "duration": 19,
    "start_time": "2024-03-04T08:11:53.701Z"
   },
   {
    "duration": 9,
    "start_time": "2024-03-04T08:11:53.721Z"
   },
   {
    "duration": 18,
    "start_time": "2024-03-04T08:11:53.731Z"
   },
   {
    "duration": 10,
    "start_time": "2024-03-04T08:11:53.751Z"
   },
   {
    "duration": 12,
    "start_time": "2024-03-04T08:11:53.763Z"
   },
   {
    "duration": 9,
    "start_time": "2024-03-04T08:11:53.777Z"
   },
   {
    "duration": 15,
    "start_time": "2024-03-04T08:11:53.787Z"
   },
   {
    "duration": 18,
    "start_time": "2024-03-04T08:11:53.803Z"
   },
   {
    "duration": 19,
    "start_time": "2024-03-04T08:11:53.824Z"
   },
   {
    "duration": 29,
    "start_time": "2024-03-04T08:11:53.845Z"
   },
   {
    "duration": 7,
    "start_time": "2024-03-04T08:11:53.876Z"
   },
   {
    "duration": 146,
    "start_time": "2024-03-04T08:11:53.884Z"
   },
   {
    "duration": 170,
    "start_time": "2024-03-04T08:11:54.032Z"
   },
   {
    "duration": 254,
    "start_time": "2024-03-04T08:11:54.204Z"
   },
   {
    "duration": 413,
    "start_time": "2024-03-04T08:11:54.459Z"
   },
   {
    "duration": 447,
    "start_time": "2024-03-04T08:11:54.874Z"
   },
   {
    "duration": 16,
    "start_time": "2024-03-04T08:11:55.322Z"
   },
   {
    "duration": 46,
    "start_time": "2024-03-04T08:11:55.340Z"
   },
   {
    "duration": 25,
    "start_time": "2024-03-04T08:11:55.388Z"
   },
   {
    "duration": 402,
    "start_time": "2024-03-04T08:11:55.415Z"
   },
   {
    "duration": 420,
    "start_time": "2024-03-04T08:11:55.819Z"
   },
   {
    "duration": 359,
    "start_time": "2024-03-04T08:11:56.241Z"
   },
   {
    "duration": 467,
    "start_time": "2024-03-04T08:11:56.601Z"
   },
   {
    "duration": 4,
    "start_time": "2024-03-04T08:11:57.070Z"
   },
   {
    "duration": 48,
    "start_time": "2024-03-04T08:11:57.075Z"
   },
   {
    "duration": 5,
    "start_time": "2024-03-04T08:11:57.124Z"
   },
   {
    "duration": 46,
    "start_time": "2024-03-04T08:11:57.131Z"
   },
   {
    "duration": 26,
    "start_time": "2024-03-04T08:11:57.179Z"
   },
   {
    "duration": 26,
    "start_time": "2024-03-04T08:11:57.206Z"
   },
   {
    "duration": 20,
    "start_time": "2024-03-04T08:11:57.234Z"
   },
   {
    "duration": 1571,
    "start_time": "2024-03-04T08:11:57.255Z"
   },
   {
    "duration": 5,
    "start_time": "2024-03-04T08:11:58.828Z"
   },
   {
    "duration": 164,
    "start_time": "2024-03-04T08:11:58.835Z"
   },
   {
    "duration": 109,
    "start_time": "2024-03-04T08:11:59.001Z"
   },
   {
    "duration": 15,
    "start_time": "2024-03-04T08:13:34.139Z"
   },
   {
    "duration": 14,
    "start_time": "2024-03-04T08:14:18.246Z"
   },
   {
    "duration": 1101,
    "start_time": "2024-03-04T08:15:43.051Z"
   },
   {
    "duration": 36,
    "start_time": "2024-03-04T08:15:44.154Z"
   },
   {
    "duration": 33,
    "start_time": "2024-03-04T08:15:44.192Z"
   },
   {
    "duration": 18,
    "start_time": "2024-03-04T08:15:44.227Z"
   },
   {
    "duration": 11,
    "start_time": "2024-03-04T08:15:44.247Z"
   },
   {
    "duration": 13,
    "start_time": "2024-03-04T08:15:44.259Z"
   },
   {
    "duration": 9,
    "start_time": "2024-03-04T08:15:44.274Z"
   },
   {
    "duration": 14,
    "start_time": "2024-03-04T08:15:44.285Z"
   },
   {
    "duration": 19,
    "start_time": "2024-03-04T08:15:44.301Z"
   },
   {
    "duration": 6,
    "start_time": "2024-03-04T08:15:44.322Z"
   },
   {
    "duration": 13,
    "start_time": "2024-03-04T08:15:44.330Z"
   },
   {
    "duration": 27,
    "start_time": "2024-03-04T08:15:44.345Z"
   },
   {
    "duration": 7,
    "start_time": "2024-03-04T08:15:44.374Z"
   },
   {
    "duration": 26,
    "start_time": "2024-03-04T08:15:44.385Z"
   },
   {
    "duration": 12,
    "start_time": "2024-03-04T08:15:44.414Z"
   },
   {
    "duration": 7,
    "start_time": "2024-03-04T08:15:44.428Z"
   },
   {
    "duration": 166,
    "start_time": "2024-03-04T08:15:44.437Z"
   },
   {
    "duration": 190,
    "start_time": "2024-03-04T08:15:44.605Z"
   },
   {
    "duration": 253,
    "start_time": "2024-03-04T08:15:44.797Z"
   },
   {
    "duration": 380,
    "start_time": "2024-03-04T08:15:45.052Z"
   },
   {
    "duration": 482,
    "start_time": "2024-03-04T08:15:45.434Z"
   },
   {
    "duration": 20,
    "start_time": "2024-03-04T08:15:45.918Z"
   },
   {
    "duration": 8,
    "start_time": "2024-03-04T08:15:45.940Z"
   },
   {
    "duration": 8,
    "start_time": "2024-03-04T08:15:45.965Z"
   },
   {
    "duration": 402,
    "start_time": "2024-03-04T08:15:45.974Z"
   },
   {
    "duration": 386,
    "start_time": "2024-03-04T08:15:46.377Z"
   },
   {
    "duration": 363,
    "start_time": "2024-03-04T08:15:46.764Z"
   },
   {
    "duration": 474,
    "start_time": "2024-03-04T08:15:47.129Z"
   },
   {
    "duration": 4,
    "start_time": "2024-03-04T08:15:47.604Z"
   },
   {
    "duration": 56,
    "start_time": "2024-03-04T08:15:47.609Z"
   },
   {
    "duration": 5,
    "start_time": "2024-03-04T08:15:47.667Z"
   },
   {
    "duration": 21,
    "start_time": "2024-03-04T08:15:47.673Z"
   },
   {
    "duration": 5,
    "start_time": "2024-03-04T08:15:47.695Z"
   },
   {
    "duration": 5,
    "start_time": "2024-03-04T08:15:47.702Z"
   },
   {
    "duration": 17,
    "start_time": "2024-03-04T08:15:47.708Z"
   },
   {
    "duration": 1628,
    "start_time": "2024-03-04T08:15:47.726Z"
   },
   {
    "duration": 12,
    "start_time": "2024-03-04T08:15:49.355Z"
   },
   {
    "duration": 149,
    "start_time": "2024-03-04T08:15:49.369Z"
   },
   {
    "duration": 35570,
    "start_time": "2024-03-04T08:15:49.520Z"
   },
   {
    "duration": 2938,
    "start_time": "2024-03-04T08:17:43.887Z"
   },
   {
    "duration": 1014,
    "start_time": "2024-03-04T08:22:25.952Z"
   },
   {
    "duration": 960,
    "start_time": "2024-03-04T08:24:33.576Z"
   },
   {
    "duration": 2992,
    "start_time": "2024-03-04T08:27:24.152Z"
   },
   {
    "duration": 1615,
    "start_time": "2024-03-04T08:28:06.455Z"
   },
   {
    "duration": 1533,
    "start_time": "2024-03-04T08:30:22.183Z"
   },
   {
    "duration": 1652,
    "start_time": "2024-03-04T08:31:29.648Z"
   },
   {
    "duration": 1475,
    "start_time": "2024-03-04T08:34:55.160Z"
   },
   {
    "duration": 638,
    "start_time": "2024-03-04T08:44:29.450Z"
   },
   {
    "duration": 1018,
    "start_time": "2024-03-04T08:46:20.545Z"
   },
   {
    "duration": 805,
    "start_time": "2024-03-04T08:56:16.348Z"
   },
   {
    "duration": 986,
    "start_time": "2024-03-04T08:57:28.107Z"
   },
   {
    "duration": 229,
    "start_time": "2024-03-04T09:01:15.571Z"
   },
   {
    "duration": 207,
    "start_time": "2024-03-04T09:01:30.806Z"
   },
   {
    "duration": 226,
    "start_time": "2024-03-04T09:01:37.955Z"
   },
   {
    "duration": 186,
    "start_time": "2024-03-04T09:01:52.604Z"
   },
   {
    "duration": 340,
    "start_time": "2024-03-04T09:01:57.372Z"
   },
   {
    "duration": 232,
    "start_time": "2024-03-04T09:02:18.035Z"
   },
   {
    "duration": 480,
    "start_time": "2024-03-04T09:19:06.373Z"
   },
   {
    "duration": 299,
    "start_time": "2024-03-04T09:19:29.741Z"
   },
   {
    "duration": 155,
    "start_time": "2024-03-04T09:21:45.670Z"
   },
   {
    "duration": 140,
    "start_time": "2024-03-04T09:22:20.134Z"
   },
   {
    "duration": 168,
    "start_time": "2024-03-04T09:25:51.262Z"
   },
   {
    "duration": 157,
    "start_time": "2024-03-04T09:26:56.009Z"
   },
   {
    "duration": 13,
    "start_time": "2024-03-04T09:28:30.105Z"
   },
   {
    "duration": 151,
    "start_time": "2024-03-04T09:28:41.654Z"
   },
   {
    "duration": 237,
    "start_time": "2024-03-04T09:31:07.119Z"
   },
   {
    "duration": 147,
    "start_time": "2024-03-04T09:32:10.512Z"
   },
   {
    "duration": 9,
    "start_time": "2024-03-04T09:37:00.479Z"
   },
   {
    "duration": 8,
    "start_time": "2024-03-04T09:38:42.767Z"
   },
   {
    "duration": 1212,
    "start_time": "2024-03-04T09:39:33.359Z"
   },
   {
    "duration": 8,
    "start_time": "2024-03-04T09:39:55.097Z"
   },
   {
    "duration": 7,
    "start_time": "2024-03-04T09:40:53.918Z"
   },
   {
    "duration": 6,
    "start_time": "2024-03-04T09:42:13.760Z"
   },
   {
    "duration": 7,
    "start_time": "2024-03-04T09:56:49.129Z"
   },
   {
    "duration": 152,
    "start_time": "2024-03-04T09:57:05.368Z"
   },
   {
    "duration": 6,
    "start_time": "2024-03-04T09:57:17.728Z"
   },
   {
    "duration": 6,
    "start_time": "2024-03-04T09:57:38.584Z"
   },
   {
    "duration": 9,
    "start_time": "2024-03-04T09:58:01.560Z"
   },
   {
    "duration": 6,
    "start_time": "2024-03-04T09:58:31.856Z"
   },
   {
    "duration": 143,
    "start_time": "2024-03-04T09:58:53.912Z"
   },
   {
    "duration": 9,
    "start_time": "2024-03-04T10:07:26.872Z"
   },
   {
    "duration": 1733,
    "start_time": "2024-03-04T10:08:06.039Z"
   },
   {
    "duration": 1441,
    "start_time": "2024-03-04T10:09:00.975Z"
   },
   {
    "duration": 1171,
    "start_time": "2024-03-04T10:09:24.319Z"
   },
   {
    "duration": 1044,
    "start_time": "2024-03-04T10:09:44.645Z"
   },
   {
    "duration": 11,
    "start_time": "2024-03-04T10:10:20.001Z"
   },
   {
    "duration": 9,
    "start_time": "2024-03-04T10:10:59.151Z"
   },
   {
    "duration": 10,
    "start_time": "2024-03-04T10:11:40.710Z"
   },
   {
    "duration": 8,
    "start_time": "2024-03-04T10:11:42.254Z"
   },
   {
    "duration": 9,
    "start_time": "2024-03-04T10:12:55.518Z"
   },
   {
    "duration": 9,
    "start_time": "2024-03-04T10:13:11.982Z"
   },
   {
    "duration": 10,
    "start_time": "2024-03-04T12:18:17.877Z"
   },
   {
    "duration": 5,
    "start_time": "2024-03-04T12:18:41.420Z"
   },
   {
    "duration": 7,
    "start_time": "2024-03-04T12:18:52.435Z"
   },
   {
    "duration": 7,
    "start_time": "2024-03-04T12:19:33.844Z"
   },
   {
    "duration": 6,
    "start_time": "2024-03-04T12:20:33.988Z"
   },
   {
    "duration": 6,
    "start_time": "2024-03-04T12:20:39.116Z"
   },
   {
    "duration": 5,
    "start_time": "2024-03-04T12:22:21.228Z"
   },
   {
    "duration": 5,
    "start_time": "2024-03-04T12:22:28.108Z"
   },
   {
    "duration": 5,
    "start_time": "2024-03-04T12:23:09.701Z"
   },
   {
    "duration": 7,
    "start_time": "2024-03-04T12:24:02.355Z"
   },
   {
    "duration": 383,
    "start_time": "2024-03-04T12:24:37.308Z"
   },
   {
    "duration": 176,
    "start_time": "2024-03-04T12:24:45.116Z"
   },
   {
    "duration": 211,
    "start_time": "2024-03-04T12:24:51.611Z"
   },
   {
    "duration": 385,
    "start_time": "2024-03-04T12:25:07.587Z"
   },
   {
    "duration": 205,
    "start_time": "2024-03-04T12:25:18.211Z"
   },
   {
    "duration": 241,
    "start_time": "2024-03-04T12:25:36.779Z"
   },
   {
    "duration": 259,
    "start_time": "2024-03-04T12:28:02.355Z"
   },
   {
    "duration": 7,
    "start_time": "2024-03-04T12:35:14.692Z"
   },
   {
    "duration": 112,
    "start_time": "2024-03-04T12:40:39.179Z"
   },
   {
    "duration": 735,
    "start_time": "2024-03-04T12:40:47.730Z"
   },
   {
    "duration": 954,
    "start_time": "2024-03-04T12:41:33.075Z"
   },
   {
    "duration": 960,
    "start_time": "2024-03-04T12:41:36.922Z"
   },
   {
    "duration": 80,
    "start_time": "2024-03-04T13:04:46.958Z"
   },
   {
    "duration": 92,
    "start_time": "2024-03-04T13:05:32.806Z"
   },
   {
    "duration": 81,
    "start_time": "2024-03-04T13:05:40.078Z"
   },
   {
    "duration": 45,
    "start_time": "2024-03-04T13:05:55.750Z"
   },
   {
    "duration": 1192,
    "start_time": "2024-03-04T14:05:49.383Z"
   },
   {
    "duration": 43,
    "start_time": "2024-03-04T14:05:50.577Z"
   },
   {
    "duration": 34,
    "start_time": "2024-03-04T14:05:50.622Z"
   },
   {
    "duration": 20,
    "start_time": "2024-03-04T14:05:50.658Z"
   },
   {
    "duration": 14,
    "start_time": "2024-03-04T14:05:50.680Z"
   },
   {
    "duration": 48,
    "start_time": "2024-03-04T14:05:50.695Z"
   },
   {
    "duration": 24,
    "start_time": "2024-03-04T14:05:50.744Z"
   },
   {
    "duration": 42,
    "start_time": "2024-03-04T14:05:50.770Z"
   },
   {
    "duration": 36,
    "start_time": "2024-03-04T14:05:50.814Z"
   },
   {
    "duration": 32,
    "start_time": "2024-03-04T14:05:50.852Z"
   },
   {
    "duration": 29,
    "start_time": "2024-03-04T14:05:50.885Z"
   },
   {
    "duration": 33,
    "start_time": "2024-03-04T14:05:50.915Z"
   },
   {
    "duration": 53,
    "start_time": "2024-03-04T14:05:50.949Z"
   },
   {
    "duration": 11,
    "start_time": "2024-03-04T14:05:51.004Z"
   },
   {
    "duration": 19,
    "start_time": "2024-03-04T14:05:51.017Z"
   },
   {
    "duration": 29,
    "start_time": "2024-03-04T14:05:51.038Z"
   },
   {
    "duration": 185,
    "start_time": "2024-03-04T14:05:51.068Z"
   },
   {
    "duration": 10,
    "start_time": "2024-03-04T14:05:51.255Z"
   },
   {
    "duration": 217,
    "start_time": "2024-03-04T14:05:51.267Z"
   },
   {
    "duration": 8,
    "start_time": "2024-03-04T14:05:51.486Z"
   },
   {
    "duration": 266,
    "start_time": "2024-03-04T14:05:51.496Z"
   },
   {
    "duration": 8,
    "start_time": "2024-03-04T14:05:51.765Z"
   },
   {
    "duration": 416,
    "start_time": "2024-03-04T14:05:51.775Z"
   },
   {
    "duration": 9,
    "start_time": "2024-03-04T14:05:52.192Z"
   },
   {
    "duration": 478,
    "start_time": "2024-03-04T14:05:52.202Z"
   },
   {
    "duration": 297,
    "start_time": "2024-03-04T14:05:52.682Z"
   },
   {
    "duration": 9,
    "start_time": "2024-03-04T14:05:52.981Z"
   },
   {
    "duration": 30,
    "start_time": "2024-03-04T14:05:52.993Z"
   },
   {
    "duration": 27,
    "start_time": "2024-03-04T14:05:53.025Z"
   },
   {
    "duration": 9,
    "start_time": "2024-03-04T14:05:53.054Z"
   },
   {
    "duration": 764,
    "start_time": "2024-03-04T14:05:53.065Z"
   },
   {
    "duration": 8,
    "start_time": "2024-03-04T14:05:53.831Z"
   },
   {
    "duration": 31,
    "start_time": "2024-03-04T14:05:53.840Z"
   },
   {
    "duration": 894,
    "start_time": "2024-03-04T14:05:53.872Z"
   },
   {
    "duration": 9,
    "start_time": "2024-03-04T14:05:54.768Z"
   },
   {
    "duration": 36,
    "start_time": "2024-03-04T14:05:54.778Z"
   },
   {
    "duration": 68,
    "start_time": "2024-03-04T14:05:54.816Z"
   },
   {
    "duration": 16,
    "start_time": "2024-03-04T14:05:54.886Z"
   },
   {
    "duration": 19,
    "start_time": "2024-03-04T14:05:54.904Z"
   },
   {
    "duration": 44,
    "start_time": "2024-03-04T14:05:54.925Z"
   },
   {
    "duration": 49,
    "start_time": "2024-03-04T14:05:54.971Z"
   },
   {
    "duration": 1687,
    "start_time": "2024-03-04T14:05:55.022Z"
   },
   {
    "duration": 1412,
    "start_time": "2024-03-04T14:05:56.711Z"
   },
   {
    "duration": 154,
    "start_time": "2024-03-04T14:05:58.125Z"
   },
   {
    "duration": 3085,
    "start_time": "2024-03-04T14:05:58.280Z"
   },
   {
    "duration": 1634,
    "start_time": "2024-03-04T14:06:50.294Z"
   },
   {
    "duration": 1618,
    "start_time": "2024-03-04T14:10:30.153Z"
   },
   {
    "duration": 1450,
    "start_time": "2024-03-04T14:11:12.185Z"
   },
   {
    "duration": 1727,
    "start_time": "2024-03-04T14:12:53.642Z"
   },
   {
    "duration": 1856,
    "start_time": "2024-03-04T14:22:39.240Z"
   },
   {
    "duration": 1811,
    "start_time": "2024-03-04T14:22:57.215Z"
   },
   {
    "duration": 3061,
    "start_time": "2024-03-04T14:28:04.186Z"
   },
   {
    "duration": 1155,
    "start_time": "2024-03-04T14:52:31.732Z"
   },
   {
    "duration": 38,
    "start_time": "2024-03-04T14:52:32.890Z"
   },
   {
    "duration": 38,
    "start_time": "2024-03-04T14:52:32.930Z"
   },
   {
    "duration": 20,
    "start_time": "2024-03-04T14:52:32.970Z"
   },
   {
    "duration": 37,
    "start_time": "2024-03-04T14:52:32.992Z"
   },
   {
    "duration": 20,
    "start_time": "2024-03-04T14:52:33.031Z"
   },
   {
    "duration": 43,
    "start_time": "2024-03-04T14:52:33.053Z"
   },
   {
    "duration": 79,
    "start_time": "2024-03-04T14:52:33.098Z"
   },
   {
    "duration": 34,
    "start_time": "2024-03-04T14:52:33.179Z"
   },
   {
    "duration": 13,
    "start_time": "2024-03-04T14:52:33.215Z"
   },
   {
    "duration": 31,
    "start_time": "2024-03-04T14:52:33.229Z"
   },
   {
    "duration": 25,
    "start_time": "2024-03-04T14:52:33.261Z"
   },
   {
    "duration": 19,
    "start_time": "2024-03-04T14:52:33.288Z"
   },
   {
    "duration": 11,
    "start_time": "2024-03-04T14:52:33.310Z"
   },
   {
    "duration": 55,
    "start_time": "2024-03-04T14:52:33.323Z"
   },
   {
    "duration": 45,
    "start_time": "2024-03-04T14:52:33.379Z"
   },
   {
    "duration": 185,
    "start_time": "2024-03-04T14:52:33.426Z"
   },
   {
    "duration": 6,
    "start_time": "2024-03-04T14:52:33.613Z"
   },
   {
    "duration": 251,
    "start_time": "2024-03-04T14:52:33.621Z"
   },
   {
    "duration": 5,
    "start_time": "2024-03-04T14:52:33.874Z"
   },
   {
    "duration": 307,
    "start_time": "2024-03-04T14:52:33.881Z"
   },
   {
    "duration": 9,
    "start_time": "2024-03-04T14:52:34.189Z"
   },
   {
    "duration": 443,
    "start_time": "2024-03-04T14:52:34.199Z"
   },
   {
    "duration": 8,
    "start_time": "2024-03-04T14:52:34.644Z"
   },
   {
    "duration": 560,
    "start_time": "2024-03-04T14:52:34.653Z"
   },
   {
    "duration": 261,
    "start_time": "2024-03-04T14:52:35.215Z"
   },
   {
    "duration": 9,
    "start_time": "2024-03-04T14:52:35.477Z"
   },
   {
    "duration": 23,
    "start_time": "2024-03-04T14:52:35.487Z"
   },
   {
    "duration": 14,
    "start_time": "2024-03-04T14:52:35.512Z"
   },
   {
    "duration": 28,
    "start_time": "2024-03-04T14:52:35.528Z"
   },
   {
    "duration": 820,
    "start_time": "2024-03-04T14:52:35.557Z"
   },
   {
    "duration": 8,
    "start_time": "2024-03-04T14:52:36.379Z"
   },
   {
    "duration": 12,
    "start_time": "2024-03-04T14:52:36.388Z"
   },
   {
    "duration": 876,
    "start_time": "2024-03-04T14:52:36.401Z"
   },
   {
    "duration": 8,
    "start_time": "2024-03-04T14:52:37.279Z"
   },
   {
    "duration": 23,
    "start_time": "2024-03-04T14:52:37.288Z"
   },
   {
    "duration": 54,
    "start_time": "2024-03-04T14:52:37.312Z"
   },
   {
    "duration": 13,
    "start_time": "2024-03-04T14:52:37.368Z"
   },
   {
    "duration": 15,
    "start_time": "2024-03-04T14:52:37.382Z"
   },
   {
    "duration": 17,
    "start_time": "2024-03-04T14:52:37.398Z"
   },
   {
    "duration": 34,
    "start_time": "2024-03-04T14:52:37.419Z"
   },
   {
    "duration": 1570,
    "start_time": "2024-03-04T14:52:37.454Z"
   },
   {
    "duration": 1440,
    "start_time": "2024-03-04T14:52:39.025Z"
   },
   {
    "duration": 155,
    "start_time": "2024-03-04T14:52:40.467Z"
   },
   {
    "duration": 1776,
    "start_time": "2024-03-04T14:52:40.623Z"
   },
   {
    "duration": 2973,
    "start_time": "2024-03-04T14:52:42.401Z"
   },
   {
    "duration": 1621,
    "start_time": "2024-03-04T14:53:03.878Z"
   },
   {
    "duration": 1191,
    "start_time": "2024-03-04T17:06:55.807Z"
   },
   {
    "duration": 96,
    "start_time": "2024-03-04T17:06:56.999Z"
   },
   {
    "duration": 166,
    "start_time": "2024-03-04T17:06:57.097Z"
   },
   {
    "duration": 59,
    "start_time": "2024-03-04T17:06:57.265Z"
   },
   {
    "duration": 10,
    "start_time": "2024-03-04T17:06:57.326Z"
   },
   {
    "duration": 19,
    "start_time": "2024-03-04T17:06:57.338Z"
   },
   {
    "duration": 15,
    "start_time": "2024-03-04T17:06:57.358Z"
   },
   {
    "duration": 7,
    "start_time": "2024-03-04T17:06:57.375Z"
   },
   {
    "duration": 9,
    "start_time": "2024-03-04T17:06:57.384Z"
   },
   {
    "duration": 4,
    "start_time": "2024-03-04T17:06:57.396Z"
   },
   {
    "duration": 4,
    "start_time": "2024-03-04T17:06:57.402Z"
   },
   {
    "duration": 10,
    "start_time": "2024-03-04T17:06:57.408Z"
   },
   {
    "duration": 5,
    "start_time": "2024-03-04T17:06:57.420Z"
   },
   {
    "duration": 8,
    "start_time": "2024-03-04T17:06:57.426Z"
   },
   {
    "duration": 35,
    "start_time": "2024-03-04T17:06:57.435Z"
   },
   {
    "duration": 6,
    "start_time": "2024-03-04T17:06:57.472Z"
   },
   {
    "duration": 186,
    "start_time": "2024-03-04T17:06:57.479Z"
   },
   {
    "duration": 7,
    "start_time": "2024-03-04T17:06:57.666Z"
   },
   {
    "duration": 152,
    "start_time": "2024-03-04T17:06:57.675Z"
   },
   {
    "duration": 6,
    "start_time": "2024-03-04T17:06:57.829Z"
   },
   {
    "duration": 249,
    "start_time": "2024-03-04T17:06:57.836Z"
   },
   {
    "duration": 7,
    "start_time": "2024-03-04T17:06:58.087Z"
   },
   {
    "duration": 411,
    "start_time": "2024-03-04T17:06:58.095Z"
   },
   {
    "duration": 8,
    "start_time": "2024-03-04T17:06:58.508Z"
   },
   {
    "duration": 469,
    "start_time": "2024-03-04T17:06:58.517Z"
   },
   {
    "duration": 273,
    "start_time": "2024-03-04T17:06:58.987Z"
   },
   {
    "duration": 15,
    "start_time": "2024-03-04T17:06:59.261Z"
   },
   {
    "duration": 15,
    "start_time": "2024-03-04T17:06:59.279Z"
   },
   {
    "duration": 8,
    "start_time": "2024-03-04T17:06:59.295Z"
   },
   {
    "duration": 11,
    "start_time": "2024-03-04T17:06:59.304Z"
   },
   {
    "duration": 840,
    "start_time": "2024-03-04T17:06:59.316Z"
   },
   {
    "duration": 14,
    "start_time": "2024-03-04T17:07:00.157Z"
   },
   {
    "duration": 64,
    "start_time": "2024-03-04T17:07:00.173Z"
   },
   {
    "duration": 946,
    "start_time": "2024-03-04T17:07:00.238Z"
   },
   {
    "duration": 9,
    "start_time": "2024-03-04T17:07:01.185Z"
   },
   {
    "duration": 63,
    "start_time": "2024-03-04T17:07:01.195Z"
   },
   {
    "duration": 120,
    "start_time": "2024-03-04T17:07:01.260Z"
   },
   {
    "duration": 90,
    "start_time": "2024-03-04T17:07:01.382Z"
   },
   {
    "duration": 76,
    "start_time": "2024-03-04T17:07:01.473Z"
   },
   {
    "duration": 44,
    "start_time": "2024-03-04T17:07:01.551Z"
   },
   {
    "duration": 57,
    "start_time": "2024-03-04T17:07:01.597Z"
   },
   {
    "duration": 1740,
    "start_time": "2024-03-04T17:07:01.655Z"
   },
   {
    "duration": 1439,
    "start_time": "2024-03-04T17:07:03.397Z"
   },
   {
    "duration": 159,
    "start_time": "2024-03-04T17:07:04.837Z"
   },
   {
    "duration": 1838,
    "start_time": "2024-03-04T17:07:04.997Z"
   },
   {
    "duration": 3104,
    "start_time": "2024-03-04T17:07:06.837Z"
   },
   {
    "duration": 18,
    "start_time": "2024-03-04T17:09:04.827Z"
   },
   {
    "duration": 7,
    "start_time": "2024-03-04T17:50:39.068Z"
   },
   {
    "duration": 9,
    "start_time": "2024-03-04T17:52:50.868Z"
   },
   {
    "duration": 455,
    "start_time": "2024-03-04T17:56:43.333Z"
   },
   {
    "duration": 145,
    "start_time": "2024-03-04T17:56:58.365Z"
   },
   {
    "duration": 173,
    "start_time": "2024-03-04T17:58:53.502Z"
   },
   {
    "duration": 160,
    "start_time": "2024-03-04T17:59:39.654Z"
   },
   {
    "duration": 233,
    "start_time": "2024-03-04T18:01:34.814Z"
   },
   {
    "duration": 392,
    "start_time": "2024-03-04T18:03:08.406Z"
   },
   {
    "duration": 426,
    "start_time": "2024-03-04T18:03:55.887Z"
   },
   {
    "duration": 259,
    "start_time": "2024-03-04T18:05:07.302Z"
   },
   {
    "duration": 999,
    "start_time": "2024-03-04T18:06:31.374Z"
   },
   {
    "duration": 899,
    "start_time": "2024-03-04T18:07:32.133Z"
   },
   {
    "duration": 105,
    "start_time": "2024-03-04T18:09:43.383Z"
   },
   {
    "duration": 108,
    "start_time": "2024-03-04T18:10:37.879Z"
   },
   {
    "duration": 391,
    "start_time": "2024-03-04T18:11:07.503Z"
   },
   {
    "duration": 140,
    "start_time": "2024-03-04T18:12:15.935Z"
   },
   {
    "duration": 145,
    "start_time": "2024-03-04T18:13:35.639Z"
   },
   {
    "duration": 12,
    "start_time": "2024-03-04T18:14:50.127Z"
   },
   {
    "duration": 12,
    "start_time": "2024-03-04T18:15:13.331Z"
   },
   {
    "duration": 13,
    "start_time": "2024-03-04T18:15:39.783Z"
   },
   {
    "duration": 13,
    "start_time": "2024-03-04T18:17:29.431Z"
   },
   {
    "duration": 10,
    "start_time": "2024-03-04T18:17:50.759Z"
   },
   {
    "duration": 10,
    "start_time": "2024-03-04T18:18:37.200Z"
   },
   {
    "duration": 12,
    "start_time": "2024-03-04T18:18:51.128Z"
   },
   {
    "duration": 7,
    "start_time": "2024-03-04T18:24:40.969Z"
   },
   {
    "duration": 5,
    "start_time": "2024-03-04T18:26:20.185Z"
   },
   {
    "duration": 9,
    "start_time": "2024-03-04T18:31:00.379Z"
   },
   {
    "duration": 39,
    "start_time": "2024-03-04T18:31:05.692Z"
   },
   {
    "duration": 10,
    "start_time": "2024-03-04T18:31:52.305Z"
   },
   {
    "duration": 36,
    "start_time": "2024-03-04T18:31:54.489Z"
   },
   {
    "duration": 7,
    "start_time": "2024-03-04T18:32:10.585Z"
   },
   {
    "duration": 102,
    "start_time": "2024-03-04T18:46:27.197Z"
   },
   {
    "duration": 3,
    "start_time": "2024-03-04T18:46:49.044Z"
   },
   {
    "duration": 32,
    "start_time": "2024-03-04T18:46:51.092Z"
   },
   {
    "duration": 35,
    "start_time": "2024-03-04T18:46:52.204Z"
   },
   {
    "duration": 15,
    "start_time": "2024-03-04T18:46:52.778Z"
   },
   {
    "duration": 8,
    "start_time": "2024-03-04T18:46:55.956Z"
   },
   {
    "duration": 10,
    "start_time": "2024-03-04T18:46:56.532Z"
   },
   {
    "duration": 11,
    "start_time": "2024-03-04T18:46:58.684Z"
   },
   {
    "duration": 10,
    "start_time": "2024-03-04T18:46:59.214Z"
   },
   {
    "duration": 6,
    "start_time": "2024-03-04T18:46:59.797Z"
   },
   {
    "duration": 9,
    "start_time": "2024-03-04T18:47:01.965Z"
   },
   {
    "duration": 7,
    "start_time": "2024-03-04T18:47:04.772Z"
   },
   {
    "duration": 10,
    "start_time": "2024-03-04T18:47:05.356Z"
   },
   {
    "duration": 5,
    "start_time": "2024-03-04T18:47:07.908Z"
   },
   {
    "duration": 5,
    "start_time": "2024-03-04T18:47:08.669Z"
   },
   {
    "duration": 6,
    "start_time": "2024-03-04T18:49:09.309Z"
   },
   {
    "duration": 5,
    "start_time": "2024-03-04T18:49:11.716Z"
   },
   {
    "duration": 1063,
    "start_time": "2024-03-04T19:59:39.104Z"
   },
   {
    "duration": 29,
    "start_time": "2024-03-04T19:59:40.169Z"
   },
   {
    "duration": 28,
    "start_time": "2024-03-04T19:59:40.200Z"
   },
   {
    "duration": 15,
    "start_time": "2024-03-04T19:59:40.230Z"
   },
   {
    "duration": 15,
    "start_time": "2024-03-04T19:59:40.247Z"
   },
   {
    "duration": 17,
    "start_time": "2024-03-04T19:59:40.263Z"
   },
   {
    "duration": 18,
    "start_time": "2024-03-04T19:59:40.281Z"
   },
   {
    "duration": 23,
    "start_time": "2024-03-04T19:59:40.301Z"
   },
   {
    "duration": 9,
    "start_time": "2024-03-04T19:59:40.325Z"
   },
   {
    "duration": 11,
    "start_time": "2024-03-04T19:59:40.335Z"
   },
   {
    "duration": 22,
    "start_time": "2024-03-04T19:59:40.347Z"
   },
   {
    "duration": 15,
    "start_time": "2024-03-04T19:59:40.371Z"
   },
   {
    "duration": 22,
    "start_time": "2024-03-04T19:59:40.387Z"
   },
   {
    "duration": 10,
    "start_time": "2024-03-04T19:59:40.412Z"
   },
   {
    "duration": 13,
    "start_time": "2024-03-04T19:59:40.424Z"
   },
   {
    "duration": 17,
    "start_time": "2024-03-04T19:59:40.439Z"
   },
   {
    "duration": 11,
    "start_time": "2024-03-04T19:59:40.457Z"
   },
   {
    "duration": 17,
    "start_time": "2024-03-04T19:59:40.469Z"
   },
   {
    "duration": 12,
    "start_time": "2024-03-04T19:59:40.487Z"
   },
   {
    "duration": 7,
    "start_time": "2024-03-04T19:59:40.501Z"
   },
   {
    "duration": 193,
    "start_time": "2024-03-04T19:59:40.510Z"
   },
   {
    "duration": 6,
    "start_time": "2024-03-04T19:59:40.705Z"
   },
   {
    "duration": 168,
    "start_time": "2024-03-04T19:59:40.713Z"
   },
   {
    "duration": 5,
    "start_time": "2024-03-04T19:59:40.882Z"
   },
   {
    "duration": 246,
    "start_time": "2024-03-04T19:59:40.889Z"
   },
   {
    "duration": 102,
    "start_time": "2024-03-04T19:59:41.137Z"
   },
   {
    "duration": 6,
    "start_time": "2024-03-04T19:59:41.241Z"
   },
   {
    "duration": 420,
    "start_time": "2024-03-04T19:59:41.248Z"
   },
   {
    "duration": 201,
    "start_time": "2024-03-04T19:59:41.670Z"
   },
   {
    "duration": 8,
    "start_time": "2024-03-04T19:59:41.872Z"
   },
   {
    "duration": 397,
    "start_time": "2024-03-04T19:59:41.882Z"
   },
   {
    "duration": 145,
    "start_time": "2024-03-04T19:59:42.281Z"
   },
   {
    "duration": 274,
    "start_time": "2024-03-04T19:59:42.428Z"
   },
   {
    "duration": 10,
    "start_time": "2024-03-04T19:59:42.703Z"
   },
   {
    "duration": 24,
    "start_time": "2024-03-04T19:59:42.714Z"
   },
   {
    "duration": 27,
    "start_time": "2024-03-04T19:59:42.739Z"
   },
   {
    "duration": 10,
    "start_time": "2024-03-04T19:59:42.768Z"
   },
   {
    "duration": 15,
    "start_time": "2024-03-04T19:59:42.779Z"
   },
   {
    "duration": 9,
    "start_time": "2024-03-04T19:59:42.796Z"
   },
   {
    "duration": 27,
    "start_time": "2024-03-04T19:59:42.807Z"
   },
   {
    "duration": 27,
    "start_time": "2024-03-04T19:59:42.840Z"
   },
   {
    "duration": 13,
    "start_time": "2024-03-04T19:59:42.868Z"
   },
   {
    "duration": 11,
    "start_time": "2024-03-04T19:59:42.882Z"
   },
   {
    "duration": 20,
    "start_time": "2024-03-04T19:59:42.894Z"
   },
   {
    "duration": 867,
    "start_time": "2024-03-04T19:59:42.916Z"
   },
   {
    "duration": 8,
    "start_time": "2024-03-04T19:59:43.784Z"
   },
   {
    "duration": 13,
    "start_time": "2024-03-04T19:59:43.794Z"
   },
   {
    "duration": 793,
    "start_time": "2024-03-04T19:59:43.808Z"
   },
   {
    "duration": 9,
    "start_time": "2024-03-04T19:59:44.603Z"
   },
   {
    "duration": 20,
    "start_time": "2024-03-04T19:59:44.614Z"
   },
   {
    "duration": 70,
    "start_time": "2024-03-04T19:59:44.636Z"
   },
   {
    "duration": 6,
    "start_time": "2024-03-04T19:59:44.707Z"
   },
   {
    "duration": 24,
    "start_time": "2024-03-04T19:59:44.714Z"
   },
   {
    "duration": 30,
    "start_time": "2024-03-04T19:59:44.740Z"
   },
   {
    "duration": 20,
    "start_time": "2024-03-04T19:59:44.772Z"
   },
   {
    "duration": 22,
    "start_time": "2024-03-04T19:59:44.793Z"
   },
   {
    "duration": 1591,
    "start_time": "2024-03-04T19:59:44.817Z"
   },
   {
    "duration": 1424,
    "start_time": "2024-03-04T19:59:46.410Z"
   },
   {
    "duration": 151,
    "start_time": "2024-03-04T19:59:47.836Z"
   },
   {
    "duration": 1952,
    "start_time": "2024-03-04T19:59:47.988Z"
   },
   {
    "duration": 2993,
    "start_time": "2024-03-04T19:59:49.942Z"
   },
   {
    "duration": 1197,
    "start_time": "2024-03-04T20:28:26.673Z"
   },
   {
    "duration": 29,
    "start_time": "2024-03-04T20:28:27.873Z"
   },
   {
    "duration": 28,
    "start_time": "2024-03-04T20:28:27.903Z"
   },
   {
    "duration": 15,
    "start_time": "2024-03-04T20:28:27.933Z"
   },
   {
    "duration": 11,
    "start_time": "2024-03-04T20:28:27.949Z"
   },
   {
    "duration": 13,
    "start_time": "2024-03-04T20:28:27.962Z"
   },
   {
    "duration": 15,
    "start_time": "2024-03-04T20:28:27.976Z"
   },
   {
    "duration": 11,
    "start_time": "2024-03-04T20:28:27.992Z"
   },
   {
    "duration": 7,
    "start_time": "2024-03-04T20:28:28.005Z"
   },
   {
    "duration": 14,
    "start_time": "2024-03-04T20:28:28.014Z"
   },
   {
    "duration": 11,
    "start_time": "2024-03-04T20:28:28.029Z"
   },
   {
    "duration": 9,
    "start_time": "2024-03-04T20:28:28.041Z"
   },
   {
    "duration": 18,
    "start_time": "2024-03-04T20:28:28.052Z"
   },
   {
    "duration": 4,
    "start_time": "2024-03-04T20:28:28.072Z"
   },
   {
    "duration": 3,
    "start_time": "2024-03-04T20:28:28.078Z"
   },
   {
    "duration": 6,
    "start_time": "2024-03-04T20:28:28.082Z"
   },
   {
    "duration": 6,
    "start_time": "2024-03-04T20:28:28.089Z"
   },
   {
    "duration": 9,
    "start_time": "2024-03-04T20:28:28.096Z"
   },
   {
    "duration": 10,
    "start_time": "2024-03-04T20:28:28.107Z"
   },
   {
    "duration": 5,
    "start_time": "2024-03-04T20:28:28.119Z"
   },
   {
    "duration": 198,
    "start_time": "2024-03-04T20:28:28.125Z"
   },
   {
    "duration": 7,
    "start_time": "2024-03-04T20:28:28.324Z"
   },
   {
    "duration": 151,
    "start_time": "2024-03-04T20:28:28.332Z"
   },
   {
    "duration": 6,
    "start_time": "2024-03-04T20:28:28.484Z"
   },
   {
    "duration": 264,
    "start_time": "2024-03-04T20:28:28.491Z"
   },
   {
    "duration": 121,
    "start_time": "2024-03-04T20:28:28.756Z"
   },
   {
    "duration": 8,
    "start_time": "2024-03-04T20:28:28.878Z"
   },
   {
    "duration": 413,
    "start_time": "2024-03-04T20:28:28.890Z"
   },
   {
    "duration": 211,
    "start_time": "2024-03-04T20:28:29.304Z"
   },
   {
    "duration": 8,
    "start_time": "2024-03-04T20:28:29.517Z"
   },
   {
    "duration": 426,
    "start_time": "2024-03-04T20:28:29.526Z"
   },
   {
    "duration": 153,
    "start_time": "2024-03-04T20:28:29.954Z"
   },
   {
    "duration": 313,
    "start_time": "2024-03-04T20:28:30.109Z"
   },
   {
    "duration": 8,
    "start_time": "2024-03-04T20:28:30.424Z"
   },
   {
    "duration": 94,
    "start_time": "2024-03-04T20:28:30.434Z"
   },
   {
    "duration": 86,
    "start_time": "2024-03-04T20:28:30.530Z"
   },
   {
    "duration": 61,
    "start_time": "2024-03-04T20:28:30.618Z"
   },
   {
    "duration": 54,
    "start_time": "2024-03-04T20:28:30.681Z"
   },
   {
    "duration": 40,
    "start_time": "2024-03-04T20:28:30.736Z"
   },
   {
    "duration": 59,
    "start_time": "2024-03-04T20:28:30.777Z"
   },
   {
    "duration": 43,
    "start_time": "2024-03-04T20:28:30.837Z"
   },
   {
    "duration": 143,
    "start_time": "2024-03-04T20:28:30.882Z"
   },
   {
    "duration": 63,
    "start_time": "2024-03-04T20:28:31.026Z"
   },
   {
    "duration": 52,
    "start_time": "2024-03-04T20:28:31.091Z"
   },
   {
    "duration": 923,
    "start_time": "2024-03-04T20:28:31.144Z"
   },
   {
    "duration": 9,
    "start_time": "2024-03-04T20:28:32.069Z"
   },
   {
    "duration": 25,
    "start_time": "2024-03-04T20:28:32.079Z"
   },
   {
    "duration": 772,
    "start_time": "2024-03-04T20:28:32.106Z"
   },
   {
    "duration": 8,
    "start_time": "2024-03-04T20:28:32.880Z"
   },
   {
    "duration": 7,
    "start_time": "2024-03-04T20:28:32.889Z"
   },
   {
    "duration": 42,
    "start_time": "2024-03-04T20:28:32.897Z"
   },
   {
    "duration": 5,
    "start_time": "2024-03-04T20:28:32.941Z"
   },
   {
    "duration": 33,
    "start_time": "2024-03-04T20:28:32.948Z"
   },
   {
    "duration": 5,
    "start_time": "2024-03-04T20:28:32.982Z"
   },
   {
    "duration": 5,
    "start_time": "2024-03-04T20:28:32.989Z"
   },
   {
    "duration": 13,
    "start_time": "2024-03-04T20:28:32.995Z"
   },
   {
    "duration": 1595,
    "start_time": "2024-03-04T20:28:33.009Z"
   },
   {
    "duration": 1412,
    "start_time": "2024-03-04T20:28:34.606Z"
   },
   {
    "duration": 159,
    "start_time": "2024-03-04T20:28:36.020Z"
   },
   {
    "duration": 1915,
    "start_time": "2024-03-04T20:28:36.181Z"
   },
   {
    "duration": 3145,
    "start_time": "2024-03-04T20:28:38.098Z"
   }
  ],
  "kernelspec": {
   "display_name": "Python 3 (ipykernel)",
   "language": "python",
   "name": "python3"
  },
  "language_info": {
   "codemirror_mode": {
    "name": "ipython",
    "version": 3
   },
   "file_extension": ".py",
   "mimetype": "text/x-python",
   "name": "python",
   "nbconvert_exporter": "python",
   "pygments_lexer": "ipython3",
   "version": "3.11.5"
  },
  "toc": {
   "base_numbering": 1,
   "nav_menu": {},
   "number_sections": true,
   "sideBar": true,
   "skip_h1_title": true,
   "title_cell": "Table of Contents",
   "title_sidebar": "Contents",
   "toc_cell": false,
   "toc_position": {},
   "toc_section_display": true,
   "toc_window_display": true
  }
 },
 "nbformat": 4,
 "nbformat_minor": 5
}
