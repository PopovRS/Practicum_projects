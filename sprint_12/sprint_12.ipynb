{
 "cells": [
  {
   "cell_type": "markdown",
   "metadata": {},
   "source": [
    "# Проверка гипотез по увеличению выручки интернет-магазина"
   ]
  },
  {
   "cell_type": "markdown",
   "metadata": {},
   "source": [
    "**Цель исследования**\n",
    "\n",
    "Цель данного проекта состоит в проверке гипотез по увеличению выручки интернет-магазина. Для этого мы проведем приоритизацию полученных от отдела маркетинга гипотез и запустим A/B-тест. По результатам теста мы примем решение о том, стоит ли нам: \n",
    "1. Остановить тест и зафиксировать победу одной из групп;\n",
    "2. Остановить тест и зафиксировать отсутствие различий между группами;\n",
    "3. Продолжить тест.\n",
    "\n",
    "\n",
    "**Описание данных**\n",
    "\n",
    "Данные представлены 3-мя датасетами:\n",
    "\n",
    "* hypothesis.csv\n",
    "* orders.csv\n",
    "* visitors.csv\n",
    "\n",
    "Структура hypothesis.csv:\n",
    "* Hypothesis — краткое описание гипотезы;\n",
    "* Reach — охват пользователей по 10-балльной шкале;\n",
    "* Impact — влияние на пользователей по 10-балльной шкале;\n",
    "* Confidence — уверенность в гипотезе по 10-балльной шкале;\n",
    "* Efforts — затраты ресурсов на проверку гипотезы по 10-балльной шкале. Чем больше значение Efforts, тем дороже проверка гипотезы.\n",
    "\n",
    "Структура orders.csv:\n",
    "* transactionId — идентификатор заказа;\n",
    "* visitorId — идентификатор пользователя, совершившего заказ;\n",
    "* date — дата, когда был совершён заказ;\n",
    "* revenue — выручка заказа;\n",
    "* group — группа A/B-теста, в которую попал заказ.\n",
    "\n",
    "Структура visitors.csv:\n",
    "* date — дата;\n",
    "* group — группа A/B-теста;\n",
    "* visitors — количество пользователей в указанную дату в указанной группе A/B-теста\n",
    "\n",
    "\n",
    "\n",
    "\n",
    "**План исследования**\n",
    "\n",
    "1. Загрузка и подготовка данных.\n",
    "\n",
    "Загрузим данные, изучим общую информацию о датафрейме и проведем предобработку. \n",
    "\n",
    "2. Приоритизация гипотез.\n",
    "\n",
    "Проведем приоритизацию гипотез по методам ICE и RICE. \n",
    "\n",
    "3. Анализ A/B-теста.\n",
    "\n",
    "Проанализируем A/B-тест, посчитаем статистическую значимость между такими показателями групп, как средний чек заказа и среднее количестве заказов на посетителя, при необходимости проведем очистку данных. Сделаем выводы по результатам теста. "
   ]
  },
  {
   "cell_type": "markdown",
   "metadata": {},
   "source": [
    "###  Загрузка данных и их подготовка к анализу"
   ]
  },
  {
   "cell_type": "code",
   "execution_count": 1,
   "metadata": {},
   "outputs": [],
   "source": [
    "import pandas as pd\n",
    "pd.options.display.max_colwidth = 400\n",
    "import datetime as dt\n",
    "import numpy as np\n",
    "import matplotlib.pyplot as plt\n",
    "import scipy.stats as stats"
   ]
  },
  {
   "cell_type": "markdown",
   "metadata": {},
   "source": [
    "#### Загрузим и изучим данные "
   ]
  },
  {
   "cell_type": "code",
   "execution_count": 2,
   "metadata": {},
   "outputs": [],
   "source": [
    "hypothesis = pd.read_csv('/datasets/hypothesis.csv')"
   ]
  },
  {
   "cell_type": "code",
   "execution_count": 3,
   "metadata": {},
   "outputs": [],
   "source": [
    "orders = pd.read_csv('/datasets/orders.csv')"
   ]
  },
  {
   "cell_type": "code",
   "execution_count": 4,
   "metadata": {},
   "outputs": [],
   "source": [
    "visitors = pd.read_csv('/datasets/visitors.csv')"
   ]
  },
  {
   "cell_type": "code",
   "execution_count": 5,
   "metadata": {},
   "outputs": [
    {
     "data": {
      "text/html": [
       "<div>\n",
       "<style scoped>\n",
       "    .dataframe tbody tr th:only-of-type {\n",
       "        vertical-align: middle;\n",
       "    }\n",
       "\n",
       "    .dataframe tbody tr th {\n",
       "        vertical-align: top;\n",
       "    }\n",
       "\n",
       "    .dataframe thead th {\n",
       "        text-align: right;\n",
       "    }\n",
       "</style>\n",
       "<table border=\"1\" class=\"dataframe\">\n",
       "  <thead>\n",
       "    <tr style=\"text-align: right;\">\n",
       "      <th></th>\n",
       "      <th>Hypothesis</th>\n",
       "      <th>Reach</th>\n",
       "      <th>Impact</th>\n",
       "      <th>Confidence</th>\n",
       "      <th>Efforts</th>\n",
       "    </tr>\n",
       "  </thead>\n",
       "  <tbody>\n",
       "    <tr>\n",
       "      <th>0</th>\n",
       "      <td>Добавить два новых канала привлечения трафика, что позволит привлекать на 30% больше пользователей</td>\n",
       "      <td>3</td>\n",
       "      <td>10</td>\n",
       "      <td>8</td>\n",
       "      <td>6</td>\n",
       "    </tr>\n",
       "    <tr>\n",
       "      <th>1</th>\n",
       "      <td>Запустить собственную службу доставки, что сократит срок доставки заказов</td>\n",
       "      <td>2</td>\n",
       "      <td>5</td>\n",
       "      <td>4</td>\n",
       "      <td>10</td>\n",
       "    </tr>\n",
       "    <tr>\n",
       "      <th>2</th>\n",
       "      <td>Добавить блоки рекомендаций товаров на сайт интернет магазина, чтобы повысить конверсию и средний чек заказа</td>\n",
       "      <td>8</td>\n",
       "      <td>3</td>\n",
       "      <td>7</td>\n",
       "      <td>3</td>\n",
       "    </tr>\n",
       "    <tr>\n",
       "      <th>3</th>\n",
       "      <td>Изменить структура категорий, что увеличит конверсию, т.к. пользователи быстрее найдут нужный товар</td>\n",
       "      <td>8</td>\n",
       "      <td>3</td>\n",
       "      <td>3</td>\n",
       "      <td>8</td>\n",
       "    </tr>\n",
       "    <tr>\n",
       "      <th>4</th>\n",
       "      <td>Изменить цвет фона главной страницы, чтобы увеличить вовлеченность пользователей</td>\n",
       "      <td>3</td>\n",
       "      <td>1</td>\n",
       "      <td>1</td>\n",
       "      <td>1</td>\n",
       "    </tr>\n",
       "  </tbody>\n",
       "</table>\n",
       "</div>"
      ],
      "text/plain": [
       "                                                                                                     Hypothesis  \\\n",
       "0            Добавить два новых канала привлечения трафика, что позволит привлекать на 30% больше пользователей   \n",
       "1                                     Запустить собственную службу доставки, что сократит срок доставки заказов   \n",
       "2  Добавить блоки рекомендаций товаров на сайт интернет магазина, чтобы повысить конверсию и средний чек заказа   \n",
       "3           Изменить структура категорий, что увеличит конверсию, т.к. пользователи быстрее найдут нужный товар   \n",
       "4                              Изменить цвет фона главной страницы, чтобы увеличить вовлеченность пользователей   \n",
       "\n",
       "   Reach  Impact  Confidence  Efforts  \n",
       "0      3      10           8        6  \n",
       "1      2       5           4       10  \n",
       "2      8       3           7        3  \n",
       "3      8       3           3        8  \n",
       "4      3       1           1        1  "
      ]
     },
     "execution_count": 5,
     "metadata": {},
     "output_type": "execute_result"
    }
   ],
   "source": [
    "hypothesis.head()"
   ]
  },
  {
   "cell_type": "code",
   "execution_count": 6,
   "metadata": {},
   "outputs": [
    {
     "name": "stdout",
     "output_type": "stream",
     "text": [
      "<class 'pandas.core.frame.DataFrame'>\n",
      "RangeIndex: 9 entries, 0 to 8\n",
      "Data columns (total 5 columns):\n",
      " #   Column      Non-Null Count  Dtype \n",
      "---  ------      --------------  ----- \n",
      " 0   Hypothesis  9 non-null      object\n",
      " 1   Reach       9 non-null      int64 \n",
      " 2   Impact      9 non-null      int64 \n",
      " 3   Confidence  9 non-null      int64 \n",
      " 4   Efforts     9 non-null      int64 \n",
      "dtypes: int64(4), object(1)\n",
      "memory usage: 488.0+ bytes\n"
     ]
    }
   ],
   "source": [
    "hypothesis.info()"
   ]
  },
  {
   "cell_type": "code",
   "execution_count": 7,
   "metadata": {},
   "outputs": [
    {
     "data": {
      "text/html": [
       "<div>\n",
       "<style scoped>\n",
       "    .dataframe tbody tr th:only-of-type {\n",
       "        vertical-align: middle;\n",
       "    }\n",
       "\n",
       "    .dataframe tbody tr th {\n",
       "        vertical-align: top;\n",
       "    }\n",
       "\n",
       "    .dataframe thead th {\n",
       "        text-align: right;\n",
       "    }\n",
       "</style>\n",
       "<table border=\"1\" class=\"dataframe\">\n",
       "  <thead>\n",
       "    <tr style=\"text-align: right;\">\n",
       "      <th></th>\n",
       "      <th>transactionId</th>\n",
       "      <th>visitorId</th>\n",
       "      <th>date</th>\n",
       "      <th>revenue</th>\n",
       "      <th>group</th>\n",
       "    </tr>\n",
       "  </thead>\n",
       "  <tbody>\n",
       "    <tr>\n",
       "      <th>0</th>\n",
       "      <td>3667963787</td>\n",
       "      <td>3312258926</td>\n",
       "      <td>2019-08-15</td>\n",
       "      <td>1650</td>\n",
       "      <td>B</td>\n",
       "    </tr>\n",
       "    <tr>\n",
       "      <th>1</th>\n",
       "      <td>2804400009</td>\n",
       "      <td>3642806036</td>\n",
       "      <td>2019-08-15</td>\n",
       "      <td>730</td>\n",
       "      <td>B</td>\n",
       "    </tr>\n",
       "    <tr>\n",
       "      <th>2</th>\n",
       "      <td>2961555356</td>\n",
       "      <td>4069496402</td>\n",
       "      <td>2019-08-15</td>\n",
       "      <td>400</td>\n",
       "      <td>A</td>\n",
       "    </tr>\n",
       "    <tr>\n",
       "      <th>3</th>\n",
       "      <td>3797467345</td>\n",
       "      <td>1196621759</td>\n",
       "      <td>2019-08-15</td>\n",
       "      <td>9759</td>\n",
       "      <td>B</td>\n",
       "    </tr>\n",
       "    <tr>\n",
       "      <th>4</th>\n",
       "      <td>2282983706</td>\n",
       "      <td>2322279887</td>\n",
       "      <td>2019-08-15</td>\n",
       "      <td>2308</td>\n",
       "      <td>B</td>\n",
       "    </tr>\n",
       "  </tbody>\n",
       "</table>\n",
       "</div>"
      ],
      "text/plain": [
       "   transactionId   visitorId        date  revenue group\n",
       "0     3667963787  3312258926  2019-08-15     1650     B\n",
       "1     2804400009  3642806036  2019-08-15      730     B\n",
       "2     2961555356  4069496402  2019-08-15      400     A\n",
       "3     3797467345  1196621759  2019-08-15     9759     B\n",
       "4     2282983706  2322279887  2019-08-15     2308     B"
      ]
     },
     "execution_count": 7,
     "metadata": {},
     "output_type": "execute_result"
    }
   ],
   "source": [
    "orders.head()"
   ]
  },
  {
   "cell_type": "code",
   "execution_count": 8,
   "metadata": {},
   "outputs": [
    {
     "name": "stdout",
     "output_type": "stream",
     "text": [
      "<class 'pandas.core.frame.DataFrame'>\n",
      "RangeIndex: 1197 entries, 0 to 1196\n",
      "Data columns (total 5 columns):\n",
      " #   Column         Non-Null Count  Dtype \n",
      "---  ------         --------------  ----- \n",
      " 0   transactionId  1197 non-null   int64 \n",
      " 1   visitorId      1197 non-null   int64 \n",
      " 2   date           1197 non-null   object\n",
      " 3   revenue        1197 non-null   int64 \n",
      " 4   group          1197 non-null   object\n",
      "dtypes: int64(3), object(2)\n",
      "memory usage: 46.9+ KB\n"
     ]
    }
   ],
   "source": [
    "orders.info()"
   ]
  },
  {
   "cell_type": "code",
   "execution_count": 9,
   "metadata": {},
   "outputs": [
    {
     "data": {
      "text/html": [
       "<div>\n",
       "<style scoped>\n",
       "    .dataframe tbody tr th:only-of-type {\n",
       "        vertical-align: middle;\n",
       "    }\n",
       "\n",
       "    .dataframe tbody tr th {\n",
       "        vertical-align: top;\n",
       "    }\n",
       "\n",
       "    .dataframe thead th {\n",
       "        text-align: right;\n",
       "    }\n",
       "</style>\n",
       "<table border=\"1\" class=\"dataframe\">\n",
       "  <thead>\n",
       "    <tr style=\"text-align: right;\">\n",
       "      <th></th>\n",
       "      <th>date</th>\n",
       "      <th>group</th>\n",
       "      <th>visitors</th>\n",
       "    </tr>\n",
       "  </thead>\n",
       "  <tbody>\n",
       "    <tr>\n",
       "      <th>0</th>\n",
       "      <td>2019-08-01</td>\n",
       "      <td>A</td>\n",
       "      <td>719</td>\n",
       "    </tr>\n",
       "    <tr>\n",
       "      <th>1</th>\n",
       "      <td>2019-08-02</td>\n",
       "      <td>A</td>\n",
       "      <td>619</td>\n",
       "    </tr>\n",
       "    <tr>\n",
       "      <th>2</th>\n",
       "      <td>2019-08-03</td>\n",
       "      <td>A</td>\n",
       "      <td>507</td>\n",
       "    </tr>\n",
       "    <tr>\n",
       "      <th>3</th>\n",
       "      <td>2019-08-04</td>\n",
       "      <td>A</td>\n",
       "      <td>717</td>\n",
       "    </tr>\n",
       "    <tr>\n",
       "      <th>4</th>\n",
       "      <td>2019-08-05</td>\n",
       "      <td>A</td>\n",
       "      <td>756</td>\n",
       "    </tr>\n",
       "  </tbody>\n",
       "</table>\n",
       "</div>"
      ],
      "text/plain": [
       "         date group  visitors\n",
       "0  2019-08-01     A       719\n",
       "1  2019-08-02     A       619\n",
       "2  2019-08-03     A       507\n",
       "3  2019-08-04     A       717\n",
       "4  2019-08-05     A       756"
      ]
     },
     "execution_count": 9,
     "metadata": {},
     "output_type": "execute_result"
    }
   ],
   "source": [
    "visitors.head()"
   ]
  },
  {
   "cell_type": "code",
   "execution_count": 10,
   "metadata": {},
   "outputs": [
    {
     "name": "stdout",
     "output_type": "stream",
     "text": [
      "<class 'pandas.core.frame.DataFrame'>\n",
      "RangeIndex: 62 entries, 0 to 61\n",
      "Data columns (total 3 columns):\n",
      " #   Column    Non-Null Count  Dtype \n",
      "---  ------    --------------  ----- \n",
      " 0   date      62 non-null     object\n",
      " 1   group     62 non-null     object\n",
      " 2   visitors  62 non-null     int64 \n",
      "dtypes: int64(1), object(2)\n",
      "memory usage: 1.6+ KB\n"
     ]
    }
   ],
   "source": [
    "visitors.info()"
   ]
  },
  {
   "cell_type": "markdown",
   "metadata": {},
   "source": [
    "Пропусков не обнаружено, но требуется привести формат данных в столбцах  'date' таблиц orders и visitors к типу datetime и убрать заглавные буквы в названиях столбцов."
   ]
  },
  {
   "cell_type": "markdown",
   "metadata": {},
   "source": [
    "#### Проведем предобработку"
   ]
  },
  {
   "cell_type": "markdown",
   "metadata": {},
   "source": [
    "Поправим названия столбцов"
   ]
  },
  {
   "cell_type": "code",
   "execution_count": 11,
   "metadata": {},
   "outputs": [],
   "source": [
    "hypothesis.columns = hypothesis.columns.str.lower()"
   ]
  },
  {
   "cell_type": "code",
   "execution_count": 12,
   "metadata": {},
   "outputs": [],
   "source": [
    "orders.columns = orders.columns.str.lower()"
   ]
  },
  {
   "cell_type": "code",
   "execution_count": 13,
   "metadata": {},
   "outputs": [],
   "source": [
    "visitors.columns = visitors.columns.str.lower()"
   ]
  },
  {
   "cell_type": "markdown",
   "metadata": {},
   "source": [
    "Поменяем формат данных в столбцах 'date' таблиц orders и visitors."
   ]
  },
  {
   "cell_type": "code",
   "execution_count": 14,
   "metadata": {},
   "outputs": [],
   "source": [
    "orders['date'] = orders['date'].map(lambda x: dt.datetime.strptime(x, '%Y-%m-%d'))"
   ]
  },
  {
   "cell_type": "code",
   "execution_count": 15,
   "metadata": {},
   "outputs": [],
   "source": [
    "visitors['date'] = visitors['date'].map(lambda x: dt.datetime.strptime(x, '%Y-%m-%d'))"
   ]
  },
  {
   "cell_type": "markdown",
   "metadata": {},
   "source": [
    "Проверим данные на наличие дубликатов"
   ]
  },
  {
   "cell_type": "code",
   "execution_count": 16,
   "metadata": {},
   "outputs": [
    {
     "data": {
      "text/plain": [
       "0"
      ]
     },
     "execution_count": 16,
     "metadata": {},
     "output_type": "execute_result"
    }
   ],
   "source": [
    "hypothesis.duplicated().sum()"
   ]
  },
  {
   "cell_type": "code",
   "execution_count": 17,
   "metadata": {},
   "outputs": [
    {
     "data": {
      "text/plain": [
       "0"
      ]
     },
     "execution_count": 17,
     "metadata": {},
     "output_type": "execute_result"
    }
   ],
   "source": [
    "orders.duplicated().sum()"
   ]
  },
  {
   "cell_type": "code",
   "execution_count": 18,
   "metadata": {},
   "outputs": [
    {
     "data": {
      "text/plain": [
       "0"
      ]
     },
     "execution_count": 18,
     "metadata": {},
     "output_type": "execute_result"
    }
   ],
   "source": [
    "visitors.duplicated().sum()"
   ]
  },
  {
   "cell_type": "markdown",
   "metadata": {},
   "source": [
    "Дубликатов не обнаружено"
   ]
  },
  {
   "cell_type": "markdown",
   "metadata": {},
   "source": [
    "Теперь проверим нет ли пользователей, попавших в обе группы."
   ]
  },
  {
   "cell_type": "code",
   "execution_count": 19,
   "metadata": {},
   "outputs": [
    {
     "name": "stdout",
     "output_type": "stream",
     "text": [
      "Число \"неправильных\" покупателей: 58\n"
     ]
    }
   ],
   "source": [
    "orders_a = orders[orders['group'] == 'A']\n",
    "orders_b = orders[orders['group'] == 'B']\n",
    "wrong_users = orders_a[orders_a['visitorid'].isin(orders_b['visitorid'])]['visitorid'].unique()\n",
    "print(f'Число \"неправильных\" покупателей: {wrong_users.size}')"
   ]
  },
  {
   "cell_type": "markdown",
   "metadata": {},
   "source": [
    "Посчитаем число уникальных покупателей."
   ]
  },
  {
   "cell_type": "code",
   "execution_count": 20,
   "metadata": {},
   "outputs": [
    {
     "name": "stdout",
     "output_type": "stream",
     "text": [
      "Число уникальных покупателей:  1031\n"
     ]
    }
   ],
   "source": [
    "print('Число уникальных покупателей: ', orders['visitorid'].nunique())"
   ]
  },
  {
   "cell_type": "markdown",
   "metadata": {},
   "source": [
    "Удалим \"неправильных\" пользователей"
   ]
  },
  {
   "cell_type": "code",
   "execution_count": 21,
   "metadata": {},
   "outputs": [],
   "source": [
    "orders = orders[~(orders['visitorid'].isin(wrong_users))]"
   ]
  },
  {
   "cell_type": "code",
   "execution_count": 22,
   "metadata": {},
   "outputs": [
    {
     "name": "stdout",
     "output_type": "stream",
     "text": [
      "Число уникальных покупателей:  973\n"
     ]
    }
   ],
   "source": [
    "# Проверим\n",
    "print('Число уникальных покупателей: ', orders['visitorid'].nunique())"
   ]
  },
  {
   "cell_type": "code",
   "execution_count": 23,
   "metadata": {},
   "outputs": [
    {
     "data": {
      "text/html": [
       "<div>\n",
       "<style scoped>\n",
       "    .dataframe tbody tr th:only-of-type {\n",
       "        vertical-align: middle;\n",
       "    }\n",
       "\n",
       "    .dataframe tbody tr th {\n",
       "        vertical-align: top;\n",
       "    }\n",
       "\n",
       "    .dataframe thead th {\n",
       "        text-align: right;\n",
       "    }\n",
       "</style>\n",
       "<table border=\"1\" class=\"dataframe\">\n",
       "  <thead>\n",
       "    <tr style=\"text-align: right;\">\n",
       "      <th></th>\n",
       "      <th>hypothesis</th>\n",
       "      <th>reach</th>\n",
       "      <th>impact</th>\n",
       "      <th>confidence</th>\n",
       "      <th>efforts</th>\n",
       "    </tr>\n",
       "  </thead>\n",
       "  <tbody>\n",
       "    <tr>\n",
       "      <th>0</th>\n",
       "      <td>Добавить два новых канала привлечения трафика, что позволит привлекать на 30% больше пользователей</td>\n",
       "      <td>3</td>\n",
       "      <td>10</td>\n",
       "      <td>8</td>\n",
       "      <td>6</td>\n",
       "    </tr>\n",
       "    <tr>\n",
       "      <th>1</th>\n",
       "      <td>Запустить собственную службу доставки, что сократит срок доставки заказов</td>\n",
       "      <td>2</td>\n",
       "      <td>5</td>\n",
       "      <td>4</td>\n",
       "      <td>10</td>\n",
       "    </tr>\n",
       "    <tr>\n",
       "      <th>2</th>\n",
       "      <td>Добавить блоки рекомендаций товаров на сайт интернет магазина, чтобы повысить конверсию и средний чек заказа</td>\n",
       "      <td>8</td>\n",
       "      <td>3</td>\n",
       "      <td>7</td>\n",
       "      <td>3</td>\n",
       "    </tr>\n",
       "    <tr>\n",
       "      <th>3</th>\n",
       "      <td>Изменить структура категорий, что увеличит конверсию, т.к. пользователи быстрее найдут нужный товар</td>\n",
       "      <td>8</td>\n",
       "      <td>3</td>\n",
       "      <td>3</td>\n",
       "      <td>8</td>\n",
       "    </tr>\n",
       "    <tr>\n",
       "      <th>4</th>\n",
       "      <td>Изменить цвет фона главной страницы, чтобы увеличить вовлеченность пользователей</td>\n",
       "      <td>3</td>\n",
       "      <td>1</td>\n",
       "      <td>1</td>\n",
       "      <td>1</td>\n",
       "    </tr>\n",
       "  </tbody>\n",
       "</table>\n",
       "</div>"
      ],
      "text/plain": [
       "                                                                                                     hypothesis  \\\n",
       "0            Добавить два новых канала привлечения трафика, что позволит привлекать на 30% больше пользователей   \n",
       "1                                     Запустить собственную службу доставки, что сократит срок доставки заказов   \n",
       "2  Добавить блоки рекомендаций товаров на сайт интернет магазина, чтобы повысить конверсию и средний чек заказа   \n",
       "3           Изменить структура категорий, что увеличит конверсию, т.к. пользователи быстрее найдут нужный товар   \n",
       "4                              Изменить цвет фона главной страницы, чтобы увеличить вовлеченность пользователей   \n",
       "\n",
       "   reach  impact  confidence  efforts  \n",
       "0      3      10           8        6  \n",
       "1      2       5           4       10  \n",
       "2      8       3           7        3  \n",
       "3      8       3           3        8  \n",
       "4      3       1           1        1  "
      ]
     },
     "execution_count": 23,
     "metadata": {},
     "output_type": "execute_result"
    }
   ],
   "source": [
    "hypothesis.head()"
   ]
  },
  {
   "cell_type": "code",
   "execution_count": 24,
   "metadata": {},
   "outputs": [
    {
     "name": "stdout",
     "output_type": "stream",
     "text": [
      "<class 'pandas.core.frame.DataFrame'>\n",
      "RangeIndex: 9 entries, 0 to 8\n",
      "Data columns (total 5 columns):\n",
      " #   Column      Non-Null Count  Dtype \n",
      "---  ------      --------------  ----- \n",
      " 0   hypothesis  9 non-null      object\n",
      " 1   reach       9 non-null      int64 \n",
      " 2   impact      9 non-null      int64 \n",
      " 3   confidence  9 non-null      int64 \n",
      " 4   efforts     9 non-null      int64 \n",
      "dtypes: int64(4), object(1)\n",
      "memory usage: 488.0+ bytes\n"
     ]
    }
   ],
   "source": [
    "hypothesis.info()"
   ]
  },
  {
   "cell_type": "code",
   "execution_count": 25,
   "metadata": {},
   "outputs": [
    {
     "data": {
      "text/html": [
       "<div>\n",
       "<style scoped>\n",
       "    .dataframe tbody tr th:only-of-type {\n",
       "        vertical-align: middle;\n",
       "    }\n",
       "\n",
       "    .dataframe tbody tr th {\n",
       "        vertical-align: top;\n",
       "    }\n",
       "\n",
       "    .dataframe thead th {\n",
       "        text-align: right;\n",
       "    }\n",
       "</style>\n",
       "<table border=\"1\" class=\"dataframe\">\n",
       "  <thead>\n",
       "    <tr style=\"text-align: right;\">\n",
       "      <th></th>\n",
       "      <th>transactionid</th>\n",
       "      <th>visitorid</th>\n",
       "      <th>date</th>\n",
       "      <th>revenue</th>\n",
       "      <th>group</th>\n",
       "    </tr>\n",
       "  </thead>\n",
       "  <tbody>\n",
       "    <tr>\n",
       "      <th>0</th>\n",
       "      <td>3667963787</td>\n",
       "      <td>3312258926</td>\n",
       "      <td>2019-08-15</td>\n",
       "      <td>1650</td>\n",
       "      <td>B</td>\n",
       "    </tr>\n",
       "    <tr>\n",
       "      <th>1</th>\n",
       "      <td>2804400009</td>\n",
       "      <td>3642806036</td>\n",
       "      <td>2019-08-15</td>\n",
       "      <td>730</td>\n",
       "      <td>B</td>\n",
       "    </tr>\n",
       "    <tr>\n",
       "      <th>3</th>\n",
       "      <td>3797467345</td>\n",
       "      <td>1196621759</td>\n",
       "      <td>2019-08-15</td>\n",
       "      <td>9759</td>\n",
       "      <td>B</td>\n",
       "    </tr>\n",
       "    <tr>\n",
       "      <th>4</th>\n",
       "      <td>2282983706</td>\n",
       "      <td>2322279887</td>\n",
       "      <td>2019-08-15</td>\n",
       "      <td>2308</td>\n",
       "      <td>B</td>\n",
       "    </tr>\n",
       "    <tr>\n",
       "      <th>5</th>\n",
       "      <td>182168103</td>\n",
       "      <td>935554773</td>\n",
       "      <td>2019-08-15</td>\n",
       "      <td>2210</td>\n",
       "      <td>B</td>\n",
       "    </tr>\n",
       "  </tbody>\n",
       "</table>\n",
       "</div>"
      ],
      "text/plain": [
       "   transactionid   visitorid       date  revenue group\n",
       "0     3667963787  3312258926 2019-08-15     1650     B\n",
       "1     2804400009  3642806036 2019-08-15      730     B\n",
       "3     3797467345  1196621759 2019-08-15     9759     B\n",
       "4     2282983706  2322279887 2019-08-15     2308     B\n",
       "5      182168103   935554773 2019-08-15     2210     B"
      ]
     },
     "execution_count": 25,
     "metadata": {},
     "output_type": "execute_result"
    }
   ],
   "source": [
    "orders.head()"
   ]
  },
  {
   "cell_type": "code",
   "execution_count": 26,
   "metadata": {},
   "outputs": [
    {
     "name": "stdout",
     "output_type": "stream",
     "text": [
      "<class 'pandas.core.frame.DataFrame'>\n",
      "Int64Index: 1016 entries, 0 to 1196\n",
      "Data columns (total 5 columns):\n",
      " #   Column         Non-Null Count  Dtype         \n",
      "---  ------         --------------  -----         \n",
      " 0   transactionid  1016 non-null   int64         \n",
      " 1   visitorid      1016 non-null   int64         \n",
      " 2   date           1016 non-null   datetime64[ns]\n",
      " 3   revenue        1016 non-null   int64         \n",
      " 4   group          1016 non-null   object        \n",
      "dtypes: datetime64[ns](1), int64(3), object(1)\n",
      "memory usage: 47.6+ KB\n"
     ]
    }
   ],
   "source": [
    "orders.info()"
   ]
  },
  {
   "cell_type": "code",
   "execution_count": 27,
   "metadata": {},
   "outputs": [
    {
     "data": {
      "text/html": [
       "<div>\n",
       "<style scoped>\n",
       "    .dataframe tbody tr th:only-of-type {\n",
       "        vertical-align: middle;\n",
       "    }\n",
       "\n",
       "    .dataframe tbody tr th {\n",
       "        vertical-align: top;\n",
       "    }\n",
       "\n",
       "    .dataframe thead th {\n",
       "        text-align: right;\n",
       "    }\n",
       "</style>\n",
       "<table border=\"1\" class=\"dataframe\">\n",
       "  <thead>\n",
       "    <tr style=\"text-align: right;\">\n",
       "      <th></th>\n",
       "      <th>date</th>\n",
       "      <th>group</th>\n",
       "      <th>visitors</th>\n",
       "    </tr>\n",
       "  </thead>\n",
       "  <tbody>\n",
       "    <tr>\n",
       "      <th>0</th>\n",
       "      <td>2019-08-01</td>\n",
       "      <td>A</td>\n",
       "      <td>719</td>\n",
       "    </tr>\n",
       "    <tr>\n",
       "      <th>1</th>\n",
       "      <td>2019-08-02</td>\n",
       "      <td>A</td>\n",
       "      <td>619</td>\n",
       "    </tr>\n",
       "    <tr>\n",
       "      <th>2</th>\n",
       "      <td>2019-08-03</td>\n",
       "      <td>A</td>\n",
       "      <td>507</td>\n",
       "    </tr>\n",
       "    <tr>\n",
       "      <th>3</th>\n",
       "      <td>2019-08-04</td>\n",
       "      <td>A</td>\n",
       "      <td>717</td>\n",
       "    </tr>\n",
       "    <tr>\n",
       "      <th>4</th>\n",
       "      <td>2019-08-05</td>\n",
       "      <td>A</td>\n",
       "      <td>756</td>\n",
       "    </tr>\n",
       "  </tbody>\n",
       "</table>\n",
       "</div>"
      ],
      "text/plain": [
       "        date group  visitors\n",
       "0 2019-08-01     A       719\n",
       "1 2019-08-02     A       619\n",
       "2 2019-08-03     A       507\n",
       "3 2019-08-04     A       717\n",
       "4 2019-08-05     A       756"
      ]
     },
     "execution_count": 27,
     "metadata": {},
     "output_type": "execute_result"
    }
   ],
   "source": [
    "visitors.head()"
   ]
  },
  {
   "cell_type": "code",
   "execution_count": 28,
   "metadata": {},
   "outputs": [
    {
     "name": "stdout",
     "output_type": "stream",
     "text": [
      "<class 'pandas.core.frame.DataFrame'>\n",
      "RangeIndex: 62 entries, 0 to 61\n",
      "Data columns (total 3 columns):\n",
      " #   Column    Non-Null Count  Dtype         \n",
      "---  ------    --------------  -----         \n",
      " 0   date      62 non-null     datetime64[ns]\n",
      " 1   group     62 non-null     object        \n",
      " 2   visitors  62 non-null     int64         \n",
      "dtypes: datetime64[ns](1), int64(1), object(1)\n",
      "memory usage: 1.6+ KB\n"
     ]
    }
   ],
   "source": [
    "visitors.info()"
   ]
  },
  {
   "cell_type": "markdown",
   "metadata": {},
   "source": [
    "Пропусков и дубликатов не обнаружено, тип данных скорректирован, данные готовы к работе."
   ]
  },
  {
   "cell_type": "markdown",
   "metadata": {},
   "source": [
    "###  Приоритизация гипотез"
   ]
  },
  {
   "cell_type": "markdown",
   "metadata": {},
   "source": [
    "#### Проведем приоритизацию гипотез по методу ICE"
   ]
  },
  {
   "cell_type": "markdown",
   "metadata": {},
   "source": [
    "Метод ICE состоит из 3-х компонент: \n",
    "* Impact — насколько сильно изменение повлияет на пользователей, их опыт и удовлетворение от продукта;\n",
    "* Confidence — насколько вы уверены, что это изменение повлияет на пользователей именно так; \n",
    "* Efforts — сколько стоит протестировать эту гипотезу. \n",
    "\n",
    "Формула: ICE = Impact * Confidence / Efforts"
   ]
  },
  {
   "cell_type": "code",
   "execution_count": 29,
   "metadata": {},
   "outputs": [
    {
     "data": {
      "text/html": [
       "<div>\n",
       "<style scoped>\n",
       "    .dataframe tbody tr th:only-of-type {\n",
       "        vertical-align: middle;\n",
       "    }\n",
       "\n",
       "    .dataframe tbody tr th {\n",
       "        vertical-align: top;\n",
       "    }\n",
       "\n",
       "    .dataframe thead th {\n",
       "        text-align: right;\n",
       "    }\n",
       "</style>\n",
       "<table border=\"1\" class=\"dataframe\">\n",
       "  <thead>\n",
       "    <tr style=\"text-align: right;\">\n",
       "      <th></th>\n",
       "      <th>hypothesis</th>\n",
       "      <th>ice</th>\n",
       "    </tr>\n",
       "  </thead>\n",
       "  <tbody>\n",
       "    <tr>\n",
       "      <th>8</th>\n",
       "      <td>Запустить акцию, дающую скидку на товар в день рождения</td>\n",
       "      <td>16.200000</td>\n",
       "    </tr>\n",
       "    <tr>\n",
       "      <th>0</th>\n",
       "      <td>Добавить два новых канала привлечения трафика, что позволит привлекать на 30% больше пользователей</td>\n",
       "      <td>13.333333</td>\n",
       "    </tr>\n",
       "    <tr>\n",
       "      <th>7</th>\n",
       "      <td>Добавить форму подписки на все основные страницы, чтобы собрать базу клиентов для email-рассылок</td>\n",
       "      <td>11.200000</td>\n",
       "    </tr>\n",
       "    <tr>\n",
       "      <th>6</th>\n",
       "      <td>Показать на главной странице баннеры с актуальными акциями и распродажами, чтобы увеличить конверсию</td>\n",
       "      <td>8.000000</td>\n",
       "    </tr>\n",
       "    <tr>\n",
       "      <th>2</th>\n",
       "      <td>Добавить блоки рекомендаций товаров на сайт интернет магазина, чтобы повысить конверсию и средний чек заказа</td>\n",
       "      <td>7.000000</td>\n",
       "    </tr>\n",
       "    <tr>\n",
       "      <th>1</th>\n",
       "      <td>Запустить собственную службу доставки, что сократит срок доставки заказов</td>\n",
       "      <td>2.000000</td>\n",
       "    </tr>\n",
       "    <tr>\n",
       "      <th>5</th>\n",
       "      <td>Добавить страницу отзывов клиентов о магазине, что позволит увеличить количество заказов</td>\n",
       "      <td>1.333333</td>\n",
       "    </tr>\n",
       "    <tr>\n",
       "      <th>3</th>\n",
       "      <td>Изменить структура категорий, что увеличит конверсию, т.к. пользователи быстрее найдут нужный товар</td>\n",
       "      <td>1.125000</td>\n",
       "    </tr>\n",
       "    <tr>\n",
       "      <th>4</th>\n",
       "      <td>Изменить цвет фона главной страницы, чтобы увеличить вовлеченность пользователей</td>\n",
       "      <td>1.000000</td>\n",
       "    </tr>\n",
       "  </tbody>\n",
       "</table>\n",
       "</div>"
      ],
      "text/plain": [
       "                                                                                                     hypothesis  \\\n",
       "8                                                       Запустить акцию, дающую скидку на товар в день рождения   \n",
       "0            Добавить два новых канала привлечения трафика, что позволит привлекать на 30% больше пользователей   \n",
       "7              Добавить форму подписки на все основные страницы, чтобы собрать базу клиентов для email-рассылок   \n",
       "6          Показать на главной странице баннеры с актуальными акциями и распродажами, чтобы увеличить конверсию   \n",
       "2  Добавить блоки рекомендаций товаров на сайт интернет магазина, чтобы повысить конверсию и средний чек заказа   \n",
       "1                                     Запустить собственную службу доставки, что сократит срок доставки заказов   \n",
       "5                      Добавить страницу отзывов клиентов о магазине, что позволит увеличить количество заказов   \n",
       "3           Изменить структура категорий, что увеличит конверсию, т.к. пользователи быстрее найдут нужный товар   \n",
       "4                              Изменить цвет фона главной страницы, чтобы увеличить вовлеченность пользователей   \n",
       "\n",
       "         ice  \n",
       "8  16.200000  \n",
       "0  13.333333  \n",
       "7  11.200000  \n",
       "6   8.000000  \n",
       "2   7.000000  \n",
       "1   2.000000  \n",
       "5   1.333333  \n",
       "3   1.125000  \n",
       "4   1.000000  "
      ]
     },
     "execution_count": 29,
     "metadata": {},
     "output_type": "execute_result"
    }
   ],
   "source": [
    "hypothesis['ice'] = hypothesis['impact'] * hypothesis['confidence'] / hypothesis['efforts'] \n",
    "hypothesis[['hypothesis','ice']].sort_values(by='ice', ascending=False)"
   ]
  },
  {
   "cell_type": "markdown",
   "metadata": {},
   "source": [
    "#### Проведем приоритизацию гипотез по методу RICE"
   ]
  },
  {
   "cell_type": "markdown",
   "metadata": {},
   "source": [
    "Метод RICE имеет дополнительную четвертую компоненту - Reach — скольких пользователей затронет изменение, которое вы хотите внести. \n",
    "\n",
    "Формула: RICE = Reach * Impact * Confidence / Efforts"
   ]
  },
  {
   "cell_type": "code",
   "execution_count": 30,
   "metadata": {},
   "outputs": [
    {
     "data": {
      "text/html": [
       "<div>\n",
       "<style scoped>\n",
       "    .dataframe tbody tr th:only-of-type {\n",
       "        vertical-align: middle;\n",
       "    }\n",
       "\n",
       "    .dataframe tbody tr th {\n",
       "        vertical-align: top;\n",
       "    }\n",
       "\n",
       "    .dataframe thead th {\n",
       "        text-align: right;\n",
       "    }\n",
       "</style>\n",
       "<table border=\"1\" class=\"dataframe\">\n",
       "  <thead>\n",
       "    <tr style=\"text-align: right;\">\n",
       "      <th></th>\n",
       "      <th>hypothesis</th>\n",
       "      <th>reach</th>\n",
       "      <th>rice</th>\n",
       "    </tr>\n",
       "  </thead>\n",
       "  <tbody>\n",
       "    <tr>\n",
       "      <th>7</th>\n",
       "      <td>Добавить форму подписки на все основные страницы, чтобы собрать базу клиентов для email-рассылок</td>\n",
       "      <td>10</td>\n",
       "      <td>112.0</td>\n",
       "    </tr>\n",
       "    <tr>\n",
       "      <th>2</th>\n",
       "      <td>Добавить блоки рекомендаций товаров на сайт интернет магазина, чтобы повысить конверсию и средний чек заказа</td>\n",
       "      <td>8</td>\n",
       "      <td>56.0</td>\n",
       "    </tr>\n",
       "    <tr>\n",
       "      <th>0</th>\n",
       "      <td>Добавить два новых канала привлечения трафика, что позволит привлекать на 30% больше пользователей</td>\n",
       "      <td>3</td>\n",
       "      <td>40.0</td>\n",
       "    </tr>\n",
       "    <tr>\n",
       "      <th>6</th>\n",
       "      <td>Показать на главной странице баннеры с актуальными акциями и распродажами, чтобы увеличить конверсию</td>\n",
       "      <td>5</td>\n",
       "      <td>40.0</td>\n",
       "    </tr>\n",
       "    <tr>\n",
       "      <th>8</th>\n",
       "      <td>Запустить акцию, дающую скидку на товар в день рождения</td>\n",
       "      <td>1</td>\n",
       "      <td>16.2</td>\n",
       "    </tr>\n",
       "    <tr>\n",
       "      <th>3</th>\n",
       "      <td>Изменить структура категорий, что увеличит конверсию, т.к. пользователи быстрее найдут нужный товар</td>\n",
       "      <td>8</td>\n",
       "      <td>9.0</td>\n",
       "    </tr>\n",
       "    <tr>\n",
       "      <th>1</th>\n",
       "      <td>Запустить собственную службу доставки, что сократит срок доставки заказов</td>\n",
       "      <td>2</td>\n",
       "      <td>4.0</td>\n",
       "    </tr>\n",
       "    <tr>\n",
       "      <th>5</th>\n",
       "      <td>Добавить страницу отзывов клиентов о магазине, что позволит увеличить количество заказов</td>\n",
       "      <td>3</td>\n",
       "      <td>4.0</td>\n",
       "    </tr>\n",
       "    <tr>\n",
       "      <th>4</th>\n",
       "      <td>Изменить цвет фона главной страницы, чтобы увеличить вовлеченность пользователей</td>\n",
       "      <td>3</td>\n",
       "      <td>3.0</td>\n",
       "    </tr>\n",
       "  </tbody>\n",
       "</table>\n",
       "</div>"
      ],
      "text/plain": [
       "                                                                                                     hypothesis  \\\n",
       "7              Добавить форму подписки на все основные страницы, чтобы собрать базу клиентов для email-рассылок   \n",
       "2  Добавить блоки рекомендаций товаров на сайт интернет магазина, чтобы повысить конверсию и средний чек заказа   \n",
       "0            Добавить два новых канала привлечения трафика, что позволит привлекать на 30% больше пользователей   \n",
       "6          Показать на главной странице баннеры с актуальными акциями и распродажами, чтобы увеличить конверсию   \n",
       "8                                                       Запустить акцию, дающую скидку на товар в день рождения   \n",
       "3           Изменить структура категорий, что увеличит конверсию, т.к. пользователи быстрее найдут нужный товар   \n",
       "1                                     Запустить собственную службу доставки, что сократит срок доставки заказов   \n",
       "5                      Добавить страницу отзывов клиентов о магазине, что позволит увеличить количество заказов   \n",
       "4                              Изменить цвет фона главной страницы, чтобы увеличить вовлеченность пользователей   \n",
       "\n",
       "   reach   rice  \n",
       "7     10  112.0  \n",
       "2      8   56.0  \n",
       "0      3   40.0  \n",
       "6      5   40.0  \n",
       "8      1   16.2  \n",
       "3      8    9.0  \n",
       "1      2    4.0  \n",
       "5      3    4.0  \n",
       "4      3    3.0  "
      ]
     },
     "execution_count": 30,
     "metadata": {},
     "output_type": "execute_result"
    }
   ],
   "source": [
    "hypothesis['rice'] = hypothesis['reach'] * hypothesis['impact'] * hypothesis['confidence'] / hypothesis['efforts'] \n",
    "hypothesis[['hypothesis', 'reach', 'rice']].sort_values(by='rice', ascending=False)"
   ]
  },
  {
   "cell_type": "markdown",
   "metadata": {},
   "source": [
    "#### Выводы по приоритизации гипотез "
   ]
  },
  {
   "cell_type": "markdown",
   "metadata": {},
   "source": [
    "Если по методу ICE приоритет был у гипотез под номерами 8, 0 и 7, то по методу RICE на 1-е место попала гипотеза номер 7 (с 3-го места), 2-е место у гипотезы номер 2 (было 5-е), 3-е место делят гипотезы под номерами 0 (было 2-е) и 6 (было 4-е). Изменение приоритизации связано с тем, что метод RICE помимо параметров ICE учитывает еще и охват гипотез, так гипотеза 7 имеет наиболее полный охват - 10. По методу RICE гипотеза 7 набрала 112 баллов - в 2 раза больше, чем у следующей за ней гипотезы номер 2 (56 баллов).\n",
    "Таким образом наиболее предпочтительной выглядит гипотеза номер 7."
   ]
  },
  {
   "cell_type": "markdown",
   "metadata": {},
   "source": [
    "###  Анализ A/B-теста"
   ]
  },
  {
   "cell_type": "markdown",
   "metadata": {},
   "source": [
    "#### Построим график кумулятивной выручки по группам "
   ]
  },
  {
   "cell_type": "markdown",
   "metadata": {},
   "source": [
    "Создадим массив уникальных пар значений дат и групп теста"
   ]
  },
  {
   "cell_type": "code",
   "execution_count": 31,
   "metadata": {},
   "outputs": [],
   "source": [
    "dates_groups = orders[['date','group']].drop_duplicates() "
   ]
  },
  {
   "cell_type": "markdown",
   "metadata": {},
   "source": [
    "Соберем агрегированные кумулятивные по дням данные о заказах"
   ]
  },
  {
   "cell_type": "code",
   "execution_count": 32,
   "metadata": {},
   "outputs": [
    {
     "data": {
      "text/html": [
       "<div>\n",
       "<style scoped>\n",
       "    .dataframe tbody tr th:only-of-type {\n",
       "        vertical-align: middle;\n",
       "    }\n",
       "\n",
       "    .dataframe tbody tr th {\n",
       "        vertical-align: top;\n",
       "    }\n",
       "\n",
       "    .dataframe thead th {\n",
       "        text-align: right;\n",
       "    }\n",
       "</style>\n",
       "<table border=\"1\" class=\"dataframe\">\n",
       "  <thead>\n",
       "    <tr style=\"text-align: right;\">\n",
       "      <th></th>\n",
       "      <th>date</th>\n",
       "      <th>group</th>\n",
       "      <th>transactionid</th>\n",
       "      <th>visitorid</th>\n",
       "      <th>revenue</th>\n",
       "    </tr>\n",
       "  </thead>\n",
       "  <tbody>\n",
       "    <tr>\n",
       "      <th>55</th>\n",
       "      <td>2019-08-01</td>\n",
       "      <td>A</td>\n",
       "      <td>23</td>\n",
       "      <td>19</td>\n",
       "      <td>142779</td>\n",
       "    </tr>\n",
       "    <tr>\n",
       "      <th>66</th>\n",
       "      <td>2019-08-01</td>\n",
       "      <td>B</td>\n",
       "      <td>17</td>\n",
       "      <td>17</td>\n",
       "      <td>59758</td>\n",
       "    </tr>\n",
       "    <tr>\n",
       "      <th>175</th>\n",
       "      <td>2019-08-02</td>\n",
       "      <td>A</td>\n",
       "      <td>42</td>\n",
       "      <td>36</td>\n",
       "      <td>234381</td>\n",
       "    </tr>\n",
       "    <tr>\n",
       "      <th>173</th>\n",
       "      <td>2019-08-02</td>\n",
       "      <td>B</td>\n",
       "      <td>40</td>\n",
       "      <td>39</td>\n",
       "      <td>221801</td>\n",
       "    </tr>\n",
       "    <tr>\n",
       "      <th>291</th>\n",
       "      <td>2019-08-03</td>\n",
       "      <td>A</td>\n",
       "      <td>66</td>\n",
       "      <td>60</td>\n",
       "      <td>346854</td>\n",
       "    </tr>\n",
       "    <tr>\n",
       "      <th>...</th>\n",
       "      <td>...</td>\n",
       "      <td>...</td>\n",
       "      <td>...</td>\n",
       "      <td>...</td>\n",
       "      <td>...</td>\n",
       "    </tr>\n",
       "    <tr>\n",
       "      <th>533</th>\n",
       "      <td>2019-08-29</td>\n",
       "      <td>B</td>\n",
       "      <td>510</td>\n",
       "      <td>490</td>\n",
       "      <td>4746610</td>\n",
       "    </tr>\n",
       "    <tr>\n",
       "      <th>757</th>\n",
       "      <td>2019-08-30</td>\n",
       "      <td>A</td>\n",
       "      <td>460</td>\n",
       "      <td>437</td>\n",
       "      <td>3311413</td>\n",
       "    </tr>\n",
       "    <tr>\n",
       "      <th>690</th>\n",
       "      <td>2019-08-30</td>\n",
       "      <td>B</td>\n",
       "      <td>531</td>\n",
       "      <td>511</td>\n",
       "      <td>4955833</td>\n",
       "    </tr>\n",
       "    <tr>\n",
       "      <th>958</th>\n",
       "      <td>2019-08-31</td>\n",
       "      <td>A</td>\n",
       "      <td>468</td>\n",
       "      <td>445</td>\n",
       "      <td>3364656</td>\n",
       "    </tr>\n",
       "    <tr>\n",
       "      <th>930</th>\n",
       "      <td>2019-08-31</td>\n",
       "      <td>B</td>\n",
       "      <td>548</td>\n",
       "      <td>528</td>\n",
       "      <td>5068972</td>\n",
       "    </tr>\n",
       "  </tbody>\n",
       "</table>\n",
       "<p>62 rows × 5 columns</p>\n",
       "</div>"
      ],
      "text/plain": [
       "          date group  transactionid  visitorid  revenue\n",
       "55  2019-08-01     A             23         19   142779\n",
       "66  2019-08-01     B             17         17    59758\n",
       "175 2019-08-02     A             42         36   234381\n",
       "173 2019-08-02     B             40         39   221801\n",
       "291 2019-08-03     A             66         60   346854\n",
       "..         ...   ...            ...        ...      ...\n",
       "533 2019-08-29     B            510        490  4746610\n",
       "757 2019-08-30     A            460        437  3311413\n",
       "690 2019-08-30     B            531        511  4955833\n",
       "958 2019-08-31     A            468        445  3364656\n",
       "930 2019-08-31     B            548        528  5068972\n",
       "\n",
       "[62 rows x 5 columns]"
      ]
     },
     "execution_count": 32,
     "metadata": {},
     "output_type": "execute_result"
    }
   ],
   "source": [
    "orders_aggregated = dates_groups.apply(\n",
    "    lambda x: orders[\n",
    "        np.logical_and(\n",
    "            orders['date'] <= x['date'], orders['group'] == x['group']\n",
    "        )\n",
    "    ].agg(\n",
    "        {\n",
    "            'date': 'max',\n",
    "            'group': 'max',\n",
    "            'transactionid': 'nunique',\n",
    "            'visitorid': 'nunique',\n",
    "            'revenue': 'sum',\n",
    "        }\n",
    "    ),\n",
    "    axis=1,\n",
    ").sort_values(by=['date', 'group'])\n",
    "orders_aggregated"
   ]
  },
  {
   "cell_type": "markdown",
   "metadata": {},
   "source": [
    "Аналогично соберем агрегированные кумулятивные по дням данные о пользователях"
   ]
  },
  {
   "cell_type": "code",
   "execution_count": 33,
   "metadata": {},
   "outputs": [
    {
     "data": {
      "text/html": [
       "<div>\n",
       "<style scoped>\n",
       "    .dataframe tbody tr th:only-of-type {\n",
       "        vertical-align: middle;\n",
       "    }\n",
       "\n",
       "    .dataframe tbody tr th {\n",
       "        vertical-align: top;\n",
       "    }\n",
       "\n",
       "    .dataframe thead th {\n",
       "        text-align: right;\n",
       "    }\n",
       "</style>\n",
       "<table border=\"1\" class=\"dataframe\">\n",
       "  <thead>\n",
       "    <tr style=\"text-align: right;\">\n",
       "      <th></th>\n",
       "      <th>date</th>\n",
       "      <th>group</th>\n",
       "      <th>visitors</th>\n",
       "    </tr>\n",
       "  </thead>\n",
       "  <tbody>\n",
       "    <tr>\n",
       "      <th>55</th>\n",
       "      <td>2019-08-01</td>\n",
       "      <td>A</td>\n",
       "      <td>719</td>\n",
       "    </tr>\n",
       "    <tr>\n",
       "      <th>66</th>\n",
       "      <td>2019-08-01</td>\n",
       "      <td>B</td>\n",
       "      <td>713</td>\n",
       "    </tr>\n",
       "    <tr>\n",
       "      <th>175</th>\n",
       "      <td>2019-08-02</td>\n",
       "      <td>A</td>\n",
       "      <td>1338</td>\n",
       "    </tr>\n",
       "    <tr>\n",
       "      <th>173</th>\n",
       "      <td>2019-08-02</td>\n",
       "      <td>B</td>\n",
       "      <td>1294</td>\n",
       "    </tr>\n",
       "    <tr>\n",
       "      <th>291</th>\n",
       "      <td>2019-08-03</td>\n",
       "      <td>A</td>\n",
       "      <td>1845</td>\n",
       "    </tr>\n",
       "    <tr>\n",
       "      <th>...</th>\n",
       "      <td>...</td>\n",
       "      <td>...</td>\n",
       "      <td>...</td>\n",
       "    </tr>\n",
       "    <tr>\n",
       "      <th>533</th>\n",
       "      <td>2019-08-29</td>\n",
       "      <td>B</td>\n",
       "      <td>17708</td>\n",
       "    </tr>\n",
       "    <tr>\n",
       "      <th>757</th>\n",
       "      <td>2019-08-30</td>\n",
       "      <td>A</td>\n",
       "      <td>18037</td>\n",
       "    </tr>\n",
       "    <tr>\n",
       "      <th>690</th>\n",
       "      <td>2019-08-30</td>\n",
       "      <td>B</td>\n",
       "      <td>18198</td>\n",
       "    </tr>\n",
       "    <tr>\n",
       "      <th>958</th>\n",
       "      <td>2019-08-31</td>\n",
       "      <td>A</td>\n",
       "      <td>18736</td>\n",
       "    </tr>\n",
       "    <tr>\n",
       "      <th>930</th>\n",
       "      <td>2019-08-31</td>\n",
       "      <td>B</td>\n",
       "      <td>18916</td>\n",
       "    </tr>\n",
       "  </tbody>\n",
       "</table>\n",
       "<p>62 rows × 3 columns</p>\n",
       "</div>"
      ],
      "text/plain": [
       "          date group  visitors\n",
       "55  2019-08-01     A       719\n",
       "66  2019-08-01     B       713\n",
       "175 2019-08-02     A      1338\n",
       "173 2019-08-02     B      1294\n",
       "291 2019-08-03     A      1845\n",
       "..         ...   ...       ...\n",
       "533 2019-08-29     B     17708\n",
       "757 2019-08-30     A     18037\n",
       "690 2019-08-30     B     18198\n",
       "958 2019-08-31     A     18736\n",
       "930 2019-08-31     B     18916\n",
       "\n",
       "[62 rows x 3 columns]"
      ]
     },
     "execution_count": 33,
     "metadata": {},
     "output_type": "execute_result"
    }
   ],
   "source": [
    "visitors_aggregated = dates_groups.apply(\n",
    "    lambda x: visitors[\n",
    "        np.logical_and(\n",
    "            visitors['date'] <= x['date'], visitors['group'] == x['group']\n",
    "        )\n",
    "    ].agg({'date': 'max', 'group': 'max', 'visitors': 'sum'}),\n",
    "    axis=1,\n",
    ").sort_values(by=['date', 'group'])\n",
    "visitors_aggregated"
   ]
  },
  {
   "cell_type": "markdown",
   "metadata": {},
   "source": [
    "Объединим обе таблицы с агрегированными данными в одну и поменяем названия столбцов"
   ]
  },
  {
   "cell_type": "code",
   "execution_count": 34,
   "metadata": {},
   "outputs": [
    {
     "data": {
      "text/html": [
       "<div>\n",
       "<style scoped>\n",
       "    .dataframe tbody tr th:only-of-type {\n",
       "        vertical-align: middle;\n",
       "    }\n",
       "\n",
       "    .dataframe tbody tr th {\n",
       "        vertical-align: top;\n",
       "    }\n",
       "\n",
       "    .dataframe thead th {\n",
       "        text-align: right;\n",
       "    }\n",
       "</style>\n",
       "<table border=\"1\" class=\"dataframe\">\n",
       "  <thead>\n",
       "    <tr style=\"text-align: right;\">\n",
       "      <th></th>\n",
       "      <th>date</th>\n",
       "      <th>group</th>\n",
       "      <th>orders</th>\n",
       "      <th>buyers</th>\n",
       "      <th>revenue</th>\n",
       "      <th>visitors</th>\n",
       "    </tr>\n",
       "  </thead>\n",
       "  <tbody>\n",
       "    <tr>\n",
       "      <th>0</th>\n",
       "      <td>2019-08-01</td>\n",
       "      <td>A</td>\n",
       "      <td>23</td>\n",
       "      <td>19</td>\n",
       "      <td>142779</td>\n",
       "      <td>719</td>\n",
       "    </tr>\n",
       "    <tr>\n",
       "      <th>1</th>\n",
       "      <td>2019-08-01</td>\n",
       "      <td>B</td>\n",
       "      <td>17</td>\n",
       "      <td>17</td>\n",
       "      <td>59758</td>\n",
       "      <td>713</td>\n",
       "    </tr>\n",
       "    <tr>\n",
       "      <th>2</th>\n",
       "      <td>2019-08-02</td>\n",
       "      <td>A</td>\n",
       "      <td>42</td>\n",
       "      <td>36</td>\n",
       "      <td>234381</td>\n",
       "      <td>1338</td>\n",
       "    </tr>\n",
       "    <tr>\n",
       "      <th>3</th>\n",
       "      <td>2019-08-02</td>\n",
       "      <td>B</td>\n",
       "      <td>40</td>\n",
       "      <td>39</td>\n",
       "      <td>221801</td>\n",
       "      <td>1294</td>\n",
       "    </tr>\n",
       "    <tr>\n",
       "      <th>4</th>\n",
       "      <td>2019-08-03</td>\n",
       "      <td>A</td>\n",
       "      <td>66</td>\n",
       "      <td>60</td>\n",
       "      <td>346854</td>\n",
       "      <td>1845</td>\n",
       "    </tr>\n",
       "    <tr>\n",
       "      <th>...</th>\n",
       "      <td>...</td>\n",
       "      <td>...</td>\n",
       "      <td>...</td>\n",
       "      <td>...</td>\n",
       "      <td>...</td>\n",
       "      <td>...</td>\n",
       "    </tr>\n",
       "    <tr>\n",
       "      <th>57</th>\n",
       "      <td>2019-08-29</td>\n",
       "      <td>B</td>\n",
       "      <td>510</td>\n",
       "      <td>490</td>\n",
       "      <td>4746610</td>\n",
       "      <td>17708</td>\n",
       "    </tr>\n",
       "    <tr>\n",
       "      <th>58</th>\n",
       "      <td>2019-08-30</td>\n",
       "      <td>A</td>\n",
       "      <td>460</td>\n",
       "      <td>437</td>\n",
       "      <td>3311413</td>\n",
       "      <td>18037</td>\n",
       "    </tr>\n",
       "    <tr>\n",
       "      <th>59</th>\n",
       "      <td>2019-08-30</td>\n",
       "      <td>B</td>\n",
       "      <td>531</td>\n",
       "      <td>511</td>\n",
       "      <td>4955833</td>\n",
       "      <td>18198</td>\n",
       "    </tr>\n",
       "    <tr>\n",
       "      <th>60</th>\n",
       "      <td>2019-08-31</td>\n",
       "      <td>A</td>\n",
       "      <td>468</td>\n",
       "      <td>445</td>\n",
       "      <td>3364656</td>\n",
       "      <td>18736</td>\n",
       "    </tr>\n",
       "    <tr>\n",
       "      <th>61</th>\n",
       "      <td>2019-08-31</td>\n",
       "      <td>B</td>\n",
       "      <td>548</td>\n",
       "      <td>528</td>\n",
       "      <td>5068972</td>\n",
       "      <td>18916</td>\n",
       "    </tr>\n",
       "  </tbody>\n",
       "</table>\n",
       "<p>62 rows × 6 columns</p>\n",
       "</div>"
      ],
      "text/plain": [
       "         date group  orders  buyers  revenue  visitors\n",
       "0  2019-08-01     A      23      19   142779       719\n",
       "1  2019-08-01     B      17      17    59758       713\n",
       "2  2019-08-02     A      42      36   234381      1338\n",
       "3  2019-08-02     B      40      39   221801      1294\n",
       "4  2019-08-03     A      66      60   346854      1845\n",
       "..        ...   ...     ...     ...      ...       ...\n",
       "57 2019-08-29     B     510     490  4746610     17708\n",
       "58 2019-08-30     A     460     437  3311413     18037\n",
       "59 2019-08-30     B     531     511  4955833     18198\n",
       "60 2019-08-31     A     468     445  3364656     18736\n",
       "61 2019-08-31     B     548     528  5068972     18916\n",
       "\n",
       "[62 rows x 6 columns]"
      ]
     },
     "execution_count": 34,
     "metadata": {},
     "output_type": "execute_result"
    }
   ],
   "source": [
    "cumulative_data = orders_aggregated.merge(\n",
    "    visitors_aggregated, left_on=['date', 'group'], right_on=['date', 'group']\n",
    ")\n",
    "cumulative_data.columns = [\n",
    "    'date',\n",
    "    'group',\n",
    "    'orders',\n",
    "    'buyers',\n",
    "    'revenue',\n",
    "    'visitors',\n",
    "]\n",
    "cumulative_data"
   ]
  },
  {
   "cell_type": "markdown",
   "metadata": {},
   "source": [
    "Построим графики кумулятивной выручки по дням и группам A/B-тестирования"
   ]
  },
  {
   "cell_type": "code",
   "execution_count": 35,
   "metadata": {},
   "outputs": [
    {
     "data": {
      "image/png": "[encoded data removed]",
      "text/plain": [
       "<Figure size 864x432 with 1 Axes>"
      ]
     },
     "metadata": {
      "needs_background": "light"
     },
     "output_type": "display_data"
    }
   ],
   "source": [
    "# датафреймы с кумулятивным количеством заказов и кумулятивной выручкой по дням для групп А и B\n",
    "cumulative_revenue_a = cumulative_data[cumulative_data['group']=='A'][['date','revenue', 'orders']]\n",
    "cumulative_revenue_b = cumulative_data[cumulative_data['group']=='B'][['date','revenue', 'orders']]\n",
    "\n",
    "plt.figure(figsize=(12,6))\n",
    "plt.plot(cumulative_revenue_a['date'], cumulative_revenue_a['revenue'], label = 'A')\n",
    "plt.plot(cumulative_revenue_b['date'], cumulative_revenue_b['revenue'], label = 'B')\n",
    "plt.ylabel('Выручка')\n",
    "plt.xlabel('Дата')\n",
    "plt.title('Графики кумулятивной выручки по группам A/B')\n",
    "plt.legend()\n",
    "plt.show()"
   ]
  },
  {
   "cell_type": "markdown",
   "metadata": {},
   "source": [
    "Группа В показывает более высокую выручку почти на всем протяжении теста. При этом 13 августа выручка по группам сравнивается, а 19 августа происходит скачок выручки в группе В, возможно 19-го числа был крупный заказ?. Рассмотрим данные за 19-е число."
   ]
  },
  {
   "cell_type": "code",
   "execution_count": 36,
   "metadata": {},
   "outputs": [
    {
     "data": {
      "text/html": [
       "<div>\n",
       "<style scoped>\n",
       "    .dataframe tbody tr th:only-of-type {\n",
       "        vertical-align: middle;\n",
       "    }\n",
       "\n",
       "    .dataframe tbody tr th {\n",
       "        vertical-align: top;\n",
       "    }\n",
       "\n",
       "    .dataframe thead th {\n",
       "        text-align: right;\n",
       "    }\n",
       "</style>\n",
       "<table border=\"1\" class=\"dataframe\">\n",
       "  <thead>\n",
       "    <tr style=\"text-align: right;\">\n",
       "      <th></th>\n",
       "      <th>transactionid</th>\n",
       "      <th>visitorid</th>\n",
       "      <th>date</th>\n",
       "      <th>revenue</th>\n",
       "      <th>group</th>\n",
       "    </tr>\n",
       "  </thead>\n",
       "  <tbody>\n",
       "    <tr>\n",
       "      <th>425</th>\n",
       "      <td>590470918</td>\n",
       "      <td>1920142716</td>\n",
       "      <td>2019-08-19</td>\n",
       "      <td>1294500</td>\n",
       "      <td>B</td>\n",
       "    </tr>\n",
       "    <tr>\n",
       "      <th>527</th>\n",
       "      <td>1570513684</td>\n",
       "      <td>2837914161</td>\n",
       "      <td>2019-08-19</td>\n",
       "      <td>33405</td>\n",
       "      <td>B</td>\n",
       "    </tr>\n",
       "    <tr>\n",
       "      <th>461</th>\n",
       "      <td>2683113224</td>\n",
       "      <td>154576532</td>\n",
       "      <td>2019-08-19</td>\n",
       "      <td>26550</td>\n",
       "      <td>B</td>\n",
       "    </tr>\n",
       "    <tr>\n",
       "      <th>368</th>\n",
       "      <td>3268879337</td>\n",
       "      <td>2536252163</td>\n",
       "      <td>2019-08-19</td>\n",
       "      <td>20026</td>\n",
       "      <td>B</td>\n",
       "    </tr>\n",
       "    <tr>\n",
       "      <th>463</th>\n",
       "      <td>4170537404</td>\n",
       "      <td>290022471</td>\n",
       "      <td>2019-08-19</td>\n",
       "      <td>16480</td>\n",
       "      <td>B</td>\n",
       "    </tr>\n",
       "  </tbody>\n",
       "</table>\n",
       "</div>"
      ],
      "text/plain": [
       "     transactionid   visitorid       date  revenue group\n",
       "425      590470918  1920142716 2019-08-19  1294500     B\n",
       "527     1570513684  2837914161 2019-08-19    33405     B\n",
       "461     2683113224   154576532 2019-08-19    26550     B\n",
       "368     3268879337  2536252163 2019-08-19    20026     B\n",
       "463     4170537404   290022471 2019-08-19    16480     B"
      ]
     },
     "execution_count": 36,
     "metadata": {},
     "output_type": "execute_result"
    }
   ],
   "source": [
    "orders[(orders['date'] == '2019-08-19') & (orders['group'] == 'B')].sort_values(by='revenue', ascending=False).head()"
   ]
  },
  {
   "cell_type": "markdown",
   "metadata": {},
   "source": [
    "Так и есть, крупный заказ заметно исказил график, учтем это в дальнейшем."
   ]
  },
  {
   "cell_type": "markdown",
   "metadata": {},
   "source": [
    "#### Построим график кумулятивного среднего чека по группам"
   ]
  },
  {
   "cell_type": "markdown",
   "metadata": {},
   "source": [
    "Построим графики среднего чека по группам — разделим кумулятивную выручку на кумулятивное число заказов"
   ]
  },
  {
   "cell_type": "code",
   "execution_count": 37,
   "metadata": {},
   "outputs": [
    {
     "data": {
      "image/png": "[encoded data removed]",
      "text/plain": [
       "<Figure size 864x432 with 1 Axes>"
      ]
     },
     "metadata": {
      "needs_background": "light"
     },
     "output_type": "display_data"
    }
   ],
   "source": [
    "plt.figure(figsize=(12,6))\n",
    "plt.grid()\n",
    "plt.plot(cumulative_revenue_a['date'], cumulative_revenue_a['revenue']/cumulative_revenue_a['orders'], label='A')\n",
    "plt.plot(cumulative_revenue_b['date'], cumulative_revenue_b['revenue']/cumulative_revenue_b['orders'], label='B')\n",
    "plt.ylabel('Средний чек')\n",
    "plt.xlabel('Дата')\n",
    "plt.title('Графики кумулятивного среднего чека по группам A/B')\n",
    "plt.legend()\n",
    "plt.show()"
   ]
  },
  {
   "cell_type": "markdown",
   "metadata": {},
   "source": [
    "Средний чек группы В больше чека группы А со 2-го по 11-е августа, с 12 по 18 группа А вырывается вперед, с 19 августа впереди группа В. При этом вновь хорошо виден выброс 19-го августа. После 19-го числа средний чек по группе В снижается, а по группе А наоборот несколько растет."
   ]
  },
  {
   "cell_type": "markdown",
   "metadata": {},
   "source": [
    "#### Построим график относительного изменения кумулятивного среднего чека группы B к группе A"
   ]
  },
  {
   "cell_type": "code",
   "execution_count": 38,
   "metadata": {},
   "outputs": [
    {
     "data": {
      "image/png": "[encoded data removed]",
      "text/plain": [
       "<Figure size 864x432 with 1 Axes>"
      ]
     },
     "metadata": {
      "needs_background": "light"
     },
     "output_type": "display_data"
    }
   ],
   "source": [
    "# собираем данные в одном датафрейме\n",
    "merged_cumulative_revenue = cumulative_revenue_a.merge(\n",
    "    cumulative_revenue_b, left_on='date', right_on='date', how='left', suffixes=['_a', '_b'])\n",
    "\n",
    "plt.figure(figsize=(12,6))\n",
    "plt.grid()\n",
    "plt.plot(merged_cumulative_revenue['date'], (\n",
    "    merged_cumulative_revenue['revenue_b']/merged_cumulative_revenue['orders_b'])/\n",
    "    (merged_cumulative_revenue['revenue_a']/merged_cumulative_revenue['orders_a'])-1)\n",
    "plt.axhline(y=0, color='black', linestyle='--') \n",
    "plt.xlabel('Дата')\n",
    "plt.title('График относительного изменения кумулятивного среднего чека группы B к группе A')\n",
    "plt.show()"
   ]
  },
  {
   "cell_type": "markdown",
   "metadata": {},
   "source": [
    "Средний чек группы В растет относительно группы А до 7-го августа, затем падает до 13-го и с 14-го по 19-е (где мы вновь наблюдаем выброс) растет, после 19-го наблюдается спад. В целом все три графика показывают сходную картину и говорят нам о необходимости отфильтровать выбросы. "
   ]
  },
  {
   "cell_type": "markdown",
   "metadata": {},
   "source": [
    "#### Построим график кумулятивного среднего количества заказов на посетителя по группам"
   ]
  },
  {
   "cell_type": "code",
   "execution_count": 39,
   "metadata": {},
   "outputs": [
    {
     "data": {
      "image/png": "[encoded data removed]",
      "text/plain": [
       "<Figure size 864x432 with 1 Axes>"
      ]
     },
     "metadata": {
      "needs_background": "light"
     },
     "output_type": "display_data"
    }
   ],
   "source": [
    "# считаем среднее количество заказов на посетителя\n",
    "cumulative_data['conversion'] = cumulative_data['orders']/cumulative_data['visitors']\n",
    "\n",
    "# разделяем данные по группам\n",
    "cumulative_data_a = cumulative_data[cumulative_data['group']=='A']\n",
    "cumulative_data_b = cumulative_data[cumulative_data['group']=='B']\n",
    "\n",
    "plt.figure(figsize=(12,6))\n",
    "plt.grid()\n",
    "plt.plot(cumulative_data_a['date'], cumulative_data_a['conversion'], label='A')\n",
    "plt.plot(cumulative_data_b['date'], cumulative_data_b['conversion'], label='B')\n",
    "plt.legend()\n",
    "plt.xlabel('Дата')\n",
    "plt.ylabel('Конверсия')\n",
    "plt.title('Графики кумулятивного среднего количества заказов на посетителя по группам')\n",
    "plt.show()"
   ]
  },
  {
   "cell_type": "markdown",
   "metadata": {},
   "source": [
    "Группа А показывает максимальную конверсию 3-го числа, после чего падает и с 13-го числа колеблется на одном уровне - 0.25-0.26. Группа В растет с 1-го по 2-е, затем падает, после 4-го растет и достигает пика 10-го числа. После 10-го августа конверсия группы В снижается, за исключением скачка 14-17 числа, где она приближается к 0.31, конверсия группы В устанавливается на уровне 0.29. При этом с 6-го августа и до конца месяца конверсия группы В стабильно выше группы А."
   ]
  },
  {
   "cell_type": "markdown",
   "metadata": {},
   "source": [
    "#### Построим график относительного изменения кумулятивного среднего количества заказов на посетителя группы B к группе A"
   ]
  },
  {
   "cell_type": "code",
   "execution_count": 40,
   "metadata": {},
   "outputs": [
    {
     "data": {
      "image/png": "[encoded data removed]",
      "text/plain": [
       "<Figure size 864x432 with 1 Axes>"
      ]
     },
     "metadata": {
      "needs_background": "light"
     },
     "output_type": "display_data"
    }
   ],
   "source": [
    "merged_cumulative_conversions = cumulative_data_a[['date','conversion']].merge(\n",
    "    cumulative_data_b[['date','conversion']], left_on='date', right_on='date', how='left', suffixes=['_a', '_b'])\n",
    "\n",
    "plt.figure(figsize=(12,6))\n",
    "plt.plot(merged_cumulative_conversions['date'], \n",
    "         merged_cumulative_conversions['conversion_b']/merged_cumulative_conversions['conversion_a']-1, \n",
    "         label=\"Относительный прирост кумулятивного среднего количества заказов на посетителя группы B относительно группы A\")\n",
    "plt.xlabel('Дата')\n",
    "plt.title('График относительного изменения кумулятивного среднего количества заказов на посетителя группы B к группе A')\n",
    "plt.axhline(y=0, color='black', linestyle='--')\n",
    "plt.axhline(y=0.11, color='grey', linestyle='--')\n",
    "plt.axhline(y=0.15, color='grey', linestyle='--')\n",
    "plt.axhline(y=0.2, color='grey', linestyle='--')\n",
    "plt.show()"
   ]
  },
  {
   "cell_type": "markdown",
   "metadata": {},
   "source": [
    "Как и на предыдущем графике - скачок 2 числа - однако группа В все еще меньше (на 1%) группы А, затем падение до 3-го, рост и с 6-го числа конверсия группы В выше группы А. Пик относительно группы А наблюдается 15-17 августа - конверсия группы В выше на 20-21%, после чего наблюдается падение, но конверсия В продолжает превышать А на 11-15%."
   ]
  },
  {
   "cell_type": "markdown",
   "metadata": {},
   "source": [
    "#### Построим точечный график количества заказов по пользователям"
   ]
  },
  {
   "cell_type": "code",
   "execution_count": 41,
   "metadata": {},
   "outputs": [
    {
     "data": {
      "image/png": "[encoded data removed]",
      "text/plain": [
       "<Figure size 864x432 with 1 Axes>"
      ]
     },
     "metadata": {
      "needs_background": "light"
     },
     "output_type": "display_data"
    }
   ],
   "source": [
    "orders_by_users = (\n",
    "    orders.groupby('visitorid', as_index=False)\n",
    "    .agg({'transactionid': 'nunique'})\n",
    ")\n",
    "orders_by_users.columns = ['visitorid', 'orders']\n",
    "\n",
    "# серия из чисел от 0 до количества наблюдений в ordersByUsers\n",
    "x_values = pd.Series(range(0, len(orders_by_users)))\n",
    "\n",
    "plt.figure(figsize=(12,6))\n",
    "plt.scatter(x_values, orders_by_users['orders'], alpha=0.5) \n",
    "plt.title('График количества заказов по пользователям')\n",
    "plt.show()"
   ]
  },
  {
   "cell_type": "markdown",
   "metadata": {},
   "source": [
    "Большая часть пользователей совершает по 1-му заказу, по 2 заказа - куда меньше, 3 - редкость. "
   ]
  },
  {
   "cell_type": "markdown",
   "metadata": {},
   "source": [
    "#### Посчитаем 95-й и 99-й перцентили количества заказов на пользователя"
   ]
  },
  {
   "cell_type": "code",
   "execution_count": 42,
   "metadata": {},
   "outputs": [
    {
     "name": "stdout",
     "output_type": "stream",
     "text": [
      "95-й перцентиль: 1.0, 99-й перцентиль: 2.0\n"
     ]
    }
   ],
   "source": [
    "percentile = np.percentile(orders_by_users['orders'], [95, 99])\n",
    "print(f'95-й перцентиль: {percentile[0]}, 99-й перцентиль: {percentile[1]}')"
   ]
  },
  {
   "cell_type": "markdown",
   "metadata": {},
   "source": [
    "Рассчитаем также 96-й, 97-й и 98-й перцентили."
   ]
  },
  {
   "cell_type": "code",
   "execution_count": 43,
   "metadata": {},
   "outputs": [
    {
     "name": "stdout",
     "output_type": "stream",
     "text": [
      "96-й перцентиль: 1.0, 97-й перцентиль: 2.0, 98-й перцентиль: 2.0\n"
     ]
    }
   ],
   "source": [
    "percentile = np.percentile(orders_by_users['orders'], [96, 97, 98])\n",
    "print(f'96-й перцентиль: {percentile[0]}, 97-й перцентиль: {percentile[1]}, 98-й перцентиль: {percentile[2]}')"
   ]
  },
  {
   "cell_type": "markdown",
   "metadata": {},
   "source": [
    "Как минимум 96 % пользователей делают 1 заказ, все что выше можно считать аномалией. "
   ]
  },
  {
   "cell_type": "markdown",
   "metadata": {},
   "source": [
    "#### Построим точечный график стоимостей заказов"
   ]
  },
  {
   "cell_type": "code",
   "execution_count": 44,
   "metadata": {},
   "outputs": [
    {
     "data": {
      "image/png": "[encoded data removed]",
      "text/plain": [
       "<Figure size 864x432 with 1 Axes>"
      ]
     },
     "metadata": {
      "needs_background": "light"
     },
     "output_type": "display_data"
    }
   ],
   "source": [
    "x_values = pd.Series(range(0, len(orders['revenue'])))\n",
    "plt.figure(figsize=(12,6))\n",
    "plt.scatter(x_values, orders['revenue'], alpha=0.5) \n",
    "plt.title('График стоимостей заказов')\n",
    "plt.show()"
   ]
  },
  {
   "cell_type": "markdown",
   "metadata": {},
   "source": [
    "Явно виден тот самый заказ от 19 августа на 1294500. Скорректируем график, убрав явные выбросы."
   ]
  },
  {
   "cell_type": "code",
   "execution_count": 45,
   "metadata": {},
   "outputs": [
    {
     "data": {
      "image/png": "[encoded data removed]",
      "text/plain": [
       "<Figure size 864x432 with 1 Axes>"
      ]
     },
     "metadata": {
      "needs_background": "light"
     },
     "output_type": "display_data"
    }
   ],
   "source": [
    "corr_orders = orders[orders['revenue'] < 200000]['revenue']\n",
    "xn_values = pd.Series(range(0, len(corr_orders)))\n",
    "plt.figure(figsize=(12,6))\n",
    "plt.grid()\n",
    "plt.title('График стоимостей заказов')\n",
    "plt.scatter(xn_values, corr_orders, alpha=0.5);"
   ]
  },
  {
   "cell_type": "markdown",
   "metadata": {},
   "source": [
    "Большая часть заказов в пределах 20000, от 20000 до 40000 уже заметно меньше, все что выше - большая редкость."
   ]
  },
  {
   "cell_type": "markdown",
   "metadata": {},
   "source": [
    "#### Посчитаем 95-й и 99-й перцентили стоимости заказов"
   ]
  },
  {
   "cell_type": "code",
   "execution_count": 46,
   "metadata": {},
   "outputs": [
    {
     "name": "stdout",
     "output_type": "stream",
     "text": [
      "95-й перцентиль: 26785.0, 99-й перцентиль: 53904.0\n"
     ]
    }
   ],
   "source": [
    "percentile = np.percentile(orders['revenue'], [95, 99])\n",
    "print(f'95-й перцентиль: {percentile[0]:.1f}, 99-й перцентиль: {percentile[1]:.1f}')"
   ]
  },
  {
   "cell_type": "code",
   "execution_count": 47,
   "metadata": {},
   "outputs": [
    {
     "name": "stdout",
     "output_type": "stream",
     "text": [
      "96-й перцентиль: 30649.0, 97-й перцентиль: 34792.0, 98-й перцентиль: 42353.0\n"
     ]
    }
   ],
   "source": [
    "percentile = np.percentile(orders['revenue'], [96, 97, 98])\n",
    "print(f'96-й перцентиль: {percentile[0]:.1f}, 97-й перцентиль: {percentile[1]:.1f}, 98-й перцентиль: {percentile[2]:.1f}')"
   ]
  },
  {
   "cell_type": "code",
   "execution_count": 48,
   "metadata": {},
   "outputs": [],
   "source": [
    "revenue_lim = np.percentile(orders['revenue'], 95)"
   ]
  },
  {
   "cell_type": "markdown",
   "metadata": {},
   "source": [
    "Примем за верхнюю границу 95-й перцентиль - 26785."
   ]
  },
  {
   "cell_type": "markdown",
   "metadata": {},
   "source": [
    "#### Посчитаем статистическую значимость различий в среднем количестве заказов на посетителя между группами по «сырым» данным"
   ]
  },
  {
   "cell_type": "markdown",
   "metadata": {},
   "source": [
    "Посчитаем число посетителей за день по группам."
   ]
  },
  {
   "cell_type": "code",
   "execution_count": 49,
   "metadata": {},
   "outputs": [],
   "source": [
    "visitors_a_daily = visitors[visitors['group'] == 'A'][['date', 'visitors']]\n",
    "visitors_a_daily.columns = ['date', 'visitors_per_date']\n",
    "\n",
    "visitors_b_daily = visitors[visitors['group'] == 'B'][['date', 'visitors']]\n",
    "visitors_b_daily.columns = ['date', 'visitors_per_date']"
   ]
  },
  {
   "cell_type": "markdown",
   "metadata": {},
   "source": [
    "Посчитаем число заказов для каждого пользователя, совершившего хотя бы один заказ, по группам."
   ]
  },
  {
   "cell_type": "code",
   "execution_count": 50,
   "metadata": {},
   "outputs": [],
   "source": [
    "orders_by_users_a = (\n",
    "    orders[orders['group'] == 'A']\n",
    "    .groupby('visitorid', as_index=False)\n",
    "    .agg({'transactionid': pd.Series.nunique})\n",
    ")\n",
    "orders_by_users_a.columns = ['userid', 'orders']\n",
    "\n",
    "orders_by_users_b = (\n",
    "    orders[orders['group'] == 'B']\n",
    "    .groupby('visitorid', as_index=False)\n",
    "    .agg({'transactionid': pd.Series.nunique})\n",
    ")\n",
    "orders_by_users_b.columns = ['userid', 'orders']"
   ]
  },
  {
   "cell_type": "markdown",
   "metadata": {},
   "source": [
    "Соберем выборки sample_a и sample_b в которых пользователям из разных групп будет соответствовать количество заказов. Тем, кто ничего не заказал, будут соответствовать нули."
   ]
  },
  {
   "cell_type": "code",
   "execution_count": 51,
   "metadata": {},
   "outputs": [],
   "source": [
    "sample_a = pd.concat(\n",
    "    [\n",
    "        orders_by_users_a['orders'],\n",
    "        pd.Series(\n",
    "            0,\n",
    "            index=np.arange(\n",
    "                visitors_a_daily['visitors_per_date'].sum() - len(orders_by_users_a['orders'])\n",
    "            ),\n",
    "            name='orders',\n",
    "        ),\n",
    "    ],\n",
    "    axis=0,\n",
    ")\n",
    "\n",
    "sample_b = pd.concat(\n",
    "    [\n",
    "        orders_by_users_b['orders'],\n",
    "        pd.Series(\n",
    "            0,\n",
    "            index=np.arange(\n",
    "                visitors_b_daily['visitors_per_date'].sum() - len(orders_by_users_b['orders'])\n",
    "            ),\n",
    "            name='orders',\n",
    "        ),\n",
    "    ],\n",
    "    axis=0,\n",
    ")"
   ]
  },
  {
   "cell_type": "markdown",
   "metadata": {},
   "source": [
    "H0: различий в среднем количестве заказов на посетителя между группами нет. \n",
    "\n",
    "H1: различия в среднем количестве заказов на посетителя между группами есть. \n",
    "\n",
    "Примем уровень значимости за 0.05."
   ]
  },
  {
   "cell_type": "code",
   "execution_count": 52,
   "metadata": {},
   "outputs": [
    {
     "name": "stdout",
     "output_type": "stream",
     "text": [
      "P-value: 0.011\n",
      "Относительное различие в конверсии между группами: 0.160\n"
     ]
    }
   ],
   "source": [
    "print(f'P-value: {stats.mannwhitneyu(sample_a, sample_b)[1]:.3f}')\n",
    "\n",
    "print(f'Относительное различие в конверсии между группами: {sample_b.mean() / sample_a.mean() - 1:.3f}')"
   ]
  },
  {
   "cell_type": "markdown",
   "metadata": {},
   "source": [
    "P-value меньше уровня значимости, отвергаем нулевую гипотезу в пользу альтернативной - различия в конверсии между группами есть. Относительный выигрыш группы B над группой A равен 16%."
   ]
  },
  {
   "cell_type": "markdown",
   "metadata": {},
   "source": [
    "#### Посчитаем статистическую значимость различий в среднем чеке заказа между группами по «сырым» данным"
   ]
  },
  {
   "cell_type": "markdown",
   "metadata": {},
   "source": [
    "H0: различий в среднем чеке между группами нет. \n",
    "\n",
    "H1: различия в среднем чеке между группами есть.\n",
    "\n",
    "Примем уровень значимости за 0.05."
   ]
  },
  {
   "cell_type": "code",
   "execution_count": 53,
   "metadata": {},
   "outputs": [
    {
     "name": "stdout",
     "output_type": "stream",
     "text": [
      "P-value: 0.829\n",
      "Относительное различие в среднем чеке между группами: 0.287\n"
     ]
    }
   ],
   "source": [
    "print('P-value: {0:.3f}'.format(\n",
    "    stats.mannwhitneyu(orders[orders['group']=='A']['revenue'], orders[orders['group']=='B']['revenue'])[1]))\n",
    "print('Относительное различие в среднем чеке между группами: {0:.3f}'.format(\n",
    "    orders[orders['group']=='B']['revenue'].mean()/orders[orders['group']=='A']['revenue'].mean()-1)) "
   ]
  },
  {
   "cell_type": "markdown",
   "metadata": {},
   "source": [
    "Наблюдаемое различие в 28.7% не является статистически значимым - P-value заметно больше уровня значимости. Соответственно причин отвергать нулевую гипотезу в пользу альтернативной нет - различий в среднем чеке между группами нет. Наблюдаемое различие вероятно связано с выбросами, требуется очистить данные и провести повторный расчет. "
   ]
  },
  {
   "cell_type": "markdown",
   "metadata": {},
   "source": [
    "#### Посчитаем статистическую значимость различий в среднем количестве заказов на посетителя между группами по «очищенным» данным"
   ]
  },
  {
   "cell_type": "markdown",
   "metadata": {},
   "source": [
    "Подсчитаем число аномальных пользователей - имеющих больше 1-го заказа или заказы на сумму более 26785."
   ]
  },
  {
   "cell_type": "code",
   "execution_count": 54,
   "metadata": {},
   "outputs": [
    {
     "name": "stdout",
     "output_type": "stream",
     "text": [
      "Число аномальных пользователей: 86\n"
     ]
    }
   ],
   "source": [
    "users_with_many_orders = pd.concat(\n",
    "    [\n",
    "        orders_by_users_a[orders_by_users_a['orders'] > 1]['userid'],\n",
    "        orders_by_users_b[orders_by_users_b['orders'] > 1]['userid'],\n",
    "    ],\n",
    "    axis=0,\n",
    ")\n",
    "users_with_expensive_orders = orders[orders['revenue'] > revenue_lim]['visitorid']\n",
    "abnormal_users = (\n",
    "    pd.concat([users_with_many_orders, users_with_expensive_orders], axis=0)\n",
    "    .drop_duplicates()\n",
    "    .sort_values()\n",
    ")\n",
    "\n",
    "print(f'Число аномальных пользователей: {abnormal_users.shape[0]}')"
   ]
  },
  {
   "cell_type": "markdown",
   "metadata": {},
   "source": [
    "Соберем очищенные выборки sample_a_filtered и sample_b_filtered без аномальных пользователей. "
   ]
  },
  {
   "cell_type": "code",
   "execution_count": 55,
   "metadata": {},
   "outputs": [],
   "source": [
    "sample_a_filtered = pd.concat(\n",
    "    [\n",
    "        orders_by_users_a[\n",
    "            np.logical_not(orders_by_users_a['userid'].isin(abnormal_users))\n",
    "        ]['orders'],\n",
    "        pd.Series(\n",
    "            0,\n",
    "            index=np.arange(\n",
    "                visitors_a_daily['visitors_per_date'].sum() - len(orders_by_users_a['orders'])\n",
    "            ),\n",
    "            name='orders',\n",
    "        ),\n",
    "    ],\n",
    "    axis=0,\n",
    ")\n",
    "\n",
    "sample_b_filtered = pd.concat(\n",
    "    [\n",
    "        orders_by_users_b[\n",
    "            np.logical_not(orders_by_users_b['userid'].isin(abnormal_users))\n",
    "        ]['orders'],\n",
    "        pd.Series(\n",
    "            0,\n",
    "            index=np.arange(\n",
    "                visitors_b_daily['visitors_per_date'].sum() - len(orders_by_users_b['orders'])\n",
    "            ),\n",
    "            name='orders',\n",
    "        ),\n",
    "    ],\n",
    "    axis=0,\n",
    ")"
   ]
  },
  {
   "cell_type": "markdown",
   "metadata": {},
   "source": [
    "H0: различий в среднем количестве заказов на посетителя между группами нет. \n",
    "\n",
    "H1: различия в среднем количестве заказов на посетителя между группами есть. \n",
    "\n",
    "Примем уровень значимости за 0.05."
   ]
  },
  {
   "cell_type": "code",
   "execution_count": 56,
   "metadata": {},
   "outputs": [
    {
     "name": "stdout",
     "output_type": "stream",
     "text": [
      "P-value: 0.016\n",
      "Относительное различие в конверсии между группами: 0.174\n"
     ]
    }
   ],
   "source": [
    "print(f'P-value: {stats.mannwhitneyu(sample_a_filtered, sample_b_filtered)[1]:.3f}')\n",
    "\n",
    "print(f'Относительное различие в конверсии между группами: {sample_b_filtered.mean() / sample_a_filtered.mean() - 1:.3f}')"
   ]
  },
  {
   "cell_type": "markdown",
   "metadata": {},
   "source": [
    "P-value меньше уровня значимости, отвергаем нулевую гипотезу в пользу альтернативной - различия в конверсии между группами есть - также как и по \"сырым\" данным. При этом относительный выигрыш группы B над группой A вырос до 17.4%."
   ]
  },
  {
   "cell_type": "markdown",
   "metadata": {},
   "source": [
    "#### Посчитаем статистическую значимость различий в среднем чеке заказа между группами по «очищенным» данным"
   ]
  },
  {
   "cell_type": "markdown",
   "metadata": {},
   "source": [
    "H0: различий в среднем чеке между группами нет. \n",
    "\n",
    "H1: различия в среднем чеке между группами есть.\n",
    "\n",
    "Примем уровень значимости за 0.05."
   ]
  },
  {
   "cell_type": "code",
   "execution_count": 57,
   "metadata": {},
   "outputs": [
    {
     "name": "stdout",
     "output_type": "stream",
     "text": [
      "P-value: 0.727\n",
      "Относительное различие в среднем чеке между группами: -0.034\n"
     ]
    }
   ],
   "source": [
    "print(\n",
    "    'P-value: {0:.3f}'.format(\n",
    "        stats.mannwhitneyu(\n",
    "            orders[\n",
    "                np.logical_and(\n",
    "                    orders['group'] == 'A',\n",
    "                    np.logical_not(orders['visitorid'].isin(abnormal_users)),\n",
    "                )\n",
    "            ]['revenue'],\n",
    "            orders[\n",
    "                np.logical_and(\n",
    "                    orders['group'] == 'B',\n",
    "                    np.logical_not(orders['visitorid'].isin(abnormal_users)),\n",
    "                )\n",
    "            ]['revenue'],\n",
    "        )[1]\n",
    "    )\n",
    ")\n",
    "\n",
    "print(\n",
    "    'Относительное различие в среднем чеке между группами: {0:.3f}'.format(\n",
    "        orders[\n",
    "            np.logical_and(\n",
    "                orders['group'] == 'B',\n",
    "                np.logical_not(orders['visitorid'].isin(abnormal_users)),\n",
    "            )\n",
    "        ]['revenue'].mean()\n",
    "        / orders[\n",
    "            np.logical_and(\n",
    "                orders['group'] == 'A',\n",
    "                np.logical_not(orders['visitorid'].isin(abnormal_users)),\n",
    "            )\n",
    "        ]['revenue'].mean()\n",
    "        - 1\n",
    "    )\n",
    ")"
   ]
  },
  {
   "cell_type": "markdown",
   "metadata": {},
   "source": [
    "После удаления аномальных значений средний чек группы В стал на 3.4% меньше среднего чека группы А. При этом наблюдаемое различие нельзя считать статистически значимым - P-value заметно больше уровня значимости. Причин отвергать нулевую гипотезу в пользу альтернативной нет - различий в среднем чеке между группами нет - также как и по \"сырым\" данным.  "
   ]
  },
  {
   "cell_type": "markdown",
   "metadata": {},
   "source": [
    "#### Решение по результатам теста "
   ]
  },
  {
   "cell_type": "markdown",
   "metadata": {},
   "source": [
    "По результатам тестирования мы обнаружили, что:\n",
    "1. Различия в среднем количестве заказов на посетителя между группами А и В статистически значимы. Конверсия группы В по очищенным данным выше на 17.4%.\n",
    "2. Статистически значимых различий в среднем чеке заказа между группами нет. Хотя \"сырые\" данные показывали, что средний чек группы В больше почти на 28.7%, очистка данных от выбросов показала, что средний чек группы В напротив меньше на 3.4%. \n",
    "\n",
    "Вывод: тест можно считать завершенным, разница в конверсии на 18.9% позволяет считать группу В победителем в данном исследовании. \n",
    "    "
   ]
  }
 ],
 "metadata": {
  "ExecuteTimeLog": [
   {
    "duration": 341,
    "start_time": "2024-05-15T06:05:15.942Z"
   },
   {
    "duration": 53,
    "start_time": "2024-05-15T06:05:59.668Z"
   },
   {
    "duration": 83,
    "start_time": "2024-05-15T06:06:11.765Z"
   },
   {
    "duration": 27,
    "start_time": "2024-05-15T06:09:54.561Z"
   },
   {
    "duration": 27,
    "start_time": "2024-05-15T06:10:21.912Z"
   },
   {
    "duration": 9,
    "start_time": "2024-05-15T06:10:36.937Z"
   },
   {
    "duration": 6,
    "start_time": "2024-05-15T06:10:53.434Z"
   },
   {
    "duration": 26,
    "start_time": "2024-05-15T06:14:28.733Z"
   },
   {
    "duration": 116,
    "start_time": "2024-05-15T06:14:29.604Z"
   },
   {
    "duration": 85,
    "start_time": "2024-05-15T06:14:30.340Z"
   },
   {
    "duration": 6,
    "start_time": "2024-05-15T06:14:31.541Z"
   },
   {
    "duration": 9,
    "start_time": "2024-05-15T06:14:32.268Z"
   },
   {
    "duration": 7,
    "start_time": "2024-05-15T06:15:09.101Z"
   },
   {
    "duration": 6,
    "start_time": "2024-05-15T06:15:13.348Z"
   },
   {
    "duration": 9,
    "start_time": "2024-05-15T06:15:29.886Z"
   },
   {
    "duration": 8,
    "start_time": "2024-05-15T06:15:56.596Z"
   },
   {
    "duration": 13,
    "start_time": "2024-05-15T06:25:59.486Z"
   },
   {
    "duration": 10,
    "start_time": "2024-05-15T06:28:11.157Z"
   },
   {
    "duration": 9,
    "start_time": "2024-05-15T06:42:43.576Z"
   },
   {
    "duration": 2,
    "start_time": "2024-05-15T07:06:53.740Z"
   },
   {
    "duration": 10,
    "start_time": "2024-05-15T07:12:38.195Z"
   },
   {
    "duration": 7,
    "start_time": "2024-05-15T07:12:45.091Z"
   },
   {
    "duration": 9,
    "start_time": "2024-05-15T07:12:48.110Z"
   },
   {
    "duration": 3,
    "start_time": "2024-05-15T07:13:53.256Z"
   },
   {
    "duration": 7,
    "start_time": "2024-05-15T07:13:56.208Z"
   },
   {
    "duration": 9,
    "start_time": "2024-05-15T07:13:57.607Z"
   },
   {
    "duration": 4,
    "start_time": "2024-05-15T07:18:42.378Z"
   },
   {
    "duration": 5,
    "start_time": "2024-05-15T07:19:13.916Z"
   },
   {
    "duration": 5,
    "start_time": "2024-05-15T07:19:15.303Z"
   },
   {
    "duration": 5,
    "start_time": "2024-05-15T07:22:44.597Z"
   },
   {
    "duration": 52,
    "start_time": "2024-05-15T07:31:50.257Z"
   },
   {
    "duration": 2,
    "start_time": "2024-05-15T07:43:58.166Z"
   },
   {
    "duration": 7,
    "start_time": "2024-05-15T07:44:10.762Z"
   },
   {
    "duration": 2,
    "start_time": "2024-05-15T07:44:54.638Z"
   },
   {
    "duration": 8,
    "start_time": "2024-05-15T07:45:42.247Z"
   },
   {
    "duration": 9,
    "start_time": "2024-05-15T07:46:23.219Z"
   },
   {
    "duration": 4,
    "start_time": "2024-05-15T08:00:03.309Z"
   },
   {
    "duration": 11,
    "start_time": "2024-05-15T08:02:58.141Z"
   },
   {
    "duration": 5,
    "start_time": "2024-05-15T08:03:13.289Z"
   },
   {
    "duration": 61,
    "start_time": "2024-05-15T08:04:06.720Z"
   },
   {
    "duration": 2,
    "start_time": "2024-05-15T08:04:35.403Z"
   },
   {
    "duration": 16,
    "start_time": "2024-05-15T08:04:42.980Z"
   },
   {
    "duration": 146,
    "start_time": "2024-05-15T08:05:20.099Z"
   },
   {
    "duration": 96,
    "start_time": "2024-05-15T08:14:22.642Z"
   },
   {
    "duration": 95,
    "start_time": "2024-05-15T08:14:36.826Z"
   },
   {
    "duration": 5,
    "start_time": "2024-05-15T08:26:16.867Z"
   },
   {
    "duration": 13,
    "start_time": "2024-05-15T08:26:28.433Z"
   },
   {
    "duration": 351,
    "start_time": "2024-05-15T08:28:03.416Z"
   },
   {
    "duration": 216,
    "start_time": "2024-05-15T08:32:51.980Z"
   },
   {
    "duration": 21,
    "start_time": "2024-05-15T08:35:11.073Z"
   },
   {
    "duration": 11,
    "start_time": "2024-05-15T08:35:38.451Z"
   },
   {
    "duration": 11,
    "start_time": "2024-05-15T08:36:31.833Z"
   },
   {
    "duration": 12,
    "start_time": "2024-05-15T08:36:59.065Z"
   },
   {
    "duration": 208,
    "start_time": "2024-05-15T08:37:16.386Z"
   },
   {
    "duration": 170,
    "start_time": "2024-05-15T08:37:32.337Z"
   },
   {
    "duration": 169,
    "start_time": "2024-05-15T08:41:10.821Z"
   },
   {
    "duration": 168,
    "start_time": "2024-05-15T08:51:09.287Z"
   },
   {
    "duration": 171,
    "start_time": "2024-05-15T08:53:36.451Z"
   },
   {
    "duration": 78,
    "start_time": "2024-05-15T09:02:00.610Z"
   },
   {
    "duration": 266,
    "start_time": "2024-05-15T09:02:15.346Z"
   },
   {
    "duration": 251,
    "start_time": "2024-05-15T09:02:23.466Z"
   },
   {
    "duration": 242,
    "start_time": "2024-05-15T09:02:43.242Z"
   },
   {
    "duration": 177,
    "start_time": "2024-05-15T09:09:45.659Z"
   },
   {
    "duration": 182,
    "start_time": "2024-05-15T09:12:25.096Z"
   },
   {
    "duration": 185,
    "start_time": "2024-05-15T09:13:05.240Z"
   },
   {
    "duration": 256,
    "start_time": "2024-05-15T09:33:24.381Z"
   },
   {
    "duration": 219,
    "start_time": "2024-05-15T09:33:59.484Z"
   },
   {
    "duration": 205,
    "start_time": "2024-05-15T09:34:39.916Z"
   },
   {
    "duration": 264,
    "start_time": "2024-05-15T09:42:57.620Z"
   },
   {
    "duration": 305,
    "start_time": "2024-05-15T09:43:20.990Z"
   },
   {
    "duration": 334,
    "start_time": "2024-05-15T09:45:05.902Z"
   },
   {
    "duration": 300,
    "start_time": "2024-05-15T09:45:21.730Z"
   },
   {
    "duration": 278,
    "start_time": "2024-05-15T09:45:55.810Z"
   },
   {
    "duration": 90,
    "start_time": "2024-05-15T09:57:37.777Z"
   },
   {
    "duration": 98,
    "start_time": "2024-05-15T09:58:07.323Z"
   },
   {
    "duration": 111,
    "start_time": "2024-05-15T10:02:25.451Z"
   },
   {
    "duration": 161,
    "start_time": "2024-05-15T10:03:32.450Z"
   },
   {
    "duration": 116,
    "start_time": "2024-05-15T10:27:32.496Z"
   },
   {
    "duration": 4,
    "start_time": "2024-05-15T10:35:03.238Z"
   },
   {
    "duration": 3,
    "start_time": "2024-05-15T10:35:50.710Z"
   },
   {
    "duration": 3,
    "start_time": "2024-05-15T10:36:14.897Z"
   },
   {
    "duration": 3,
    "start_time": "2024-05-15T10:36:34.178Z"
   },
   {
    "duration": 3,
    "start_time": "2024-05-15T10:36:52.464Z"
   },
   {
    "duration": 4,
    "start_time": "2024-05-15T10:40:26.019Z"
   },
   {
    "duration": 119,
    "start_time": "2024-05-15T10:48:01.031Z"
   },
   {
    "duration": 124,
    "start_time": "2024-05-15T10:51:44.665Z"
   },
   {
    "duration": 122,
    "start_time": "2024-05-15T10:51:50.644Z"
   },
   {
    "duration": 122,
    "start_time": "2024-05-15T10:52:25.626Z"
   },
   {
    "duration": 108,
    "start_time": "2024-05-15T10:55:49.583Z"
   },
   {
    "duration": 135,
    "start_time": "2024-05-15T10:55:59.703Z"
   },
   {
    "duration": 128,
    "start_time": "2024-05-15T10:56:24.872Z"
   },
   {
    "duration": 129,
    "start_time": "2024-05-15T10:56:54.261Z"
   },
   {
    "duration": 129,
    "start_time": "2024-05-15T10:58:36.156Z"
   },
   {
    "duration": 3,
    "start_time": "2024-05-15T11:00:35.481Z"
   },
   {
    "duration": 3,
    "start_time": "2024-05-15T11:02:54.753Z"
   },
   {
    "duration": 4,
    "start_time": "2024-05-15T11:03:30.152Z"
   },
   {
    "duration": 5,
    "start_time": "2024-05-15T11:08:50.279Z"
   },
   {
    "duration": 3,
    "start_time": "2024-05-15T11:31:33.457Z"
   },
   {
    "duration": 297,
    "start_time": "2024-05-15T13:00:09.874Z"
   },
   {
    "duration": 189,
    "start_time": "2024-05-15T13:00:39.428Z"
   },
   {
    "duration": 183,
    "start_time": "2024-05-15T13:10:41.434Z"
   },
   {
    "duration": 41,
    "start_time": "2024-05-15T13:21:11.291Z"
   },
   {
    "duration": 10,
    "start_time": "2024-05-15T17:00:10.854Z"
   },
   {
    "duration": 137,
    "start_time": "2024-05-15T17:24:10.960Z"
   },
   {
    "duration": 13,
    "start_time": "2024-05-15T17:27:17.831Z"
   },
   {
    "duration": 356,
    "start_time": "2024-05-15T17:27:56.511Z"
   },
   {
    "duration": 23,
    "start_time": "2024-05-15T17:28:07.205Z"
   },
   {
    "duration": 35,
    "start_time": "2024-05-15T17:33:08.885Z"
   },
   {
    "duration": 68,
    "start_time": "2024-05-15T17:39:16.137Z"
   },
   {
    "duration": 55,
    "start_time": "2024-05-15T17:41:13.825Z"
   },
   {
    "duration": 7,
    "start_time": "2024-05-15T17:41:28.331Z"
   },
   {
    "duration": 922,
    "start_time": "2024-05-15T17:52:36.800Z"
   },
   {
    "duration": 9,
    "start_time": "2024-05-15T17:54:18.003Z"
   },
   {
    "duration": 7,
    "start_time": "2024-05-15T17:55:48.274Z"
   },
   {
    "duration": 6,
    "start_time": "2024-05-15T17:56:04.885Z"
   },
   {
    "duration": 7,
    "start_time": "2024-05-15T17:56:54.386Z"
   },
   {
    "duration": 7,
    "start_time": "2024-05-15T17:57:21.322Z"
   },
   {
    "duration": 7,
    "start_time": "2024-05-15T17:58:24.250Z"
   },
   {
    "duration": 10,
    "start_time": "2024-05-15T18:02:01.657Z"
   },
   {
    "duration": 7,
    "start_time": "2024-05-15T18:02:04.059Z"
   },
   {
    "duration": 18,
    "start_time": "2024-05-15T18:03:37.557Z"
   },
   {
    "duration": 57,
    "start_time": "2024-05-15T18:15:19.173Z"
   },
   {
    "duration": 133,
    "start_time": "2024-05-15T18:16:46.059Z"
   },
   {
    "duration": 57,
    "start_time": "2024-05-15T18:17:18.334Z"
   },
   {
    "duration": 91,
    "start_time": "2024-05-15T18:17:33.855Z"
   },
   {
    "duration": 64,
    "start_time": "2024-05-15T18:17:50.312Z"
   },
   {
    "duration": 58,
    "start_time": "2024-05-15T18:18:10.355Z"
   },
   {
    "duration": 66,
    "start_time": "2024-05-15T18:19:33.912Z"
   },
   {
    "duration": 52,
    "start_time": "2024-05-15T18:19:42.232Z"
   },
   {
    "duration": 57,
    "start_time": "2024-05-15T18:19:46.752Z"
   },
   {
    "duration": 54,
    "start_time": "2024-05-15T18:19:50.632Z"
   },
   {
    "duration": 55,
    "start_time": "2024-05-15T18:19:55.160Z"
   },
   {
    "duration": 55,
    "start_time": "2024-05-15T18:19:59.320Z"
   },
   {
    "duration": 55,
    "start_time": "2024-05-15T18:20:04.193Z"
   },
   {
    "duration": 61,
    "start_time": "2024-05-15T18:21:18.753Z"
   },
   {
    "duration": 55,
    "start_time": "2024-05-15T18:22:01.105Z"
   },
   {
    "duration": 74,
    "start_time": "2024-05-15T18:26:53.227Z"
   },
   {
    "duration": 9,
    "start_time": "2024-05-15T18:27:12.779Z"
   },
   {
    "duration": 59,
    "start_time": "2024-05-15T18:27:24.962Z"
   },
   {
    "duration": 62,
    "start_time": "2024-05-15T18:27:30.426Z"
   },
   {
    "duration": 58,
    "start_time": "2024-05-15T18:27:36.858Z"
   },
   {
    "duration": 75,
    "start_time": "2024-05-15T18:27:40.530Z"
   },
   {
    "duration": 75,
    "start_time": "2024-05-15T18:27:43.786Z"
   },
   {
    "duration": 55,
    "start_time": "2024-05-15T18:27:46.002Z"
   },
   {
    "duration": 57,
    "start_time": "2024-05-15T18:27:48.754Z"
   },
   {
    "duration": 55,
    "start_time": "2024-05-15T18:27:51.050Z"
   },
   {
    "duration": 57,
    "start_time": "2024-05-15T18:27:53.682Z"
   },
   {
    "duration": 62,
    "start_time": "2024-05-15T18:27:57.875Z"
   },
   {
    "duration": 54,
    "start_time": "2024-05-15T18:28:02.002Z"
   },
   {
    "duration": 62,
    "start_time": "2024-05-15T18:28:03.994Z"
   },
   {
    "duration": 222,
    "start_time": "2024-05-15T18:28:06.379Z"
   },
   {
    "duration": 57,
    "start_time": "2024-05-15T18:28:08.907Z"
   },
   {
    "duration": 78,
    "start_time": "2024-05-15T18:28:11.378Z"
   },
   {
    "duration": 58,
    "start_time": "2024-05-15T18:28:13.794Z"
   },
   {
    "duration": 54,
    "start_time": "2024-05-15T18:28:16.677Z"
   },
   {
    "duration": 55,
    "start_time": "2024-05-15T18:28:18.835Z"
   },
   {
    "duration": 55,
    "start_time": "2024-05-15T18:28:21.107Z"
   },
   {
    "duration": 10,
    "start_time": "2024-05-15T18:29:46.004Z"
   },
   {
    "duration": 8,
    "start_time": "2024-05-15T18:37:24.614Z"
   },
   {
    "duration": 7,
    "start_time": "2024-05-15T18:37:30.437Z"
   },
   {
    "duration": 18,
    "start_time": "2024-05-15T18:37:31.428Z"
   },
   {
    "duration": 11,
    "start_time": "2024-05-15T18:37:36.885Z"
   },
   {
    "duration": 11,
    "start_time": "2024-05-15T18:38:19.213Z"
   },
   {
    "duration": 10,
    "start_time": "2024-05-15T18:38:27.480Z"
   },
   {
    "duration": 10,
    "start_time": "2024-05-15T18:38:42.094Z"
   },
   {
    "duration": 10,
    "start_time": "2024-05-16T06:40:00.782Z"
   },
   {
    "duration": 11,
    "start_time": "2024-05-16T06:41:08.340Z"
   },
   {
    "duration": 8,
    "start_time": "2024-05-16T06:41:22.337Z"
   },
   {
    "duration": 9,
    "start_time": "2024-05-16T06:41:25.528Z"
   },
   {
    "duration": 9,
    "start_time": "2024-05-16T06:42:21.000Z"
   },
   {
    "duration": 9,
    "start_time": "2024-05-16T06:43:22.717Z"
   },
   {
    "duration": 4,
    "start_time": "2024-05-16T06:47:02.441Z"
   },
   {
    "duration": 3,
    "start_time": "2024-05-16T06:47:51.297Z"
   },
   {
    "duration": 282,
    "start_time": "2024-05-16T07:23:12.570Z"
   },
   {
    "duration": 59,
    "start_time": "2024-05-16T07:23:41.764Z"
   },
   {
    "duration": 283,
    "start_time": "2024-05-16T07:23:51.203Z"
   },
   {
    "duration": 12,
    "start_time": "2024-05-16T07:37:32.042Z"
   },
   {
    "duration": 134,
    "start_time": "2024-05-16T07:37:54.721Z"
   },
   {
    "duration": 228,
    "start_time": "2024-05-16T07:38:07.608Z"
   },
   {
    "duration": 186,
    "start_time": "2024-05-16T07:39:02.495Z"
   },
   {
    "duration": 303,
    "start_time": "2024-05-16T07:39:14.582Z"
   },
   {
    "duration": 184,
    "start_time": "2024-05-16T07:39:26.599Z"
   },
   {
    "duration": 312,
    "start_time": "2024-05-16T07:52:32.089Z"
   },
   {
    "duration": 8,
    "start_time": "2024-05-16T07:53:55.602Z"
   },
   {
    "duration": 5,
    "start_time": "2024-05-16T07:54:08.777Z"
   },
   {
    "duration": 141,
    "start_time": "2024-05-16T07:54:28.537Z"
   },
   {
    "duration": 98,
    "start_time": "2024-05-16T07:54:32.204Z"
   },
   {
    "duration": 13,
    "start_time": "2024-05-16T07:54:54.869Z"
   },
   {
    "duration": 178,
    "start_time": "2024-05-16T07:56:05.212Z"
   },
   {
    "duration": 174,
    "start_time": "2024-05-16T07:56:45.219Z"
   },
   {
    "duration": 1002,
    "start_time": "2024-05-16T07:57:39.739Z"
   },
   {
    "duration": 290,
    "start_time": "2024-05-16T07:58:44.185Z"
   },
   {
    "duration": 255,
    "start_time": "2024-05-16T07:59:03.227Z"
   },
   {
    "duration": 188,
    "start_time": "2024-05-16T08:01:40.382Z"
   },
   {
    "duration": 338,
    "start_time": "2024-05-16T08:02:59.964Z"
   },
   {
    "duration": 110,
    "start_time": "2024-05-16T08:04:17.755Z"
   },
   {
    "duration": 302,
    "start_time": "2024-05-16T08:05:15.498Z"
   },
   {
    "duration": 111,
    "start_time": "2024-05-16T08:05:59.866Z"
   },
   {
    "duration": 273,
    "start_time": "2024-05-16T08:07:20.161Z"
   },
   {
    "duration": 275,
    "start_time": "2024-05-16T08:13:38.867Z"
   },
   {
    "duration": 325,
    "start_time": "2024-05-16T08:22:52.379Z"
   },
   {
    "duration": 108,
    "start_time": "2024-05-16T08:23:04.730Z"
   },
   {
    "duration": 136,
    "start_time": "2024-05-16T08:29:49.707Z"
   },
   {
    "duration": 127,
    "start_time": "2024-05-16T08:38:47.363Z"
   },
   {
    "duration": 859,
    "start_time": "2024-05-16T08:43:18.480Z"
   },
   {
    "duration": 128,
    "start_time": "2024-05-16T08:45:02.374Z"
   },
   {
    "duration": 33,
    "start_time": "2024-05-16T08:45:07.655Z"
   },
   {
    "duration": 56,
    "start_time": "2024-05-16T08:55:57.109Z"
   },
   {
    "duration": 8,
    "start_time": "2024-05-16T08:56:11.133Z"
   },
   {
    "duration": 7,
    "start_time": "2024-05-16T08:56:17.092Z"
   },
   {
    "duration": 8,
    "start_time": "2024-05-16T08:59:08.759Z"
   },
   {
    "duration": 7,
    "start_time": "2024-05-16T09:01:10.618Z"
   },
   {
    "duration": 18,
    "start_time": "2024-05-16T09:01:48.825Z"
   },
   {
    "duration": 8,
    "start_time": "2024-05-16T09:04:01.180Z"
   },
   {
    "duration": 7,
    "start_time": "2024-05-16T09:04:23.870Z"
   },
   {
    "duration": 18,
    "start_time": "2024-05-16T09:04:26.277Z"
   },
   {
    "duration": 10,
    "start_time": "2024-05-16T09:04:47.974Z"
   },
   {
    "duration": 9,
    "start_time": "2024-05-16T10:18:55.319Z"
   },
   {
    "duration": 8,
    "start_time": "2024-05-16T10:19:15.974Z"
   },
   {
    "duration": 9,
    "start_time": "2024-05-16T10:21:46.269Z"
   },
   {
    "duration": 9,
    "start_time": "2024-05-16T10:21:58.780Z"
   },
   {
    "duration": 33,
    "start_time": "2024-05-16T10:25:28.879Z"
   },
   {
    "duration": 8,
    "start_time": "2024-05-16T10:26:48.814Z"
   },
   {
    "duration": 21,
    "start_time": "2024-05-16T10:27:07.990Z"
   },
   {
    "duration": 18,
    "start_time": "2024-05-16T10:49:43.340Z"
   },
   {
    "duration": 18,
    "start_time": "2024-05-16T10:49:56.396Z"
   },
   {
    "duration": 12,
    "start_time": "2024-05-16T10:54:07.136Z"
   },
   {
    "duration": 11,
    "start_time": "2024-05-16T10:54:34.281Z"
   },
   {
    "duration": 12,
    "start_time": "2024-05-16T10:55:01.290Z"
   },
   {
    "duration": 10,
    "start_time": "2024-05-16T10:56:56.050Z"
   },
   {
    "duration": 980,
    "start_time": "2024-05-16T11:18:45.113Z"
   },
   {
    "duration": 26,
    "start_time": "2024-05-16T11:18:46.101Z"
   },
   {
    "duration": 36,
    "start_time": "2024-05-16T11:18:46.129Z"
   },
   {
    "duration": 16,
    "start_time": "2024-05-16T11:18:46.166Z"
   },
   {
    "duration": 9,
    "start_time": "2024-05-16T11:18:46.183Z"
   },
   {
    "duration": 8,
    "start_time": "2024-05-16T11:18:46.193Z"
   },
   {
    "duration": 11,
    "start_time": "2024-05-16T11:18:46.202Z"
   },
   {
    "duration": 14,
    "start_time": "2024-05-16T11:18:46.214Z"
   },
   {
    "duration": 15,
    "start_time": "2024-05-16T11:18:46.229Z"
   },
   {
    "duration": 12,
    "start_time": "2024-05-16T11:18:46.245Z"
   },
   {
    "duration": 8,
    "start_time": "2024-05-16T11:18:46.258Z"
   },
   {
    "duration": 17,
    "start_time": "2024-05-16T11:18:46.268Z"
   },
   {
    "duration": 23,
    "start_time": "2024-05-16T11:18:46.287Z"
   },
   {
    "duration": 21,
    "start_time": "2024-05-16T11:18:46.313Z"
   },
   {
    "duration": 26,
    "start_time": "2024-05-16T11:18:46.335Z"
   },
   {
    "duration": 8,
    "start_time": "2024-05-16T11:18:46.363Z"
   },
   {
    "duration": 9,
    "start_time": "2024-05-16T11:18:46.372Z"
   },
   {
    "duration": 11,
    "start_time": "2024-05-16T11:18:46.382Z"
   },
   {
    "duration": 35,
    "start_time": "2024-05-16T11:18:46.394Z"
   },
   {
    "duration": 12,
    "start_time": "2024-05-16T11:18:46.431Z"
   },
   {
    "duration": 11,
    "start_time": "2024-05-16T11:18:46.444Z"
   },
   {
    "duration": 8,
    "start_time": "2024-05-16T11:18:46.456Z"
   },
   {
    "duration": 6,
    "start_time": "2024-05-16T11:18:46.465Z"
   },
   {
    "duration": 23,
    "start_time": "2024-05-16T11:18:46.472Z"
   },
   {
    "duration": 11,
    "start_time": "2024-05-16T11:18:46.496Z"
   },
   {
    "duration": 27,
    "start_time": "2024-05-16T11:18:46.508Z"
   },
   {
    "duration": 6,
    "start_time": "2024-05-16T11:18:46.536Z"
   },
   {
    "duration": 143,
    "start_time": "2024-05-16T11:18:46.544Z"
   },
   {
    "duration": 100,
    "start_time": "2024-05-16T11:18:46.688Z"
   },
   {
    "duration": 91,
    "start_time": "2024-05-16T11:18:46.789Z"
   },
   {
    "duration": 0,
    "start_time": "2024-05-16T11:18:46.882Z"
   },
   {
    "duration": 0,
    "start_time": "2024-05-16T11:18:46.883Z"
   },
   {
    "duration": 0,
    "start_time": "2024-05-16T11:18:46.883Z"
   },
   {
    "duration": 0,
    "start_time": "2024-05-16T11:18:46.884Z"
   },
   {
    "duration": 0,
    "start_time": "2024-05-16T11:18:46.885Z"
   },
   {
    "duration": 0,
    "start_time": "2024-05-16T11:18:46.886Z"
   },
   {
    "duration": 0,
    "start_time": "2024-05-16T11:18:46.887Z"
   },
   {
    "duration": 0,
    "start_time": "2024-05-16T11:18:46.902Z"
   },
   {
    "duration": 0,
    "start_time": "2024-05-16T11:18:46.903Z"
   },
   {
    "duration": 0,
    "start_time": "2024-05-16T11:18:46.904Z"
   },
   {
    "duration": 0,
    "start_time": "2024-05-16T11:18:46.905Z"
   },
   {
    "duration": 0,
    "start_time": "2024-05-16T11:18:46.906Z"
   },
   {
    "duration": 0,
    "start_time": "2024-05-16T11:18:46.907Z"
   },
   {
    "duration": 0,
    "start_time": "2024-05-16T11:18:46.910Z"
   },
   {
    "duration": 0,
    "start_time": "2024-05-16T11:18:46.911Z"
   },
   {
    "duration": 0,
    "start_time": "2024-05-16T11:18:46.913Z"
   },
   {
    "duration": 1,
    "start_time": "2024-05-16T11:18:46.913Z"
   },
   {
    "duration": 0,
    "start_time": "2024-05-16T11:18:46.914Z"
   },
   {
    "duration": 0,
    "start_time": "2024-05-16T11:18:46.915Z"
   },
   {
    "duration": 0,
    "start_time": "2024-05-16T11:18:46.916Z"
   },
   {
    "duration": 0,
    "start_time": "2024-05-16T11:18:46.917Z"
   },
   {
    "duration": 0,
    "start_time": "2024-05-16T11:18:46.918Z"
   },
   {
    "duration": 13,
    "start_time": "2024-05-16T11:19:43.245Z"
   },
   {
    "duration": 997,
    "start_time": "2024-05-16T11:19:59.424Z"
   },
   {
    "duration": 27,
    "start_time": "2024-05-16T11:20:00.423Z"
   },
   {
    "duration": 101,
    "start_time": "2024-05-16T11:20:00.451Z"
   },
   {
    "duration": 19,
    "start_time": "2024-05-16T11:20:00.554Z"
   },
   {
    "duration": 33,
    "start_time": "2024-05-16T11:20:00.574Z"
   },
   {
    "duration": 50,
    "start_time": "2024-05-16T11:20:00.608Z"
   },
   {
    "duration": 61,
    "start_time": "2024-05-16T11:20:00.660Z"
   },
   {
    "duration": 103,
    "start_time": "2024-05-16T11:20:00.723Z"
   },
   {
    "duration": 99,
    "start_time": "2024-05-16T11:20:00.828Z"
   },
   {
    "duration": 107,
    "start_time": "2024-05-16T11:20:00.929Z"
   },
   {
    "duration": 47,
    "start_time": "2024-05-16T11:20:01.037Z"
   },
   {
    "duration": 54,
    "start_time": "2024-05-16T11:20:01.085Z"
   },
   {
    "duration": 57,
    "start_time": "2024-05-16T11:20:01.140Z"
   },
   {
    "duration": 55,
    "start_time": "2024-05-16T11:20:01.198Z"
   },
   {
    "duration": 38,
    "start_time": "2024-05-16T11:20:01.254Z"
   },
   {
    "duration": 33,
    "start_time": "2024-05-16T11:20:01.293Z"
   },
   {
    "duration": 38,
    "start_time": "2024-05-16T11:20:01.327Z"
   },
   {
    "duration": 29,
    "start_time": "2024-05-16T11:20:01.366Z"
   },
   {
    "duration": 41,
    "start_time": "2024-05-16T11:20:01.396Z"
   },
   {
    "duration": 33,
    "start_time": "2024-05-16T11:20:01.439Z"
   },
   {
    "duration": 36,
    "start_time": "2024-05-16T11:20:01.473Z"
   },
   {
    "duration": 24,
    "start_time": "2024-05-16T11:20:01.510Z"
   },
   {
    "duration": 39,
    "start_time": "2024-05-16T11:20:01.535Z"
   },
   {
    "duration": 54,
    "start_time": "2024-05-16T11:20:01.575Z"
   },
   {
    "duration": 48,
    "start_time": "2024-05-16T11:20:01.630Z"
   },
   {
    "duration": 43,
    "start_time": "2024-05-16T11:20:01.679Z"
   },
   {
    "duration": 76,
    "start_time": "2024-05-16T11:20:01.723Z"
   },
   {
    "duration": 167,
    "start_time": "2024-05-16T11:20:01.804Z"
   },
   {
    "duration": 117,
    "start_time": "2024-05-16T11:20:01.972Z"
   },
   {
    "duration": 21,
    "start_time": "2024-05-16T11:20:02.091Z"
   },
   {
    "duration": 123,
    "start_time": "2024-05-16T11:20:02.113Z"
   },
   {
    "duration": 0,
    "start_time": "2024-05-16T11:20:02.238Z"
   },
   {
    "duration": 0,
    "start_time": "2024-05-16T11:20:02.239Z"
   },
   {
    "duration": 0,
    "start_time": "2024-05-16T11:20:02.240Z"
   },
   {
    "duration": 0,
    "start_time": "2024-05-16T11:20:02.241Z"
   },
   {
    "duration": 0,
    "start_time": "2024-05-16T11:20:02.242Z"
   },
   {
    "duration": 0,
    "start_time": "2024-05-16T11:20:02.242Z"
   },
   {
    "duration": 0,
    "start_time": "2024-05-16T11:20:02.243Z"
   },
   {
    "duration": 0,
    "start_time": "2024-05-16T11:20:02.244Z"
   },
   {
    "duration": 0,
    "start_time": "2024-05-16T11:20:02.245Z"
   },
   {
    "duration": 0,
    "start_time": "2024-05-16T11:20:02.246Z"
   },
   {
    "duration": 0,
    "start_time": "2024-05-16T11:20:02.247Z"
   },
   {
    "duration": 0,
    "start_time": "2024-05-16T11:20:02.248Z"
   },
   {
    "duration": 0,
    "start_time": "2024-05-16T11:20:02.249Z"
   },
   {
    "duration": 0,
    "start_time": "2024-05-16T11:20:02.249Z"
   },
   {
    "duration": 0,
    "start_time": "2024-05-16T11:20:02.250Z"
   },
   {
    "duration": 0,
    "start_time": "2024-05-16T11:20:02.251Z"
   },
   {
    "duration": 0,
    "start_time": "2024-05-16T11:20:02.252Z"
   },
   {
    "duration": 0,
    "start_time": "2024-05-16T11:20:02.254Z"
   },
   {
    "duration": 0,
    "start_time": "2024-05-16T11:20:02.255Z"
   },
   {
    "duration": 0,
    "start_time": "2024-05-16T11:20:02.256Z"
   },
   {
    "duration": 0,
    "start_time": "2024-05-16T11:20:02.257Z"
   },
   {
    "duration": 232,
    "start_time": "2024-05-16T11:20:43.380Z"
   },
   {
    "duration": 991,
    "start_time": "2024-05-16T11:20:52.415Z"
   },
   {
    "duration": 27,
    "start_time": "2024-05-16T11:20:53.408Z"
   },
   {
    "duration": 42,
    "start_time": "2024-05-16T11:20:53.436Z"
   },
   {
    "duration": 14,
    "start_time": "2024-05-16T11:20:53.480Z"
   },
   {
    "duration": 11,
    "start_time": "2024-05-16T11:20:53.495Z"
   },
   {
    "duration": 31,
    "start_time": "2024-05-16T11:20:53.508Z"
   },
   {
    "duration": 18,
    "start_time": "2024-05-16T11:20:53.540Z"
   },
   {
    "duration": 25,
    "start_time": "2024-05-16T11:20:53.559Z"
   },
   {
    "duration": 40,
    "start_time": "2024-05-16T11:20:53.585Z"
   },
   {
    "duration": 14,
    "start_time": "2024-05-16T11:20:53.627Z"
   },
   {
    "duration": 23,
    "start_time": "2024-05-16T11:20:53.642Z"
   },
   {
    "duration": 14,
    "start_time": "2024-05-16T11:20:53.667Z"
   },
   {
    "duration": 27,
    "start_time": "2024-05-16T11:20:53.682Z"
   },
   {
    "duration": 39,
    "start_time": "2024-05-16T11:20:53.710Z"
   },
   {
    "duration": 29,
    "start_time": "2024-05-16T11:20:53.750Z"
   },
   {
    "duration": 14,
    "start_time": "2024-05-16T11:20:53.781Z"
   },
   {
    "duration": 21,
    "start_time": "2024-05-16T11:20:53.797Z"
   },
   {
    "duration": 19,
    "start_time": "2024-05-16T11:20:53.819Z"
   },
   {
    "duration": 17,
    "start_time": "2024-05-16T11:20:53.839Z"
   },
   {
    "duration": 28,
    "start_time": "2024-05-16T11:20:53.857Z"
   },
   {
    "duration": 30,
    "start_time": "2024-05-16T11:20:53.886Z"
   },
   {
    "duration": 27,
    "start_time": "2024-05-16T11:20:53.917Z"
   },
   {
    "duration": 37,
    "start_time": "2024-05-16T11:20:53.945Z"
   },
   {
    "duration": 32,
    "start_time": "2024-05-16T11:20:53.984Z"
   },
   {
    "duration": 27,
    "start_time": "2024-05-16T11:20:54.017Z"
   },
   {
    "duration": 25,
    "start_time": "2024-05-16T11:20:54.046Z"
   },
   {
    "duration": 39,
    "start_time": "2024-05-16T11:20:54.073Z"
   },
   {
    "duration": 152,
    "start_time": "2024-05-16T11:20:54.115Z"
   },
   {
    "duration": 116,
    "start_time": "2024-05-16T11:20:54.269Z"
   },
   {
    "duration": 24,
    "start_time": "2024-05-16T11:20:54.387Z"
   },
   {
    "duration": 262,
    "start_time": "2024-05-16T11:20:54.413Z"
   },
   {
    "duration": 8,
    "start_time": "2024-05-16T11:20:54.677Z"
   },
   {
    "duration": 188,
    "start_time": "2024-05-16T11:20:54.686Z"
   },
   {
    "duration": 292,
    "start_time": "2024-05-16T11:20:54.875Z"
   },
   {
    "duration": 197,
    "start_time": "2024-05-16T11:20:55.168Z"
   },
   {
    "duration": 280,
    "start_time": "2024-05-16T11:20:55.366Z"
   },
   {
    "duration": 114,
    "start_time": "2024-05-16T11:20:55.647Z"
   },
   {
    "duration": 85,
    "start_time": "2024-05-16T11:20:55.763Z"
   },
   {
    "duration": 0,
    "start_time": "2024-05-16T11:20:55.849Z"
   },
   {
    "duration": 0,
    "start_time": "2024-05-16T11:20:55.850Z"
   },
   {
    "duration": 0,
    "start_time": "2024-05-16T11:20:55.851Z"
   },
   {
    "duration": 0,
    "start_time": "2024-05-16T11:20:55.852Z"
   },
   {
    "duration": 0,
    "start_time": "2024-05-16T11:20:55.853Z"
   },
   {
    "duration": 0,
    "start_time": "2024-05-16T11:20:55.854Z"
   },
   {
    "duration": 0,
    "start_time": "2024-05-16T11:20:55.855Z"
   },
   {
    "duration": 0,
    "start_time": "2024-05-16T11:20:55.856Z"
   },
   {
    "duration": 0,
    "start_time": "2024-05-16T11:20:55.857Z"
   },
   {
    "duration": 0,
    "start_time": "2024-05-16T11:20:55.857Z"
   },
   {
    "duration": 0,
    "start_time": "2024-05-16T11:20:55.858Z"
   },
   {
    "duration": 0,
    "start_time": "2024-05-16T11:20:55.859Z"
   },
   {
    "duration": 0,
    "start_time": "2024-05-16T11:20:55.860Z"
   },
   {
    "duration": 0,
    "start_time": "2024-05-16T11:20:55.860Z"
   },
   {
    "duration": 1001,
    "start_time": "2024-05-16T11:21:41.481Z"
   },
   {
    "duration": 27,
    "start_time": "2024-05-16T11:21:42.484Z"
   },
   {
    "duration": 37,
    "start_time": "2024-05-16T11:21:42.512Z"
   },
   {
    "duration": 15,
    "start_time": "2024-05-16T11:21:42.550Z"
   },
   {
    "duration": 10,
    "start_time": "2024-05-16T11:21:42.566Z"
   },
   {
    "duration": 19,
    "start_time": "2024-05-16T11:21:42.577Z"
   },
   {
    "duration": 26,
    "start_time": "2024-05-16T11:21:42.597Z"
   },
   {
    "duration": 21,
    "start_time": "2024-05-16T11:21:42.625Z"
   },
   {
    "duration": 9,
    "start_time": "2024-05-16T11:21:42.648Z"
   },
   {
    "duration": 18,
    "start_time": "2024-05-16T11:21:42.658Z"
   },
   {
    "duration": 4,
    "start_time": "2024-05-16T11:21:42.677Z"
   },
   {
    "duration": 19,
    "start_time": "2024-05-16T11:21:42.683Z"
   },
   {
    "duration": 4,
    "start_time": "2024-05-16T11:21:42.704Z"
   },
   {
    "duration": 12,
    "start_time": "2024-05-16T11:21:42.710Z"
   },
   {
    "duration": 5,
    "start_time": "2024-05-16T11:21:42.723Z"
   },
   {
    "duration": 6,
    "start_time": "2024-05-16T11:21:42.729Z"
   },
   {
    "duration": 8,
    "start_time": "2024-05-16T11:21:42.736Z"
   },
   {
    "duration": 4,
    "start_time": "2024-05-16T11:21:42.746Z"
   },
   {
    "duration": 7,
    "start_time": "2024-05-16T11:21:42.751Z"
   },
   {
    "duration": 10,
    "start_time": "2024-05-16T11:21:42.759Z"
   },
   {
    "duration": 8,
    "start_time": "2024-05-16T11:21:42.770Z"
   },
   {
    "duration": 28,
    "start_time": "2024-05-16T11:21:42.780Z"
   },
   {
    "duration": 6,
    "start_time": "2024-05-16T11:21:42.809Z"
   },
   {
    "duration": 12,
    "start_time": "2024-05-16T11:21:42.817Z"
   },
   {
    "duration": 17,
    "start_time": "2024-05-16T11:21:42.831Z"
   },
   {
    "duration": 9,
    "start_time": "2024-05-16T11:21:42.849Z"
   },
   {
    "duration": 9,
    "start_time": "2024-05-16T11:21:42.860Z"
   },
   {
    "duration": 153,
    "start_time": "2024-05-16T11:21:42.870Z"
   },
   {
    "duration": 101,
    "start_time": "2024-05-16T11:21:43.024Z"
   },
   {
    "duration": 12,
    "start_time": "2024-05-16T11:21:43.126Z"
   },
   {
    "duration": 250,
    "start_time": "2024-05-16T11:21:43.140Z"
   },
   {
    "duration": 11,
    "start_time": "2024-05-16T11:21:43.391Z"
   },
   {
    "duration": 262,
    "start_time": "2024-05-16T11:21:43.403Z"
   },
   {
    "duration": 285,
    "start_time": "2024-05-16T11:21:43.667Z"
   },
   {
    "duration": 203,
    "start_time": "2024-05-16T11:21:43.954Z"
   },
   {
    "duration": 284,
    "start_time": "2024-05-16T11:21:44.159Z"
   },
   {
    "duration": 125,
    "start_time": "2024-05-16T11:21:44.445Z"
   },
   {
    "duration": 3,
    "start_time": "2024-05-16T11:21:44.572Z"
   },
   {
    "duration": 7,
    "start_time": "2024-05-16T11:21:44.576Z"
   },
   {
    "duration": 131,
    "start_time": "2024-05-16T11:21:44.584Z"
   },
   {
    "duration": 139,
    "start_time": "2024-05-16T11:21:44.719Z"
   },
   {
    "duration": 5,
    "start_time": "2024-05-16T11:21:44.859Z"
   },
   {
    "duration": 67,
    "start_time": "2024-05-16T11:21:44.865Z"
   },
   {
    "duration": 48,
    "start_time": "2024-05-16T11:21:44.933Z"
   },
   {
    "duration": 131,
    "start_time": "2024-05-16T11:21:44.982Z"
   },
   {
    "duration": 24,
    "start_time": "2024-05-16T11:21:45.115Z"
   },
   {
    "duration": 109,
    "start_time": "2024-05-16T11:21:45.140Z"
   },
   {
    "duration": 60,
    "start_time": "2024-05-16T11:21:45.251Z"
   },
   {
    "duration": 136,
    "start_time": "2024-05-16T11:21:45.312Z"
   },
   {
    "duration": 0,
    "start_time": "2024-05-16T11:21:45.449Z"
   },
   {
    "duration": 0,
    "start_time": "2024-05-16T11:21:45.450Z"
   },
   {
    "duration": 0,
    "start_time": "2024-05-16T11:21:45.451Z"
   },
   {
    "duration": 8,
    "start_time": "2024-05-16T11:22:49.372Z"
   },
   {
    "duration": 7,
    "start_time": "2024-05-16T11:22:51.066Z"
   },
   {
    "duration": 992,
    "start_time": "2024-05-16T11:22:56.816Z"
   },
   {
    "duration": 28,
    "start_time": "2024-05-16T11:22:57.810Z"
   },
   {
    "duration": 37,
    "start_time": "2024-05-16T11:22:57.839Z"
   },
   {
    "duration": 16,
    "start_time": "2024-05-16T11:22:57.878Z"
   },
   {
    "duration": 9,
    "start_time": "2024-05-16T11:22:57.895Z"
   },
   {
    "duration": 9,
    "start_time": "2024-05-16T11:22:57.905Z"
   },
   {
    "duration": 19,
    "start_time": "2024-05-16T11:22:57.915Z"
   },
   {
    "duration": 13,
    "start_time": "2024-05-16T11:22:57.935Z"
   },
   {
    "duration": 20,
    "start_time": "2024-05-16T11:22:57.949Z"
   },
   {
    "duration": 27,
    "start_time": "2024-05-16T11:22:57.971Z"
   },
   {
    "duration": 10,
    "start_time": "2024-05-16T11:22:57.999Z"
   },
   {
    "duration": 5,
    "start_time": "2024-05-16T11:22:58.011Z"
   },
   {
    "duration": 8,
    "start_time": "2024-05-16T11:22:58.017Z"
   },
   {
    "duration": 15,
    "start_time": "2024-05-16T11:22:58.026Z"
   },
   {
    "duration": 12,
    "start_time": "2024-05-16T11:22:58.042Z"
   },
   {
    "duration": 36,
    "start_time": "2024-05-16T11:22:58.055Z"
   },
   {
    "duration": 6,
    "start_time": "2024-05-16T11:22:58.092Z"
   },
   {
    "duration": 11,
    "start_time": "2024-05-16T11:22:58.099Z"
   },
   {
    "duration": 7,
    "start_time": "2024-05-16T11:22:58.111Z"
   },
   {
    "duration": 9,
    "start_time": "2024-05-16T11:22:58.119Z"
   },
   {
    "duration": 15,
    "start_time": "2024-05-16T11:22:58.129Z"
   },
   {
    "duration": 8,
    "start_time": "2024-05-16T11:22:58.145Z"
   },
   {
    "duration": 13,
    "start_time": "2024-05-16T11:22:58.154Z"
   },
   {
    "duration": 12,
    "start_time": "2024-05-16T11:22:58.168Z"
   },
   {
    "duration": 28,
    "start_time": "2024-05-16T11:22:58.181Z"
   },
   {
    "duration": 10,
    "start_time": "2024-05-16T11:22:58.210Z"
   },
   {
    "duration": 8,
    "start_time": "2024-05-16T11:22:58.221Z"
   },
   {
    "duration": 148,
    "start_time": "2024-05-16T11:22:58.232Z"
   },
   {
    "duration": 99,
    "start_time": "2024-05-16T11:22:58.381Z"
   },
   {
    "duration": 25,
    "start_time": "2024-05-16T11:22:58.481Z"
   },
   {
    "duration": 249,
    "start_time": "2024-05-16T11:22:58.507Z"
   },
   {
    "duration": 9,
    "start_time": "2024-05-16T11:22:58.757Z"
   },
   {
    "duration": 196,
    "start_time": "2024-05-16T11:22:58.767Z"
   },
   {
    "duration": 279,
    "start_time": "2024-05-16T11:22:58.965Z"
   },
   {
    "duration": 198,
    "start_time": "2024-05-16T11:22:59.245Z"
   },
   {
    "duration": 260,
    "start_time": "2024-05-16T11:22:59.444Z"
   },
   {
    "duration": 119,
    "start_time": "2024-05-16T11:22:59.705Z"
   },
   {
    "duration": 4,
    "start_time": "2024-05-16T11:22:59.826Z"
   },
   {
    "duration": 8,
    "start_time": "2024-05-16T11:22:59.831Z"
   },
   {
    "duration": 126,
    "start_time": "2024-05-16T11:22:59.840Z"
   },
   {
    "duration": 145,
    "start_time": "2024-05-16T11:22:59.967Z"
   },
   {
    "duration": 3,
    "start_time": "2024-05-16T11:23:00.113Z"
   },
   {
    "duration": 95,
    "start_time": "2024-05-16T11:23:00.117Z"
   },
   {
    "duration": 66,
    "start_time": "2024-05-16T11:23:00.213Z"
   },
   {
    "duration": 262,
    "start_time": "2024-05-16T11:23:00.281Z"
   },
   {
    "duration": 22,
    "start_time": "2024-05-16T11:23:00.545Z"
   },
   {
    "duration": 110,
    "start_time": "2024-05-16T11:23:00.568Z"
   },
   {
    "duration": 59,
    "start_time": "2024-05-16T11:23:00.679Z"
   },
   {
    "duration": 56,
    "start_time": "2024-05-16T11:23:00.739Z"
   },
   {
    "duration": 61,
    "start_time": "2024-05-16T11:23:00.797Z"
   },
   {
    "duration": 98,
    "start_time": "2024-05-16T11:23:00.859Z"
   },
   {
    "duration": 16,
    "start_time": "2024-05-16T11:23:00.958Z"
   },
   {
    "duration": 253,
    "start_time": "2024-05-16T12:05:33.935Z"
   },
   {
    "duration": 1000,
    "start_time": "2024-05-16T12:13:17.192Z"
   },
   {
    "duration": 28,
    "start_time": "2024-05-16T12:13:18.193Z"
   },
   {
    "duration": 40,
    "start_time": "2024-05-16T12:13:18.222Z"
   },
   {
    "duration": 17,
    "start_time": "2024-05-16T12:13:18.263Z"
   },
   {
    "duration": 14,
    "start_time": "2024-05-16T12:13:18.282Z"
   },
   {
    "duration": 11,
    "start_time": "2024-05-16T12:13:18.297Z"
   },
   {
    "duration": 7,
    "start_time": "2024-05-16T12:13:18.309Z"
   },
   {
    "duration": 16,
    "start_time": "2024-05-16T12:13:18.317Z"
   },
   {
    "duration": 27,
    "start_time": "2024-05-16T12:13:18.334Z"
   },
   {
    "duration": 22,
    "start_time": "2024-05-16T12:13:18.363Z"
   },
   {
    "duration": 6,
    "start_time": "2024-05-16T12:13:18.387Z"
   },
   {
    "duration": 18,
    "start_time": "2024-05-16T12:13:18.395Z"
   },
   {
    "duration": 12,
    "start_time": "2024-05-16T12:13:18.414Z"
   },
   {
    "duration": 30,
    "start_time": "2024-05-16T12:13:18.429Z"
   },
   {
    "duration": 29,
    "start_time": "2024-05-16T12:13:18.460Z"
   },
   {
    "duration": 12,
    "start_time": "2024-05-16T12:13:18.490Z"
   },
   {
    "duration": 9,
    "start_time": "2024-05-16T12:13:18.504Z"
   },
   {
    "duration": 6,
    "start_time": "2024-05-16T12:13:18.515Z"
   },
   {
    "duration": 20,
    "start_time": "2024-05-16T12:13:18.522Z"
   },
   {
    "duration": 19,
    "start_time": "2024-05-16T12:13:18.543Z"
   },
   {
    "duration": 16,
    "start_time": "2024-05-16T12:13:18.563Z"
   },
   {
    "duration": 12,
    "start_time": "2024-05-16T12:13:18.580Z"
   },
   {
    "duration": 8,
    "start_time": "2024-05-16T12:13:18.593Z"
   },
   {
    "duration": 13,
    "start_time": "2024-05-16T12:13:18.603Z"
   },
   {
    "duration": 17,
    "start_time": "2024-05-16T12:13:18.618Z"
   },
   {
    "duration": 8,
    "start_time": "2024-05-16T12:13:18.636Z"
   },
   {
    "duration": 9,
    "start_time": "2024-05-16T12:13:18.645Z"
   },
   {
    "duration": 161,
    "start_time": "2024-05-16T12:13:18.655Z"
   },
   {
    "duration": 108,
    "start_time": "2024-05-16T12:13:18.818Z"
   },
   {
    "duration": 11,
    "start_time": "2024-05-16T12:13:18.928Z"
   },
   {
    "duration": 250,
    "start_time": "2024-05-16T12:13:18.940Z"
   },
   {
    "duration": 15,
    "start_time": "2024-05-16T12:13:19.191Z"
   },
   {
    "duration": 262,
    "start_time": "2024-05-16T12:13:19.207Z"
   },
   {
    "duration": 289,
    "start_time": "2024-05-16T12:13:19.471Z"
   },
   {
    "duration": 210,
    "start_time": "2024-05-16T12:13:19.761Z"
   },
   {
    "duration": 318,
    "start_time": "2024-05-16T12:13:19.973Z"
   },
   {
    "duration": 127,
    "start_time": "2024-05-16T12:13:20.292Z"
   },
   {
    "duration": 4,
    "start_time": "2024-05-16T12:13:20.420Z"
   },
   {
    "duration": 8,
    "start_time": "2024-05-16T12:13:20.425Z"
   },
   {
    "duration": 128,
    "start_time": "2024-05-16T12:13:20.435Z"
   },
   {
    "duration": 143,
    "start_time": "2024-05-16T12:13:20.567Z"
   },
   {
    "duration": 4,
    "start_time": "2024-05-16T12:13:20.711Z"
   },
   {
    "duration": 5,
    "start_time": "2024-05-16T12:13:20.716Z"
   },
   {
    "duration": 7,
    "start_time": "2024-05-16T12:13:20.723Z"
   },
   {
    "duration": 125,
    "start_time": "2024-05-16T12:13:20.732Z"
   },
   {
    "duration": 6,
    "start_time": "2024-05-16T12:13:20.858Z"
   },
   {
    "duration": 29,
    "start_time": "2024-05-16T12:13:20.865Z"
   },
   {
    "duration": 65,
    "start_time": "2024-05-16T12:13:20.895Z"
   },
   {
    "duration": 22,
    "start_time": "2024-05-16T12:13:20.961Z"
   },
   {
    "duration": 22,
    "start_time": "2024-05-16T12:13:20.984Z"
   },
   {
    "duration": 32,
    "start_time": "2024-05-16T12:13:21.007Z"
   },
   {
    "duration": 10,
    "start_time": "2024-05-16T12:13:21.041Z"
   },
   {
    "duration": 1161,
    "start_time": "2024-05-16T12:22:50.933Z"
   },
   {
    "duration": 26,
    "start_time": "2024-05-16T12:22:52.096Z"
   },
   {
    "duration": 36,
    "start_time": "2024-05-16T12:22:52.124Z"
   },
   {
    "duration": 15,
    "start_time": "2024-05-16T12:22:52.162Z"
   },
   {
    "duration": 32,
    "start_time": "2024-05-16T12:22:52.179Z"
   },
   {
    "duration": 34,
    "start_time": "2024-05-16T12:22:52.212Z"
   },
   {
    "duration": 60,
    "start_time": "2024-05-16T12:22:52.247Z"
   },
   {
    "duration": 31,
    "start_time": "2024-05-16T12:22:52.308Z"
   },
   {
    "duration": 63,
    "start_time": "2024-05-16T12:22:52.340Z"
   },
   {
    "duration": 39,
    "start_time": "2024-05-16T12:22:52.406Z"
   },
   {
    "duration": 63,
    "start_time": "2024-05-16T12:22:52.446Z"
   },
   {
    "duration": 38,
    "start_time": "2024-05-16T12:22:52.510Z"
   },
   {
    "duration": 37,
    "start_time": "2024-05-16T12:22:52.550Z"
   },
   {
    "duration": 55,
    "start_time": "2024-05-16T12:22:52.588Z"
   },
   {
    "duration": 29,
    "start_time": "2024-05-16T12:22:52.645Z"
   },
   {
    "duration": 28,
    "start_time": "2024-05-16T12:22:52.676Z"
   },
   {
    "duration": 46,
    "start_time": "2024-05-16T12:22:52.705Z"
   },
   {
    "duration": 24,
    "start_time": "2024-05-16T12:22:52.752Z"
   },
   {
    "duration": 31,
    "start_time": "2024-05-16T12:22:52.778Z"
   },
   {
    "duration": 53,
    "start_time": "2024-05-16T12:22:52.811Z"
   },
   {
    "duration": 29,
    "start_time": "2024-05-16T12:22:52.865Z"
   },
   {
    "duration": 49,
    "start_time": "2024-05-16T12:22:52.895Z"
   },
   {
    "duration": 22,
    "start_time": "2024-05-16T12:22:52.946Z"
   },
   {
    "duration": 49,
    "start_time": "2024-05-16T12:22:52.970Z"
   },
   {
    "duration": 35,
    "start_time": "2024-05-16T12:22:53.020Z"
   },
   {
    "duration": 45,
    "start_time": "2024-05-16T12:22:53.057Z"
   },
   {
    "duration": 42,
    "start_time": "2024-05-16T12:22:53.104Z"
   },
   {
    "duration": 201,
    "start_time": "2024-05-16T12:22:53.149Z"
   },
   {
    "duration": 133,
    "start_time": "2024-05-16T12:22:53.352Z"
   },
   {
    "duration": 14,
    "start_time": "2024-05-16T12:22:53.486Z"
   },
   {
    "duration": 308,
    "start_time": "2024-05-16T12:22:53.501Z"
   },
   {
    "duration": 10,
    "start_time": "2024-05-16T12:22:53.811Z"
   },
   {
    "duration": 218,
    "start_time": "2024-05-16T12:22:53.823Z"
   },
   {
    "duration": 330,
    "start_time": "2024-05-16T12:22:54.043Z"
   },
   {
    "duration": 226,
    "start_time": "2024-05-16T12:22:54.375Z"
   },
   {
    "duration": 290,
    "start_time": "2024-05-16T12:22:54.602Z"
   },
   {
    "duration": 136,
    "start_time": "2024-05-16T12:22:54.894Z"
   },
   {
    "duration": 5,
    "start_time": "2024-05-16T12:22:55.032Z"
   },
   {
    "duration": 30,
    "start_time": "2024-05-16T12:22:55.038Z"
   },
   {
    "duration": 183,
    "start_time": "2024-05-16T12:22:55.069Z"
   },
   {
    "duration": 151,
    "start_time": "2024-05-16T12:22:55.254Z"
   },
   {
    "duration": 4,
    "start_time": "2024-05-16T12:22:55.406Z"
   },
   {
    "duration": 7,
    "start_time": "2024-05-16T12:22:55.411Z"
   },
   {
    "duration": 7,
    "start_time": "2024-05-16T12:22:55.419Z"
   },
   {
    "duration": 154,
    "start_time": "2024-05-16T12:22:55.427Z"
   },
   {
    "duration": 6,
    "start_time": "2024-05-16T12:22:55.582Z"
   },
   {
    "duration": 102,
    "start_time": "2024-05-16T12:22:55.590Z"
   },
   {
    "duration": 11,
    "start_time": "2024-05-16T12:22:55.695Z"
   },
   {
    "duration": 9,
    "start_time": "2024-05-16T12:22:55.707Z"
   },
   {
    "duration": 8,
    "start_time": "2024-05-16T12:22:55.718Z"
   },
   {
    "duration": 50,
    "start_time": "2024-05-16T12:22:55.728Z"
   },
   {
    "duration": 14,
    "start_time": "2024-05-16T12:22:55.780Z"
   },
   {
    "duration": 5,
    "start_time": "2024-05-16T13:07:10.616Z"
   },
   {
    "duration": 9,
    "start_time": "2024-05-16T13:07:33.567Z"
   },
   {
    "duration": 9,
    "start_time": "2024-05-16T13:07:42.505Z"
   },
   {
    "duration": 149,
    "start_time": "2024-05-16T13:08:02.664Z"
   },
   {
    "duration": 149,
    "start_time": "2024-05-16T13:08:08.120Z"
   },
   {
    "duration": 3,
    "start_time": "2024-05-16T13:15:52.859Z"
   },
   {
    "duration": 8,
    "start_time": "2024-05-16T13:15:56.617Z"
   },
   {
    "duration": 7,
    "start_time": "2024-05-16T13:16:03.346Z"
   },
   {
    "duration": 5,
    "start_time": "2024-05-16T13:17:32.842Z"
   },
   {
    "duration": 71,
    "start_time": "2024-05-16T13:19:32.029Z"
   },
   {
    "duration": 87,
    "start_time": "2024-05-16T13:20:11.614Z"
   },
   {
    "duration": 14,
    "start_time": "2024-05-16T13:22:38.045Z"
   },
   {
    "duration": 12,
    "start_time": "2024-05-16T13:23:57.970Z"
   },
   {
    "duration": 11,
    "start_time": "2024-05-16T13:24:47.978Z"
   },
   {
    "duration": 11,
    "start_time": "2024-05-16T13:25:03.350Z"
   },
   {
    "duration": 11,
    "start_time": "2024-05-16T13:26:04.882Z"
   },
   {
    "duration": 7,
    "start_time": "2024-05-16T13:26:38.810Z"
   },
   {
    "duration": 7,
    "start_time": "2024-05-16T13:26:45.721Z"
   },
   {
    "duration": 6,
    "start_time": "2024-05-16T13:27:02.418Z"
   },
   {
    "duration": 3,
    "start_time": "2024-05-16T13:37:01.010Z"
   },
   {
    "duration": 8,
    "start_time": "2024-05-16T13:37:17.837Z"
   },
   {
    "duration": 7,
    "start_time": "2024-05-16T13:37:21.938Z"
   },
   {
    "duration": 4,
    "start_time": "2024-05-16T13:37:23.873Z"
   },
   {
    "duration": 4,
    "start_time": "2024-05-16T13:37:24.665Z"
   },
   {
    "duration": 4,
    "start_time": "2024-05-16T13:37:32.041Z"
   },
   {
    "duration": 4,
    "start_time": "2024-05-16T13:38:15.912Z"
   },
   {
    "duration": 133,
    "start_time": "2024-05-16T13:38:17.672Z"
   },
   {
    "duration": 108,
    "start_time": "2024-05-16T13:38:19.448Z"
   },
   {
    "duration": 17,
    "start_time": "2024-05-16T13:38:20.880Z"
   },
   {
    "duration": 174,
    "start_time": "2024-05-16T13:38:22.179Z"
   },
   {
    "duration": 9,
    "start_time": "2024-05-16T13:38:27.440Z"
   },
   {
    "duration": 171,
    "start_time": "2024-05-16T13:38:31.225Z"
   },
   {
    "duration": 288,
    "start_time": "2024-05-16T13:38:35.272Z"
   },
   {
    "duration": 178,
    "start_time": "2024-05-16T13:38:38.456Z"
   },
   {
    "duration": 246,
    "start_time": "2024-05-16T15:08:16.044Z"
   },
   {
    "duration": 279,
    "start_time": "2024-05-16T15:09:08.116Z"
   },
   {
    "duration": 255,
    "start_time": "2024-05-16T15:09:30.148Z"
   },
   {
    "duration": 315,
    "start_time": "2024-05-16T15:22:41.390Z"
   },
   {
    "duration": 293,
    "start_time": "2024-05-16T15:22:59.190Z"
   },
   {
    "duration": 241,
    "start_time": "2024-05-16T15:27:28.239Z"
   },
   {
    "duration": 180,
    "start_time": "2024-05-16T15:34:45.495Z"
   },
   {
    "duration": 3,
    "start_time": "2024-05-16T15:35:07.928Z"
   },
   {
    "duration": 3,
    "start_time": "2024-05-16T15:35:17.360Z"
   },
   {
    "duration": 112,
    "start_time": "2024-05-16T15:37:45.368Z"
   },
   {
    "duration": 121,
    "start_time": "2024-05-16T15:37:49.737Z"
   },
   {
    "duration": 4,
    "start_time": "2024-05-16T15:38:00.280Z"
   },
   {
    "duration": 5,
    "start_time": "2024-05-16T15:38:06.048Z"
   },
   {
    "duration": 5,
    "start_time": "2024-05-16T15:40:36.727Z"
   },
   {
    "duration": 100,
    "start_time": "2024-05-16T15:40:37.718Z"
   },
   {
    "duration": 18,
    "start_time": "2024-05-16T15:40:46.415Z"
   },
   {
    "duration": 8,
    "start_time": "2024-05-16T15:41:07.214Z"
   },
   {
    "duration": 8,
    "start_time": "2024-05-16T15:42:58.070Z"
   },
   {
    "duration": 6,
    "start_time": "2024-05-16T15:43:09.262Z"
   },
   {
    "duration": 19,
    "start_time": "2024-05-16T15:43:15.181Z"
   },
   {
    "duration": 11,
    "start_time": "2024-05-16T15:43:43.397Z"
   },
   {
    "duration": 49,
    "start_time": "2024-05-16T16:02:24.803Z"
   },
   {
    "duration": 3,
    "start_time": "2024-05-16T16:02:36.553Z"
   },
   {
    "duration": 4,
    "start_time": "2024-05-16T16:02:49.042Z"
   },
   {
    "duration": 13,
    "start_time": "2024-05-16T16:02:57.267Z"
   },
   {
    "duration": 3,
    "start_time": "2024-05-16T16:03:17.346Z"
   },
   {
    "duration": 10,
    "start_time": "2024-05-16T16:03:21.443Z"
   },
   {
    "duration": 107,
    "start_time": "2024-05-16T16:03:37.931Z"
   },
   {
    "duration": 4,
    "start_time": "2024-05-16T16:03:41.610Z"
   },
   {
    "duration": 4,
    "start_time": "2024-05-16T16:03:44.314Z"
   },
   {
    "duration": 974,
    "start_time": "2024-05-16T16:04:25.730Z"
   },
   {
    "duration": 28,
    "start_time": "2024-05-16T16:04:26.705Z"
   },
   {
    "duration": 37,
    "start_time": "2024-05-16T16:04:26.734Z"
   },
   {
    "duration": 15,
    "start_time": "2024-05-16T16:04:26.773Z"
   },
   {
    "duration": 13,
    "start_time": "2024-05-16T16:04:26.789Z"
   },
   {
    "duration": 9,
    "start_time": "2024-05-16T16:04:26.803Z"
   },
   {
    "duration": 13,
    "start_time": "2024-05-16T16:04:26.813Z"
   },
   {
    "duration": 23,
    "start_time": "2024-05-16T16:04:26.827Z"
   },
   {
    "duration": 10,
    "start_time": "2024-05-16T16:04:26.852Z"
   },
   {
    "duration": 16,
    "start_time": "2024-05-16T16:04:26.864Z"
   },
   {
    "duration": 8,
    "start_time": "2024-05-16T16:04:26.882Z"
   },
   {
    "duration": 11,
    "start_time": "2024-05-16T16:04:26.892Z"
   },
   {
    "duration": 17,
    "start_time": "2024-05-16T16:04:26.904Z"
   },
   {
    "duration": 21,
    "start_time": "2024-05-16T16:04:26.923Z"
   },
   {
    "duration": 19,
    "start_time": "2024-05-16T16:04:26.945Z"
   },
   {
    "duration": 14,
    "start_time": "2024-05-16T16:04:26.965Z"
   },
   {
    "duration": 14,
    "start_time": "2024-05-16T16:04:26.980Z"
   },
   {
    "duration": 9,
    "start_time": "2024-05-16T16:04:26.996Z"
   },
   {
    "duration": 14,
    "start_time": "2024-05-16T16:04:27.006Z"
   },
   {
    "duration": 13,
    "start_time": "2024-05-16T16:04:27.021Z"
   },
   {
    "duration": 5,
    "start_time": "2024-05-16T16:04:27.035Z"
   },
   {
    "duration": 20,
    "start_time": "2024-05-16T16:04:27.041Z"
   },
   {
    "duration": 14,
    "start_time": "2024-05-16T16:04:27.062Z"
   },
   {
    "duration": 23,
    "start_time": "2024-05-16T16:04:27.077Z"
   },
   {
    "duration": 9,
    "start_time": "2024-05-16T16:04:27.102Z"
   },
   {
    "duration": 15,
    "start_time": "2024-05-16T16:04:27.112Z"
   },
   {
    "duration": 10,
    "start_time": "2024-05-16T16:04:27.128Z"
   },
   {
    "duration": 14,
    "start_time": "2024-05-16T16:04:27.142Z"
   },
   {
    "duration": 11,
    "start_time": "2024-05-16T16:04:27.158Z"
   },
   {
    "duration": 10,
    "start_time": "2024-05-16T16:04:27.170Z"
   },
   {
    "duration": 13,
    "start_time": "2024-05-16T16:04:27.215Z"
   },
   {
    "duration": 151,
    "start_time": "2024-05-16T16:04:27.230Z"
   },
   {
    "duration": 137,
    "start_time": "2024-05-16T16:04:27.383Z"
   },
   {
    "duration": 17,
    "start_time": "2024-05-16T16:04:27.522Z"
   },
   {
    "duration": 268,
    "start_time": "2024-05-16T16:04:27.541Z"
   },
   {
    "duration": 9,
    "start_time": "2024-05-16T16:04:27.810Z"
   },
   {
    "duration": 206,
    "start_time": "2024-05-16T16:04:27.820Z"
   },
   {
    "duration": 266,
    "start_time": "2024-05-16T16:04:28.028Z"
   },
   {
    "duration": 182,
    "start_time": "2024-05-16T16:04:28.301Z"
   },
   {
    "duration": 303,
    "start_time": "2024-05-16T16:04:28.484Z"
   },
   {
    "duration": 138,
    "start_time": "2024-05-16T16:04:28.789Z"
   },
   {
    "duration": 4,
    "start_time": "2024-05-16T16:04:28.928Z"
   },
   {
    "duration": 7,
    "start_time": "2024-05-16T16:04:28.933Z"
   },
   {
    "duration": 145,
    "start_time": "2024-05-16T16:04:28.941Z"
   },
   {
    "duration": 132,
    "start_time": "2024-05-16T16:04:29.087Z"
   },
   {
    "duration": 4,
    "start_time": "2024-05-16T16:04:29.221Z"
   },
   {
    "duration": 4,
    "start_time": "2024-05-16T16:04:29.227Z"
   },
   {
    "duration": 7,
    "start_time": "2024-05-16T16:04:29.232Z"
   },
   {
    "duration": 123,
    "start_time": "2024-05-16T16:04:29.240Z"
   },
   {
    "duration": 5,
    "start_time": "2024-05-16T16:04:29.364Z"
   },
   {
    "duration": 91,
    "start_time": "2024-05-16T16:04:29.371Z"
   },
   {
    "duration": 8,
    "start_time": "2024-05-16T16:04:29.463Z"
   },
   {
    "duration": 11,
    "start_time": "2024-05-16T16:04:29.472Z"
   },
   {
    "duration": 22,
    "start_time": "2024-05-16T16:04:29.485Z"
   },
   {
    "duration": 33,
    "start_time": "2024-05-16T16:04:29.508Z"
   },
   {
    "duration": 12,
    "start_time": "2024-05-16T16:04:29.542Z"
   },
   {
    "duration": 6,
    "start_time": "2024-05-16T16:09:28.507Z"
   },
   {
    "duration": 3,
    "start_time": "2024-05-16T16:11:54.626Z"
   },
   {
    "duration": 6,
    "start_time": "2024-05-16T16:12:36.042Z"
   },
   {
    "duration": 109,
    "start_time": "2024-05-16T16:12:37.282Z"
   },
   {
    "duration": 6,
    "start_time": "2024-05-16T16:12:38.337Z"
   },
   {
    "duration": 24,
    "start_time": "2024-05-16T16:12:40.300Z"
   },
   {
    "duration": 7,
    "start_time": "2024-05-16T16:13:32.915Z"
   },
   {
    "duration": 1008,
    "start_time": "2024-05-16T16:13:59.006Z"
   },
   {
    "duration": 28,
    "start_time": "2024-05-16T16:14:00.016Z"
   },
   {
    "duration": 113,
    "start_time": "2024-05-16T16:14:00.045Z"
   },
   {
    "duration": 70,
    "start_time": "2024-05-16T16:14:00.160Z"
   },
   {
    "duration": 161,
    "start_time": "2024-05-16T16:14:00.231Z"
   },
   {
    "duration": 98,
    "start_time": "2024-05-16T16:14:00.394Z"
   },
   {
    "duration": 54,
    "start_time": "2024-05-16T16:14:00.493Z"
   },
   {
    "duration": 78,
    "start_time": "2024-05-16T16:14:00.548Z"
   },
   {
    "duration": 46,
    "start_time": "2024-05-16T16:14:00.628Z"
   },
   {
    "duration": 74,
    "start_time": "2024-05-16T16:14:00.676Z"
   },
   {
    "duration": 50,
    "start_time": "2024-05-16T16:14:00.751Z"
   },
   {
    "duration": 50,
    "start_time": "2024-05-16T16:14:00.803Z"
   },
   {
    "duration": 53,
    "start_time": "2024-05-16T16:14:00.854Z"
   },
   {
    "duration": 63,
    "start_time": "2024-05-16T16:14:00.908Z"
   },
   {
    "duration": 59,
    "start_time": "2024-05-16T16:14:00.972Z"
   },
   {
    "duration": 82,
    "start_time": "2024-05-16T16:14:01.033Z"
   },
   {
    "duration": 54,
    "start_time": "2024-05-16T16:14:01.117Z"
   },
   {
    "duration": 66,
    "start_time": "2024-05-16T16:14:01.172Z"
   },
   {
    "duration": 58,
    "start_time": "2024-05-16T16:14:01.239Z"
   },
   {
    "duration": 80,
    "start_time": "2024-05-16T16:14:01.298Z"
   },
   {
    "duration": 39,
    "start_time": "2024-05-16T16:14:01.379Z"
   },
   {
    "duration": 56,
    "start_time": "2024-05-16T16:14:01.419Z"
   },
   {
    "duration": 95,
    "start_time": "2024-05-16T16:14:01.476Z"
   },
   {
    "duration": 78,
    "start_time": "2024-05-16T16:14:01.572Z"
   },
   {
    "duration": 76,
    "start_time": "2024-05-16T16:14:01.651Z"
   },
   {
    "duration": 49,
    "start_time": "2024-05-16T16:14:01.728Z"
   },
   {
    "duration": 49,
    "start_time": "2024-05-16T16:14:01.778Z"
   },
   {
    "duration": 75,
    "start_time": "2024-05-16T16:14:01.830Z"
   },
   {
    "duration": 35,
    "start_time": "2024-05-16T16:14:01.906Z"
   },
   {
    "duration": 30,
    "start_time": "2024-05-16T16:14:01.942Z"
   },
   {
    "duration": 28,
    "start_time": "2024-05-16T16:14:01.973Z"
   },
   {
    "duration": 155,
    "start_time": "2024-05-16T16:14:02.002Z"
   },
   {
    "duration": 105,
    "start_time": "2024-05-16T16:14:02.158Z"
   },
   {
    "duration": 14,
    "start_time": "2024-05-16T16:14:02.265Z"
   },
   {
    "duration": 267,
    "start_time": "2024-05-16T16:14:02.280Z"
   },
   {
    "duration": 10,
    "start_time": "2024-05-16T16:14:02.549Z"
   },
   {
    "duration": 221,
    "start_time": "2024-05-16T16:14:02.560Z"
   },
   {
    "duration": 286,
    "start_time": "2024-05-16T16:14:02.783Z"
   },
   {
    "duration": 195,
    "start_time": "2024-05-16T16:14:03.071Z"
   },
   {
    "duration": 296,
    "start_time": "2024-05-16T16:14:03.268Z"
   },
   {
    "duration": 138,
    "start_time": "2024-05-16T16:14:03.565Z"
   },
   {
    "duration": 3,
    "start_time": "2024-05-16T16:14:03.704Z"
   },
   {
    "duration": 4,
    "start_time": "2024-05-16T16:14:03.709Z"
   },
   {
    "duration": 139,
    "start_time": "2024-05-16T16:14:03.714Z"
   },
   {
    "duration": 140,
    "start_time": "2024-05-16T16:14:03.854Z"
   },
   {
    "duration": 8,
    "start_time": "2024-05-16T16:14:03.995Z"
   },
   {
    "duration": 5,
    "start_time": "2024-05-16T16:14:04.004Z"
   },
   {
    "duration": 5,
    "start_time": "2024-05-16T16:14:04.010Z"
   },
   {
    "duration": 10,
    "start_time": "2024-05-16T16:14:04.017Z"
   },
   {
    "duration": 124,
    "start_time": "2024-05-16T16:14:04.029Z"
   },
   {
    "duration": 6,
    "start_time": "2024-05-16T16:14:04.154Z"
   },
   {
    "duration": 84,
    "start_time": "2024-05-16T16:14:04.161Z"
   },
   {
    "duration": 10,
    "start_time": "2024-05-16T16:14:04.247Z"
   },
   {
    "duration": 7,
    "start_time": "2024-05-16T16:14:04.258Z"
   },
   {
    "duration": 36,
    "start_time": "2024-05-16T16:14:04.267Z"
   },
   {
    "duration": 22,
    "start_time": "2024-05-16T16:14:04.304Z"
   },
   {
    "duration": 12,
    "start_time": "2024-05-16T16:14:04.328Z"
   },
   {
    "duration": 271,
    "start_time": "2024-05-16T16:26:31.516Z"
   },
   {
    "duration": 94,
    "start_time": "2024-05-16T16:59:47.456Z"
   },
   {
    "duration": 10,
    "start_time": "2024-05-16T17:00:25.576Z"
   },
   {
    "duration": 9,
    "start_time": "2024-05-16T17:01:02.177Z"
   },
   {
    "duration": 11,
    "start_time": "2024-05-16T17:01:21.153Z"
   },
   {
    "duration": 6,
    "start_time": "2024-05-16T17:02:12.354Z"
   },
   {
    "duration": 9,
    "start_time": "2024-05-16T17:02:45.849Z"
   },
   {
    "duration": 10,
    "start_time": "2024-05-16T17:02:50.994Z"
   },
   {
    "duration": 6,
    "start_time": "2024-05-16T17:02:54.201Z"
   },
   {
    "duration": 7,
    "start_time": "2024-05-16T17:03:44.420Z"
   },
   {
    "duration": 990,
    "start_time": "2024-05-16T17:04:03.799Z"
   },
   {
    "duration": 27,
    "start_time": "2024-05-16T17:04:04.791Z"
   },
   {
    "duration": 37,
    "start_time": "2024-05-16T17:04:04.820Z"
   },
   {
    "duration": 15,
    "start_time": "2024-05-16T17:04:04.859Z"
   },
   {
    "duration": 9,
    "start_time": "2024-05-16T17:04:04.876Z"
   },
   {
    "duration": 26,
    "start_time": "2024-05-16T17:04:04.886Z"
   },
   {
    "duration": 35,
    "start_time": "2024-05-16T17:04:04.913Z"
   },
   {
    "duration": 44,
    "start_time": "2024-05-16T17:04:04.950Z"
   },
   {
    "duration": 22,
    "start_time": "2024-05-16T17:04:04.995Z"
   },
   {
    "duration": 32,
    "start_time": "2024-05-16T17:04:05.018Z"
   },
   {
    "duration": 12,
    "start_time": "2024-05-16T17:04:05.052Z"
   },
   {
    "duration": 19,
    "start_time": "2024-05-16T17:04:05.066Z"
   },
   {
    "duration": 12,
    "start_time": "2024-05-16T17:04:05.086Z"
   },
   {
    "duration": 149,
    "start_time": "2024-05-16T17:04:05.101Z"
   },
   {
    "duration": 12,
    "start_time": "2024-05-16T17:04:05.251Z"
   },
   {
    "duration": 58,
    "start_time": "2024-05-16T17:04:05.264Z"
   },
   {
    "duration": 48,
    "start_time": "2024-05-16T17:04:05.323Z"
   },
   {
    "duration": 37,
    "start_time": "2024-05-16T17:04:05.373Z"
   },
   {
    "duration": 84,
    "start_time": "2024-05-16T17:04:05.411Z"
   },
   {
    "duration": 0,
    "start_time": "2024-05-16T17:04:05.496Z"
   },
   {
    "duration": 0,
    "start_time": "2024-05-16T17:04:05.497Z"
   },
   {
    "duration": 0,
    "start_time": "2024-05-16T17:04:05.498Z"
   },
   {
    "duration": 0,
    "start_time": "2024-05-16T17:04:05.499Z"
   },
   {
    "duration": 0,
    "start_time": "2024-05-16T17:04:05.500Z"
   },
   {
    "duration": 0,
    "start_time": "2024-05-16T17:04:05.501Z"
   },
   {
    "duration": 0,
    "start_time": "2024-05-16T17:04:05.502Z"
   },
   {
    "duration": 0,
    "start_time": "2024-05-16T17:04:05.502Z"
   },
   {
    "duration": 0,
    "start_time": "2024-05-16T17:04:05.503Z"
   },
   {
    "duration": 0,
    "start_time": "2024-05-16T17:04:05.504Z"
   },
   {
    "duration": 0,
    "start_time": "2024-05-16T17:04:05.505Z"
   },
   {
    "duration": 0,
    "start_time": "2024-05-16T17:04:05.505Z"
   },
   {
    "duration": 0,
    "start_time": "2024-05-16T17:04:05.506Z"
   },
   {
    "duration": 0,
    "start_time": "2024-05-16T17:04:05.507Z"
   },
   {
    "duration": 0,
    "start_time": "2024-05-16T17:04:05.508Z"
   },
   {
    "duration": 0,
    "start_time": "2024-05-16T17:04:05.509Z"
   },
   {
    "duration": 0,
    "start_time": "2024-05-16T17:04:05.509Z"
   },
   {
    "duration": 0,
    "start_time": "2024-05-16T17:04:05.510Z"
   },
   {
    "duration": 0,
    "start_time": "2024-05-16T17:04:05.511Z"
   },
   {
    "duration": 0,
    "start_time": "2024-05-16T17:04:05.512Z"
   },
   {
    "duration": 0,
    "start_time": "2024-05-16T17:04:05.513Z"
   },
   {
    "duration": 0,
    "start_time": "2024-05-16T17:04:05.514Z"
   },
   {
    "duration": 0,
    "start_time": "2024-05-16T17:04:05.515Z"
   },
   {
    "duration": 0,
    "start_time": "2024-05-16T17:04:05.515Z"
   },
   {
    "duration": 0,
    "start_time": "2024-05-16T17:04:05.516Z"
   },
   {
    "duration": 0,
    "start_time": "2024-05-16T17:04:05.517Z"
   },
   {
    "duration": 0,
    "start_time": "2024-05-16T17:04:05.517Z"
   },
   {
    "duration": 0,
    "start_time": "2024-05-16T17:04:05.518Z"
   },
   {
    "duration": 0,
    "start_time": "2024-05-16T17:04:05.519Z"
   },
   {
    "duration": 0,
    "start_time": "2024-05-16T17:04:05.520Z"
   },
   {
    "duration": 0,
    "start_time": "2024-05-16T17:04:05.520Z"
   },
   {
    "duration": 0,
    "start_time": "2024-05-16T17:04:05.521Z"
   },
   {
    "duration": 0,
    "start_time": "2024-05-16T17:04:05.522Z"
   },
   {
    "duration": 0,
    "start_time": "2024-05-16T17:04:05.523Z"
   },
   {
    "duration": 0,
    "start_time": "2024-05-16T17:04:05.524Z"
   },
   {
    "duration": 0,
    "start_time": "2024-05-16T17:04:05.524Z"
   },
   {
    "duration": 0,
    "start_time": "2024-05-16T17:04:05.525Z"
   },
   {
    "duration": 0,
    "start_time": "2024-05-16T17:04:05.526Z"
   },
   {
    "duration": 0,
    "start_time": "2024-05-16T17:04:05.527Z"
   },
   {
    "duration": 8,
    "start_time": "2024-05-16T17:04:52.705Z"
   },
   {
    "duration": 6,
    "start_time": "2024-05-16T17:06:47.792Z"
   },
   {
    "duration": 6,
    "start_time": "2024-05-16T17:09:00.249Z"
   },
   {
    "duration": 60,
    "start_time": "2024-05-16T17:09:33.224Z"
   },
   {
    "duration": 4,
    "start_time": "2024-05-16T17:11:12.553Z"
   },
   {
    "duration": 52,
    "start_time": "2024-05-16T17:12:10.193Z"
   },
   {
    "duration": 3,
    "start_time": "2024-05-16T17:12:22.113Z"
   },
   {
    "duration": 5,
    "start_time": "2024-05-16T17:12:59.889Z"
   },
   {
    "duration": 3,
    "start_time": "2024-05-16T17:13:04.473Z"
   },
   {
    "duration": 5,
    "start_time": "2024-05-16T17:13:23.306Z"
   },
   {
    "duration": 3,
    "start_time": "2024-05-16T17:13:26.033Z"
   },
   {
    "duration": 4,
    "start_time": "2024-05-16T17:13:26.649Z"
   },
   {
    "duration": 3,
    "start_time": "2024-05-16T17:15:47.506Z"
   },
   {
    "duration": 4,
    "start_time": "2024-05-16T17:16:31.986Z"
   },
   {
    "duration": 977,
    "start_time": "2024-05-16T17:17:31.015Z"
   },
   {
    "duration": 27,
    "start_time": "2024-05-16T17:17:31.994Z"
   },
   {
    "duration": 37,
    "start_time": "2024-05-16T17:17:32.023Z"
   },
   {
    "duration": 15,
    "start_time": "2024-05-16T17:17:32.062Z"
   },
   {
    "duration": 10,
    "start_time": "2024-05-16T17:17:32.078Z"
   },
   {
    "duration": 9,
    "start_time": "2024-05-16T17:17:32.089Z"
   },
   {
    "duration": 30,
    "start_time": "2024-05-16T17:17:32.099Z"
   },
   {
    "duration": 21,
    "start_time": "2024-05-16T17:17:32.130Z"
   },
   {
    "duration": 10,
    "start_time": "2024-05-16T17:17:32.153Z"
   },
   {
    "duration": 9,
    "start_time": "2024-05-16T17:17:32.166Z"
   },
   {
    "duration": 14,
    "start_time": "2024-05-16T17:17:32.176Z"
   },
   {
    "duration": 9,
    "start_time": "2024-05-16T17:17:32.191Z"
   },
   {
    "duration": 23,
    "start_time": "2024-05-16T17:17:32.201Z"
   },
   {
    "duration": 14,
    "start_time": "2024-05-16T17:17:32.226Z"
   },
   {
    "duration": 10,
    "start_time": "2024-05-16T17:17:32.242Z"
   },
   {
    "duration": 21,
    "start_time": "2024-05-16T17:17:32.253Z"
   },
   {
    "duration": 12,
    "start_time": "2024-05-16T17:17:32.276Z"
   },
   {
    "duration": 7,
    "start_time": "2024-05-16T17:17:32.289Z"
   },
   {
    "duration": 44,
    "start_time": "2024-05-16T17:17:32.297Z"
   },
   {
    "duration": 15,
    "start_time": "2024-05-16T17:17:32.343Z"
   },
   {
    "duration": 15,
    "start_time": "2024-05-16T17:17:32.359Z"
   },
   {
    "duration": 14,
    "start_time": "2024-05-16T17:17:32.375Z"
   },
   {
    "duration": 13,
    "start_time": "2024-05-16T17:17:32.390Z"
   },
   {
    "duration": 21,
    "start_time": "2024-05-16T17:17:32.405Z"
   },
   {
    "duration": 15,
    "start_time": "2024-05-16T17:17:32.428Z"
   },
   {
    "duration": 11,
    "start_time": "2024-05-16T17:17:32.445Z"
   },
   {
    "duration": 22,
    "start_time": "2024-05-16T17:17:32.458Z"
   },
   {
    "duration": 13,
    "start_time": "2024-05-16T17:17:32.483Z"
   },
   {
    "duration": 13,
    "start_time": "2024-05-16T17:17:32.497Z"
   },
   {
    "duration": 9,
    "start_time": "2024-05-16T17:17:32.512Z"
   },
   {
    "duration": 14,
    "start_time": "2024-05-16T17:17:32.522Z"
   },
   {
    "duration": 141,
    "start_time": "2024-05-16T17:17:32.537Z"
   },
   {
    "duration": 104,
    "start_time": "2024-05-16T17:17:32.680Z"
   },
   {
    "duration": 24,
    "start_time": "2024-05-16T17:17:32.785Z"
   },
   {
    "duration": 243,
    "start_time": "2024-05-16T17:17:32.810Z"
   },
   {
    "duration": 9,
    "start_time": "2024-05-16T17:17:33.054Z"
   },
   {
    "duration": 210,
    "start_time": "2024-05-16T17:17:33.064Z"
   },
   {
    "duration": 299,
    "start_time": "2024-05-16T17:17:33.276Z"
   },
   {
    "duration": 203,
    "start_time": "2024-05-16T17:17:33.576Z"
   },
   {
    "duration": 294,
    "start_time": "2024-05-16T17:17:33.780Z"
   },
   {
    "duration": 134,
    "start_time": "2024-05-16T17:17:34.075Z"
   },
   {
    "duration": 3,
    "start_time": "2024-05-16T17:17:34.210Z"
   },
   {
    "duration": 21,
    "start_time": "2024-05-16T17:17:34.214Z"
   },
   {
    "duration": 131,
    "start_time": "2024-05-16T17:17:34.236Z"
   },
   {
    "duration": 129,
    "start_time": "2024-05-16T17:17:34.368Z"
   },
   {
    "duration": 3,
    "start_time": "2024-05-16T17:17:34.499Z"
   },
   {
    "duration": 8,
    "start_time": "2024-05-16T17:17:34.503Z"
   },
   {
    "duration": 12,
    "start_time": "2024-05-16T17:17:34.512Z"
   },
   {
    "duration": 8,
    "start_time": "2024-05-16T17:17:34.525Z"
   },
   {
    "duration": 114,
    "start_time": "2024-05-16T17:17:34.534Z"
   },
   {
    "duration": 5,
    "start_time": "2024-05-16T17:17:34.649Z"
   },
   {
    "duration": 83,
    "start_time": "2024-05-16T17:17:34.655Z"
   },
   {
    "duration": 12,
    "start_time": "2024-05-16T17:17:34.740Z"
   },
   {
    "duration": 10,
    "start_time": "2024-05-16T17:17:34.754Z"
   },
   {
    "duration": 10,
    "start_time": "2024-05-16T17:17:34.766Z"
   },
   {
    "duration": 40,
    "start_time": "2024-05-16T17:17:34.777Z"
   },
   {
    "duration": 13,
    "start_time": "2024-05-16T17:17:34.818Z"
   },
   {
    "duration": 17,
    "start_time": "2024-05-16T17:32:38.678Z"
   },
   {
    "duration": 1006,
    "start_time": "2024-05-17T07:06:09.699Z"
   },
   {
    "duration": 70,
    "start_time": "2024-05-17T07:06:10.706Z"
   },
   {
    "duration": 90,
    "start_time": "2024-05-17T07:06:10.777Z"
   },
   {
    "duration": 68,
    "start_time": "2024-05-17T07:06:10.869Z"
   },
   {
    "duration": 11,
    "start_time": "2024-05-17T07:06:10.939Z"
   },
   {
    "duration": 12,
    "start_time": "2024-05-17T07:06:10.952Z"
   },
   {
    "duration": 10,
    "start_time": "2024-05-17T07:06:10.966Z"
   },
   {
    "duration": 13,
    "start_time": "2024-05-17T07:06:10.978Z"
   },
   {
    "duration": 14,
    "start_time": "2024-05-17T07:06:10.993Z"
   },
   {
    "duration": 10,
    "start_time": "2024-05-17T07:06:11.010Z"
   },
   {
    "duration": 5,
    "start_time": "2024-05-17T07:06:11.022Z"
   },
   {
    "duration": 12,
    "start_time": "2024-05-17T07:06:11.029Z"
   },
   {
    "duration": 12,
    "start_time": "2024-05-17T07:06:11.043Z"
   },
   {
    "duration": 19,
    "start_time": "2024-05-17T07:06:11.057Z"
   },
   {
    "duration": 22,
    "start_time": "2024-05-17T07:06:11.077Z"
   },
   {
    "duration": 25,
    "start_time": "2024-05-17T07:06:11.100Z"
   },
   {
    "duration": 19,
    "start_time": "2024-05-17T07:06:11.126Z"
   },
   {
    "duration": 9,
    "start_time": "2024-05-17T07:06:11.146Z"
   },
   {
    "duration": 7,
    "start_time": "2024-05-17T07:06:11.157Z"
   },
   {
    "duration": 3,
    "start_time": "2024-05-17T07:06:11.165Z"
   },
   {
    "duration": 11,
    "start_time": "2024-05-17T07:06:11.170Z"
   },
   {
    "duration": 7,
    "start_time": "2024-05-17T07:06:11.182Z"
   },
   {
    "duration": 19,
    "start_time": "2024-05-17T07:06:11.191Z"
   },
   {
    "duration": 9,
    "start_time": "2024-05-17T07:06:11.212Z"
   },
   {
    "duration": 20,
    "start_time": "2024-05-17T07:06:11.222Z"
   },
   {
    "duration": 21,
    "start_time": "2024-05-17T07:06:11.244Z"
   },
   {
    "duration": 9,
    "start_time": "2024-05-17T07:06:11.266Z"
   },
   {
    "duration": 8,
    "start_time": "2024-05-17T07:06:11.279Z"
   },
   {
    "duration": 10,
    "start_time": "2024-05-17T07:06:11.288Z"
   },
   {
    "duration": 17,
    "start_time": "2024-05-17T07:06:11.299Z"
   },
   {
    "duration": 12,
    "start_time": "2024-05-17T07:06:11.317Z"
   },
   {
    "duration": 167,
    "start_time": "2024-05-17T07:06:11.330Z"
   },
   {
    "duration": 124,
    "start_time": "2024-05-17T07:06:11.499Z"
   },
   {
    "duration": 15,
    "start_time": "2024-05-17T07:06:11.625Z"
   },
   {
    "duration": 295,
    "start_time": "2024-05-17T07:06:11.641Z"
   },
   {
    "duration": 12,
    "start_time": "2024-05-17T07:06:11.937Z"
   },
   {
    "duration": 224,
    "start_time": "2024-05-17T07:06:11.951Z"
   },
   {
    "duration": 320,
    "start_time": "2024-05-17T07:06:12.177Z"
   },
   {
    "duration": 272,
    "start_time": "2024-05-17T07:06:12.499Z"
   },
   {
    "duration": 297,
    "start_time": "2024-05-17T07:06:12.772Z"
   },
   {
    "duration": 155,
    "start_time": "2024-05-17T07:06:13.070Z"
   },
   {
    "duration": 3,
    "start_time": "2024-05-17T07:06:13.227Z"
   },
   {
    "duration": 9,
    "start_time": "2024-05-17T07:06:13.232Z"
   },
   {
    "duration": 147,
    "start_time": "2024-05-17T07:06:13.243Z"
   },
   {
    "duration": 155,
    "start_time": "2024-05-17T07:06:13.392Z"
   },
   {
    "duration": 4,
    "start_time": "2024-05-17T07:06:13.548Z"
   },
   {
    "duration": 12,
    "start_time": "2024-05-17T07:06:13.553Z"
   },
   {
    "duration": 12,
    "start_time": "2024-05-17T07:06:13.566Z"
   },
   {
    "duration": 8,
    "start_time": "2024-05-17T07:06:13.579Z"
   },
   {
    "duration": 126,
    "start_time": "2024-05-17T07:06:13.588Z"
   },
   {
    "duration": 7,
    "start_time": "2024-05-17T07:06:13.716Z"
   },
   {
    "duration": 107,
    "start_time": "2024-05-17T07:06:13.725Z"
   },
   {
    "duration": 12,
    "start_time": "2024-05-17T07:06:13.834Z"
   },
   {
    "duration": 24,
    "start_time": "2024-05-17T07:06:13.848Z"
   },
   {
    "duration": 14,
    "start_time": "2024-05-17T07:06:13.873Z"
   },
   {
    "duration": 35,
    "start_time": "2024-05-17T07:06:13.889Z"
   },
   {
    "duration": 13,
    "start_time": "2024-05-17T07:06:13.925Z"
   }
  ],
  "kernelspec": {
   "display_name": "Python 3 (ipykernel)",
   "language": "python",
   "name": "python3"
  },
  "language_info": {
   "codemirror_mode": {
    "name": "ipython",
    "version": 3
   },
   "file_extension": ".py",
   "mimetype": "text/x-python",
   "name": "python",
   "nbconvert_exporter": "python",
   "pygments_lexer": "ipython3",
   "version": "3.11.5"
  },
  "toc": {
   "base_numbering": 1,
   "nav_menu": {
    "height": "531px",
    "width": "451px"
   },
   "number_sections": true,
   "sideBar": true,
   "skip_h1_title": true,
   "title_cell": "Table of Contents",
   "title_sidebar": "Contents",
   "toc_cell": false,
   "toc_position": {},
   "toc_section_display": true,
   "toc_window_display": true
  }
 },
 "nbformat": 4,
 "nbformat_minor": 2
}
